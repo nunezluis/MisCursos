{
 "cells": [
  {
   "cell_type": "markdown",
   "metadata": {
    "id": "aleOVKzP-8kQ"
   },
   "source": [
    "## El operador $\\nabla$\n",
    "\n",
    "Sympy nos permite hacer cálculos con el operador ${\\boldsymbol \\nabla} $ en coordenadas cartesianas, más adelante veremos que también es posible en otros sistemas de coordenadas. Los operadores que se pueden expresar son: ${\\bf grad}(gradiente)$, ${\\bf div} (divergencia)$, ${\\bf curl} (rotacional)$, ${\\bf laplacian} (laplaciano)$. Debemos hacer uso de la biblioteca {\\bf vect} para poder utilizar los operadores diferenciales. \n",
    "\n",
    "Veamos como funciona si queremos calcular el gradiente de la siguiente función:\n",
    "$$\n",
    "f=\\frac{x^2+y^2}{(x^2+y^2+z^2)^{1/2}}\\,.\n",
    "$$\n"
   ]
  },
  {
   "cell_type": "code",
   "execution_count": 1,
   "metadata": {
    "id": "604d4rBS80_Y"
   },
   "outputs": [],
   "source": [
    "import sympy\n",
    "from sympy import *\n",
    "from sympy.vector import *\n",
    "R = CoordSys3D('R')"
   ]
  },
  {
   "cell_type": "markdown",
   "metadata": {
    "id": "oLNHFfRNpqxC"
   },
   "source": [
    "Escribamos la función $f$"
   ]
  },
  {
   "cell_type": "code",
   "execution_count": 2,
   "metadata": {},
   "outputs": [
    {
     "data": {
      "text/latex": [
       "$\\displaystyle \\frac{x^{2} + y^{2}}{\\left(x^{2} + y^{2} + z^{2}\\right)^{0.5}}$"
      ],
      "text/plain": [
       "(x**2 + y**2)/(x**2 + y**2 + z**2)**0.5"
      ]
     },
     "execution_count": 2,
     "metadata": {},
     "output_type": "execute_result"
    }
   ],
   "source": [
    "x,y,z = symbols('x y z')\n",
    "f = (x**2+y**2)/(x**2+y**2+z**2)**(1/2)\n",
    "f"
   ]
  },
  {
   "cell_type": "markdown",
   "metadata": {},
   "source": [
    "Los escalares base (o coordenadas) se implementan en una clase especial llamada \"BaseScalar\" y se asignan a cada sistema de coordenadas, uno para cada eje  $x,y$ y $z$. Estas variables de coordenadas se utilizan para formar expresiones de campos vectoriales o escalares en el espacio 3D. Se puede acceder a las coordenadas mediante las expresiones R.x, R.y y R.z respectivamente.\n",
    "\n",
    "Por lo tanto, para generar la expresión de un campo escalar  se debe escribir de la manera siguiente "
   ]
  },
  {
   "cell_type": "code",
   "execution_count": 3,
   "metadata": {},
   "outputs": [
    {
     "data": {
      "text/latex": [
       "$\\displaystyle \\frac{\\mathbf{{x}_{R}}^{2} + \\mathbf{{y}_{R}}^{2}}{\\sqrt{\\mathbf{{x}_{R}}^{2} + \\mathbf{{y}_{R}}^{2} + \\mathbf{{z}_{R}}^{2}}}$"
      ],
      "text/plain": [
       "(R.x**2 + R.y**2)/sqrt(R.x**2 + R.y**2 + R.z**2)"
      ]
     },
     "execution_count": 3,
     "metadata": {},
     "output_type": "execute_result"
    }
   ],
   "source": [
    "f = (R.x**2+R.y**2)/(R.x**2+R.y**2+R.z**2)**(Rational(1,2))\n",
    "f"
   ]
  },
  {
   "cell_type": "markdown",
   "metadata": {},
   "source": [
    "En SymPy los números racionales como un par de dos enteros: el numerador y el denominador, por lo que Rational(1,2) representa 1/2, Rational(5,2) representa 5/2 y así sucesivamente. \n",
    "\n",
    "Por lo tanto, si se incluyen números en una expresión de SymPy, se simpificarán automáticamente, pero hay un inconveniente que se debe tener en cuenta. Si se hace $\\frac{<número>}{<número>}$ dentro de una expresión SymPy, Python evaluará los dos números antes de que SymPy tenga la oportunidad de llegar a ellos. La solución es simpificar() uno de los números, o usar la función Rational. Miremos el siguiente ejemplo:"
   ]
  },
  {
   "cell_type": "code",
   "execution_count": 4,
   "metadata": {},
   "outputs": [
    {
     "data": {
      "text/latex": [
       "$\\displaystyle x^{0.5}$"
      ],
      "text/plain": [
       "x**0.5"
      ]
     },
     "execution_count": 4,
     "metadata": {},
     "output_type": "execute_result"
    }
   ],
   "source": [
    "x**(1/2)  # se evalúa:  x**0 or x**0.5\n",
    "x**0.5"
   ]
  },
  {
   "cell_type": "code",
   "execution_count": 5,
   "metadata": {},
   "outputs": [
    {
     "data": {
      "text/latex": [
       "$\\displaystyle \\sqrt{x}$"
      ],
      "text/plain": [
       "sqrt(x)"
      ]
     },
     "execution_count": 5,
     "metadata": {},
     "output_type": "execute_result"
    }
   ],
   "source": [
    "x**(S(1)/2)  # simplifica uno de los enteros\n",
    "sqrt(x)"
   ]
  },
  {
   "cell_type": "code",
   "execution_count": 6,
   "metadata": {},
   "outputs": [
    {
     "data": {
      "text/latex": [
       "$\\displaystyle \\sqrt{x}$"
      ],
      "text/plain": [
       "sqrt(x)"
      ]
     },
     "execution_count": 6,
     "metadata": {},
     "output_type": "execute_result"
    }
   ],
   "source": [
    "x**Rational(1, 2)  # se usa la clase Racional\n",
    "sqrt(x)"
   ]
  },
  {
   "cell_type": "markdown",
   "metadata": {},
   "source": [
    "Volvamos a escribir la función"
   ]
  },
  {
   "cell_type": "code",
   "execution_count": 7,
   "metadata": {},
   "outputs": [
    {
     "data": {
      "text/latex": [
       "$\\displaystyle \\frac{\\mathbf{{x}_{R}}^{2} + \\mathbf{{y}_{R}}^{2}}{\\sqrt{\\mathbf{{x}_{R}}^{2} + \\mathbf{{y}_{R}}^{2} + \\mathbf{{z}_{R}}^{2}}}$"
      ],
      "text/plain": [
       "(R.x**2 + R.y**2)/sqrt(R.x**2 + R.y**2 + R.z**2)"
      ]
     },
     "execution_count": 7,
     "metadata": {},
     "output_type": "execute_result"
    }
   ],
   "source": [
    "f = (R.x**2+R.y**2)/(R.x**2+R.y**2+R.z**2)**(S(1)/2)\n",
    "f"
   ]
  },
  {
   "cell_type": "code",
   "execution_count": 8,
   "metadata": {},
   "outputs": [
    {
     "data": {
      "text/latex": [
       "$\\displaystyle \\left(\\frac{\\partial}{\\partial \\mathbf{{x}_{R}}} \\frac{\\mathbf{{x}_{R}}^{2} + \\mathbf{{y}_{R}}^{2}}{\\sqrt{\\mathbf{{x}_{R}}^{2} + \\mathbf{{y}_{R}}^{2} + \\mathbf{{z}_{R}}^{2}}}\\right)\\mathbf{\\hat{i}_{R}} + \\left(\\frac{\\partial}{\\partial \\mathbf{{y}_{R}}} \\frac{\\mathbf{{x}_{R}}^{2} + \\mathbf{{y}_{R}}^{2}}{\\sqrt{\\mathbf{{x}_{R}}^{2} + \\mathbf{{y}_{R}}^{2} + \\mathbf{{z}_{R}}^{2}}}\\right)\\mathbf{\\hat{j}_{R}} + \\left(\\frac{\\partial}{\\partial \\mathbf{{z}_{R}}} \\frac{\\mathbf{{x}_{R}}^{2} + \\mathbf{{y}_{R}}^{2}}{\\sqrt{\\mathbf{{x}_{R}}^{2} + \\mathbf{{y}_{R}}^{2} + \\mathbf{{z}_{R}}^{2}}}\\right)\\mathbf{\\hat{k}_{R}}$"
      ],
      "text/plain": [
       "(Derivative((R.x**2 + R.y**2)/sqrt(R.x**2 + R.y**2 + R.z**2), R.x))*R.i + (Derivative((R.x**2 + R.y**2)/sqrt(R.x**2 + R.y**2 + R.z**2), R.y))*R.j + (Derivative((R.x**2 + R.y**2)/sqrt(R.x**2 + R.y**2 + R.z**2), R.z))*R.k"
      ]
     },
     "execution_count": 8,
     "metadata": {},
     "output_type": "execute_result"
    }
   ],
   "source": [
    "delop = Del()\n",
    "gradient = delop(f)\n",
    "gradient"
   ]
  },
  {
   "cell_type": "code",
   "execution_count": 9,
   "metadata": {
    "id": "gKVSMC2sCM_g"
   },
   "outputs": [
    {
     "data": {
      "text/latex": [
       "$\\displaystyle \\left(- \\frac{\\mathbf{{x}_{R}} \\left(\\mathbf{{x}_{R}}^{2} + \\mathbf{{y}_{R}}^{2}\\right)}{\\left(\\mathbf{{x}_{R}}^{2} + \\mathbf{{y}_{R}}^{2} + \\mathbf{{z}_{R}}^{2}\\right)^{\\frac{3}{2}}} + \\frac{2 \\mathbf{{x}_{R}}}{\\sqrt{\\mathbf{{x}_{R}}^{2} + \\mathbf{{y}_{R}}^{2} + \\mathbf{{z}_{R}}^{2}}}\\right)\\mathbf{\\hat{i}_{R}} + \\left(- \\frac{\\mathbf{{y}_{R}} \\left(\\mathbf{{x}_{R}}^{2} + \\mathbf{{y}_{R}}^{2}\\right)}{\\left(\\mathbf{{x}_{R}}^{2} + \\mathbf{{y}_{R}}^{2} + \\mathbf{{z}_{R}}^{2}\\right)^{\\frac{3}{2}}} + \\frac{2 \\mathbf{{y}_{R}}}{\\sqrt{\\mathbf{{x}_{R}}^{2} + \\mathbf{{y}_{R}}^{2} + \\mathbf{{z}_{R}}^{2}}}\\right)\\mathbf{\\hat{j}_{R}} + \\left(- \\frac{\\mathbf{{z}_{R}} \\left(\\mathbf{{x}_{R}}^{2} + \\mathbf{{y}_{R}}^{2}\\right)}{\\left(\\mathbf{{x}_{R}}^{2} + \\mathbf{{y}_{R}}^{2} + \\mathbf{{z}_{R}}^{2}\\right)^{\\frac{3}{2}}}\\right)\\mathbf{\\hat{k}_{R}}$"
      ],
      "text/plain": [
       "(-R.x*(R.x**2 + R.y**2)/(R.x**2 + R.y**2 + R.z**2)**(3/2) + 2*R.x/sqrt(R.x**2 + R.y**2 + R.z**2))*R.i + (-R.y*(R.x**2 + R.y**2)/(R.x**2 + R.y**2 + R.z**2)**(3/2) + 2*R.y/sqrt(R.x**2 + R.y**2 + R.z**2))*R.j + (-R.z*(R.x**2 + R.y**2)/(R.x**2 + R.y**2 + R.z**2)**(3/2))*R.k"
      ]
     },
     "execution_count": 9,
     "metadata": {},
     "output_type": "execute_result"
    }
   ],
   "source": [
    "gradient.doit()\n",
    "simplify(_)"
   ]
  },
  {
   "cell_type": "markdown",
   "metadata": {
    "id": "qvbCsG8ADXE5"
   },
   "source": [
    "También se puede llamar directamente la función espécifica \"gradiant\""
   ]
  },
  {
   "cell_type": "code",
   "execution_count": 10,
   "metadata": {
    "id": "shhgwnybEE7-"
   },
   "outputs": [
    {
     "data": {
      "text/latex": [
       "$\\displaystyle \\left(\\frac{\\mathbf{{x}_{R}} \\left(\\mathbf{{x}_{R}}^{2} + \\mathbf{{y}_{R}}^{2} + 2 \\mathbf{{z}_{R}}^{2}\\right)}{\\left(\\mathbf{{x}_{R}}^{2} + \\mathbf{{y}_{R}}^{2} + \\mathbf{{z}_{R}}^{2}\\right)^{\\frac{3}{2}}}\\right)\\mathbf{\\hat{i}_{R}} + \\left(\\frac{\\mathbf{{y}_{R}} \\left(\\mathbf{{x}_{R}}^{2} + \\mathbf{{y}_{R}}^{2} + 2 \\mathbf{{z}_{R}}^{2}\\right)}{\\left(\\mathbf{{x}_{R}}^{2} + \\mathbf{{y}_{R}}^{2} + \\mathbf{{z}_{R}}^{2}\\right)^{\\frac{3}{2}}}\\right)\\mathbf{\\hat{j}_{R}} + \\left(- \\frac{\\mathbf{{z}_{R}} \\left(\\mathbf{{x}_{R}}^{2} + \\mathbf{{y}_{R}}^{2}\\right)}{\\left(\\mathbf{{x}_{R}}^{2} + \\mathbf{{y}_{R}}^{2} + \\mathbf{{z}_{R}}^{2}\\right)^{\\frac{3}{2}}}\\right)\\mathbf{\\hat{k}_{R}}$"
      ],
      "text/plain": [
       "(R.x*(R.x**2 + R.y**2 + 2*R.z**2)/(R.x**2 + R.y**2 + R.z**2)**(3/2))*R.i + (R.y*(R.x**2 + R.y**2 + 2*R.z**2)/(R.x**2 + R.y**2 + R.z**2)**(3/2))*R.j + (-R.z*(R.x**2 + R.y**2)/(R.x**2 + R.y**2 + R.z**2)**(3/2))*R.k"
      ]
     },
     "execution_count": 10,
     "metadata": {},
     "output_type": "execute_result"
    }
   ],
   "source": [
    "from sympy.vector import gradient\n",
    "gradient(f)\n",
    "simplify(_)"
   ]
  },
  {
   "cell_type": "markdown",
   "metadata": {},
   "source": [
    "Hagamos uso de los otros operadores. Por ejemplo, dado el vector:\n",
    "$$\n",
    "{\\bf A} = \\frac{x^2}{x^2+y^2}\\hat{i}+\\frac{y^2}{x^2+y^2}\\hat{j}+\\frac{z^2}{x^2+y^2}\\hat{k}\\,,\n",
    "$$\n",
    "calculemos la divergencia, ${\\boldsymbol \\nabla} \\cdot {\\bf A}$. "
   ]
  },
  {
   "cell_type": "code",
   "execution_count": 11,
   "metadata": {},
   "outputs": [
    {
     "data": {
      "text/latex": [
       "$\\displaystyle \\left(\\frac{\\mathbf{{x}_{R}}^{2}}{\\mathbf{{x}_{R}}^{2} + \\mathbf{{y}_{R}}^{2}}\\right)\\mathbf{\\hat{i}_{R}} + \\left(\\frac{\\mathbf{{y}_{R}}^{2}}{\\mathbf{{x}_{R}}^{2} + \\mathbf{{y}_{R}}^{2}}\\right)\\mathbf{\\hat{j}_{R}} + \\left(\\frac{\\mathbf{{z}_{R}}^{2}}{\\mathbf{{x}_{R}}^{2} + \\mathbf{{y}_{R}}^{2}}\\right)\\mathbf{\\hat{k}_{R}}$"
      ],
      "text/plain": [
       "(R.x**2/(R.x**2 + R.y**2))*R.i + (R.y**2/(R.x**2 + R.y**2))*R.j + (R.z**2/(R.x**2 + R.y**2))*R.k"
      ]
     },
     "execution_count": 11,
     "metadata": {},
     "output_type": "execute_result"
    }
   ],
   "source": [
    "A = R.x**2/(R.x**2+R.y**2)*R.i + R.y**2/(R.x**2+R.y**2)*R.j + R.z**2/(R.x**2+R.y**2)*R.k\n",
    "A "
   ]
  },
  {
   "cell_type": "code",
   "execution_count": 12,
   "metadata": {
    "id": "YmITKKB7FeAC"
   },
   "outputs": [
    {
     "data": {
      "text/latex": [
       "$\\displaystyle \\frac{2 \\left(- \\mathbf{{x}_{R}}^{3} - \\mathbf{{y}_{R}}^{3} + \\left(\\mathbf{{x}_{R}}^{2} + \\mathbf{{y}_{R}}^{2}\\right) \\left(\\mathbf{{x}_{R}} + \\mathbf{{y}_{R}} + \\mathbf{{z}_{R}}\\right)\\right)}{\\left(\\mathbf{{x}_{R}}^{2} + \\mathbf{{y}_{R}}^{2}\\right)^{2}}$"
      ],
      "text/plain": [
       "2*(-R.x**3 - R.y**3 + (R.x**2 + R.y**2)*(R.x + R.y + R.z))/(R.x**2 + R.y**2)**2"
      ]
     },
     "execution_count": 12,
     "metadata": {},
     "output_type": "execute_result"
    }
   ],
   "source": [
    "from sympy.vector import divergence\n",
    "simplify(divergence(A))"
   ]
  },
  {
   "cell_type": "markdown",
   "metadata": {},
   "source": [
    "Calculemos ahora el rotacional  ${\\boldsymbol \\nabla} \\times {\\bf A}$"
   ]
  },
  {
   "cell_type": "code",
   "execution_count": 13,
   "metadata": {
    "id": "2z0arWTa55G8"
   },
   "outputs": [
    {
     "data": {
      "text/latex": [
       "$\\displaystyle \\left(- \\frac{2 \\mathbf{{y}_{R}} \\mathbf{{z}_{R}}^{2}}{\\left(\\mathbf{{x}_{R}}^{2} + \\mathbf{{y}_{R}}^{2}\\right)^{2}}\\right)\\mathbf{\\hat{i}_{R}} + \\left(\\frac{2 \\mathbf{{x}_{R}} \\mathbf{{z}_{R}}^{2}}{\\left(\\mathbf{{x}_{R}}^{2} + \\mathbf{{y}_{R}}^{2}\\right)^{2}}\\right)\\mathbf{\\hat{j}_{R}} + \\left(\\frac{2 \\mathbf{{x}_{R}} \\mathbf{{y}_{R}} \\left(\\mathbf{{x}_{R}} - \\mathbf{{y}_{R}}\\right)}{\\left(\\mathbf{{x}_{R}}^{2} + \\mathbf{{y}_{R}}^{2}\\right)^{2}}\\right)\\mathbf{\\hat{k}_{R}}$"
      ],
      "text/plain": [
       "(-2*R.y*R.z**2/(R.x**2 + R.y**2)**2)*R.i + (2*R.x*R.z**2/(R.x**2 + R.y**2)**2)*R.j + (2*R.x*R.y*(R.x - R.y)/(R.x**2 + R.y**2)**2)*R.k"
      ]
     },
     "execution_count": 13,
     "metadata": {},
     "output_type": "execute_result"
    }
   ],
   "source": [
    "from sympy.vector import curl\n",
    "simplify(curl(A))"
   ]
  },
  {
   "cell_type": "markdown",
   "metadata": {},
   "source": [
    "Finalmente, calculemos  el laplaciano de $f$, es decir,  ${\\boldsymbol \\nabla}^2  f$"
   ]
  },
  {
   "cell_type": "code",
   "execution_count": 14,
   "metadata": {},
   "outputs": [
    {
     "data": {
      "text/latex": [
       "$\\displaystyle \\frac{\\left(\\mathbf{{x}_{R}}^{2} + \\mathbf{{y}_{R}}^{2}\\right) \\left(\\frac{3 \\mathbf{{z}_{R}}^{2}}{\\mathbf{{x}_{R}}^{2} + \\mathbf{{y}_{R}}^{2} + \\mathbf{{z}_{R}}^{2}} - 1\\right)}{\\left(\\mathbf{{x}_{R}}^{2} + \\mathbf{{y}_{R}}^{2} + \\mathbf{{z}_{R}}^{2}\\right)^{\\frac{3}{2}}} + \\frac{\\frac{3 \\mathbf{{x}_{R}}^{2} \\left(\\mathbf{{x}_{R}}^{2} + \\mathbf{{y}_{R}}^{2}\\right)}{\\left(\\mathbf{{x}_{R}}^{2} + \\mathbf{{y}_{R}}^{2} + \\mathbf{{z}_{R}}^{2}\\right)^{2}} - \\frac{4 \\mathbf{{x}_{R}}^{2}}{\\mathbf{{x}_{R}}^{2} + \\mathbf{{y}_{R}}^{2} + \\mathbf{{z}_{R}}^{2}} - \\frac{\\mathbf{{x}_{R}}^{2} + \\mathbf{{y}_{R}}^{2}}{\\mathbf{{x}_{R}}^{2} + \\mathbf{{y}_{R}}^{2} + \\mathbf{{z}_{R}}^{2}} + 2}{\\sqrt{\\mathbf{{x}_{R}}^{2} + \\mathbf{{y}_{R}}^{2} + \\mathbf{{z}_{R}}^{2}}} + \\frac{\\frac{3 \\mathbf{{y}_{R}}^{2} \\left(\\mathbf{{x}_{R}}^{2} + \\mathbf{{y}_{R}}^{2}\\right)}{\\left(\\mathbf{{x}_{R}}^{2} + \\mathbf{{y}_{R}}^{2} + \\mathbf{{z}_{R}}^{2}\\right)^{2}} - \\frac{4 \\mathbf{{y}_{R}}^{2}}{\\mathbf{{x}_{R}}^{2} + \\mathbf{{y}_{R}}^{2} + \\mathbf{{z}_{R}}^{2}} - \\frac{\\mathbf{{x}_{R}}^{2} + \\mathbf{{y}_{R}}^{2}}{\\mathbf{{x}_{R}}^{2} + \\mathbf{{y}_{R}}^{2} + \\mathbf{{z}_{R}}^{2}} + 2}{\\sqrt{\\mathbf{{x}_{R}}^{2} + \\mathbf{{y}_{R}}^{2} + \\mathbf{{z}_{R}}^{2}}}$"
      ],
      "text/plain": [
       "(R.x**2 + R.y**2)*(3*R.z**2/(R.x**2 + R.y**2 + R.z**2) - 1)/(R.x**2 + R.y**2 + R.z**2)**(3/2) + (3*R.x**2*(R.x**2 + R.y**2)/(R.x**2 + R.y**2 + R.z**2)**2 - 4*R.x**2/(R.x**2 + R.y**2 + R.z**2) - (R.x**2 + R.y**2)/(R.x**2 + R.y**2 + R.z**2) + 2)/sqrt(R.x**2 + R.y**2 + R.z**2) + (3*R.y**2*(R.x**2 + R.y**2)/(R.x**2 + R.y**2 + R.z**2)**2 - 4*R.y**2/(R.x**2 + R.y**2 + R.z**2) - (R.x**2 + R.y**2)/(R.x**2 + R.y**2 + R.z**2) + 2)/sqrt(R.x**2 + R.y**2 + R.z**2)"
      ]
     },
     "execution_count": 14,
     "metadata": {},
     "output_type": "execute_result"
    }
   ],
   "source": [
    "from sympy.vector import laplacian\n",
    "laplacian(f)\n"
   ]
  },
  {
   "cell_type": "code",
   "execution_count": 15,
   "metadata": {},
   "outputs": [
    {
     "data": {
      "text/latex": [
       "$\\displaystyle \\frac{4 \\mathbf{{z}_{R}}^{2}}{\\left(\\mathbf{{x}_{R}}^{2} + \\mathbf{{y}_{R}}^{2} + \\mathbf{{z}_{R}}^{2}\\right)^{\\frac{3}{2}}}$"
      ],
      "text/plain": [
       "4*R.z**2/(R.x**2 + R.y**2 + R.z**2)**(3/2)"
      ]
     },
     "execution_count": 15,
     "metadata": {},
     "output_type": "execute_result"
    }
   ],
   "source": [
    "simplify(_)"
   ]
  },
  {
   "cell_type": "markdown",
   "metadata": {},
   "source": [
    "Podemos verificar rápidamente que: ${\\boldsymbol \\nabla}^2  f={\\boldsymbol \\nabla} \\cdot {\\boldsymbol \\nabla} f$"
   ]
  },
  {
   "cell_type": "code",
   "execution_count": 16,
   "metadata": {},
   "outputs": [
    {
     "data": {
      "text/latex": [
       "$\\displaystyle \\frac{3 \\mathbf{{x}_{R}}^{2} \\left(\\mathbf{{x}_{R}}^{2} + \\mathbf{{y}_{R}}^{2}\\right)}{\\left(\\mathbf{{x}_{R}}^{2} + \\mathbf{{y}_{R}}^{2} + \\mathbf{{z}_{R}}^{2}\\right)^{\\frac{5}{2}}} - \\frac{4 \\mathbf{{x}_{R}}^{2}}{\\left(\\mathbf{{x}_{R}}^{2} + \\mathbf{{y}_{R}}^{2} + \\mathbf{{z}_{R}}^{2}\\right)^{\\frac{3}{2}}} + \\frac{3 \\mathbf{{y}_{R}}^{2} \\left(\\mathbf{{x}_{R}}^{2} + \\mathbf{{y}_{R}}^{2}\\right)}{\\left(\\mathbf{{x}_{R}}^{2} + \\mathbf{{y}_{R}}^{2} + \\mathbf{{z}_{R}}^{2}\\right)^{\\frac{5}{2}}} - \\frac{4 \\mathbf{{y}_{R}}^{2}}{\\left(\\mathbf{{x}_{R}}^{2} + \\mathbf{{y}_{R}}^{2} + \\mathbf{{z}_{R}}^{2}\\right)^{\\frac{3}{2}}} + \\frac{3 \\mathbf{{z}_{R}}^{2} \\left(\\mathbf{{x}_{R}}^{2} + \\mathbf{{y}_{R}}^{2}\\right)}{\\left(\\mathbf{{x}_{R}}^{2} + \\mathbf{{y}_{R}}^{2} + \\mathbf{{z}_{R}}^{2}\\right)^{\\frac{5}{2}}} - \\frac{3 \\left(\\mathbf{{x}_{R}}^{2} + \\mathbf{{y}_{R}}^{2}\\right)}{\\left(\\mathbf{{x}_{R}}^{2} + \\mathbf{{y}_{R}}^{2} + \\mathbf{{z}_{R}}^{2}\\right)^{\\frac{3}{2}}} + \\frac{4}{\\sqrt{\\mathbf{{x}_{R}}^{2} + \\mathbf{{y}_{R}}^{2} + \\mathbf{{z}_{R}}^{2}}}$"
      ],
      "text/plain": [
       "3*R.x**2*(R.x**2 + R.y**2)/(R.x**2 + R.y**2 + R.z**2)**(5/2) - 4*R.x**2/(R.x**2 + R.y**2 + R.z**2)**(3/2) + 3*R.y**2*(R.x**2 + R.y**2)/(R.x**2 + R.y**2 + R.z**2)**(5/2) - 4*R.y**2/(R.x**2 + R.y**2 + R.z**2)**(3/2) + 3*R.z**2*(R.x**2 + R.y**2)/(R.x**2 + R.y**2 + R.z**2)**(5/2) - 3*(R.x**2 + R.y**2)/(R.x**2 + R.y**2 + R.z**2)**(3/2) + 4/sqrt(R.x**2 + R.y**2 + R.z**2)"
      ]
     },
     "execution_count": 16,
     "metadata": {},
     "output_type": "execute_result"
    }
   ],
   "source": [
    "divergence(gradient(f))"
   ]
  },
  {
   "cell_type": "code",
   "execution_count": 17,
   "metadata": {},
   "outputs": [
    {
     "data": {
      "text/latex": [
       "$\\displaystyle \\frac{4 \\mathbf{{z}_{R}}^{2}}{\\left(\\mathbf{{x}_{R}}^{2} + \\mathbf{{y}_{R}}^{2} + \\mathbf{{z}_{R}}^{2}\\right)^{\\frac{3}{2}}}$"
      ],
      "text/plain": [
       "4*R.z**2/(R.x**2 + R.y**2 + R.z**2)**(3/2)"
      ]
     },
     "execution_count": 17,
     "metadata": {},
     "output_type": "execute_result"
    }
   ],
   "source": [
    "simplify(_)"
   ]
  },
  {
   "cell_type": "markdown",
   "metadata": {},
   "source": [
    "## Integración de funciones"
   ]
  },
  {
   "cell_type": "markdown",
   "metadata": {},
   "source": [
    "Sympy integra simbólicamente funciones por medio del comando **integrate** $(expr, (x, a, b))$. Esto es, calcula la integral definida de la  $expr$ respecto de $x$ con los límites de integración $a$ y $b$. Si se omiten los límites de integración se calcula la integral indefinida. \n",
    "\n",
    "Por ejemplo, si queremos calcular la integral:\n",
    "$$\n",
    "\\int a \\ {\\sin}(x+b)^3 {d}x \n",
    "$$\n",
    "Escribimos:"
   ]
  },
  {
   "cell_type": "code",
   "execution_count": 18,
   "metadata": {},
   "outputs": [
    {
     "data": {
      "text/latex": [
       "$\\displaystyle a \\left(- \\sin^{2}{\\left(b + x \\right)} \\cos{\\left(b + x \\right)} - \\frac{2 \\cos^{3}{\\left(b + x \\right)}}{3}\\right)$"
      ],
      "text/plain": [
       "a*(-sin(b + x)**2*cos(b + x) - 2*cos(b + x)**3/3)"
      ]
     },
     "execution_count": 18,
     "metadata": {},
     "output_type": "execute_result"
    }
   ],
   "source": [
    "a, b = symbols('a b')\n",
    "integrate(a*sin(x+b)**3,x)"
   ]
  },
  {
   "cell_type": "code",
   "execution_count": 19,
   "metadata": {},
   "outputs": [
    {
     "data": {
      "text/latex": [
       "$\\displaystyle - \\frac{a \\left(3 \\sin^{2}{\\left(b + x \\right)} + 2 \\cos^{2}{\\left(b + x \\right)}\\right) \\cos{\\left(b + x \\right)}}{3}$"
      ],
      "text/plain": [
       "-a*(3*sin(b + x)**2 + 2*cos(b + x)**2)*cos(b + x)/3"
      ]
     },
     "execution_count": 19,
     "metadata": {},
     "output_type": "execute_result"
    }
   ],
   "source": [
    "factor(_)"
   ]
  },
  {
   "cell_type": "markdown",
   "metadata": {},
   "source": [
    "Calculemos ahora  el área de la región comprendida entre las funciones:\n",
    "$$\n",
    "f(x) = x^3-3x^2 + 1 \\quad \\text{y} \\quad g(x) = -x+ 1 \\,.\n",
    "$$\n",
    "Es decir, vamos a calcular la integral:\n",
    "$$\n",
    "\\int_{a}^b [f(x)- g(x)] \\mathrm{d}x \\,.\n",
    "$$\n",
    "\n",
    "Aprovecharemos este ejercicio para aprender, entre otras cosas, a graficar y definir funciones. "
   ]
  },
  {
   "cell_type": "code",
   "execution_count": 20,
   "metadata": {},
   "outputs": [],
   "source": [
    "f= x**3 - 3*x**2 + 1\n",
    "g= -x+1"
   ]
  },
  {
   "cell_type": "markdown",
   "metadata": {},
   "source": [
    "Para encontrar los puntos donde las funciones se interceptan utilizaremos el comando {\\bf solve}, que resuelve la ecuación algebraica  y devuelve una lista de igualdades con las variables despejadas. Si la expresión a resolver no es una igualdad, se supone que se quiere resolver la ecuación ya igualada a cero. \n",
    "\n",
    "Calculemos  los puntos donde se interceptan las curvas:"
   ]
  },
  {
   "cell_type": "code",
   "execution_count": 21,
   "metadata": {},
   "outputs": [
    {
     "data": {
      "text/plain": [
       "[0, 3/2 - sqrt(5)/2, sqrt(5)/2 + 3/2]"
      ]
     },
     "execution_count": 21,
     "metadata": {},
     "output_type": "execute_result"
    }
   ],
   "source": [
    "ec=Eq(f-g,0)\n",
    "s=solve(ec,x)\n",
    "s"
   ]
  },
  {
   "cell_type": "code",
   "execution_count": 22,
   "metadata": {},
   "outputs": [
    {
     "data": {
      "text/plain": [
       "[0, 0.382, 2.62]"
      ]
     },
     "execution_count": 22,
     "metadata": {},
     "output_type": "execute_result"
    }
   ],
   "source": [
    "[(N(expr,3)) for expr in s]"
   ]
  },
  {
   "cell_type": "markdown",
   "metadata": {},
   "source": [
    "Haremos la gráfica de las dos funciones.\n",
    "\n",
    "En ${\\bf Sympy}$ necesario introducir las funciones como una lista, es decir, dentro de corchetes. Por otra parte, le pediremos al programa que grafique para los valores comprendidos de: $-1\\leq x\\leq 3$. \n",
    "\n",
    "Entonces, para graficar las funciones $f(x)$ y $g(x)$ entre $[-1,3]$ escribimos el siguiente comando:"
   ]
  },
  {
   "cell_type": "code",
   "execution_count": 23,
   "metadata": {},
   "outputs": [
    {
     "data": {
      "image/png": "[encoded data removed]",
      "text/plain": [
       "<Figure size 640x480 with 1 Axes>"
      ]
     },
     "metadata": {},
     "output_type": "display_data"
    },
    {
     "data": {
      "text/plain": [
       "<sympy.plotting.plot.Plot at 0x117b64610>"
      ]
     },
     "execution_count": 23,
     "metadata": {},
     "output_type": "execute_result"
    }
   ],
   "source": [
    "plot(f, g, (x, -1, 3), legend = True)"
   ]
  },
  {
   "cell_type": "markdown",
   "metadata": {},
   "source": [
    "Procedemos ahora sí a integrar la función diferencia para encontrar el área contenida dentro de las dos funciones. En este caso será la integral:\n",
    "$$\n",
    "A=\\int_{0}^{-\\frac{\\sqrt{5}-3}{2}} (f-g) \\ \\mathrm{d}x + \n",
    "\\int_{-\\frac{\\sqrt{5}-3}{2}}^{\\frac{\\sqrt{5}-3}{2}} (-(f-g)) \\ \\mathrm{d}x \\,.\n",
    "$$\n"
   ]
  },
  {
   "cell_type": "code",
   "execution_count": 24,
   "metadata": {},
   "outputs": [],
   "source": [
    "a = s[1]\n",
    "b = s[2]"
   ]
  },
  {
   "cell_type": "code",
   "execution_count": 25,
   "metadata": {},
   "outputs": [
    {
     "data": {
      "text/latex": [
       "$\\displaystyle - \\frac{\\left(\\frac{\\sqrt{5}}{2} + \\frac{3}{2}\\right)^{4}}{4} - \\frac{\\left(\\frac{\\sqrt{5}}{2} + \\frac{3}{2}\\right)^{2}}{2} - 2 \\left(\\frac{3}{2} - \\frac{\\sqrt{5}}{2}\\right)^{3} + \\frac{\\left(\\frac{3}{2} - \\frac{\\sqrt{5}}{2}\\right)^{4}}{2} + \\left(\\frac{3}{2} - \\frac{\\sqrt{5}}{2}\\right)^{2} + \\left(\\frac{\\sqrt{5}}{2} + \\frac{3}{2}\\right)^{3}$"
      ],
      "text/plain": [
       "-(sqrt(5)/2 + 3/2)**4/4 - (sqrt(5)/2 + 3/2)**2/2 - 2*(3/2 - sqrt(5)/2)**3 + (3/2 - sqrt(5)/2)**4/2 + (3/2 - sqrt(5)/2)**2 + (sqrt(5)/2 + 3/2)**3"
      ]
     },
     "execution_count": 25,
     "metadata": {},
     "output_type": "execute_result"
    }
   ],
   "source": [
    "integrate(f-g,(x,0,a)) - integrate(f-g,(x,a,b))"
   ]
  },
  {
   "cell_type": "code",
   "execution_count": 26,
   "metadata": {},
   "outputs": [
    {
     "data": {
      "text/latex": [
       "$\\displaystyle 2.82$"
      ],
      "text/plain": [
       "2.82"
      ]
     },
     "execution_count": 26,
     "metadata": {},
     "output_type": "execute_result"
    }
   ],
   "source": [
    "round(_,2)"
   ]
  },
  {
   "cell_type": "markdown",
   "metadata": {},
   "source": [
    "Calculemos ahora las dos integrales que aparecen en el ejemplo  \\ref{EjemIntVectores02}. Es decir las integrales:\n",
    "$$\n",
    "\\int_{\\left(0,0\\right)}^{\\left(1,\\frac{3}{4}\\sqrt{2}\\right)}\n",
    "\\left(3x^{2}+2xy^{3}\\right)  \\ \\mathrm{d}x \\,,\\qquad \n",
    "\\int_{\\left(0,0\\right)}^{\\left(1,\\frac{3}{4}\\sqrt{2}\\right)}6xy\\ \\mathrm{d}y\\,.\n",
    "$$\n",
    "donde hicimos los cambio de variables: \n",
    "$$\n",
    "x=2 t^{2}\\,,\\,\\, y= t^{3}+ t \\,\\, \\Rightarrow \\,\\,\n",
    "\\mathrm{d}x =4 t \\mathrm{d} t \\,, \\,\\,\n",
    "\\mathrm{d}y=(3 t^{2}+1) \\mathrm{d} t \\,.\n",
    "$$\n",
    "\n",
    "Escribiremos primero los dos integrandos:"
   ]
  },
  {
   "cell_type": "code",
   "execution_count": 27,
   "metadata": {},
   "outputs": [],
   "source": [
    "dx, dy, t = symbols('dx dy t')\n",
    "int1 = (3*x**2+2*x*y**3)*dx\n",
    "int2 = 6*x*y*dy"
   ]
  },
  {
   "cell_type": "markdown",
   "metadata": {},
   "source": [
    "Realizaremos el cambio de variable a través de comando\n"
   ]
  },
  {
   "cell_type": "code",
   "execution_count": 28,
   "metadata": {},
   "outputs": [
    {
     "data": {
      "text/plain": [
       "(4*t*(12*t**4 + 4*t**2*(t**3 + t)**3), 12*t**2*(3*t**2 + 1)*(t**3 + t))"
      ]
     },
     "execution_count": 28,
     "metadata": {},
     "output_type": "execute_result"
    }
   ],
   "source": [
    "L=[(x, 2*t**2), (dx, 4*t), (y, t**3+t),(dy,3*t**2+1)]\n",
    "e1 =int1.subs(L)\n",
    "e2 =int2.subs(L)\n",
    "e1, e2"
   ]
  },
  {
   "cell_type": "markdown",
   "metadata": {},
   "source": [
    "Podemos introducir las integrales sin evaluarlas en el momento. En este caso la función no es evaluada y devuelve una expresión simbólica o imagen pictórica. "
   ]
  },
  {
   "cell_type": "code",
   "execution_count": 29,
   "metadata": {},
   "outputs": [
    {
     "data": {
      "text/latex": [
       "$\\displaystyle \\int\\limits_{0}^{\\frac{\\sqrt{2}}{2}} 4 t \\left(12 t^{4} + 4 t^{2} \\left(t^{3} + t\\right)^{3}\\right)\\, dt$"
      ],
      "text/plain": [
       "Integral(4*t*(12*t**4 + 4*t**2*(t**3 + t)**3), (t, 0, sqrt(2)/2))"
      ]
     },
     "execution_count": 29,
     "metadata": {},
     "output_type": "execute_result"
    }
   ],
   "source": [
    "Integral(e1,(t,0,1/sqrt(2)))"
   ]
  },
  {
   "cell_type": "markdown",
   "metadata": {},
   "source": [
    "Para hacer efectivo del cálculo de la integal se puede escribir"
   ]
  },
  {
   "cell_type": "code",
   "execution_count": 30,
   "metadata": {},
   "outputs": [
    {
     "data": {
      "text/latex": [
       "$\\displaystyle \\frac{9305 \\sqrt{2}}{24024} + 1$"
      ],
      "text/plain": [
       "9305*sqrt(2)/24024 + 1"
      ]
     },
     "execution_count": 30,
     "metadata": {},
     "output_type": "execute_result"
    }
   ],
   "source": [
    "(_).doit()"
   ]
  },
  {
   "cell_type": "code",
   "execution_count": 31,
   "metadata": {},
   "outputs": [
    {
     "data": {
      "text/latex": [
       "$\\displaystyle \\int\\limits_{0}^{\\frac{\\sqrt{2}}{2}} 12 t^{2} \\cdot \\left(3 t^{2} + 1\\right) \\left(t^{3} + t\\right)\\, dt$"
      ],
      "text/plain": [
       "Integral(12*t**2*(3*t**2 + 1)*(t**3 + t), (t, 0, sqrt(2)/2))"
      ]
     },
     "execution_count": 31,
     "metadata": {},
     "output_type": "execute_result"
    }
   ],
   "source": [
    "Integral(e2,(t,0,1/sqrt(2)))"
   ]
  },
  {
   "cell_type": "code",
   "execution_count": 32,
   "metadata": {},
   "outputs": [
    {
     "data": {
      "text/latex": [
       "$\\displaystyle \\frac{65}{32}$"
      ],
      "text/plain": [
       "65/32"
      ]
     },
     "execution_count": 32,
     "metadata": {},
     "output_type": "execute_result"
    }
   ],
   "source": [
    "(_).doit()"
   ]
  },
  {
   "cell_type": "markdown",
   "metadata": {},
   "source": [
    "## Funciones  en Sympy"
   ]
  },
  {
   "cell_type": "markdown",
   "metadata": {},
   "source": [
    "Es hora de aclarar  la diferencia entre asignar  una expresión a una variable y la definición de funciones.\n",
    "\n",
    "Consideremos el movimiento de una partícula que sigue la trayectoria: \n",
    "$$\n",
    "x=x_0+v_0 t +\\frac12 at^2 \\,.\n",
    "$$\n",
    "\n",
    "Primero escribiremos la expresión y se la asignamos a una variable que llamaremos $x$. "
   ]
  },
  {
   "cell_type": "code",
   "execution_count": 33,
   "metadata": {},
   "outputs": [
    {
     "data": {
      "text/latex": [
       "$\\displaystyle \\frac{a t^{2}}{2} + t v_{0} + x_{0}$"
      ],
      "text/plain": [
       "a*t**2/2 + t*v0 + x0"
      ]
     },
     "execution_count": 33,
     "metadata": {},
     "output_type": "execute_result"
    }
   ],
   "source": [
    "x0, v0, a, t = symbols('x0 v0 a t')\n",
    "x = x0+v0*t+a*t**2/2\n",
    "x"
   ]
  },
  {
   "cell_type": "markdown",
   "metadata": {},
   "source": [
    "Si queremos evaluarla para algún valor de la variable $t$, digamos $t=1$, entonces podemos escribir:"
   ]
  },
  {
   "cell_type": "code",
   "execution_count": 34,
   "metadata": {},
   "outputs": [
    {
     "data": {
      "text/latex": [
       "$\\displaystyle \\frac{a}{2} + v_{0} + x_{0}$"
      ],
      "text/plain": [
       "a/2 + v0 + x0"
      ]
     },
     "execution_count": 34,
     "metadata": {},
     "output_type": "execute_result"
    }
   ],
   "source": [
    "x.subs(t,1)"
   ]
  },
  {
   "cell_type": "markdown",
   "metadata": {},
   "source": [
    "Si queremos evaluar la expresión con el resto de parámetros podemos hacer una lista de parámetros"
   ]
  },
  {
   "cell_type": "code",
   "execution_count": 35,
   "metadata": {},
   "outputs": [
    {
     "data": {
      "text/latex": [
       "$\\displaystyle 5.1$"
      ],
      "text/plain": [
       "5.10000000000000"
      ]
     },
     "execution_count": 35,
     "metadata": {},
     "output_type": "execute_result"
    }
   ],
   "source": [
    "P= [(t, 1), ( a,-9.8), (x0, 0),(v0,10)]\n",
    "x.subs(P)"
   ]
  },
  {
   "cell_type": "markdown",
   "metadata": {},
   "source": [
    "Las sustituciones se realizan pero no se asignan a las variables.  Podemos ver que $x$ sigue siendo lo que le asignamos originalmente."
   ]
  },
  {
   "cell_type": "code",
   "execution_count": 36,
   "metadata": {},
   "outputs": [
    {
     "data": {
      "text/latex": [
       "$\\displaystyle \\frac{a t^{2}}{2} + t v_{0} + x_{0}$"
      ],
      "text/plain": [
       "a*t**2/2 + t*v0 + x0"
      ]
     },
     "execution_count": 36,
     "metadata": {},
     "output_type": "execute_result"
    }
   ],
   "source": [
    "x"
   ]
  },
  {
   "cell_type": "markdown",
   "metadata": {},
   "source": [
    "La velocidad y la aceleración son funciones fáciles de calcular:"
   ]
  },
  {
   "cell_type": "code",
   "execution_count": 37,
   "metadata": {},
   "outputs": [
    {
     "data": {
      "text/latex": [
       "$\\displaystyle a t + v_{0}$"
      ],
      "text/plain": [
       "a*t + v0"
      ]
     },
     "execution_count": 37,
     "metadata": {},
     "output_type": "execute_result"
    }
   ],
   "source": [
    "v=diff(x,t)\n",
    "v"
   ]
  },
  {
   "cell_type": "code",
   "execution_count": 38,
   "metadata": {},
   "outputs": [
    {
     "data": {
      "text/latex": [
       "$\\displaystyle a$"
      ],
      "text/plain": [
       "a"
      ]
     },
     "execution_count": 38,
     "metadata": {},
     "output_type": "execute_result"
    }
   ],
   "source": [
    "a=diff(x,t,2)\n",
    "a"
   ]
  },
  {
   "cell_type": "code",
   "execution_count": 39,
   "metadata": {},
   "outputs": [
    {
     "data": {
      "text/latex": [
       "$\\displaystyle 0.199999999999999$"
      ],
      "text/plain": [
       "0.199999999999999"
      ]
     },
     "execution_count": 39,
     "metadata": {},
     "output_type": "execute_result"
    }
   ],
   "source": [
    "v.subs(P)"
   ]
  },
  {
   "cell_type": "code",
   "execution_count": 40,
   "metadata": {},
   "outputs": [
    {
     "data": {
      "text/latex": [
       "$\\displaystyle -9.8$"
      ],
      "text/plain": [
       "-9.80000000000000"
      ]
     },
     "execution_count": 40,
     "metadata": {},
     "output_type": "execute_result"
    }
   ],
   "source": [
    "a.subs(P)"
   ]
  },
  {
   "cell_type": "markdown",
   "metadata": {},
   "source": [
    "Ahora definamos la expresión anterior pero como la función $x(t)$. Para definir funciones en SymPy debemos hacer lo siguiente"
   ]
  },
  {
   "cell_type": "code",
   "execution_count": 41,
   "metadata": {},
   "outputs": [],
   "source": [
    "def x(t):\n",
    "    return x0+v0*t+a*t**2/2"
   ]
  },
  {
   "cell_type": "code",
   "execution_count": 42,
   "metadata": {},
   "outputs": [
    {
     "data": {
      "text/latex": [
       "$\\displaystyle 5.1$"
      ],
      "text/plain": [
       "5.10000000000000"
      ]
     },
     "execution_count": 42,
     "metadata": {},
     "output_type": "execute_result"
    }
   ],
   "source": [
    "x(t).subs(P)"
   ]
  },
  {
   "cell_type": "code",
   "execution_count": 43,
   "metadata": {},
   "outputs": [
    {
     "data": {
      "text/latex": [
       "$\\displaystyle \\frac{a}{2} + v_{0} + x_{0}$"
      ],
      "text/plain": [
       "a/2 + v0 + x0"
      ]
     },
     "execution_count": 43,
     "metadata": {},
     "output_type": "execute_result"
    }
   ],
   "source": [
    "x(1)"
   ]
  },
  {
   "cell_type": "code",
   "execution_count": 44,
   "metadata": {},
   "outputs": [
    {
     "data": {
      "text/latex": [
       "$\\displaystyle a t + v_{0}$"
      ],
      "text/plain": [
       "a*t + v0"
      ]
     },
     "execution_count": 44,
     "metadata": {},
     "output_type": "execute_result"
    }
   ],
   "source": [
    "x(t).diff(t)"
   ]
  },
  {
   "cell_type": "code",
   "execution_count": 45,
   "metadata": {},
   "outputs": [],
   "source": [
    "def v(t):\n",
    "    return a*t+v0"
   ]
  },
  {
   "cell_type": "code",
   "execution_count": 46,
   "metadata": {},
   "outputs": [
    {
     "data": {
      "text/latex": [
       "$\\displaystyle a + v_{0}$"
      ],
      "text/plain": [
       "a + v0"
      ]
     },
     "execution_count": 46,
     "metadata": {},
     "output_type": "execute_result"
    }
   ],
   "source": [
    "v(1)"
   ]
  },
  {
   "cell_type": "code",
   "execution_count": 47,
   "metadata": {},
   "outputs": [
    {
     "data": {
      "text/latex": [
       "$\\displaystyle 0.199999999999999$"
      ],
      "text/plain": [
       "0.199999999999999"
      ]
     },
     "execution_count": 47,
     "metadata": {},
     "output_type": "execute_result"
    }
   ],
   "source": [
    "v(t).subs(P)"
   ]
  },
  {
   "cell_type": "markdown",
   "metadata": {},
   "source": [
    "Cuando necesitemos manejar campo vectoriales podemos utilizar lo aprendido hasta ahora. Veamos el primer ejemplo de \\ref{EjemDerVectores01} donde:\n",
    "$$\n",
    "{\\bf r}=3t^2 \\hat{i}+(4t^3-t)\\hat{j}+t\\hat{k} \\,.\n",
    "$$\n",
    "Escribamos el vector posición:"
   ]
  },
  {
   "cell_type": "code",
   "execution_count": 48,
   "metadata": {},
   "outputs": [
    {
     "data": {
      "text/latex": [
       "$\\displaystyle \\left(3 t^{2}\\right)\\mathbf{\\hat{i}_{R}} + \\left(4 t^{3} - t\\right)\\mathbf{\\hat{j}_{R}} + \\left(t\\right)\\mathbf{\\hat{k}_{R}}$"
      ],
      "text/plain": [
       "3*t**2*R.i + (4*t**3 - t)*R.j + t*R.k"
      ]
     },
     "execution_count": 48,
     "metadata": {},
     "output_type": "execute_result"
    }
   ],
   "source": [
    "r = 3*t**2*R.i + (4*t**3 + -t)*R.j + t*R.k\n",
    "r "
   ]
  },
  {
   "cell_type": "code",
   "execution_count": 49,
   "metadata": {},
   "outputs": [
    {
     "data": {
      "text/latex": [
       "$\\displaystyle \\left(6 t\\right)\\mathbf{\\hat{i}_{R}} + \\left(12 t^{2} - 1\\right)\\mathbf{\\hat{j}_{R}} + \\mathbf{\\hat{k}_{R}}$"
      ],
      "text/plain": [
       "6*t*R.i + (12*t**2 - 1)*R.j + R.k"
      ]
     },
     "execution_count": 49,
     "metadata": {},
     "output_type": "execute_result"
    }
   ],
   "source": [
    "v=r.diff(t)\n",
    "v"
   ]
  },
  {
   "cell_type": "code",
   "execution_count": 50,
   "metadata": {},
   "outputs": [
    {
     "data": {
      "text/latex": [
       "$\\displaystyle \\left(6\\right)\\mathbf{\\hat{i}_{R}} + \\left(24 t\\right)\\mathbf{\\hat{j}_{R}}$"
      ],
      "text/plain": [
       "6*R.i + 24*t*R.j"
      ]
     },
     "execution_count": 50,
     "metadata": {},
     "output_type": "execute_result"
    }
   ],
   "source": [
    "a=r.diff(t,2)\n",
    "a"
   ]
  },
  {
   "cell_type": "markdown",
   "metadata": {},
   "source": [
    "Dado u nvector arbitrario $\\vec u$"
   ]
  },
  {
   "cell_type": "code",
   "execution_count": 51,
   "metadata": {},
   "outputs": [
    {
     "data": {
      "text/latex": [
       "$\\displaystyle \\left(bx\\right)\\mathbf{\\hat{i}_{R}} + \\left(by\\right)\\mathbf{\\hat{j}_{R}} + \\left(bz\\right)\\mathbf{\\hat{k}_{R}}$"
      ],
      "text/plain": [
       "bx*R.i + by*R.j + bz*R.k"
      ]
     },
     "execution_count": 51,
     "metadata": {},
     "output_type": "execute_result"
    }
   ],
   "source": [
    "bx, by, bz = symbols('bx by bz')\n",
    "u = bx*R.i + by*R.j + bz*R.k\n",
    "u"
   ]
  },
  {
   "cell_type": "code",
   "execution_count": 52,
   "metadata": {},
   "outputs": [
    {
     "data": {
      "text/latex": [
       "$\\displaystyle 6 bx t + by \\left(12 t^{2} - 1\\right) + bz$"
      ],
      "text/plain": [
       "6*bx*t + by*(12*t**2 - 1) + bz"
      ]
     },
     "execution_count": 52,
     "metadata": {},
     "output_type": "execute_result"
    }
   ],
   "source": [
    "v.dot(u)"
   ]
  },
  {
   "cell_type": "code",
   "execution_count": 53,
   "metadata": {},
   "outputs": [
    {
     "data": {
      "text/plain": [
       "[-6*bx*t - 12*by*t**2 + by]"
      ]
     },
     "execution_count": 53,
     "metadata": {},
     "output_type": "execute_result"
    }
   ],
   "source": [
    "solve(_,bz)"
   ]
  }
 ],
 "metadata": {
  "colab": {
   "collapsed_sections": [
    "HS5j074Bpqw9",
    "M6k5DaB7AMNL",
    "IZBsDTb4E7U4",
    "Hn31KOmRS9EA",
    "A3ZNaLdqWeG5",
    "5Vs06j5DdIme",
    "ujW8a0HzkNuV"
   ],
   "provenance": [
    {
     "file_id": "1YrOBd8YdJ9P2aPSTRJEnMxLdlqznqh8y",
     "timestamp": 1694038709310
    }
   ]
  },
  "kernelspec": {
   "display_name": "Python 3 (ipykernel)",
   "language": "python",
   "name": "python3"
  },
  "language_info": {
   "codemirror_mode": {
    "name": "ipython",
    "version": 3
   },
   "file_extension": ".py",
   "mimetype": "text/x-python",
   "name": "python",
   "nbconvert_exporter": "python",
   "pygments_lexer": "ipython3",
   "version": "3.11.7"
  }
 },
 "nbformat": 4,
 "nbformat_minor": 1
}

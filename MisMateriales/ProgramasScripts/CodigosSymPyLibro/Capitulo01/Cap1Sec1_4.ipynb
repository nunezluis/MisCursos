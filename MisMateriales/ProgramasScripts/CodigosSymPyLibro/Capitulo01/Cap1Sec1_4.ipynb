{
 "cells": [
  {
   "cell_type": "markdown",
   "metadata": {
    "id": "aleOVKzP-8kQ"
   },
   "source": [
    "A  fines prácticos, las transformaciones de coordenadas del tipo rotaciones o reflexiones es de utilidad representarlas por matrices."
   ]
  },
  {
   "cell_type": "code",
   "execution_count": 1,
   "metadata": {
    "id": "604d4rBS80_Y"
   },
   "outputs": [],
   "source": [
    "import sympy\n",
    "from sympy import *\n",
    "from sympy.vector import *\n",
    "R = CoordSys3D('R')"
   ]
  },
  {
   "cell_type": "markdown",
   "metadata": {
    "id": "oLNHFfRNpqxC"
   },
   "source": [
    " Por ejemplo, las rotaciones alrededor del eje $z$ se puede representar como:"
   ]
  },
  {
   "cell_type": "code",
   "execution_count": 2,
   "metadata": {},
   "outputs": [
    {
     "data": {
      "text/latex": [
       "$\\displaystyle \\left[\\begin{matrix}\\cos{\\left(𝜽 \\right)} & \\sin{\\left(𝜽 \\right)} & 0\\\\- \\sin{\\left(𝜽 \\right)} & \\cos{\\left(𝜽 \\right)} & 0\\\\0 & 0 & 1\\end{matrix}\\right]$"
      ],
      "text/plain": [
       "Matrix([\n",
       "[ cos(𝜽), sin(𝜽), 0],\n",
       "[-sin(𝜽), cos(𝜽), 0],\n",
       "[      0,      0, 1]])"
      ]
     },
     "execution_count": 2,
     "metadata": {},
     "output_type": "execute_result"
    }
   ],
   "source": [
    "𝜽 = symbols('𝜽' ,real=True)\n",
    "Rz=Matrix([[cos(𝜽 ),sin(𝜽 ),0],[-sin(𝜽 ),cos(𝜽 ),0],[0,0,1]])\n",
    "Rz"
   ]
  },
  {
   "cell_type": "markdown",
   "metadata": {},
   "source": [
    "De manera que un vector ${\\bf a}$ transformará bajo esta rotación en un nuevo vector ${\\bf a}'$. "
   ]
  },
  {
   "cell_type": "code",
   "execution_count": 3,
   "metadata": {},
   "outputs": [
    {
     "data": {
      "text/latex": [
       "$\\displaystyle \\left[\\begin{matrix}a_{1}\\\\a_{2}\\\\a_{3}\\end{matrix}\\right]$"
      ],
      "text/plain": [
       "Matrix([\n",
       "[a1],\n",
       "[a2],\n",
       "[a3]])"
      ]
     },
     "execution_count": 3,
     "metadata": {},
     "output_type": "execute_result"
    }
   ],
   "source": [
    "a1,a2,a3 = symbols('a1 a2 a3')\n",
    "a = Matrix([[a1] ,[a2] , [a3]]) \n",
    "a"
   ]
  },
  {
   "cell_type": "code",
   "execution_count": 4,
   "metadata": {
    "id": "gKVSMC2sCM_g"
   },
   "outputs": [
    {
     "data": {
      "text/latex": [
       "$\\displaystyle \\left[\\begin{matrix}a_{1} \\cos{\\left(𝜽 \\right)} + a_{2} \\sin{\\left(𝜽 \\right)}\\\\- a_{1} \\sin{\\left(𝜽 \\right)} + a_{2} \\cos{\\left(𝜽 \\right)}\\\\a_{3}\\end{matrix}\\right]$"
      ],
      "text/plain": [
       "Matrix([\n",
       "[ a1*cos(𝜽) + a2*sin(𝜽)],\n",
       "[-a1*sin(𝜽) + a2*cos(𝜽)],\n",
       "[                    a3]])"
      ]
     },
     "execution_count": 4,
     "metadata": {},
     "output_type": "execute_result"
    }
   ],
   "source": [
    "Rz*a"
   ]
  },
  {
   "cell_type": "markdown",
   "metadata": {
    "id": "qvbCsG8ADXE5"
   },
   "source": [
    "Si la rotación se hace alrededor del eje $x$ o $y$ las matrices correspondientes son las siguientes:"
   ]
  },
  {
   "cell_type": "code",
   "execution_count": 5,
   "metadata": {
    "id": "shhgwnybEE7-"
   },
   "outputs": [
    {
     "data": {
      "text/latex": [
       "$\\displaystyle \\left[\\begin{matrix}1 & 0 & 0\\\\0 & \\cos{\\left(𝜽 \\right)} & - \\sin{\\left(𝜽 \\right)}\\\\0 & \\sin{\\left(𝜽 \\right)} & \\cos{\\left(𝜽 \\right)}\\end{matrix}\\right]$"
      ],
      "text/plain": [
       "Matrix([\n",
       "[1,      0,       0],\n",
       "[0, cos(𝜽), -sin(𝜽)],\n",
       "[0, sin(𝜽),  cos(𝜽)]])"
      ]
     },
     "execution_count": 5,
     "metadata": {},
     "output_type": "execute_result"
    }
   ],
   "source": [
    "Rx= Matrix([[1,0,0],[0,cos(𝜽),-sin(𝜽)],[0,sin(𝜽),cos(𝜽)]])\n",
    "Rx"
   ]
  },
  {
   "cell_type": "code",
   "execution_count": 6,
   "metadata": {
    "id": "YmITKKB7FeAC"
   },
   "outputs": [
    {
     "data": {
      "text/latex": [
       "$\\displaystyle \\left[\\begin{matrix}\\cos{\\left(𝜽 \\right)} & 0 & \\sin{\\left(𝜽 \\right)}\\\\0 & 1 & 0\\\\- \\sin{\\left(𝜽 \\right)} & 0 & \\cos{\\left(𝜽 \\right)}\\end{matrix}\\right]$"
      ],
      "text/plain": [
       "Matrix([\n",
       "[ cos(𝜽), 0, sin(𝜽)],\n",
       "[      0, 1,      0],\n",
       "[-sin(𝜽), 0, cos(𝜽)]])"
      ]
     },
     "execution_count": 6,
     "metadata": {},
     "output_type": "execute_result"
    }
   ],
   "source": [
    "Ry= Matrix([[cos(𝜽),0,sin(𝜽)],[0,1,0],[-sin(𝜽),0,cos(𝜽)]])\n",
    "Ry"
   ]
  },
  {
   "cell_type": "markdown",
   "metadata": {},
   "source": [
    "Notemos que el determinante de éstas matrices es:"
   ]
  },
  {
   "cell_type": "code",
   "execution_count": 7,
   "metadata": {
    "id": "2z0arWTa55G8"
   },
   "outputs": [
    {
     "data": {
      "text/latex": [
       "$\\displaystyle \\sin^{2}{\\left(𝜽 \\right)} + \\cos^{2}{\\left(𝜽 \\right)}$"
      ],
      "text/plain": [
       "sin(𝜽)**2 + cos(𝜽)**2"
      ]
     },
     "execution_count": 7,
     "metadata": {},
     "output_type": "execute_result"
    }
   ],
   "source": [
    "Rx.det()"
   ]
  },
  {
   "cell_type": "code",
   "execution_count": 8,
   "metadata": {
    "id": "bJH9T86bEKNP"
   },
   "outputs": [
    {
     "data": {
      "text/latex": [
       "$\\displaystyle 1$"
      ],
      "text/plain": [
       "1"
      ]
     },
     "execution_count": 8,
     "metadata": {},
     "output_type": "execute_result"
    }
   ],
   "source": [
    "simplify(_)"
   ]
  },
  {
   "cell_type": "markdown",
   "metadata": {},
   "source": [
    "Si la rotación es en un ángulo de $\\theta=60^\\circ$ entonces:"
   ]
  },
  {
   "cell_type": "code",
   "execution_count": 9,
   "metadata": {},
   "outputs": [
    {
     "data": {
      "text/latex": [
       "$\\displaystyle \\left[\\begin{matrix}1 & 0 & 0\\\\0 & \\frac{1}{2} & - \\frac{\\sqrt{3}}{2}\\\\0 & \\frac{\\sqrt{3}}{2} & \\frac{1}{2}\\end{matrix}\\right]$"
      ],
      "text/plain": [
       "Matrix([\n",
       "[1,         0,          0],\n",
       "[0,       1/2, -sqrt(3)/2],\n",
       "[0, sqrt(3)/2,        1/2]])"
      ]
     },
     "execution_count": 9,
     "metadata": {},
     "output_type": "execute_result"
    }
   ],
   "source": [
    "R60=Rx.subs(𝜽,60*pi/180)\n",
    "R60"
   ]
  },
  {
   "cell_type": "markdown",
   "metadata": {
    "id": "L3aYseFpG3Pf"
   },
   "source": [
    "Si el eje de rotación se define a través de un vector unitario, digamos, \n",
    "${\\hat {\\bf u}}= u_x\\hat i+u_y\\hat{j}+u_z\\hat{k}$, la matriz de rotación para un ángulo $\\theta$ es:"
   ]
  },
  {
   "cell_type": "code",
   "execution_count": 10,
   "metadata": {},
   "outputs": [
    {
     "data": {
      "text/latex": [
       "$\\displaystyle \\left[\\begin{matrix}ux^{2} \\cdot \\left(1 - \\cos{\\left(𝜽 \\right)}\\right) + \\cos{\\left(𝜽 \\right)} & ux uy \\left(1 - \\cos{\\left(𝜽 \\right)}\\right) - uz \\sin{\\left(𝜽 \\right)} & ux uz \\left(1 - \\cos{\\left(𝜽 \\right)}\\right) + uy \\sin{\\left(𝜽 \\right)}\\\\ux uy \\left(1 - \\cos{\\left(𝜽 \\right)}\\right) + uz \\sin{\\left(𝜽 \\right)} & uy^{2} \\cdot \\left(1 - \\cos{\\left(𝜽 \\right)}\\right) + \\cos{\\left(𝜽 \\right)} & - ux \\sin{\\left(𝜽 \\right)} + uy uz \\left(1 - \\cos{\\left(𝜽 \\right)}\\right)\\\\ux uz \\left(1 - \\cos{\\left(𝜽 \\right)}\\right) - uy \\sin{\\left(𝜽 \\right)} & ux \\sin{\\left(𝜽 \\right)} + uy uz \\left(1 - \\cos{\\left(𝜽 \\right)}\\right) & uz^{2} \\cdot \\left(1 - \\cos{\\left(𝜽 \\right)}\\right) + \\cos{\\left(𝜽 \\right)}\\end{matrix}\\right]$"
      ],
      "text/plain": [
       "Matrix([\n",
       "[   ux**2*(1 - cos(𝜽)) + cos(𝜽), ux*uy*(1 - cos(𝜽)) - uz*sin(𝜽),  ux*uz*(1 - cos(𝜽)) + uy*sin(𝜽)],\n",
       "[ux*uy*(1 - cos(𝜽)) + uz*sin(𝜽),    uy**2*(1 - cos(𝜽)) + cos(𝜽), -ux*sin(𝜽) + uy*uz*(1 - cos(𝜽))],\n",
       "[ux*uz*(1 - cos(𝜽)) - uy*sin(𝜽), ux*sin(𝜽) + uy*uz*(1 - cos(𝜽)),     uz**2*(1 - cos(𝜽)) + cos(𝜽)]])"
      ]
     },
     "execution_count": 10,
     "metadata": {},
     "output_type": "execute_result"
    }
   ],
   "source": [
    "ux,uy,uz,t = symbols('ux uy uz t')\n",
    "t= 1-cos(𝜽)\n",
    "R = Matrix([[cos(𝜽)+ux**2*t, ux*uy*t-uz*sin(𝜽), ux*uz*t+uy*sin(𝜽)],\n",
    "            [uy*ux*t+uz*sin(𝜽),cos(𝜽)+uy**2*t,uy*uz*t-ux*sin(𝜽)], \n",
    "            [uz*ux*t-uy*sin(𝜽),uz*uy*t+ux*sin(𝜽),cos(𝜽)+uz**2*t]])\n",
    "R"
   ]
  },
  {
   "cell_type": "markdown",
   "metadata": {},
   "source": [
    "Por ejemplo, si el eje de rotación coincide con el vector \n",
    "${\\hat {\\bf u}}= \\frac{\\hat i}{\\sqrt{3}}+\\frac{\\hat{j}}{\\sqrt{3}}+\\frac{\\hat{k}}{\\sqrt{3}}$ y la rotación es en un ángulo de $\\theta=60^\\circ$, entonces:"
   ]
  },
  {
   "cell_type": "code",
   "execution_count": 11,
   "metadata": {},
   "outputs": [],
   "source": [
    "L=[(ux, 1/sqrt(3)), (uy, 1/sqrt(3)), (uz, 1/sqrt(3)),(𝜽,60*pi/180)]"
   ]
  },
  {
   "cell_type": "code",
   "execution_count": 12,
   "metadata": {},
   "outputs": [
    {
     "data": {
      "text/latex": [
       "$\\displaystyle \\left[\\begin{matrix}\\frac{2}{3} & - \\frac{1}{3} & \\frac{2}{3}\\\\\\frac{2}{3} & \\frac{2}{3} & - \\frac{1}{3}\\\\- \\frac{1}{3} & \\frac{2}{3} & \\frac{2}{3}\\end{matrix}\\right]$"
      ],
      "text/plain": [
       "Matrix([\n",
       "[ 2/3, -1/3,  2/3],\n",
       "[ 2/3,  2/3, -1/3],\n",
       "[-1/3,  2/3,  2/3]])"
      ]
     },
     "execution_count": 12,
     "metadata": {},
     "output_type": "execute_result"
    }
   ],
   "source": [
    "Rt=R.subs(L)\n",
    "Rt"
   ]
  },
  {
   "cell_type": "markdown",
   "metadata": {},
   "source": [
    "De manera que un vector, por ejemplo, ${\\bf a}= \\hat i+2\\hat{j}+3\\hat{k}$ transformará bajo esta rotación de la manera siguiente:"
   ]
  },
  {
   "cell_type": "code",
   "execution_count": 13,
   "metadata": {},
   "outputs": [],
   "source": [
    "a = Matrix([[1] ,[2] , [3]]) "
   ]
  },
  {
   "cell_type": "code",
   "execution_count": 14,
   "metadata": {},
   "outputs": [
    {
     "data": {
      "text/latex": [
       "$\\displaystyle \\left[\\begin{matrix}2\\\\1\\\\3\\end{matrix}\\right]$"
      ],
      "text/plain": [
       "Matrix([\n",
       "[2],\n",
       "[1],\n",
       "[3]])"
      ]
     },
     "execution_count": 14,
     "metadata": {},
     "output_type": "execute_result"
    }
   ],
   "source": [
    "Rt*a"
   ]
  },
  {
   "cell_type": "markdown",
   "metadata": {},
   "source": [
    "Por otro lado, una reflexión en el plano $zy$ es más sencilla de representar porque es la matriz: "
   ]
  },
  {
   "cell_type": "code",
   "execution_count": 15,
   "metadata": {},
   "outputs": [
    {
     "data": {
      "text/latex": [
       "$\\displaystyle \\left[\\begin{matrix}-1 & 0 & 0\\\\0 & 1 & 0\\\\0 & 0 & 1\\end{matrix}\\right]$"
      ],
      "text/plain": [
       "Matrix([\n",
       "[-1, 0, 0],\n",
       "[ 0, 1, 0],\n",
       "[ 0, 0, 1]])"
      ]
     },
     "execution_count": 15,
     "metadata": {},
     "output_type": "execute_result"
    }
   ],
   "source": [
    "Re= Matrix([[-1,0,0],[0,1,0],[0,0,1]])\n",
    "Re"
   ]
  },
  {
   "cell_type": "markdown",
   "metadata": {},
   "source": [
    "Si tenemos los siguientes vectores polares"
   ]
  },
  {
   "cell_type": "code",
   "execution_count": 16,
   "metadata": {},
   "outputs": [],
   "source": [
    "a = Matrix([[1] ,[2] , [3]]) \n",
    "b = Matrix([[4] ,[5] , [6]])"
   ]
  },
  {
   "cell_type": "markdown",
   "metadata": {},
   "source": [
    "Bajo la reflexión estos vectores transforman así:"
   ]
  },
  {
   "cell_type": "code",
   "execution_count": 17,
   "metadata": {},
   "outputs": [
    {
     "data": {
      "text/latex": [
       "$\\displaystyle \\left[\\begin{matrix}-1\\\\2\\\\3\\end{matrix}\\right]$"
      ],
      "text/plain": [
       "Matrix([\n",
       "[-1],\n",
       "[ 2],\n",
       "[ 3]])"
      ]
     },
     "execution_count": 17,
     "metadata": {},
     "output_type": "execute_result"
    }
   ],
   "source": [
    "Re*a"
   ]
  },
  {
   "cell_type": "code",
   "execution_count": 18,
   "metadata": {},
   "outputs": [
    {
     "data": {
      "text/latex": [
       "$\\displaystyle \\left[\\begin{matrix}-4\\\\5\\\\6\\end{matrix}\\right]$"
      ],
      "text/plain": [
       "Matrix([\n",
       "[-4],\n",
       "[ 5],\n",
       "[ 6]])"
      ]
     },
     "execution_count": 18,
     "metadata": {},
     "output_type": "execute_result"
    }
   ],
   "source": [
    "Re*b"
   ]
  },
  {
   "cell_type": "markdown",
   "metadata": {},
   "source": [
    "Veamos ahora cómo transforma el vector ${\\bf c} ={\\bf a}\\times {\\bf b}$"
   ]
  },
  {
   "cell_type": "code",
   "execution_count": 19,
   "metadata": {},
   "outputs": [
    {
     "data": {
      "text/latex": [
       "$\\displaystyle \\left[\\begin{matrix}-3\\\\6\\\\-3\\end{matrix}\\right]$"
      ],
      "text/plain": [
       "Matrix([\n",
       "[-3],\n",
       "[ 6],\n",
       "[-3]])"
      ]
     },
     "execution_count": 19,
     "metadata": {},
     "output_type": "execute_result"
    }
   ],
   "source": [
    "c= a.cross(b)\n",
    "c"
   ]
  },
  {
   "cell_type": "code",
   "execution_count": 20,
   "metadata": {},
   "outputs": [
    {
     "data": {
      "text/latex": [
       "$\\displaystyle \\left[\\begin{matrix}3\\\\6\\\\-3\\end{matrix}\\right]$"
      ],
      "text/plain": [
       "Matrix([\n",
       "[ 3],\n",
       "[ 6],\n",
       "[-3]])"
      ]
     },
     "execution_count": 20,
     "metadata": {},
     "output_type": "execute_result"
    }
   ],
   "source": [
    "Re*c"
   ]
  },
  {
   "cell_type": "markdown",
   "metadata": {},
   "source": [
    "Es decir, ${\\bf c}$ es un pseudovector. "
   ]
  },
  {
   "cell_type": "code",
   "execution_count": null,
   "metadata": {},
   "outputs": [],
   "source": []
  }
 ],
 "metadata": {
  "colab": {
   "collapsed_sections": [
    "HS5j074Bpqw9",
    "M6k5DaB7AMNL",
    "IZBsDTb4E7U4",
    "Hn31KOmRS9EA",
    "A3ZNaLdqWeG5",
    "5Vs06j5DdIme",
    "ujW8a0HzkNuV"
   ],
   "provenance": [
    {
     "file_id": "1YrOBd8YdJ9P2aPSTRJEnMxLdlqznqh8y",
     "timestamp": 1694038709310
    }
   ]
  },
  "kernelspec": {
   "display_name": "Python 3 (ipykernel)",
   "language": "python",
   "name": "python3"
  },
  "language_info": {
   "codemirror_mode": {
    "name": "ipython",
    "version": 3
   },
   "file_extension": ".py",
   "mimetype": "text/x-python",
   "name": "python",
   "nbconvert_exporter": "python",
   "pygments_lexer": "ipython3",
   "version": "3.11.7"
  }
 },
 "nbformat": 4,
 "nbformat_minor": 1
}

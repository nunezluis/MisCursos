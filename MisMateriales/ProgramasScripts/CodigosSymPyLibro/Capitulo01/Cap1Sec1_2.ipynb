{
 "cells": [
  {
   "cell_type": "markdown",
   "metadata": {
    "id": "aleOVKzP-8kQ"
   },
   "source": [
    "Tenemos otra opción para el cálculo vectorial utilizando una libreria llamada **sympy.vector**, como se muestra a continuación"
   ]
  },
  {
   "cell_type": "code",
   "execution_count": 1,
   "metadata": {
    "id": "604d4rBS80_Y"
   },
   "outputs": [],
   "source": [
    "import sympy\n",
    "from sympy import *"
   ]
  },
  {
   "cell_type": "code",
   "execution_count": 2,
   "metadata": {
    "id": "xRhhSr1_NbOk",
    "scrolled": true
   },
   "outputs": [],
   "source": [
    "from sympy.vector import *\n",
    "R = CoordSys3D('R')"
   ]
  },
  {
   "cell_type": "markdown",
   "metadata": {
    "id": "M6k5DaB7AMNL"
   },
   "source": [
    "La librería \"sympy.vectores\" es capaz de trabajar con sistemas de coordenadas cartesianos (también llamados rectangulares), esféricos y otros curvilíneos."
   ]
  },
  {
   "cell_type": "markdown",
   "metadata": {
    "id": "oLNHFfRNpqxC"
   },
   "source": [
    "El parámetro \"R\" indica el nombre asignado al sistema y se utiliza para fines de impresión en el notebook.\n",
    "\n",
    "Una vez definido un sistema de coordenadas (CoordSys3D), se puede acceder a los vectores unitarios ortonormales y a las coordenadas $x, y, z$ correspondientes. \n",
    "\n",
    "Veamos el caso del vector unitario $\\hat i$"
   ]
  },
  {
   "cell_type": "code",
   "execution_count": 3,
   "metadata": {
    "id": "KBflbZBnpqxC"
   },
   "outputs": [
    {
     "data": {
      "text/plain": [
       "sympy.vector.vector.BaseVector"
      ]
     },
     "execution_count": 3,
     "metadata": {},
     "output_type": "execute_result"
    }
   ],
   "source": [
    "R.i\n",
    "type(R.i)"
   ]
  },
  {
   "cell_type": "markdown",
   "metadata": {},
   "source": [
    "Cuando un \"BaseVector\" se multiplica por un escalar, resulta  un VectorMul:  el producto de un vector base y un escalar."
   ]
  },
  {
   "cell_type": "code",
   "execution_count": 4,
   "metadata": {},
   "outputs": [
    {
     "data": {
      "text/plain": [
       "sympy.vector.vector.VectorMul"
      ]
     },
     "execution_count": 4,
     "metadata": {},
     "output_type": "execute_result"
    }
   ],
   "source": [
    "2*R.i\n",
    "type(2*R.i)"
   ]
  },
  {
   "cell_type": "markdown",
   "metadata": {},
   "source": [
    "Consideremos los vectores"
   ]
  },
  {
   "cell_type": "code",
   "execution_count": 5,
   "metadata": {},
   "outputs": [],
   "source": [
    "A = 2*R.i + 4*R.j - 6*R.k\n",
    "B =  R.i + 3*R.j + 5*R.k\n",
    "C =  R.i + 2*R.j + 3*R.k"
   ]
  },
  {
   "cell_type": "code",
   "execution_count": 6,
   "metadata": {},
   "outputs": [
    {
     "data": {
      "text/latex": [
       "$\\displaystyle \\left(\\frac{7}{2}\\right)\\mathbf{\\hat{i}_{R}} + \\left(9\\right)\\mathbf{\\hat{j}_{R}} + \\left(\\frac{5}{2}\\right)\\mathbf{\\hat{k}_{R}}$"
      ],
      "text/plain": [
       "7/2*R.i + 9*R.j + 5/2*R.k"
      ]
     },
     "execution_count": 6,
     "metadata": {},
     "output_type": "execute_result"
    }
   ],
   "source": [
    "A + 2*B - C/2"
   ]
  },
  {
   "cell_type": "markdown",
   "metadata": {
    "id": "zMI52xFbpqxE"
   },
   "source": [
    "El vector cero es"
   ]
  },
  {
   "cell_type": "code",
   "execution_count": 7,
   "metadata": {
    "id": "gKVSMC2sCM_g"
   },
   "outputs": [
    {
     "data": {
      "text/latex": [
       "$\\displaystyle \\mathbf{\\hat{0}}$"
      ],
      "text/plain": [
       "0"
      ]
     },
     "execution_count": 7,
     "metadata": {},
     "output_type": "execute_result"
    }
   ],
   "source": [
    "D= Vector.zero\n",
    "D"
   ]
  },
  {
   "cell_type": "markdown",
   "metadata": {
    "id": "qvbCsG8ADXE5"
   },
   "source": [
    "Los principales cálculos que se pueden hacer con estos vectores son:"
   ]
  },
  {
   "cell_type": "code",
   "execution_count": 8,
   "metadata": {
    "id": "shhgwnybEE7-"
   },
   "outputs": [
    {
     "data": {
      "text/latex": [
       "$\\displaystyle 2 \\sqrt{14}$"
      ],
      "text/plain": [
       "2*sqrt(14)"
      ]
     },
     "execution_count": 8,
     "metadata": {},
     "output_type": "execute_result"
    }
   ],
   "source": [
    "# La magnitud de A\n",
    "sqrt(A.dot(A))"
   ]
  },
  {
   "cell_type": "markdown",
   "metadata": {
    "id": "YmITKKB7FeAC"
   },
   "source": [
    "Otras variantes"
   ]
  },
  {
   "cell_type": "code",
   "execution_count": 9,
   "metadata": {
    "id": "2z0arWTa55G8"
   },
   "outputs": [
    {
     "data": {
      "text/latex": [
       "$\\displaystyle 2 \\sqrt{14}$"
      ],
      "text/plain": [
       "2*sqrt(14)"
      ]
     },
     "execution_count": 9,
     "metadata": {},
     "output_type": "execute_result"
    }
   ],
   "source": [
    "A.magnitude()"
   ]
  },
  {
   "cell_type": "code",
   "execution_count": 10,
   "metadata": {
    "id": "bJH9T86bEKNP"
   },
   "outputs": [
    {
     "data": {
      "text/latex": [
       "$\\displaystyle \\left(\\frac{\\sqrt{14}}{14}\\right)\\mathbf{\\hat{i}_{R}} + \\left(\\frac{\\sqrt{14}}{7}\\right)\\mathbf{\\hat{j}_{R}} + \\left(- \\frac{3 \\sqrt{14}}{14}\\right)\\mathbf{\\hat{k}_{R}}$"
      ],
      "text/plain": [
       "(sqrt(14)/14)*R.i + (sqrt(14)/7)*R.j + (-3*sqrt(14)/14)*R.k"
      ]
     },
     "execution_count": 10,
     "metadata": {},
     "output_type": "execute_result"
    }
   ],
   "source": [
    "# El vector unitario asociado a A\n",
    "A.normalize()"
   ]
  },
  {
   "cell_type": "code",
   "execution_count": 11,
   "metadata": {
    "id": "L3aYseFpG3Pf"
   },
   "outputs": [
    {
     "data": {
      "text/latex": [
       "$\\displaystyle 1$"
      ],
      "text/plain": [
       "1"
      ]
     },
     "execution_count": 11,
     "metadata": {},
     "output_type": "execute_result"
    }
   ],
   "source": [
    "# Cuya magnitud es la unidad\n",
    "(_).magnitude()"
   ]
  },
  {
   "cell_type": "markdown",
   "metadata": {},
   "source": [
    "El producto escalar $A.B$"
   ]
  },
  {
   "cell_type": "code",
   "execution_count": 12,
   "metadata": {
    "id": "Wg7nl2TLKMCs"
   },
   "outputs": [
    {
     "data": {
      "text/latex": [
       "$\\displaystyle -16$"
      ],
      "text/plain": [
       "-16"
      ]
     },
     "execution_count": 12,
     "metadata": {},
     "output_type": "execute_result"
    }
   ],
   "source": [
    "A.dot(B)"
   ]
  },
  {
   "cell_type": "markdown",
   "metadata": {
    "id": "DD_D0e-nEPUM"
   },
   "source": [
    "El producto vectorial $A \\times B$"
   ]
  },
  {
   "cell_type": "code",
   "execution_count": 13,
   "metadata": {
    "id": "7CniJzV0OeSN"
   },
   "outputs": [
    {
     "data": {
      "text/latex": [
       "$\\displaystyle \\left(38\\right)\\mathbf{\\hat{i}_{R}} + \\left(-16\\right)\\mathbf{\\hat{j}_{R}} + \\left(2\\right)\\mathbf{\\hat{k}_{R}}$"
      ],
      "text/plain": [
       "38*R.i + (-16)*R.j + 2*R.k"
      ]
     },
     "execution_count": 13,
     "metadata": {},
     "output_type": "execute_result"
    }
   ],
   "source": [
    "A.cross(B)"
   ]
  },
  {
   "cell_type": "markdown",
   "metadata": {
    "id": "T1ZfAfKsKnYl"
   },
   "source": [
    "El producto triple $(A\\times B) \\cdot C$"
   ]
  },
  {
   "cell_type": "code",
   "execution_count": 14,
   "metadata": {
    "id": "UAhaHAhxKgjc"
   },
   "outputs": [
    {
     "data": {
      "text/latex": [
       "$\\displaystyle 12$"
      ],
      "text/plain": [
       "12"
      ]
     },
     "execution_count": 14,
     "metadata": {},
     "output_type": "execute_result"
    }
   ],
   "source": [
    "A.cross(B).dot(C)"
   ]
  },
  {
   "cell_type": "markdown",
   "metadata": {},
   "source": [
    "El ángulo entre los vectores\n",
    "$$\n",
    "\\varphi= \\arccos\\left[ \\frac{\\mathbf{A} \\cdot \\mathbf{B}}{\\|\\mathbf{A}\\|\\|\\mathbf{B}\\|}\\right]\n",
    "$$"
   ]
  },
  {
   "cell_type": "code",
   "execution_count": 15,
   "metadata": {
    "id": "tCgE0P_pKu9d"
   },
   "outputs": [
    {
     "data": {
      "text/latex": [
       "$\\displaystyle 1.941$"
      ],
      "text/plain": [
       "1.941"
      ]
     },
     "execution_count": 15,
     "metadata": {},
     "output_type": "execute_result"
    }
   ],
   "source": [
    "acos(A.dot(B)/(A.magnitude()*B.magnitude())).round(3) # En radianes"
   ]
  },
  {
   "cell_type": "markdown",
   "metadata": {},
   "source": [
    "Para finalizar, podemos considerar el problema de la independencia lineal de vectores. \n",
    "\n",
    "Tomemos el conjunto de vectores del ejemplo \\ref{EjemplosBase}, es decir, los vectores: ${\\bf a}=i+2 j+3k$, ${\\bf b}=4i+5{j}$ y ${\\bf c}=3i+2{j}+{k}$. El sistema de ecuaciones a resolver era:\n",
    "\n",
    "$$\n",
    "\\left\\{\n",
    "\\begin{array}\n",
    "[c]{r}\n",
    "\\alpha+4\\beta +3\\gamma =0\\\\\n",
    "2\\alpha + 5 \\beta  +2\\gamma =0\\\\\n",
    "3\\alpha +\\gamma=0\n",
    "\\end{array}\n",
    "\\right.\n",
    "$$"
   ]
  },
  {
   "cell_type": "markdown",
   "metadata": {
    "id": "41n8SSLFK9N7"
   },
   "source": [
    "Ahora debemos aprender a escribir ecuaciones en SymPy con la función \"linsolve\""
   ]
  },
  {
   "cell_type": "code",
   "execution_count": 16,
   "metadata": {},
   "outputs": [],
   "source": [
    "α,β,γ  = symbols('α β γ') "
   ]
  },
  {
   "cell_type": "code",
   "execution_count": 17,
   "metadata": {
    "id": "8qoCPELFALfV"
   },
   "outputs": [],
   "source": [
    "ec1= Eq(α+4*β+3*γ,0)\n",
    "ec2= Eq(2*α+5*β+2*γ,0)\n",
    "ec3= Eq(3*α+γ,0)"
   ]
  },
  {
   "cell_type": "code",
   "execution_count": 18,
   "metadata": {},
   "outputs": [
    {
     "data": {
      "text/latex": [
       "$\\displaystyle \\left\\{\\left( 0, \\  0, \\  0\\right)\\right\\}$"
      ],
      "text/plain": [
       "{(0, 0, 0)}"
      ]
     },
     "execution_count": 18,
     "metadata": {},
     "output_type": "execute_result"
    }
   ],
   "source": [
    "linsolve([ec1, ec2, ec3 ], (α, β, γ))"
   ]
  },
  {
   "cell_type": "markdown",
   "metadata": {
    "id": "HYdWDiNFFzJ8"
   },
   "source": [
    "Repasemos el ejemplo \\ref{EjemplosBase3}. Primero escribamos los vectores "
   ]
  },
  {
   "cell_type": "code",
   "execution_count": 19,
   "metadata": {
    "id": "LwGae3e4B49l"
   },
   "outputs": [],
   "source": [
    "a =    R.i + 2*R.j + 3*R.k\n",
    "b =  4*R.i + 5*R.j + 0*R.k\n",
    "c =  3*R.i + 2*R.j + 1*R.k"
   ]
  },
  {
   "cell_type": "code",
   "execution_count": 20,
   "metadata": {},
   "outputs": [],
   "source": [
    "ec1= Eq(α + 4*β + 3*γ,0)\n",
    "ec2= Eq(2*α +5*β + 2*γ,0)\n",
    "ec3= Eq(3*α + γ,0)"
   ]
  },
  {
   "cell_type": "code",
   "execution_count": 21,
   "metadata": {
    "id": "nR2kcY1aIpDe"
   },
   "outputs": [
    {
     "data": {
      "text/latex": [
       "$\\displaystyle \\left\\{\\left( 0, \\  0, \\  0\\right)\\right\\}$"
      ],
      "text/plain": [
       "{(0, 0, 0)}"
      ]
     },
     "execution_count": 21,
     "metadata": {},
     "output_type": "execute_result"
    }
   ],
   "source": [
    "linsolve([ec1, ec2, ec3 ], (α, β, γ))"
   ]
  },
  {
   "cell_type": "markdown",
   "metadata": {},
   "source": [
    "El volumen es el valor absoluto del triple producto"
   ]
  },
  {
   "cell_type": "code",
   "execution_count": 22,
   "metadata": {
    "id": "6GMJhEP1HbO7"
   },
   "outputs": [
    {
     "data": {
      "text/latex": [
       "$\\displaystyle 24$"
      ],
      "text/plain": [
       "24"
      ]
     },
     "execution_count": 22,
     "metadata": {},
     "output_type": "execute_result"
    }
   ],
   "source": [
    "V= abs(a.cross(b).dot(c))\n",
    "V"
   ]
  },
  {
   "cell_type": "markdown",
   "metadata": {
    "id": "widOQuvvjmRp"
   },
   "source": [
    "Ahora vamos a introducir un vector arbitrario"
   ]
  },
  {
   "cell_type": "code",
   "execution_count": 23,
   "metadata": {},
   "outputs": [],
   "source": [
    "d1,d2,d3  = symbols('d1 d2 d3') "
   ]
  },
  {
   "cell_type": "code",
   "execution_count": 24,
   "metadata": {
    "id": "ZbWg-flfHka_"
   },
   "outputs": [],
   "source": [
    "d= d1*R.i + d2*R.j + d3*R.k"
   ]
  },
  {
   "cell_type": "markdown",
   "metadata": {
    "id": "KiPhjemhpqxJ"
   },
   "source": [
    "y calculamos las cantidades $c^1$, $c^2$, y $c^3$ del ejemplo"
   ]
  },
  {
   "cell_type": "code",
   "execution_count": 25,
   "metadata": {
    "id": "agX_1gI6pqxK"
   },
   "outputs": [],
   "source": [
    "c1= -(a.dot(d))/(a.cross(b).dot(c))\n",
    "c2= -(b.dot(d))/(a.cross(b).dot(c))\n",
    "c3= -(c.dot(d))/(a.cross(b).dot(c))"
   ]
  },
  {
   "cell_type": "code",
   "execution_count": 26,
   "metadata": {
    "id": "xmK199s6k9VU"
   },
   "outputs": [
    {
     "data": {
      "text/latex": [
       "$\\displaystyle \\frac{d_{1}}{24} + \\frac{d_{2}}{12} + \\frac{d_{3}}{8}$"
      ],
      "text/plain": [
       "d1/24 + d2/12 + d3/8"
      ]
     },
     "execution_count": 26,
     "metadata": {},
     "output_type": "execute_result"
    }
   ],
   "source": [
    "c1"
   ]
  },
  {
   "cell_type": "code",
   "execution_count": 27,
   "metadata": {
    "id": "J9B9mRMHpqxK"
   },
   "outputs": [
    {
     "data": {
      "text/latex": [
       "$\\displaystyle \\frac{d_{1}}{6} + \\frac{5 d_{2}}{24}$"
      ],
      "text/plain": [
       "d1/6 + 5*d2/24"
      ]
     },
     "execution_count": 27,
     "metadata": {},
     "output_type": "execute_result"
    }
   ],
   "source": [
    "c2"
   ]
  },
  {
   "cell_type": "code",
   "execution_count": 28,
   "metadata": {
    "id": "GVTnGbikpqxK"
   },
   "outputs": [
    {
     "data": {
      "text/latex": [
       "$\\displaystyle \\frac{d_{1}}{8} + \\frac{d_{2}}{12} + \\frac{d_{3}}{24}$"
      ],
      "text/plain": [
       "d1/8 + d2/12 + d3/24"
      ]
     },
     "execution_count": 28,
     "metadata": {},
     "output_type": "execute_result"
    }
   ],
   "source": [
    "c3"
   ]
  },
  {
   "cell_type": "markdown",
   "metadata": {
    "id": "ZruUG0EJIJs4"
   },
   "source": [
    "y  ahora la expresión: $c^1 ({\\bf b} \\times{\\bf c} )+ c^2({\\bf c} \\times{\\bf a} ) + c^3 ({\\bf a} \\times{\\bf b} ) + {\\bf d}$:"
   ]
  },
  {
   "cell_type": "code",
   "execution_count": 29,
   "metadata": {
    "id": "qOf3fmVQFu6Z"
   },
   "outputs": [
    {
     "data": {
      "text/latex": [
       "$\\displaystyle \\mathbf{\\hat{0}}$"
      ],
      "text/plain": [
       "0"
      ]
     },
     "execution_count": 29,
     "metadata": {},
     "output_type": "execute_result"
    }
   ],
   "source": [
    "c1*(b.cross(c)) + c2*(c.cross(a)) + c3*(a.cross(b)) +  d"
   ]
  }
 ],
 "metadata": {
  "colab": {
   "collapsed_sections": [
    "HS5j074Bpqw9",
    "M6k5DaB7AMNL",
    "IZBsDTb4E7U4",
    "Hn31KOmRS9EA",
    "A3ZNaLdqWeG5",
    "5Vs06j5DdIme",
    "ujW8a0HzkNuV"
   ],
   "provenance": [
    {
     "file_id": "1YrOBd8YdJ9P2aPSTRJEnMxLdlqznqh8y",
     "timestamp": 1694038709310
    }
   ]
  },
  "kernelspec": {
   "display_name": "Python 3 (ipykernel)",
   "language": "python",
   "name": "python3"
  },
  "language_info": {
   "codemirror_mode": {
    "name": "ipython",
    "version": 3
   },
   "file_extension": ".py",
   "mimetype": "text/x-python",
   "name": "python",
   "nbconvert_exporter": "python",
   "pygments_lexer": "ipython3",
   "version": "3.11.7"
  }
 },
 "nbformat": 4,
 "nbformat_minor": 1
}

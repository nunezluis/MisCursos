{
 "cells": [
  {
   "cell_type": "markdown",
   "metadata": {
    "id": "aleOVKzP-8kQ"
   },
   "source": [
    "${\\bf SymPy}$ maneja números complejos escritos en la forma: $a+bi$. Donde la unidad imaginaria es interpretada por el programa como $I$."
   ]
  },
  {
   "cell_type": "code",
   "execution_count": 1,
   "metadata": {
    "id": "604d4rBS80_Y"
   },
   "outputs": [],
   "source": [
    "import sympy\n",
    "from sympy import *"
   ]
  },
  {
   "cell_type": "markdown",
   "metadata": {
    "id": "oLNHFfRNpqxC"
   },
   "source": [
    "- 1  Algunos cálculos básicos. "
   ]
  },
  {
   "cell_type": "markdown",
   "metadata": {},
   "source": [
    "Los números imaginarios aparecen si queremos calcular la raíz cuadrada de un número negativo, por ejemplo,  $\\sqrt{-7}$"
   ]
  },
  {
   "cell_type": "code",
   "execution_count": 2,
   "metadata": {},
   "outputs": [
    {
     "data": {
      "text/latex": [
       "$\\displaystyle \\sqrt{7} i$"
      ],
      "text/plain": [
       "sqrt(7)*I"
      ]
     },
     "execution_count": 2,
     "metadata": {},
     "output_type": "execute_result"
    }
   ],
   "source": [
    "sqrt(-7)"
   ]
  },
  {
   "cell_type": "markdown",
   "metadata": {},
   "source": [
    "El programa nos permite desarrollar toda el álgebra en variable compleja. Si queremos sumar $z_1=1+2i$ y $z_2=3+4i$, escribimos: "
   ]
  },
  {
   "cell_type": "code",
   "execution_count": 3,
   "metadata": {},
   "outputs": [],
   "source": [
    "z1= 1 + 2*I\n",
    "z2= 3 + 4*I"
   ]
  },
  {
   "cell_type": "code",
   "execution_count": 4,
   "metadata": {},
   "outputs": [
    {
     "data": {
      "text/latex": [
       "$\\displaystyle 4 + 6 i$"
      ],
      "text/plain": [
       "4 + 6*I"
      ]
     },
     "execution_count": 4,
     "metadata": {},
     "output_type": "execute_result"
    }
   ],
   "source": [
    "z1+z2"
   ]
  },
  {
   "cell_type": "markdown",
   "metadata": {},
   "source": [
    "La multiplicación"
   ]
  },
  {
   "cell_type": "code",
   "execution_count": 5,
   "metadata": {},
   "outputs": [
    {
     "data": {
      "text/latex": [
       "$\\displaystyle \\left(1 + 2 i\\right) \\left(3 + 4 i\\right)$"
      ],
      "text/plain": [
       "(1 + 2*I)*(3 + 4*I)"
      ]
     },
     "execution_count": 5,
     "metadata": {},
     "output_type": "execute_result"
    }
   ],
   "source": [
    "z1*z2"
   ]
  },
  {
   "cell_type": "code",
   "execution_count": 6,
   "metadata": {},
   "outputs": [
    {
     "data": {
      "text/latex": [
       "$\\displaystyle -5 + 10 i$"
      ],
      "text/plain": [
       "-5 + 10*I"
      ]
     },
     "execution_count": 6,
     "metadata": {},
     "output_type": "execute_result"
    }
   ],
   "source": [
    "(z1*z2).expand()"
   ]
  },
  {
   "cell_type": "markdown",
   "metadata": {},
   "source": [
    "Para la división:"
   ]
  },
  {
   "cell_type": "code",
   "execution_count": 7,
   "metadata": {},
   "outputs": [
    {
     "data": {
      "text/latex": [
       "$\\displaystyle \\frac{\\left(1 + 2 i\\right) \\left(3 - 4 i\\right)}{25}$"
      ],
      "text/plain": [
       "(1 + 2*I)*(3 - 4*I)/25"
      ]
     },
     "execution_count": 7,
     "metadata": {},
     "output_type": "execute_result"
    }
   ],
   "source": [
    "z1/z2"
   ]
  },
  {
   "cell_type": "code",
   "execution_count": 8,
   "metadata": {},
   "outputs": [
    {
     "data": {
      "text/latex": [
       "$\\displaystyle \\frac{11}{25} + \\frac{2 i}{25}$"
      ],
      "text/plain": [
       "11/25 + 2*I/25"
      ]
     },
     "execution_count": 8,
     "metadata": {},
     "output_type": "execute_result"
    }
   ],
   "source": [
    "z3=(z1/z2).expand()\n",
    "z3"
   ]
  },
  {
   "cell_type": "markdown",
   "metadata": {},
   "source": [
    "Probemos algunas funciones sobre los números complejos"
   ]
  },
  {
   "cell_type": "code",
   "execution_count": 9,
   "metadata": {
    "id": "gKVSMC2sCM_g"
   },
   "outputs": [
    {
     "data": {
      "text/latex": [
       "$\\displaystyle \\frac{11}{25}$"
      ],
      "text/plain": [
       "11/25"
      ]
     },
     "execution_count": 9,
     "metadata": {},
     "output_type": "execute_result"
    }
   ],
   "source": [
    "re(z3)"
   ]
  },
  {
   "cell_type": "code",
   "execution_count": 10,
   "metadata": {
    "id": "shhgwnybEE7-"
   },
   "outputs": [
    {
     "data": {
      "text/latex": [
       "$\\displaystyle \\frac{2}{25}$"
      ],
      "text/plain": [
       "2/25"
      ]
     },
     "execution_count": 10,
     "metadata": {},
     "output_type": "execute_result"
    }
   ],
   "source": [
    "im(z3)"
   ]
  },
  {
   "cell_type": "code",
   "execution_count": 11,
   "metadata": {},
   "outputs": [
    {
     "data": {
      "text/latex": [
       "$\\displaystyle \\frac{\\sqrt{5}}{5}$"
      ],
      "text/plain": [
       "sqrt(5)/5"
      ]
     },
     "execution_count": 11,
     "metadata": {},
     "output_type": "execute_result"
    }
   ],
   "source": [
    "Abs(z3) "
   ]
  },
  {
   "cell_type": "code",
   "execution_count": 12,
   "metadata": {
    "id": "YmITKKB7FeAC"
   },
   "outputs": [
    {
     "data": {
      "text/latex": [
       "$\\displaystyle \\frac{11}{25} - \\frac{2 i}{25}$"
      ],
      "text/plain": [
       "11/25 - 2*I/25"
      ]
     },
     "execution_count": 12,
     "metadata": {},
     "output_type": "execute_result"
    }
   ],
   "source": [
    "conjugate(z3)"
   ]
  },
  {
   "cell_type": "code",
   "execution_count": 13,
   "metadata": {
    "id": "2z0arWTa55G8"
   },
   "outputs": [
    {
     "data": {
      "text/latex": [
       "$\\displaystyle \\operatorname{atan}{\\left(\\frac{2}{11} \\right)}$"
      ],
      "text/plain": [
       "atan(2/11)"
      ]
     },
     "execution_count": 13,
     "metadata": {},
     "output_type": "execute_result"
    }
   ],
   "source": [
    "arg(z3)"
   ]
  },
  {
   "cell_type": "code",
   "execution_count": 14,
   "metadata": {},
   "outputs": [
    {
     "data": {
      "text/latex": [
       "$\\displaystyle e^{- \\frac{i \\pi}{2}}$"
      ],
      "text/plain": [
       "exp_polar(-I*pi/2)"
      ]
     },
     "execution_count": 14,
     "metadata": {},
     "output_type": "execute_result"
    }
   ],
   "source": [
    "polar_lift(-I)"
   ]
  },
  {
   "cell_type": "code",
   "execution_count": 15,
   "metadata": {},
   "outputs": [],
   "source": [
    "z = exp(2*pi/3*I)"
   ]
  },
  {
   "cell_type": "code",
   "execution_count": 16,
   "metadata": {},
   "outputs": [
    {
     "data": {
      "text/latex": [
       "$\\displaystyle - \\frac{1}{2} + \\frac{\\sqrt{3} i}{2}$"
      ],
      "text/plain": [
       "-1/2 + sqrt(3)*I/2"
      ]
     },
     "execution_count": 16,
     "metadata": {},
     "output_type": "execute_result"
    }
   ],
   "source": [
    "z.rewrite(cos)"
   ]
  },
  {
   "cell_type": "markdown",
   "metadata": {},
   "source": [
    "Los números complejos tienen una parte real  $x$ y una parte puramente imaginaria $y$.\n",
    "Las formas euclidiana, polar y trigonométrica de un número complejo $z$ son las siguientes\n",
    "$$\n",
    "z=x+i y=r e^{i \\theta}=r(\\cos \\theta+i \\sin \\theta)\n",
    "$$\n",
    "\n",
    "La segunda igualdad  se conoce como fórmula de Euler"
   ]
  },
  {
   "cell_type": "code",
   "execution_count": 17,
   "metadata": {},
   "outputs": [
    {
     "data": {
      "text/latex": [
       "$\\displaystyle x + i y$"
      ],
      "text/plain": [
       "x + I*y"
      ]
     },
     "execution_count": 17,
     "metadata": {},
     "output_type": "execute_result"
    }
   ],
   "source": [
    "x, y, r, θ  = symbols('x y r θ ',real=True)\n",
    "z= x+I*y\n",
    "z"
   ]
  },
  {
   "cell_type": "code",
   "execution_count": 18,
   "metadata": {},
   "outputs": [
    {
     "data": {
      "text/latex": [
       "$\\displaystyle r e^{i θ}$"
      ],
      "text/plain": [
       "r*exp(I*θ)"
      ]
     },
     "execution_count": 18,
     "metadata": {},
     "output_type": "execute_result"
    }
   ],
   "source": [
    "z=r*exp(I*θ)\n",
    "z"
   ]
  },
  {
   "cell_type": "code",
   "execution_count": 19,
   "metadata": {},
   "outputs": [
    {
     "data": {
      "text/latex": [
       "$\\displaystyle r \\left(i \\sin{\\left(θ \\right)} + \\cos{\\left(θ \\right)}\\right)$"
      ],
      "text/plain": [
       "r*(I*sin(θ) + cos(θ))"
      ]
     },
     "execution_count": 19,
     "metadata": {},
     "output_type": "execute_result"
    }
   ],
   "source": [
    "z.rewrite(cos)"
   ]
  },
  {
   "cell_type": "markdown",
   "metadata": {},
   "source": [
    "El modulo de $z$"
   ]
  },
  {
   "cell_type": "code",
   "execution_count": 20,
   "metadata": {},
   "outputs": [
    {
     "data": {
      "text/latex": [
       "$\\displaystyle \\left|{r}\\right|$"
      ],
      "text/plain": [
       "Abs(r)"
      ]
     },
     "execution_count": 20,
     "metadata": {},
     "output_type": "execute_result"
    }
   ],
   "source": [
    "sqrt(z*conjugate(z).factor())"
   ]
  },
  {
   "cell_type": "markdown",
   "metadata": {},
   "source": [
    "2. Para una función, digamos $\\tan(x+iy)$,  la podemos escribir como exponenciales o funciones senos y cosenos."
   ]
  },
  {
   "cell_type": "code",
   "execution_count": 21,
   "metadata": {},
   "outputs": [],
   "source": [
    "x, y = symbols('x y')\n",
    "z= tan(x+I*y)"
   ]
  },
  {
   "cell_type": "code",
   "execution_count": 22,
   "metadata": {},
   "outputs": [
    {
     "data": {
      "text/latex": [
       "$\\displaystyle \\frac{i \\left(e^{y} e^{- i x} - e^{- y} e^{i x}\\right)}{e^{y} e^{- i x} + e^{- y} e^{i x}}$"
      ],
      "text/plain": [
       "I*(exp(y)*exp(-I*x) - exp(-y)*exp(I*x))/(exp(y)*exp(-I*x) + exp(-y)*exp(I*x))"
      ]
     },
     "execution_count": 22,
     "metadata": {},
     "output_type": "execute_result"
    }
   ],
   "source": [
    "z2= z.rewrite(exp).factor()\n",
    "z2"
   ]
  },
  {
   "cell_type": "code",
   "execution_count": 23,
   "metadata": {},
   "outputs": [
    {
     "data": {
      "text/latex": [
       "$\\displaystyle \\frac{i \\left(- i \\sin{\\left(x \\right)} \\cosh{\\left(y \\right)} + \\cos{\\left(x \\right)} \\sinh{\\left(y \\right)}\\right)}{- i \\sin{\\left(x \\right)} \\sinh{\\left(y \\right)} + \\cos{\\left(x \\right)} \\cosh{\\left(y \\right)}}$"
      ],
      "text/plain": [
       "I*(-I*sin(x)*cosh(y) + cos(x)*sinh(y))/(-I*sin(x)*sinh(y) + cos(x)*cosh(y))"
      ]
     },
     "execution_count": 23,
     "metadata": {},
     "output_type": "execute_result"
    }
   ],
   "source": [
    "z2.rewrite(cos).factor()"
   ]
  },
  {
   "cell_type": "code",
   "execution_count": 24,
   "metadata": {},
   "outputs": [],
   "source": [
    "z3 = (3+2*I)"
   ]
  },
  {
   "cell_type": "code",
   "execution_count": 25,
   "metadata": {},
   "outputs": [
    {
     "data": {
      "text/latex": [
       "$\\displaystyle \\sqrt{\\left(3 - 2 i\\right) \\left(3 + 2 i\\right)}$"
      ],
      "text/plain": [
       "sqrt((3 - 2*I)*(3 + 2*I))"
      ]
     },
     "execution_count": 25,
     "metadata": {},
     "output_type": "execute_result"
    }
   ],
   "source": [
    "sqrt(conjugate(z3)*z3)"
   ]
  },
  {
   "cell_type": "code",
   "execution_count": 26,
   "metadata": {},
   "outputs": [
    {
     "data": {
      "text/latex": [
       "$\\displaystyle 3.606$"
      ],
      "text/plain": [
       "3.606"
      ]
     },
     "execution_count": 26,
     "metadata": {},
     "output_type": "execute_result"
    }
   ],
   "source": [
    "round(_,3)"
   ]
  },
  {
   "cell_type": "markdown",
   "metadata": {},
   "source": [
    "3. Tomemos dos números complejos, o vectores del plano complejo:"
   ]
  },
  {
   "cell_type": "code",
   "execution_count": 27,
   "metadata": {},
   "outputs": [],
   "source": [
    "a, b, c, d  = symbols('a b c d ',real=True)\n",
    "z=a+b*I\n",
    "w=c+d*I"
   ]
  },
  {
   "cell_type": "markdown",
   "metadata": {},
   "source": [
    "Revisemos la llamada igualdad del paralelogramo: la suma de los cuadrados de las longitudes de los cuatro lados de un paralelogramo, es igual a la suma de los cuadrados de las longitudes de las dos diagonales de éste. Es decir:\n",
    "\n",
    "$$\n",
    "|z+w|^2+|z-w|^2=2\\left( |z|^2 +|w|^2 \\right) \\,.\n",
    "$$ \n",
    "\n",
    "Pero sabemos que $|z|^2=zz^{*}$, y por lo tanto:\n",
    "$$\n",
    "(w+z)(w+z)^{*} +(w-z)(w-z)^{*}= 2\\left( |z|^2 +|w|^2 \\right)\\,.\n",
    "$$\n",
    "\n",
    "Calculemos el lado izquierdo de la ecuación anterior:\n"
   ]
  },
  {
   "cell_type": "code",
   "execution_count": 28,
   "metadata": {},
   "outputs": [
    {
     "data": {
      "text/latex": [
       "$\\displaystyle 2 a^{2} + 2 b^{2} + 2 c^{2} + 2 d^{2}$"
      ],
      "text/plain": [
       "2*a**2 + 2*b**2 + 2*c**2 + 2*d**2"
      ]
     },
     "execution_count": 28,
     "metadata": {},
     "output_type": "execute_result"
    }
   ],
   "source": [
    "((w+z)*conjugate(w+z) + (w-z)*conjugate(w-z)).simplify()"
   ]
  },
  {
   "cell_type": "markdown",
   "metadata": {},
   "source": [
    "Ahora el lado derecho, es decir, la suma de las longitudes al cuadrado de los cuatro lados:\n"
   ]
  },
  {
   "cell_type": "code",
   "execution_count": 29,
   "metadata": {},
   "outputs": [
    {
     "data": {
      "text/latex": [
       "$\\displaystyle 2 a^{2} + 2 b^{2} + 2 c^{2} + 2 d^{2}$"
      ],
      "text/plain": [
       "2*a**2 + 2*b**2 + 2*c**2 + 2*d**2"
      ]
     },
     "execution_count": 29,
     "metadata": {},
     "output_type": "execute_result"
    }
   ],
   "source": [
    "2*(sqrt(conjugate(z)*z)**2 + sqrt(conjugate(w)*w)**2).simplify()"
   ]
  },
  {
   "cell_type": "markdown",
   "metadata": {},
   "source": [
    "4. Para encontrar las raíces de un número complejo, debemos declarar a la variable como compleja. \n"
   ]
  },
  {
   "cell_type": "code",
   "execution_count": 30,
   "metadata": {},
   "outputs": [],
   "source": [
    "z  = symbols('z ',complex=True)"
   ]
  },
  {
   "cell_type": "code",
   "execution_count": 31,
   "metadata": {},
   "outputs": [
    {
     "data": {
      "text/latex": [
       "$\\displaystyle z^{3} = 1$"
      ],
      "text/plain": [
       "Eq(z**3, 1)"
      ]
     },
     "execution_count": 31,
     "metadata": {},
     "output_type": "execute_result"
    }
   ],
   "source": [
    "ec1 =Eq(z**3,1)\n",
    "ec1"
   ]
  },
  {
   "cell_type": "code",
   "execution_count": 32,
   "metadata": {},
   "outputs": [
    {
     "data": {
      "text/plain": [
       "[1, -1/2 - sqrt(3)*I/2, -1/2 + sqrt(3)*I/2]"
      ]
     },
     "execution_count": 32,
     "metadata": {},
     "output_type": "execute_result"
    }
   ],
   "source": [
    "solve(ec1,z)"
   ]
  },
  {
   "cell_type": "markdown",
   "metadata": {},
   "source": [
    "En otro de los ejemplo que discutimos anteriormente teníamos la ecuación:\n",
    "$$\n",
    "z^6-z^5+4z^4-6z^3 +2z^2-8z+8=0 \\,,\n",
    "$$\n",
    "por lo tanto:"
   ]
  },
  {
   "cell_type": "code",
   "execution_count": 33,
   "metadata": {},
   "outputs": [
    {
     "data": {
      "text/latex": [
       "$\\displaystyle z^{6} - z^{5} + 4 z^{4} - 6 z^{3} + 2 z^{2} - 8 z + 8 = 0$"
      ],
      "text/plain": [
       "Eq(z**6 - z**5 + 4*z**4 - 6*z**3 + 2*z**2 - 8*z + 8, 0)"
      ]
     },
     "execution_count": 33,
     "metadata": {},
     "output_type": "execute_result"
    }
   ],
   "source": [
    "ec2 =Eq(z**6-z**5+4*z**4-6*z**3+2*z**2-8*z+8,0)\n",
    "ec2"
   ]
  },
  {
   "cell_type": "code",
   "execution_count": 34,
   "metadata": {},
   "outputs": [
    {
     "data": {
      "text/latex": [
       "$\\displaystyle \\left(z - 1\\right) \\left(z^{2} + 4\\right) \\left(z^{3} - 2\\right) = 0$"
      ],
      "text/plain": [
       "Eq((z - 1)*(z**2 + 4)*(z**3 - 2), 0)"
      ]
     },
     "execution_count": 34,
     "metadata": {},
     "output_type": "execute_result"
    }
   ],
   "source": [
    "factor(ec2)"
   ]
  },
  {
   "cell_type": "code",
   "execution_count": 35,
   "metadata": {},
   "outputs": [
    {
     "data": {
      "text/plain": [
       "[1,\n",
       " 2**(1/3),\n",
       " -2*I,\n",
       " 2*I,\n",
       " -2**(1/3)/2 - 2**(1/3)*sqrt(3)*I/2,\n",
       " -2**(1/3)/2 + 2**(1/3)*sqrt(3)*I/2]"
      ]
     },
     "execution_count": 35,
     "metadata": {},
     "output_type": "execute_result"
    }
   ],
   "source": [
    "sol =solve(ec2,z)\n",
    "sol"
   ]
  },
  {
   "cell_type": "code",
   "execution_count": 36,
   "metadata": {},
   "outputs": [
    {
     "data": {
      "text/plain": [
       "[1.000, 1.260, -2.0*I, 2.0*I, -0.63 - 1.091*I, -0.63 + 1.091*I]"
      ]
     },
     "execution_count": 36,
     "metadata": {},
     "output_type": "execute_result"
    }
   ],
   "source": [
    "solus=[N((simplify(expr)),4) for expr in sol]\n",
    "solus"
   ]
  }
 ],
 "metadata": {
  "colab": {
   "collapsed_sections": [
    "HS5j074Bpqw9",
    "M6k5DaB7AMNL",
    "IZBsDTb4E7U4",
    "Hn31KOmRS9EA",
    "A3ZNaLdqWeG5",
    "5Vs06j5DdIme",
    "ujW8a0HzkNuV"
   ],
   "provenance": [
    {
     "file_id": "1YrOBd8YdJ9P2aPSTRJEnMxLdlqznqh8y",
     "timestamp": 1694038709310
    }
   ]
  },
  "kernelspec": {
   "display_name": "Python 3 (ipykernel)",
   "language": "python",
   "name": "python3"
  },
  "language_info": {
   "codemirror_mode": {
    "name": "ipython",
    "version": 3
   },
   "file_extension": ".py",
   "mimetype": "text/x-python",
   "name": "python",
   "nbconvert_exporter": "python",
   "pygments_lexer": "ipython3",
   "version": "3.11.7"
  }
 },
 "nbformat": 4,
 "nbformat_minor": 1
}

{
 "cells": [
  {
   "cell_type": "markdown",
   "metadata": {
    "id": "aleOVKzP-8kQ"
   },
   "source": [
    "1.  Mostraremos la manera de trabajar con tensores abstractos"
   ]
  },
  {
   "cell_type": "code",
   "execution_count": 1,
   "metadata": {
    "id": "604d4rBS80_Y"
   },
   "outputs": [],
   "source": [
    "import sympy\n",
    "from sympy import *\n",
    "from sympy.vector import *\n",
    "init_printing()"
   ]
  },
  {
   "cell_type": "markdown",
   "metadata": {},
   "source": [
    "Consideremos el siguiente campo escalar en coordenadas cartesianas:\n",
    "$$\n",
    "f=3x^2y+xz^3-yz\\,,\n",
    "$$\n",
    "\n",
    "Los campos escalares y campos vectoriales que varían con la posición  se pueden construir usando \"BaseScalar\" de la manera siguinte"
   ]
  },
  {
   "cell_type": "code",
   "execution_count": 2,
   "metadata": {},
   "outputs": [
    {
     "data": {
      "image/png": "[encoded data removed]",
      "text/latex": [
       "$\\displaystyle 3 \\mathbf{{x}_{R}}^{2} \\mathbf{{y}_{R}} + \\mathbf{{x}_{R}} \\mathbf{{z}_{R}}^{3} - \\mathbf{{y}_{R}} \\mathbf{{z}_{R}}$"
      ],
      "text/plain": [
       "     2              3          \n",
       "3⋅x_R ⋅y_R + x_R⋅z_R  - y_R⋅z_R"
      ]
     },
     "execution_count": 2,
     "metadata": {},
     "output_type": "execute_result"
    }
   ],
   "source": [
    "R = CoordSys3D('R')\n",
    "f = 3*R.x**2*R.y+R.x*R.z**3-R.y*R.z\n",
    "f"
   ]
  },
  {
   "cell_type": "markdown",
   "metadata": {},
   "source": [
    "El operador \"Del()\" puede funcionar de la manera siguiente"
   ]
  },
  {
   "cell_type": "code",
   "execution_count": 3,
   "metadata": {},
   "outputs": [
    {
     "data": {
      "image/png": "[encoded data removed]",
      "text/latex": [
       "$\\displaystyle \\left(\\frac{\\partial}{\\partial \\mathbf{{x}_{R}}} \\left(3 \\mathbf{{x}_{R}}^{2} \\mathbf{{y}_{R}} + \\mathbf{{x}_{R}} \\mathbf{{z}_{R}}^{3} - \\mathbf{{y}_{R}} \\mathbf{{z}_{R}}\\right)\\right)\\mathbf{\\hat{i}_{R}} + \\left(\\frac{\\partial}{\\partial \\mathbf{{y}_{R}}} \\left(3 \\mathbf{{x}_{R}}^{2} \\mathbf{{y}_{R}} + \\mathbf{{x}_{R}} \\mathbf{{z}_{R}}^{3} - \\mathbf{{y}_{R}} \\mathbf{{z}_{R}}\\right)\\right)\\mathbf{\\hat{j}_{R}} + \\left(\\frac{\\partial}{\\partial \\mathbf{{z}_{R}}} \\left(3 \\mathbf{{x}_{R}}^{2} \\mathbf{{y}_{R}} + \\mathbf{{x}_{R}} \\mathbf{{z}_{R}}^{3} - \\mathbf{{y}_{R}} \\mathbf{{z}_{R}}\\right)\\right)\\mathbf{\\hat{k}_{R}}$"
      ],
      "text/plain": [
       "⎛ ∂  ⎛     2              3          ⎞⎞       ⎛ ∂  ⎛     2              3     \n",
       "⎜────⎝3⋅x_R ⋅y_R + x_R⋅z_R  - y_R⋅z_R⎠⎟ i_R + ⎜────⎝3⋅x_R ⋅y_R + x_R⋅z_R  - y_\n",
       "⎝∂x_R                                 ⎠       ⎝∂y_R                           \n",
       "\n",
       "     ⎞⎞       ⎛ ∂  ⎛     2              3          ⎞⎞    \n",
       "R⋅z_R⎠⎟ j_R + ⎜────⎝3⋅x_R ⋅y_R + x_R⋅z_R  - y_R⋅z_R⎠⎟ k_R\n",
       "      ⎠       ⎝∂z_R                                 ⎠    "
      ]
     },
     "execution_count": 3,
     "metadata": {},
     "output_type": "execute_result"
    }
   ],
   "source": [
    "delop = Del()\n",
    "gradient_field = delop(f)\n",
    "gradient_field"
   ]
  },
  {
   "cell_type": "markdown",
   "metadata": {},
   "source": [
    "Con \".doit()\" se ejecuta el cálculo que se había dejado indicado."
   ]
  },
  {
   "cell_type": "code",
   "execution_count": 4,
   "metadata": {},
   "outputs": [
    {
     "data": {
      "image/png": "[encoded data removed]",
      "text/latex": [
       "$\\displaystyle \\left(6 \\mathbf{{x}_{R}} \\mathbf{{y}_{R}} + \\mathbf{{z}_{R}}^{3}\\right)\\mathbf{\\hat{i}_{R}} + \\left(3 \\mathbf{{x}_{R}}^{2} - \\mathbf{{z}_{R}}\\right)\\mathbf{\\hat{j}_{R}} + \\left(3 \\mathbf{{x}_{R}} \\mathbf{{z}_{R}}^{2} - \\mathbf{{y}_{R}}\\right)\\mathbf{\\hat{k}_{R}}$"
      ],
      "text/plain": [
       "⎛               3⎞        ⎛     2      ⎞        ⎛         2      ⎞     \n",
       "⎝6⋅x_R⋅y_R + z_R ⎠ i_R  + ⎝3⋅x_R  - z_R⎠ j_R  + ⎝3⋅x_R⋅z_R  - y_R⎠ k_R "
      ]
     },
     "execution_count": 4,
     "metadata": {},
     "output_type": "execute_result"
    }
   ],
   "source": [
    "gradient_field.doit()"
   ]
  },
  {
   "cell_type": "markdown",
   "metadata": {},
   "source": [
    "O utilizar  directamnte:"
   ]
  },
  {
   "cell_type": "code",
   "execution_count": 5,
   "metadata": {},
   "outputs": [
    {
     "data": {
      "image/png": "[encoded data removed]",
      "text/latex": [
       "$\\displaystyle \\left(6 \\mathbf{{x}_{R}} \\mathbf{{y}_{R}} + \\mathbf{{z}_{R}}^{3}\\right)\\mathbf{\\hat{i}_{R}} + \\left(3 \\mathbf{{x}_{R}}^{2} - \\mathbf{{z}_{R}}\\right)\\mathbf{\\hat{j}_{R}} + \\left(3 \\mathbf{{x}_{R}} \\mathbf{{z}_{R}}^{2} - \\mathbf{{y}_{R}}\\right)\\mathbf{\\hat{k}_{R}}$"
      ],
      "text/plain": [
       "⎛               3⎞        ⎛     2      ⎞        ⎛         2      ⎞     \n",
       "⎝6⋅x_R⋅y_R + z_R ⎠ i_R  + ⎝3⋅x_R  - z_R⎠ j_R  + ⎝3⋅x_R⋅z_R  - y_R⎠ k_R "
      ]
     },
     "execution_count": 5,
     "metadata": {},
     "output_type": "execute_result"
    }
   ],
   "source": [
    "gradient(f)"
   ]
  },
  {
   "cell_type": "markdown",
   "metadata": {},
   "source": [
    "el rotor de lo anterior es:"
   ]
  },
  {
   "cell_type": "code",
   "execution_count": 6,
   "metadata": {},
   "outputs": [
    {
     "data": {
      "image/png": "[encoded data removed]",
      "text/latex": [
       "$\\displaystyle \\mathbf{\\hat{0}}$"
      ],
      "text/plain": [
       "0"
      ]
     },
     "execution_count": 6,
     "metadata": {},
     "output_type": "execute_result"
    }
   ],
   "source": [
    "curl(_)"
   ]
  },
  {
   "cell_type": "markdown",
   "metadata": {},
   "source": [
    "Esto significa que el gradiente de la función $f$ es un campo irrotacional.\n",
    "\n",
    "Para el laplaciano de $f$ podemos hacer"
   ]
  },
  {
   "cell_type": "code",
   "execution_count": 7,
   "metadata": {},
   "outputs": [
    {
     "data": {
      "image/png": "[encoded data removed]",
      "text/latex": [
       "$\\displaystyle 6 \\mathbf{{x}_{R}} \\mathbf{{z}_{R}} + 6 \\mathbf{{y}_{R}}$"
      ],
      "text/plain": [
       "6⋅x_R⋅z_R + 6⋅y_R"
      ]
     },
     "execution_count": 7,
     "metadata": {},
     "output_type": "execute_result"
    }
   ],
   "source": [
    "divergence(gradient(f))"
   ]
  },
  {
   "cell_type": "markdown",
   "metadata": {},
   "source": [
    "Si queremos calcular el laplaciano del siguiente campo escalar\n",
    "$$\n",
    "f=r \\cos^2(\\varphi)\\,\\cos(\\theta) \\, \\mathrm{sen}^2(\\theta)\\,,\n",
    "$$\n",
    "en coordenadas esféricas.\n",
    "\n",
    "Podemos definir el sistema de coordenas de la manera siguiente:"
   ]
  },
  {
   "cell_type": "code",
   "execution_count": 8,
   "metadata": {},
   "outputs": [
    {
     "data": {
      "image/png": "[encoded data removed]",
      "text/latex": [
       "$\\displaystyle \\operatorname{CoordSys3D}\\left(s, spherical\\right)$"
      ],
      "text/plain": [
       "s"
      ]
     },
     "execution_count": 8,
     "metadata": {},
     "output_type": "execute_result"
    }
   ],
   "source": [
    "s = CoordSys3D('s', transformation='spherical', variable_names=(\"r\", \"theta\", \"phi\"))\n",
    "s"
   ]
  },
  {
   "cell_type": "code",
   "execution_count": 9,
   "metadata": {},
   "outputs": [
    {
     "name": "stdout",
     "output_type": "stream",
     "text": [
      "(s.r, s.theta, s.phi)\n"
     ]
    }
   ],
   "source": [
    "print(s.base_scalars())"
   ]
  },
  {
   "cell_type": "markdown",
   "metadata": {},
   "source": [
    "Primero escribimos el campo escalar"
   ]
  },
  {
   "cell_type": "code",
   "execution_count": 10,
   "metadata": {},
   "outputs": [
    {
     "data": {
      "image/png": "[encoded data removed]",
      "text/latex": [
       "$\\displaystyle \\mathbf{{r}_{s}} \\sin^{2}{\\left(\\mathbf{{theta}_{s}} \\right)} \\cos^{2}{\\left(\\mathbf{{phi}_{s}} \\right)} \\cos{\\left(\\mathbf{{theta}_{s}} \\right)}$"
      ],
      "text/plain": [
       "       2             2                    \n",
       "r_s⋅sin (theta_s)⋅cos (phi_s)⋅cos(theta_s)"
      ]
     },
     "execution_count": 10,
     "metadata": {},
     "output_type": "execute_result"
    }
   ],
   "source": [
    "f= s.r*cos(s.phi)**2*cos(s.theta)*sin(s.theta)**2\n",
    "f"
   ]
  },
  {
   "cell_type": "markdown",
   "metadata": {},
   "source": [
    "Luego claculamos el gradiente:"
   ]
  },
  {
   "cell_type": "code",
   "execution_count": 11,
   "metadata": {},
   "outputs": [
    {
     "data": {
      "image/png": "[encoded data removed]",
      "text/latex": [
       "$\\displaystyle \\left(\\sin^{2}{\\left(\\mathbf{{theta}_{s}} \\right)} \\cos^{2}{\\left(\\mathbf{{phi}_{s}} \\right)} \\cos{\\left(\\mathbf{{theta}_{s}} \\right)}\\right)\\mathbf{\\hat{i}_{s}} + \\left(\\left(2 - 3 \\sin^{2}{\\left(\\mathbf{{theta}_{s}} \\right)}\\right) \\sin{\\left(\\mathbf{{theta}_{s}} \\right)} \\cos^{2}{\\left(\\mathbf{{phi}_{s}} \\right)}\\right)\\mathbf{\\hat{j}_{s}} + \\left(- \\frac{\\cos{\\left(2 \\mathbf{{phi}_{s}} - 2 \\mathbf{{theta}_{s}} \\right)}}{4} + \\frac{\\cos{\\left(2 \\mathbf{{phi}_{s}} + 2 \\mathbf{{theta}_{s}} \\right)}}{4}\\right)\\mathbf{\\hat{k}_{s}}$"
      ],
      "text/plain": [
       "⎛   2             2                    ⎞     ⎛⎛         2         ⎞           \n",
       "⎝sin (theta_s)⋅cos (ph)⋅cos(theta_s)⎠ i_s  + ⎝⎝2 - 3⋅sin (theta_s)⎠⋅sin(theta_\n",
       "                                                                              \n",
       "\n",
       "      2       ⎞        ⎛  cos(2⋅phi_s - 2⋅theta_s)   cos(2⋅phi_s + 2⋅theta_s)⎞\n",
       "s)⋅cos (phi_s)⎠ j_s  + ⎜- ──────────────────────── + ────────────────────────⎟\n",
       "                       ⎝             4                          4            ⎠\n",
       "\n",
       "    \n",
       " k_s\n",
       "    "
      ]
     },
     "execution_count": 11,
     "metadata": {},
     "output_type": "execute_result"
    }
   ],
   "source": [
    "gradient(f).simplify()"
   ]
  },
  {
   "cell_type": "markdown",
   "metadata": {},
   "source": [
    "La divergencia del gradiante es el laplaciano:"
   ]
  },
  {
   "cell_type": "code",
   "execution_count": 12,
   "metadata": {},
   "outputs": [
    {
     "data": {
      "image/png": "[encoded data removed]",
      "text/latex": [
       "$\\displaystyle \\frac{2 \\cdot \\left(5 \\sin^{2}{\\left(\\mathbf{{phi}_{s}} \\right)} \\sin^{2}{\\left(\\mathbf{{theta}_{s}} \\right)} - 5 \\sin^{2}{\\left(\\mathbf{{theta}_{s}} \\right)} + 1\\right) \\cos{\\left(\\mathbf{{theta}_{s}} \\right)}}{\\mathbf{{r}_{s}}}$"
      ],
      "text/plain": [
       "  ⎛     2           2                 2             ⎞             \n",
       "2⋅⎝5⋅sin (phi_s)⋅sin (theta_s) - 5⋅sin (theta_s) + 1⎠⋅cos(theta_s)\n",
       "──────────────────────────────────────────────────────────────────\n",
       "                               r_s                                "
      ]
     },
     "execution_count": 12,
     "metadata": {},
     "output_type": "execute_result"
    }
   ],
   "source": [
    "divergence(gradient(f)).simplify()"
   ]
  },
  {
   "cell_type": "markdown",
   "metadata": {},
   "source": [
    "Si queremos demostrar la siguiente identidad:\n",
    "$$\n",
    "{\\boldsymbol \\nabla} \\cdot \\left[ {\\boldsymbol \\nabla}f \\times {\\boldsymbol \\nabla}g \\right]  = 0\n",
    "$$\n",
    "podemos proceder como se muestra a continuación. "
   ]
  },
  {
   "cell_type": "code",
   "execution_count": 13,
   "metadata": {},
   "outputs": [],
   "source": [
    "f, g = symbols('f g', cls=Function)\n",
    "ffield = f(R.x, R.y, R.z)\n",
    "gfield = g(R.x, R.y, R.z)"
   ]
  },
  {
   "cell_type": "code",
   "execution_count": 14,
   "metadata": {},
   "outputs": [
    {
     "data": {
      "image/png": "[encoded data removed]",
      "text/latex": [
       "$\\displaystyle 0$"
      ],
      "text/plain": [
       "0"
      ]
     },
     "execution_count": 14,
     "metadata": {},
     "output_type": "execute_result"
    }
   ],
   "source": [
    "grad_f = gradient(ffield)\n",
    "grad_g = gradient(gfield)\n",
    "divergence(grad_f.cross(grad_g ))"
   ]
  },
  {
   "cell_type": "markdown",
   "metadata": {},
   "source": [
    "También es posible manipular expresiones vectoriales, por ejemplo:\n",
    "$$\n",
    "(\\boldsymbol{\\nabla} \\cdot \\boldsymbol{\\nabla}) \\mathbf{A}=\\boldsymbol{\\nabla}(\\boldsymbol{\\nabla} \\cdot \\mathbf{A})-\\boldsymbol{\\nabla} \\times(\\boldsymbol{\\nabla} \\times \\mathbf{A})\n",
    "$$"
   ]
  },
  {
   "cell_type": "code",
   "execution_count": 15,
   "metadata": {},
   "outputs": [],
   "source": [
    "a1, a2, a3 = symbols('a1 a2 a3', cls=Function)\n",
    "Afield = a1(R.x, R.y, R.z)*R.i + a2(R.x, R.y, R.z)*R.j + a3(R.x, R.y, R.z)*R.k"
   ]
  },
  {
   "cell_type": "code",
   "execution_count": 16,
   "metadata": {},
   "outputs": [
    {
     "data": {
      "image/png": "[encoded data removed]",
      "text/latex": [
       "$\\displaystyle \\left(\\frac{\\partial^{2}}{\\partial \\mathbf{{x}_{R}}^{2}} a_{1}{\\left(\\mathbf{{x}_{R}},\\mathbf{{y}_{R}},\\mathbf{{z}_{R}} \\right)} + \\frac{\\partial^{2}}{\\partial \\mathbf{{y}_{R}}^{2}} a_{1}{\\left(\\mathbf{{x}_{R}},\\mathbf{{y}_{R}},\\mathbf{{z}_{R}} \\right)} + \\frac{\\partial^{2}}{\\partial \\mathbf{{z}_{R}}^{2}} a_{1}{\\left(\\mathbf{{x}_{R}},\\mathbf{{y}_{R}},\\mathbf{{z}_{R}} \\right)}\\right)\\mathbf{\\hat{i}_{R}} + \\left(\\frac{\\partial^{2}}{\\partial \\mathbf{{x}_{R}}^{2}} a_{2}{\\left(\\mathbf{{x}_{R}},\\mathbf{{y}_{R}},\\mathbf{{z}_{R}} \\right)} + \\frac{\\partial^{2}}{\\partial \\mathbf{{y}_{R}}^{2}} a_{2}{\\left(\\mathbf{{x}_{R}},\\mathbf{{y}_{R}},\\mathbf{{z}_{R}} \\right)} + \\frac{\\partial^{2}}{\\partial \\mathbf{{z}_{R}}^{2}} a_{2}{\\left(\\mathbf{{x}_{R}},\\mathbf{{y}_{R}},\\mathbf{{z}_{R}} \\right)}\\right)\\mathbf{\\hat{j}_{R}} + \\left(\\frac{\\partial^{2}}{\\partial \\mathbf{{x}_{R}}^{2}} a_{3}{\\left(\\mathbf{{x}_{R}},\\mathbf{{y}_{R}},\\mathbf{{z}_{R}} \\right)} + \\frac{\\partial^{2}}{\\partial \\mathbf{{y}_{R}}^{2}} a_{3}{\\left(\\mathbf{{x}_{R}},\\mathbf{{y}_{R}},\\mathbf{{z}_{R}} \\right)} + \\frac{\\partial^{2}}{\\partial \\mathbf{{z}_{R}}^{2}} a_{3}{\\left(\\mathbf{{x}_{R}},\\mathbf{{y}_{R}},\\mathbf{{z}_{R}} \\right)}\\right)\\mathbf{\\hat{k}_{R}}$"
      ],
      "text/plain": [
       "⎛   2                          2                          2                   \n",
       "⎜  ∂                          ∂                          ∂                    \n",
       "⎜─────(a₁(x_R, y_R, z_R)) + ─────(a₁(x_R, y_R, z_R)) + ─────(a₁(x_R, y_R, z_R)\n",
       "⎜    2                          2                          2                  \n",
       "⎝∂x_R                       ∂y_R                       ∂z_R                   \n",
       "\n",
       " ⎞       ⎛   2                          2                          2          \n",
       " ⎟ i_R + ⎜  ∂                          ∂                          ∂           \n",
       ")⎟       ⎜─────(a₂(x_R, y_R, z_R)) + ─────(a₂(x_R, y_R, z_R)) + ─────(a₂(x_R, \n",
       " ⎟       ⎜    2                          2                          2         \n",
       " ⎠       ⎝∂x_R                       ∂y_R                       ∂z_R          \n",
       "\n",
       "          ⎞       ⎛   2                          2                          2 \n",
       "          ⎟ j_R + ⎜  ∂                          ∂                          ∂  \n",
       "y_R, z_R))⎟       ⎜─────(a₃(x_R, y_R, z_R)) + ─────(a₃(x_R, y_R, z_R)) + ─────\n",
       "          ⎟       ⎜    2                          2                          2\n",
       "          ⎠       ⎝∂x_R                       ∂y_R                       ∂z_R \n",
       "\n",
       "                   ⎞    \n",
       "                   ⎟ k_R\n",
       "(a₃(x_R, y_R, z_R))⎟    \n",
       "                   ⎟    \n",
       "                   ⎠    "
      ]
     },
     "execution_count": 16,
     "metadata": {},
     "output_type": "execute_result"
    }
   ],
   "source": [
    "gradient(divergence(Afield))- curl(curl(Afield))"
   ]
  },
  {
   "cell_type": "markdown",
   "metadata": {},
   "source": [
    "SymPy contiene un paquete para geometría diferencial donde podemos definir una Variedad y sistemas de coordenadas (parches)"
   ]
  },
  {
   "cell_type": "code",
   "execution_count": 17,
   "metadata": {},
   "outputs": [
    {
     "data": {
      "image/png": "[encoded data removed]",
      "text/latex": [
       "$\\displaystyle \\left( 3, \\  3\\right)$"
      ],
      "text/plain": [
       "(3, 3)"
      ]
     },
     "execution_count": 17,
     "metadata": {},
     "output_type": "execute_result"
    }
   ],
   "source": [
    "from sympy.diffgeom import *\n",
    "m = Manifold('M', 3)\n",
    "p = Patch('P', m)\n",
    "m.dim, p.dim"
   ]
  },
  {
   "cell_type": "markdown",
   "metadata": {},
   "source": [
    "Mostramos aquí dos sistemas de coordenadas, el cartesiano y el esférico:"
   ]
  },
  {
   "cell_type": "code",
   "execution_count": 18,
   "metadata": {},
   "outputs": [],
   "source": [
    "x, y, z = symbols('x y z', real=True)\n",
    "r, θ, ϕ = symbols('r θ ϕ', nonnegative=True)\n",
    "relation_dict = {\n",
    "('car', 'esf'): [(x, y, z), (sqrt(x**2 + y**2+z**2), atan(y/x),atan(sqrt(x**2+y**2)/z))],\n",
    "('esf', 'car'): [(r, θ, ϕ), (r*cos(ϕ)*sin(θ), r*sin(ϕ)*sin(θ),r*cos(θ))]\n",
    "}\n",
    "car = CoordSystem('car', p, (x, y, z), relation_dict)\n",
    "esf = CoordSystem('esf', p, (r, θ, ϕ), relation_dict)"
   ]
  },
  {
   "cell_type": "code",
   "execution_count": 19,
   "metadata": {},
   "outputs": [
    {
     "data": {
      "text/latex": [
       "$\\displaystyle \\left( \\left( \\left( r, \\  θ, \\  ϕ\\right) \\mapsto \\left[\\begin{matrix}r \\sin{\\left(θ \\right)} \\cos{\\left(ϕ \\right)}\\\\r \\sin{\\left(θ \\right)} \\sin{\\left(ϕ \\right)}\\\\r \\cos{\\left(θ \\right)}\\end{matrix}\\right] \\right), \\  \\left( \\left( x, \\  y, \\  z\\right) \\mapsto \\left[\\begin{matrix}\\sqrt{x^{2} + y^{2} + z^{2}}\\\\\\operatorname{atan}{\\left(\\frac{y}{x} \\right)}\\\\\\operatorname{atan}{\\left(\\frac{\\sqrt{x^{2} + y^{2}}}{z} \\right)}\\end{matrix}\\right] \\right)\\right)$"
      ],
      "text/plain": [
       "⎛                                           ⎡   ______________ ⎤⎞\n",
       "⎜                                           ⎢  ╱  2    2    2  ⎥⎟\n",
       "⎜                                           ⎢╲╱  x  + y  + z   ⎥⎟\n",
       "⎜                                           ⎢                  ⎥⎟\n",
       "⎜            ⎡r⋅sin(θ)⋅cos(ϕ)⎤              ⎢         ⎛y⎞      ⎥⎟\n",
       "⎜            ⎢               ⎥              ⎢     atan⎜─⎟      ⎥⎟\n",
       "⎜(r, θ, ϕ) ↦ ⎢r⋅sin(θ)⋅sin(ϕ)⎥, (x, y, z) ↦ ⎢         ⎝x⎠      ⎥⎟\n",
       "⎜            ⎢               ⎥              ⎢                  ⎥⎟\n",
       "⎜            ⎣   r⋅cos(θ)    ⎦              ⎢    ⎛   _________⎞⎥⎟\n",
       "⎜                                           ⎢    ⎜  ╱  2    2 ⎟⎥⎟\n",
       "⎜                                           ⎢    ⎜╲╱  x  + y  ⎟⎥⎟\n",
       "⎜                                           ⎢atan⎜────────────⎟⎥⎟\n",
       "⎝                                           ⎣    ⎝     z      ⎠⎦⎠"
      ]
     },
     "execution_count": 19,
     "metadata": {},
     "output_type": "execute_result"
    }
   ],
   "source": [
    "esf.transformation(car) , car.transformation(esf)"
   ]
  },
  {
   "cell_type": "markdown",
   "metadata": {
    "id": "oLNHFfRNpqxC"
   },
   "source": [
    "Consideremos la siguiente transformación de coordenadas esféricas a cartesianas:"
   ]
  },
  {
   "cell_type": "code",
   "execution_count": 20,
   "metadata": {},
   "outputs": [
    {
     "data": {
      "text/latex": [
       "$\\displaystyle \\left[\\begin{matrix}\\sin{\\left(θ \\right)} \\cos{\\left(ϕ \\right)} & r \\cos{\\left(θ \\right)} \\cos{\\left(ϕ \\right)} & - r \\sin{\\left(θ \\right)} \\sin{\\left(ϕ \\right)}\\\\\\sin{\\left(θ \\right)} \\sin{\\left(ϕ \\right)} & r \\sin{\\left(ϕ \\right)} \\cos{\\left(θ \\right)} & r \\sin{\\left(θ \\right)} \\cos{\\left(ϕ \\right)}\\\\\\cos{\\left(θ \\right)} & - r \\sin{\\left(θ \\right)} & 0\\end{matrix}\\right]$"
      ],
      "text/plain": [
       "⎡sin(θ)⋅cos(ϕ)  r⋅cos(θ)⋅cos(ϕ)  -r⋅sin(θ)⋅sin(ϕ)⎤\n",
       "⎢                                                ⎥\n",
       "⎢sin(θ)⋅sin(ϕ)  r⋅sin(ϕ)⋅cos(θ)  r⋅sin(θ)⋅cos(ϕ) ⎥\n",
       "⎢                                                ⎥\n",
       "⎣   cos(θ)         -r⋅sin(θ)            0        ⎦"
      ]
     },
     "execution_count": 20,
     "metadata": {},
     "output_type": "execute_result"
    }
   ],
   "source": [
    "esf.jacobian(car)"
   ]
  },
  {
   "cell_type": "code",
   "execution_count": 21,
   "metadata": {},
   "outputs": [
    {
     "data": {
      "image/png": "[encoded data removed]",
      "text/latex": [
       "$\\displaystyle \\left[\\begin{matrix}0\\\\1\\\\0\\end{matrix}\\right]$"
      ],
      "text/plain": [
       "⎡0⎤\n",
       "⎢ ⎥\n",
       "⎢1⎥\n",
       "⎢ ⎥\n",
       "⎣0⎦"
      ]
     },
     "execution_count": 21,
     "metadata": {},
     "output_type": "execute_result"
    }
   ],
   "source": [
    "p = esf.point([1, pi/2, pi/2])\n",
    "car.point_to_coords(p)"
   ]
  },
  {
   "cell_type": "markdown",
   "metadata": {},
   "source": [
    "SymPy tiene sus coordenadas R^n ya predefinadas  así como las leyes de transformación entre ellos.\n",
    "\n",
    "Se puede acceder a las funciones de coordenadas como atributos de la variedad (por ejemplo, \"R2.x\"),\n",
    "como atributos de los sistemas de coordenadas (por ejemplo, \"R2_r.x\" y \"R2_p.theta\"), o  usando la interfaz habitual \"coord_sys.coord_function(index, name)\"."
   ]
  },
  {
   "cell_type": "markdown",
   "metadata": {},
   "source": [
    "Por ejemplo \"R3_r\" se refiere a coordenadas cartesianas,  \"R3_s\" a coordenadas esféricas y \"R3_c\" a coordenadas cilíndricas."
   ]
  },
  {
   "cell_type": "code",
   "execution_count": 22,
   "metadata": {},
   "outputs": [
    {
     "data": {
      "image/png": "[encoded data removed]",
      "text/latex": [
       "$\\displaystyle \\left[\\begin{matrix}\\sin{\\left(\\theta \\right)} \\cos{\\left(\\phi \\right)} & r \\cos{\\left(\\phi \\right)} \\cos{\\left(\\theta \\right)} & - r \\sin{\\left(\\phi \\right)} \\sin{\\left(\\theta \\right)}\\\\\\sin{\\left(\\phi \\right)} \\sin{\\left(\\theta \\right)} & r \\sin{\\left(\\phi \\right)} \\cos{\\left(\\theta \\right)} & r \\sin{\\left(\\theta \\right)} \\cos{\\left(\\phi \\right)}\\\\\\cos{\\left(\\theta \\right)} & - r \\sin{\\left(\\theta \\right)} & 0\\end{matrix}\\right]$"
      ],
      "text/plain": [
       "⎡sin(θ)⋅cos(φ)  r⋅cos(φ)⋅cos(θ)  -r⋅sin(φ)⋅sin(θ)⎤\n",
       "⎢                                                ⎥\n",
       "⎢sin(φ)⋅sin(θ)  r⋅sin(φ)⋅cos(θ)  r⋅sin(θ)⋅cos(φ) ⎥\n",
       "⎢                                                ⎥\n",
       "⎣   cos(θ)         -r⋅sin(θ)            0        ⎦"
      ]
     },
     "execution_count": 22,
     "metadata": {},
     "output_type": "execute_result"
    }
   ],
   "source": [
    "from sympy.diffgeom.rn import R3, R3_r, R3_s\n",
    "R3_s.jacobian(R3_r)"
   ]
  },
  {
   "cell_type": "code",
   "execution_count": 23,
   "metadata": {},
   "outputs": [
    {
     "data": {
      "image/png": "[encoded data removed]",
      "text/latex": [
       "$\\displaystyle \\left( \\left[ \\mathbf{x}, \\  \\mathbf{y}, \\  \\mathbf{z}\\right], \\  \\left[ \\partial_{x}, \\  \\partial_{y}, \\  \\partial_{z}\\right], \\  \\left[ \\operatorname{d}x, \\  \\operatorname{d}y, \\  \\operatorname{d}z\\right]\\right)$"
      ],
      "text/plain": [
       "([x, y, z], [∂ₓ, ∂_y, ∂_z], [ⅆ x, ⅆ y, ⅆ z])"
      ]
     },
     "execution_count": 23,
     "metadata": {},
     "output_type": "execute_result"
    }
   ],
   "source": [
    "R3_r.base_scalars(), R3_r.base_vectors(),R3_r.base_oneforms()"
   ]
  },
  {
   "cell_type": "code",
   "execution_count": 24,
   "metadata": {},
   "outputs": [],
   "source": [
    "fx, fy, fz = R3_r.base_scalars()\n",
    "e_x, e_y, e_z = R3_r.base_vectors()\n",
    "dx, dy,dz = R3_r.base_oneforms()"
   ]
  },
  {
   "cell_type": "code",
   "execution_count": 25,
   "metadata": {},
   "outputs": [
    {
     "data": {
      "image/png": "[encoded data removed]",
      "text/latex": [
       "$\\displaystyle \\left( \\left[ \\mathbf{r}, \\  \\mathbf{\\theta}, \\  \\mathbf{\\phi}\\right], \\  \\left[ \\partial_{r}, \\  \\partial_{\\theta}, \\  \\partial_{\\phi}\\right], \\  \\left[ \\operatorname{d}r, \\  \\operatorname{d}\\theta, \\  \\operatorname{d}\\phi\\right]\\right)$"
      ],
      "text/plain": [
       "([r, θ, φ], [∂ᵣ, ∂ₜₕₑₜₐ, ∂ᵩ], [ⅆ r, ⅆ θ, ⅆ φ])"
      ]
     },
     "execution_count": 25,
     "metadata": {},
     "output_type": "execute_result"
    }
   ],
   "source": [
    "R3_s.base_scalars(), R3_s.base_vectors(), R3_s.base_oneforms()"
   ]
  },
  {
   "cell_type": "code",
   "execution_count": 26,
   "metadata": {},
   "outputs": [],
   "source": [
    "fr, ft, fp = R3_r.base_scalars()\n",
    "e_rho, e_theta, e_phi = R3_s.base_vectors()\n",
    "dr, dt,dp = R3_s.base_oneforms()"
   ]
  },
  {
   "cell_type": "markdown",
   "metadata": {},
   "source": [
    "El diferencial $df$ of the 0-forma $f$ se define para cualquier campo vectoral  $v$ como $d f(v)=v(f)$"
   ]
  },
  {
   "cell_type": "code",
   "execution_count": 27,
   "metadata": {},
   "outputs": [
    {
     "data": {
      "image/png": "[encoded data removed]",
      "text/latex": [
       "$\\displaystyle \\operatorname{d}\\left(g{\\left(\\mathbf{x},\\mathbf{y},\\mathbf{z} \\right)}\\right)$"
      ],
      "text/plain": [
       "ⅆ(g(x, y, z))"
      ]
     },
     "execution_count": 27,
     "metadata": {},
     "output_type": "execute_result"
    }
   ],
   "source": [
    "g = Function('g')\n",
    "v_field = g(fx, fy, fz)\n",
    "dg = Differential(v_field)\n",
    "dg"
   ]
  },
  {
   "cell_type": "markdown",
   "metadata": {},
   "source": [
    "El producto tensorial permite la creación de funcionales multilineales (es decir, tensores de orden superior) a partir de campos de orden inferior, por ejemplo, 1-formas y campos vectoriales. Sin embargo, los tensores superiores así creados carecen de las características interesantes que proporciona el otro tipo de producto, el producto en tensorial."
   ]
  },
  {
   "cell_type": "code",
   "execution_count": 28,
   "metadata": {},
   "outputs": [
    {
     "data": {
      "image/png": "[encoded data removed]",
      "text/latex": [
       "$\\displaystyle \\left( 1, \\  0\\right)$"
      ],
      "text/plain": [
       "(1, 0)"
      ]
     },
     "execution_count": 28,
     "metadata": {},
     "output_type": "execute_result"
    }
   ],
   "source": [
    "TensorProduct(dx, dy)(e_x, e_y), TensorProduct(dx, dy)(e_y, e_x)"
   ]
  },
  {
   "cell_type": "code",
   "execution_count": 29,
   "metadata": {},
   "outputs": [
    {
     "data": {
      "image/png": "[encoded data removed]",
      "text/latex": [
       "$\\displaystyle \\left( \\mathbf{x}^{2}, \\  4 \\mathbf{x} \\mathbf{y}\\right)$"
      ],
      "text/plain": [
       "⎛ 2       ⎞\n",
       "⎝x , 4⋅x⋅y⎠"
      ]
     },
     "execution_count": 29,
     "metadata": {},
     "output_type": "execute_result"
    }
   ],
   "source": [
    "TensorProduct(dx, fx*dy)(fx*e_x, e_y), TensorProduct(e_x, e_y)(fx**2, fy**2)"
   ]
  },
  {
   "cell_type": "markdown",
   "metadata": {},
   "source": [
    "La métrica en coordenadas cartesianas:"
   ]
  },
  {
   "cell_type": "code",
   "execution_count": 30,
   "metadata": {},
   "outputs": [
    {
     "data": {
      "image/png": "[encoded data removed]",
      "text/latex": [
       "$\\displaystyle \\operatorname{d}x \\otimes \\operatorname{d}x + \\operatorname{d}y \\otimes \\operatorname{d}y + \\operatorname{d}z \\otimes \\operatorname{d}z$"
      ],
      "text/plain": [
       "ⅆ x⊗ⅆ x + ⅆ y⊗ⅆ y + ⅆ z⊗ⅆ z"
      ]
     },
     "execution_count": 30,
     "metadata": {},
     "output_type": "execute_result"
    }
   ],
   "source": [
    "TP = TensorProduct\n",
    "metric = TP(dx, dx) + TP(dy, dy)+ TP(dz, dz)\n",
    "metric"
   ]
  },
  {
   "cell_type": "code",
   "execution_count": 31,
   "metadata": {},
   "outputs": [
    {
     "data": {
      "image/png": "[encoded data removed]",
      "text/latex": [
       "$\\displaystyle \\operatorname{d}y$"
      ],
      "text/plain": [
       "ⅆ y"
      ]
     },
     "execution_count": 31,
     "metadata": {},
     "output_type": "execute_result"
    }
   ],
   "source": [
    "metric.rcall(e_y)"
   ]
  },
  {
   "cell_type": "markdown",
   "metadata": {},
   "source": [
    "Los símbolos de Christoffel de primer y segundo tipo "
   ]
  },
  {
   "cell_type": "code",
   "execution_count": 32,
   "metadata": {},
   "outputs": [
    {
     "data": {
      "image/png": "[encoded data removed]",
      "text/latex": [
       "$\\displaystyle \\left[\\begin{matrix}\\left[\\begin{matrix}0 & 0 & 0\\\\0 & 0 & 0\\\\0 & 0 & 0\\end{matrix}\\right] & \\left[\\begin{matrix}0 & 0 & 0\\\\0 & 0 & 0\\\\0 & 0 & 0\\end{matrix}\\right] & \\left[\\begin{matrix}0 & 0 & 0\\\\0 & 0 & 0\\\\0 & 0 & 0\\end{matrix}\\right]\\end{matrix}\\right]$"
      ],
      "text/plain": [
       "⎡⎡0  0  0⎤  ⎡0  0  0⎤  ⎡0  0  0⎤⎤\n",
       "⎢⎢       ⎥  ⎢       ⎥  ⎢       ⎥⎥\n",
       "⎢⎢0  0  0⎥  ⎢0  0  0⎥  ⎢0  0  0⎥⎥\n",
       "⎢⎢       ⎥  ⎢       ⎥  ⎢       ⎥⎥\n",
       "⎣⎣0  0  0⎦  ⎣0  0  0⎦  ⎣0  0  0⎦⎦"
      ]
     },
     "execution_count": 32,
     "metadata": {},
     "output_type": "execute_result"
    }
   ],
   "source": [
    "metric_to_Christoffel_1st(metric )"
   ]
  },
  {
   "cell_type": "code",
   "execution_count": 33,
   "metadata": {},
   "outputs": [
    {
     "data": {
      "image/png": "[encoded data removed]",
      "text/latex": [
       "$\\displaystyle \\left[\\begin{matrix}\\left[\\begin{matrix}0 & 0 & 0\\\\0 & 0 & 0\\\\0 & 0 & 0\\end{matrix}\\right] & \\left[\\begin{matrix}0 & 0 & 0\\\\0 & 0 & 0\\\\0 & 0 & 0\\end{matrix}\\right] & \\left[\\begin{matrix}0 & 0 & 0\\\\0 & 0 & 0\\\\0 & 0 & 0\\end{matrix}\\right]\\end{matrix}\\right]$"
      ],
      "text/plain": [
       "⎡⎡0  0  0⎤  ⎡0  0  0⎤  ⎡0  0  0⎤⎤\n",
       "⎢⎢       ⎥  ⎢       ⎥  ⎢       ⎥⎥\n",
       "⎢⎢0  0  0⎥  ⎢0  0  0⎥  ⎢0  0  0⎥⎥\n",
       "⎢⎢       ⎥  ⎢       ⎥  ⎢       ⎥⎥\n",
       "⎣⎣0  0  0⎦  ⎣0  0  0⎦  ⎣0  0  0⎦⎦"
      ]
     },
     "execution_count": 33,
     "metadata": {},
     "output_type": "execute_result"
    }
   ],
   "source": [
    "ch = metric_to_Christoffel_2nd(metric )\n",
    "ch"
   ]
  },
  {
   "cell_type": "markdown",
   "metadata": {},
   "source": [
    "Operador derivada covariante respecto de un vector base:"
   ]
  },
  {
   "cell_type": "code",
   "execution_count": 34,
   "metadata": {},
   "outputs": [
    {
     "data": {
      "image/png": "[encoded data removed]",
      "text/latex": [
       "$\\displaystyle 1$"
      ],
      "text/plain": [
       "1"
      ]
     },
     "execution_count": 34,
     "metadata": {},
     "output_type": "execute_result"
    }
   ],
   "source": [
    "cvd = BaseCovarDerivativeOp(R3_r, 0, ch)\n",
    "cvd(fx)"
   ]
  },
  {
   "cell_type": "code",
   "execution_count": 35,
   "metadata": {},
   "outputs": [
    {
     "data": {
      "image/png": "[encoded data removed]",
      "text/latex": [
       "$\\displaystyle \\partial_{x}$"
      ],
      "text/plain": [
       "∂ₓ"
      ]
     },
     "execution_count": 35,
     "metadata": {},
     "output_type": "execute_result"
    }
   ],
   "source": [
    "cvd(fx*e_x)"
   ]
  },
  {
   "cell_type": "code",
   "execution_count": 36,
   "metadata": {},
   "outputs": [
    {
     "data": {
      "image/png": "[encoded data removed]",
      "text/latex": [
       "$\\displaystyle \\mathbf{x}$"
      ],
      "text/plain": [
       "x"
      ]
     },
     "execution_count": 36,
     "metadata": {},
     "output_type": "execute_result"
    }
   ],
   "source": [
    "cvd = CovarDerivativeOp(fx*e_x, ch)\n",
    "cvd(fx)"
   ]
  },
  {
   "cell_type": "code",
   "execution_count": 37,
   "metadata": {},
   "outputs": [
    {
     "data": {
      "image/png": "[encoded data removed]",
      "text/latex": [
       "$\\displaystyle \\mathbf{x} \\partial_{x}$"
      ],
      "text/plain": [
       "x⋅∂ₓ"
      ]
     },
     "execution_count": 37,
     "metadata": {},
     "output_type": "execute_result"
    }
   ],
   "source": [
    "cvd(fx*e_x)"
   ]
  },
  {
   "cell_type": "markdown",
   "metadata": {},
   "source": [
    "El tensor métrico en coordenadas esféricas "
   ]
  },
  {
   "cell_type": "code",
   "execution_count": 38,
   "metadata": {},
   "outputs": [
    {
     "data": {
      "image/png": "[encoded data removed]",
      "text/latex": [
       "$\\displaystyle \\sin^{2}{\\left(\\mathbf{\\theta} \\right)} \\mathbf{r}^{2} \\operatorname{d}\\phi \\otimes \\operatorname{d}\\phi + \\mathbf{r}^{2} \\operatorname{d}\\theta \\otimes \\operatorname{d}\\theta + \\operatorname{d}r \\otimes \\operatorname{d}r$"
      ],
      "text/plain": [
       "   2     2            2                  \n",
       "sin (θ)⋅r ⋅ⅆ φ⊗ⅆ φ + r ⋅ⅆ θ⊗ⅆ θ + ⅆ r⊗ⅆ r"
      ]
     },
     "execution_count": 38,
     "metadata": {},
     "output_type": "execute_result"
    }
   ],
   "source": [
    "metric_s=  TP(dr, dr) + R3_s.r**2*TP(dt, dt) + (R3_s.r*sin(R3_s.theta))**2*TP(dp, dp)\n",
    "metric_s"
   ]
  },
  {
   "cell_type": "code",
   "execution_count": 39,
   "metadata": {},
   "outputs": [
    {
     "data": {
      "image/png": "[encoded data removed]",
      "text/latex": [
       "$\\displaystyle \\left[\\begin{matrix}\\left[\\begin{matrix}0 & 0 & 0\\\\0 & - \\mathbf{r} & 0\\\\0 & 0 & - \\sin^{2}{\\left(\\mathbf{\\theta} \\right)} \\mathbf{r}\\end{matrix}\\right] & \\left[\\begin{matrix}0 & \\frac{1}{\\mathbf{r}} & 0\\\\\\frac{1}{\\mathbf{r}} & 0 & 0\\\\0 & 0 & - \\sin{\\left(\\mathbf{\\theta} \\right)} \\cos{\\left(\\mathbf{\\theta} \\right)}\\end{matrix}\\right] & \\left[\\begin{matrix}0 & 0 & \\frac{1}{\\mathbf{r}}\\\\0 & 0 & \\frac{\\cos{\\left(\\mathbf{\\theta} \\right)}}{\\sin{\\left(\\mathbf{\\theta} \\right)}}\\\\\\frac{1}{\\mathbf{r}} & \\frac{\\cos{\\left(\\mathbf{\\theta} \\right)}}{\\sin{\\left(\\mathbf{\\theta} \\right)}} & 0\\end{matrix}\\right]\\end{matrix}\\right]$"
      ],
      "text/plain": [
       "⎡                                             ⎡             1   ⎤⎤\n",
       "⎢                     ⎡   1                ⎤  ⎢0    0       ─   ⎥⎥\n",
       "⎢⎡0  0       0     ⎤  ⎢0  ─        0       ⎥  ⎢             r   ⎥⎥\n",
       "⎢⎢                 ⎥  ⎢   r                ⎥  ⎢                 ⎥⎥\n",
       "⎢⎢0  -r      0     ⎥  ⎢                    ⎥  ⎢           cos(θ)⎥⎥\n",
       "⎢⎢                 ⎥  ⎢1                   ⎥  ⎢0    0     ──────⎥⎥\n",
       "⎢⎢           2     ⎥  ⎢─  0        0       ⎥  ⎢           sin(θ)⎥⎥\n",
       "⎢⎣0  0   -sin (θ)⋅r⎦  ⎢r                   ⎥  ⎢                 ⎥⎥\n",
       "⎢                     ⎢                    ⎥  ⎢1  cos(θ)        ⎥⎥\n",
       "⎢                     ⎣0  0  -sin(θ)⋅cos(θ)⎦  ⎢─  ──────    0   ⎥⎥\n",
       "⎣                                             ⎣r  sin(θ)        ⎦⎦"
      ]
     },
     "execution_count": 39,
     "metadata": {},
     "output_type": "execute_result"
    }
   ],
   "source": [
    "ch = metric_to_Christoffel_2nd(metric_s)\n",
    "ch"
   ]
  },
  {
   "cell_type": "code",
   "execution_count": 40,
   "metadata": {},
   "outputs": [
    {
     "data": {
      "image/png": "[encoded data removed]",
      "text/latex": [
       "$\\displaystyle \\left( - \\mathbf{r}, \\  - \\sin^{2}{\\left(\\mathbf{\\theta} \\right)} \\mathbf{r}\\right)$"
      ],
      "text/plain": [
       "⎛        2     ⎞\n",
       "⎝-r, -sin (θ)⋅r⎠"
      ]
     },
     "execution_count": 40,
     "metadata": {},
     "output_type": "execute_result"
    }
   ],
   "source": [
    "metric_to_Christoffel_2nd(metric_s)[0, 1, 1], metric_to_Christoffel_2nd(metric_s)[0, 2, 2]"
   ]
  },
  {
   "cell_type": "code",
   "execution_count": 41,
   "metadata": {},
   "outputs": [
    {
     "data": {
      "image/png": "[encoded data removed]",
      "text/latex": [
       "$\\displaystyle \\left( \\frac{1}{\\mathbf{r}}, \\  - \\sin{\\left(\\mathbf{\\theta} \\right)} \\cos{\\left(\\mathbf{\\theta} \\right)}\\right)$"
      ],
      "text/plain": [
       "⎛1                ⎞\n",
       "⎜─, -sin(θ)⋅cos(θ)⎟\n",
       "⎝r                ⎠"
      ]
     },
     "execution_count": 41,
     "metadata": {},
     "output_type": "execute_result"
    }
   ],
   "source": [
    "metric_to_Christoffel_2nd(metric_s)[1, 1, 0], metric_to_Christoffel_2nd(metric_s)[1, 2, 2] "
   ]
  },
  {
   "cell_type": "code",
   "execution_count": 42,
   "metadata": {},
   "outputs": [
    {
     "data": {
      "image/png": "[encoded data removed]",
      "text/latex": [
       "$\\displaystyle \\left( \\frac{1}{\\mathbf{r}}, \\  \\frac{\\cos{\\left(\\mathbf{\\theta} \\right)}}{\\sin{\\left(\\mathbf{\\theta} \\right)}}\\right)$"
      ],
      "text/plain": [
       "⎛1  cos(θ)⎞\n",
       "⎜─, ──────⎟\n",
       "⎝r  sin(θ)⎠"
      ]
     },
     "execution_count": 42,
     "metadata": {},
     "output_type": "execute_result"
    }
   ],
   "source": [
    "metric_to_Christoffel_2nd(metric_s)[2, 2, 0], metric_to_Christoffel_2nd(metric_s)[2, 2, 1] "
   ]
  }
 ],
 "metadata": {
  "colab": {
   "collapsed_sections": [
    "HS5j074Bpqw9",
    "M6k5DaB7AMNL",
    "IZBsDTb4E7U4",
    "Hn31KOmRS9EA",
    "A3ZNaLdqWeG5",
    "5Vs06j5DdIme",
    "ujW8a0HzkNuV"
   ],
   "provenance": [
    {
     "file_id": "1YrOBd8YdJ9P2aPSTRJEnMxLdlqznqh8y",
     "timestamp": 1694038709310
    }
   ]
  },
  "kernelspec": {
   "display_name": "Python 3 (ipykernel)",
   "language": "python",
   "name": "python3"
  },
  "language_info": {
   "codemirror_mode": {
    "name": "ipython",
    "version": 3
   },
   "file_extension": ".py",
   "mimetype": "text/x-python",
   "name": "python",
   "nbconvert_exporter": "python",
   "pygments_lexer": "ipython3",
   "version": "3.11.7"
  }
 },
 "nbformat": 4,
 "nbformat_minor": 1
}

{
 "cells": [
  {
   "cell_type": "markdown",
   "metadata": {
    "id": "aleOVKzP-8kQ"
   },
   "source": [
    "Los métodos de integración básicamente consisten en el cálculo de la primitiva y el cálculo de integrales definidas en el intervalo $(a,b)$. \n",
    "\n",
    "Veamos algunos ejemplos."
   ]
  },
  {
   "cell_type": "code",
   "execution_count": 1,
   "metadata": {
    "id": "604d4rBS80_Y"
   },
   "outputs": [],
   "source": [
    "import sympy\n",
    "from sympy import *\n",
    "from sympy.vector import *\n",
    "init_printing()"
   ]
  },
  {
   "cell_type": "markdown",
   "metadata": {},
   "source": [
    "1. Integrales directas"
   ]
  },
  {
   "cell_type": "code",
   "execution_count": 2,
   "metadata": {},
   "outputs": [
    {
     "data": {
      "image/png": "[encoded data removed]",
      "text/latex": [
       "$\\displaystyle \\frac{1}{\\left(x^{2} + 1\\right)^{3}}$"
      ],
      "text/plain": [
       "    1    \n",
       "─────────\n",
       "        3\n",
       "⎛ 2    ⎞ \n",
       "⎝x  + 1⎠ "
      ]
     },
     "execution_count": 2,
     "metadata": {},
     "output_type": "execute_result"
    }
   ],
   "source": [
    "x = symbols('x')\n",
    "f=1/(1+x**2)**3\n",
    "f"
   ]
  },
  {
   "cell_type": "code",
   "execution_count": 3,
   "metadata": {},
   "outputs": [
    {
     "data": {
      "image/png": "[encoded data removed]",
      "text/latex": [
       "$\\displaystyle \\int \\frac{1}{\\left(x^{2} + 1\\right)^{3}}\\, dx = \\frac{3 x^{3} + 5 x}{8 x^{4} + 16 x^{2} + 8} + \\frac{3 \\operatorname{atan}{\\left(x \\right)}}{8}$"
      ],
      "text/plain": [
       "⌠                      3                     \n",
       "⎮     1             3⋅x  + 5⋅x      3⋅atan(x)\n",
       "⎮ ───────── dx = ──────────────── + ─────────\n",
       "⎮         3         4       2           8    \n",
       "⎮ ⎛ 2    ⎞       8⋅x  + 16⋅x  + 8            \n",
       "⎮ ⎝x  + 1⎠                                   \n",
       "⌡                                            "
      ]
     },
     "execution_count": 3,
     "metadata": {},
     "output_type": "execute_result"
    }
   ],
   "source": [
    "Eq(Integral(f,x),integrate(f,x))"
   ]
  },
  {
   "cell_type": "code",
   "execution_count": 4,
   "metadata": {},
   "outputs": [
    {
     "data": {
      "image/png": "[encoded data removed]",
      "text/latex": [
       "$\\displaystyle \\int\\limits_{0}^{1} \\frac{1}{\\left(x^{2} + 1\\right)^{3}}\\, dx = \\frac{1}{4} + \\frac{3 \\pi}{32}$"
      ],
      "text/plain": [
       "1                       \n",
       "⌠                       \n",
       "⎮     1          1   3⋅π\n",
       "⎮ ───────── dx = ─ + ───\n",
       "⎮         3      4    32\n",
       "⎮ ⎛ 2    ⎞              \n",
       "⎮ ⎝x  + 1⎠              \n",
       "⌡                       \n",
       "0                       "
      ]
     },
     "execution_count": 4,
     "metadata": {},
     "output_type": "execute_result"
    }
   ],
   "source": [
    "Eq(Integral(f,[x,0,1]),integrate(f,[x,0,1]))"
   ]
  },
  {
   "cell_type": "markdown",
   "metadata": {},
   "source": [
    "Podemos hacer un cambio de variable"
   ]
  },
  {
   "cell_type": "code",
   "execution_count": 5,
   "metadata": {},
   "outputs": [
    {
     "data": {
      "image/png": "[encoded data removed]",
      "text/latex": [
       "$\\displaystyle \\int \\frac{1}{\\left(\\tan^{2}{\\left(θ \\right)} + 1\\right)^{2}}\\, dθ = \\frac{3 θ}{8} + \\frac{\\sin{\\left(2 θ \\right)}}{4} + \\frac{\\sin{\\left(4 θ \\right)}}{32}$"
      ],
      "text/plain": [
       "⌠                                              \n",
       "⎮       1             3⋅θ   sin(2⋅θ)   sin(4⋅θ)\n",
       "⎮ ────────────── dθ = ─── + ──────── + ────────\n",
       "⎮              2       8       4          32   \n",
       "⎮ ⎛   2       ⎞                                \n",
       "⎮ ⎝tan (θ) + 1⎠                                \n",
       "⌡                                              "
      ]
     },
     "execution_count": 5,
     "metadata": {},
     "output_type": "execute_result"
    }
   ],
   "source": [
    "θ = symbols('θ')\n",
    "f_s = f.subs(x, tan(θ))\n",
    "dx_s = diff(tan(θ), θ)\n",
    "f_n = f_s*dx_s\n",
    "Eq(Integral(f_n,θ),integrate(f_n,θ).simplify())"
   ]
  },
  {
   "cell_type": "markdown",
   "metadata": {},
   "source": [
    "Otro ejemplo"
   ]
  },
  {
   "cell_type": "code",
   "execution_count": 6,
   "metadata": {},
   "outputs": [
    {
     "data": {
      "image/png": "[encoded data removed]",
      "text/latex": [
       "$\\displaystyle \\int \\cos^{3}{\\left(x \\right)}\\, dx = - \\frac{\\sin^{3}{\\left(x \\right)}}{3} + \\sin{\\left(x \\right)}$"
      ],
      "text/plain": [
       "⌠                   3            \n",
       "⎮    3           sin (x)         \n",
       "⎮ cos (x) dx = - ─────── + sin(x)\n",
       "⌡                   3            "
      ]
     },
     "execution_count": 6,
     "metadata": {},
     "output_type": "execute_result"
    }
   ],
   "source": [
    "f=cos(x)**3\n",
    "Eq(Integral(f,x),integrate(f,x).simplify())"
   ]
  },
  {
   "cell_type": "code",
   "execution_count": 7,
   "metadata": {},
   "outputs": [
    {
     "data": {
      "image/png": "[encoded data removed]",
      "text/latex": [
       "$\\displaystyle \\int \\left(1 - t^{2}\\right)\\, dt = - \\frac{t^{3}}{3} + t$"
      ],
      "text/plain": [
       "⌠                  3    \n",
       "⎮ ⎛     2⎞        t     \n",
       "⎮ ⎝1 - t ⎠ dt = - ── + t\n",
       "⌡                 3     "
      ]
     },
     "execution_count": 7,
     "metadata": {},
     "output_type": "execute_result"
    }
   ],
   "source": [
    "t = symbols('t')\n",
    "f_s = f.subs(x, asin(t))\n",
    "dx_s = diff(asin(t), t)\n",
    "f_n = f_s*dx_s\n",
    "Eq(Integral(f_n,t),integrate(f_n,t).simplify())"
   ]
  },
  {
   "cell_type": "markdown",
   "metadata": {},
   "source": [
    "2. Puede suceder que al integrar una función, por ejemplo "
   ]
  },
  {
   "cell_type": "code",
   "execution_count": 8,
   "metadata": {},
   "outputs": [
    {
     "data": {
      "image/png": "[encoded data removed]",
      "text/latex": [
       "$\\displaystyle e^{x^{3} + 2 x}$"
      ],
      "text/plain": [
       "  3      \n",
       " x  + 2⋅x\n",
       "ℯ        "
      ]
     },
     "execution_count": 8,
     "metadata": {},
     "output_type": "execute_result"
    }
   ],
   "source": [
    "def f(x):\n",
    "   return exp(x**3+2*x)\n",
    "f(x)"
   ]
  },
  {
   "cell_type": "code",
   "execution_count": 9,
   "metadata": {},
   "outputs": [
    {
     "data": {
      "image/png": "[encoded data removed]",
      "text/latex": [
       "$\\displaystyle \\int\\limits_{0}^{1} e^{x^{3} + 2 x}\\, dx = \\int\\limits_{0}^{1} e^{2 x} e^{x^{3}}\\, dx$"
      ],
      "text/plain": [
       "1                1              \n",
       "⌠                ⌠              \n",
       "⎮   3            ⎮       ⎛ 3⎞   \n",
       "⎮  x  + 2⋅x      ⎮  2⋅x  ⎝x ⎠   \n",
       "⎮ ℯ         dx = ⎮ ℯ   ⋅ℯ     dx\n",
       "⌡                ⌡              \n",
       "0                0              "
      ]
     },
     "execution_count": 9,
     "metadata": {},
     "output_type": "execute_result"
    }
   ],
   "source": [
    "Eq(Integral(f(x),[x,0,1]),integrate(f(x),[x,0,1]))"
   ]
  },
  {
   "cell_type": "markdown",
   "metadata": {},
   "source": [
    "El programa nos devuelve la integral sin resolver, en este caso SymPy nos está indicando que fue incapaz de realizar el cálculo de manera algebraica. \n",
    "\n",
    "Ahora bien, podemos disponer de rutinas numéricas que nos mostrará una lista con el valor numérico de la integral, el error absoluto estimado de la aproximación. Pero debemos recurrir a un ambiete de cálculo diferente al SymPy, en este caso \"scipy\", más información en: \\url{https://scipy.github.io/devdocs/index.html}"
   ]
  },
  {
   "cell_type": "markdown",
   "metadata": {},
   "source": [
    "La función \"scipy.integrate.quad\" en SciPy  se utiliza para realizar integración numérica de una función a lo largo de un intervalo dado. Utiliza un algoritmo de cuadratura adaptativa para aproximar la integral de la función tomado de la biblioteca QUADPACK de Fortran.  Una vez que se completa la integración, \"quad\" devuelve el valor aproximado de la integral, así como una estimación del error asociado con la aproximación."
   ]
  },
  {
   "cell_type": "code",
   "execution_count": 10,
   "metadata": {},
   "outputs": [
    {
     "data": {
      "image/png": "[encoded data removed]",
      "text/latex": [
       "$\\displaystyle \\left( 5.04206315104267, \\  5.59781460190164 \\cdot 10^{-14}\\right)$"
      ],
      "text/plain": [
       "(5.042063151042671, 5.5978146019016424e-14)"
      ]
     },
     "execution_count": 10,
     "metadata": {},
     "output_type": "execute_result"
    }
   ],
   "source": [
    "from scipy.integrate import quad\n",
    "result_quad, error_quad = quad(lambda x:f(x), 0, 1)\n",
    "result_quad, error_quad"
   ]
  },
  {
   "cell_type": "markdown",
   "metadata": {},
   "source": [
    "La función \"scipy.integrate.romberg\" implementa el método de Romberg para la integración numérica de una función en un intervalo dado. El método de Romberg es un algoritmo de extrapolación que mejora la convergencia de la regla del trapecio al combinar diferentes aproximaciones de la integral. Una vez que se completa la integración  devuelve el valor aproximado de la integral, así como una estimación del error asociado con la aproximación. Ver también \\url{https://es.wikipedia.org/wiki/M%C3%A9todo_de_Romberg}"
   ]
  },
  {
   "cell_type": "code",
   "execution_count": 11,
   "metadata": {},
   "outputs": [
    {
     "data": {
      "image/png": "[encoded data removed]",
      "text/latex": [
       "$\\displaystyle 5.04206315105925$"
      ],
      "text/plain": [
       "5.04206315105925"
      ]
     },
     "execution_count": 11,
     "metadata": {},
     "output_type": "execute_result"
    }
   ],
   "source": [
    "from scipy.integrate import  romberg\n",
    "integral_romberg = romberg(lambda x: f(x), 0, 1)\n",
    "integral_romberg.evalf()"
   ]
  },
  {
   "cell_type": "markdown",
   "metadata": {},
   "source": [
    "3. Ahora veamos la manera de calcular integrales del tipo \n",
    "$$\n",
    "\\int_C f(x, y, z) \\mathrm{d}{\\bf r} \\,,\n",
    "$$\n",
    "donde la curva $C$ viene dada por medio de algún parámetro $\\tau$, es decir que la integral se puede escribir como:\n",
    "$$\n",
    "\\int_a^b f({\\bf r} (\\tau)) | {\\bf r}' (\\tau)|    \\mathrm{d}{\\tau} \\,.\n",
    "$$\n",
    "\n",
    "Dada la función $f=x^2+y^2$"
   ]
  },
  {
   "cell_type": "code",
   "execution_count": 12,
   "metadata": {},
   "outputs": [
    {
     "data": {
      "image/png": "[encoded data removed]",
      "text/latex": [
       "$\\displaystyle x^{2} + y^{2}$"
      ],
      "text/plain": [
       " 2    2\n",
       "x  + y "
      ]
     },
     "execution_count": 12,
     "metadata": {},
     "output_type": "execute_result"
    }
   ],
   "source": [
    "y,τ = symbols('y τ')\n",
    "def f(x,y):\n",
    "   return x**2+y**2\n",
    "f(x,y)"
   ]
  },
  {
   "cell_type": "markdown",
   "metadata": {},
   "source": [
    "Vamos a integrar siguiendo el camino dado por la curva parametrizada con: $x=\\cos(\\tau), y=\\, \\mathrm{sen}(3\\tau)$"
   ]
  },
  {
   "cell_type": "code",
   "execution_count": 13,
   "metadata": {},
   "outputs": [],
   "source": [
    "x_sub = cos(τ)\n",
    "y_sub = sin(3*τ)\n",
    "dr = [diff(x_sub, τ), diff(y_sub, τ)]"
   ]
  },
  {
   "cell_type": "code",
   "execution_count": 14,
   "metadata": {},
   "outputs": [
    {
     "data": {
      "image/png": "[encoded data removed]",
      "text/latex": [
       "$\\displaystyle \\sqrt{\\sin^{2}{\\left(τ \\right)} + 9 \\cos^{2}{\\left(3 τ \\right)}} \\left(\\sin^{2}{\\left(3 τ \\right)} + \\cos^{2}{\\left(τ \\right)}\\right)$"
      ],
      "text/plain": [
       "   _______________________                      \n",
       "  ╱    2           2       ⎛   2           2   ⎞\n",
       "╲╱  sin (τ) + 9⋅cos (3⋅τ) ⋅⎝sin (3⋅τ) + cos (τ)⎠"
      ]
     },
     "execution_count": 14,
     "metadata": {},
     "output_type": "execute_result"
    }
   ],
   "source": [
    "f_sub = f(x,y).subs({x: x_sub, y: y_sub})\n",
    "dr_dot = sqrt(dr[0]**2 + dr[1]**2)\n",
    "fn = f_sub*dr_dot\n",
    "fn"
   ]
  },
  {
   "cell_type": "code",
   "execution_count": 15,
   "metadata": {},
   "outputs": [
    {
     "data": {
      "image/png": "[encoded data removed]",
      "text/latex": [
       "$\\displaystyle 6.88250995043015$"
      ],
      "text/plain": [
       "6.88250995043015"
      ]
     },
     "execution_count": 15,
     "metadata": {},
     "output_type": "execute_result"
    }
   ],
   "source": [
    "integral_romberg = romberg(lambda t: (fn.subs(τ,t)*dr_dot.subs(τ,t)), 0, 2)\n",
    "integral_romberg.evalf()"
   ]
  },
  {
   "cell_type": "markdown",
   "metadata": {},
   "source": [
    "4.  Queremos ahora evaluar la integral\n",
    "$$\n",
    "\\oint_C x \\ \\mathrm{d}y\\,,\n",
    "$$\n",
    "$C$ es el círculo: $x^2+y^2=a^2$, $z=0$. Con: $x=a\\cos(\\theta)$,  $y=a\\, \\mathrm{sen}(\\theta)$, y el parámetro $\\theta$ variando de $0$ a $2\\pi$. "
   ]
  },
  {
   "cell_type": "code",
   "execution_count": 16,
   "metadata": {},
   "outputs": [],
   "source": [
    "def f(x):\n",
    "   return x"
   ]
  },
  {
   "cell_type": "code",
   "execution_count": 17,
   "metadata": {},
   "outputs": [
    {
     "data": {
      "image/png": "[encoded data removed]",
      "text/latex": [
       "$\\displaystyle \\left[ - a \\sin{\\left(τ \\right)}, \\  a \\cos{\\left(τ \\right)}\\right]$"
      ],
      "text/plain": [
       "[-a⋅sin(τ), a⋅cos(τ)]"
      ]
     },
     "execution_count": 17,
     "metadata": {},
     "output_type": "execute_result"
    }
   ],
   "source": [
    "a = symbols('a')\n",
    "x_sub = a*cos(τ)\n",
    "y_sub = a*sin(τ)\n",
    "dr = [diff(x_sub, τ), diff(y_sub, τ)]\n",
    "dr"
   ]
  },
  {
   "cell_type": "code",
   "execution_count": 18,
   "metadata": {},
   "outputs": [
    {
     "data": {
      "image/png": "[encoded data removed]",
      "text/latex": [
       "$\\displaystyle a^{2} \\cos^{2}{\\left(τ \\right)}$"
      ],
      "text/plain": [
       " 2    2   \n",
       "a ⋅cos (τ)"
      ]
     },
     "execution_count": 18,
     "metadata": {},
     "output_type": "execute_result"
    }
   ],
   "source": [
    "f_sub = f(x).subs({x: x_sub})\n",
    "fn = f_sub*dr[1]\n",
    "fn"
   ]
  },
  {
   "cell_type": "code",
   "execution_count": 19,
   "metadata": {},
   "outputs": [
    {
     "data": {
      "image/png": "[encoded data removed]",
      "text/latex": [
       "$\\displaystyle \\int\\limits_{0}^{2 \\pi} a^{2} \\cos^{2}{\\left(τ \\right)}\\, dτ = \\pi a^{2}$"
      ],
      "text/plain": [
       "2⋅π                     \n",
       " ⌠                      \n",
       " ⎮   2    2            2\n",
       " ⎮  a ⋅cos (τ) dτ = π⋅a \n",
       " ⌡                      \n",
       " 0                      "
      ]
     },
     "execution_count": 19,
     "metadata": {},
     "output_type": "execute_result"
    }
   ],
   "source": [
    "Eq(Integral(fn,[τ,0,2*pi]),integrate(fn,[τ,0,2*pi]))"
   ]
  },
  {
   "cell_type": "markdown",
   "metadata": {},
   "source": [
    "5.  Calculemos la integral \n",
    "$$\n",
    "\\int_{C}{\\bf a}\\cdot\\mathrm{d}{\\bf r}\n",
    "$$\n",
    "donde ${\\bf a}=(2x+y){i}+(y-2x){j}$ y $C$ en términos de un parámetro es $x=2\\lambda^2+2\\lambda$, $y=\\lambda+1$."
   ]
  },
  {
   "cell_type": "code",
   "execution_count": 20,
   "metadata": {},
   "outputs": [
    {
     "data": {
      "image/png": "[encoded data removed]",
      "text/latex": [
       "$\\displaystyle \\left[ 2 x + y, \\  - 2 x + y\\right]$"
      ],
      "text/plain": [
       "[2⋅x + y, -2⋅x + y]"
      ]
     },
     "execution_count": 20,
     "metadata": {},
     "output_type": "execute_result"
    }
   ],
   "source": [
    "x, y, λ = symbols('x, y, λ')\n",
    "A = [2*x + y, y - 2*x]\n",
    "A"
   ]
  },
  {
   "cell_type": "code",
   "execution_count": 21,
   "metadata": {},
   "outputs": [],
   "source": [
    "x_sub = 2*λ**2 + 2*λ\n",
    "y_sub = λ + 1\n",
    "dr = [diff(x_sub, λ), diff(y_sub, λ)]"
   ]
  },
  {
   "cell_type": "code",
   "execution_count": 22,
   "metadata": {},
   "outputs": [],
   "source": [
    "A_sub = [A[0].subs({x: x_sub,y: y_sub}), A[1].subs({x: x_sub,y: y_sub})]"
   ]
  },
  {
   "cell_type": "code",
   "execution_count": 23,
   "metadata": {},
   "outputs": [
    {
     "data": {
      "image/png": "[encoded data removed]",
      "text/latex": [
       "$\\displaystyle - 4 λ^{2} - 3 λ + \\left(4 λ + 2\\right) \\left(4 λ^{2} + 5 λ + 1\\right) + 1$"
      ],
      "text/plain": [
       "     2                   ⎛   2          ⎞    \n",
       "- 4⋅λ  - 3⋅λ + (4⋅λ + 2)⋅⎝4⋅λ  + 5⋅λ + 1⎠ + 1"
      ]
     },
     "execution_count": 23,
     "metadata": {},
     "output_type": "execute_result"
    }
   ],
   "source": [
    "integrando = A_sub[0]*dr[0] + A_sub[1]*dr[1]\n",
    "integrando"
   ]
  },
  {
   "cell_type": "code",
   "execution_count": 24,
   "metadata": {},
   "outputs": [
    {
     "data": {
      "image/png": "[encoded data removed]",
      "text/latex": [
       "$\\displaystyle \\int\\limits_{-1}^{1} \\left(- 4 λ^{2} - 3 λ + \\left(4 λ + 2\\right) \\left(4 λ^{2} + 5 λ + 1\\right) + 1\\right)\\, dλ = 22$"
      ],
      "text/plain": [
       "1                                                         \n",
       "⌠                                                         \n",
       "⎮  ⎛     2                   ⎛   2          ⎞    ⎞        \n",
       "⎮  ⎝- 4⋅λ  - 3⋅λ + (4⋅λ + 2)⋅⎝4⋅λ  + 5⋅λ + 1⎠ + 1⎠ dλ = 22\n",
       "⌡                                                         \n",
       "-1                                                        "
      ]
     },
     "execution_count": 24,
     "metadata": {},
     "output_type": "execute_result"
    }
   ],
   "source": [
    "Eq(Integral(integrando,(λ, -1, 1)),integrate(integrando,(λ, -1, 1)).trigsimp())"
   ]
  },
  {
   "cell_type": "markdown",
   "metadata": {},
   "source": [
    "Para integrales múltiples de manera directa  podamos integrar aplicando varias veces la función \"integrate\""
   ]
  },
  {
   "cell_type": "markdown",
   "metadata": {},
   "source": [
    "6. Si quisiéramos calcular el área de una elipse\n",
    "$$\n",
    "\\frac{x^2}{a^2}+\\frac{y^2}{b^2}=1\\,,\n",
    "$$\n",
    "podríamos hacer lo siguiente: calculamos el área en el primer cuadrante determinado por $0 \\leq x\\leq X$, donde:\n",
    "\n",
    "$X=(a/b)\\sqrt{b^2-y^2}$ \n",
    "\n",
    "y donde\n",
    "\n",
    "$0 \\leq y\\leq Y$, con $X=(b/a)\\sqrt{a^2-x^2}$. \n",
    "\n",
    "Por lo tanto, el área es\n",
    "$$\n",
    "A=4\\int_0^b\\left[\\int_0^X    \\mathrm{d}x \\right] \\mathrm{d}y\n",
    "$$\n",
    "donde $ {\\rm d}A= \\mathrm{d}x \\mathrm{d}y$."
   ]
  },
  {
   "cell_type": "markdown",
   "metadata": {},
   "source": [
    "Definimos los símbolos y las expresiones"
   ]
  },
  {
   "cell_type": "code",
   "execution_count": 25,
   "metadata": {},
   "outputs": [],
   "source": [
    "a, b, x, y = symbols('a b x y', real=True, positive=True)\n",
    "X = (a/b)*sqrt(b**2-y**2)\n",
    "Y = (b/a)*sqrt(a**2-x**2)"
   ]
  },
  {
   "cell_type": "markdown",
   "metadata": {},
   "source": [
    "Cálculo de la integral doble"
   ]
  },
  {
   "cell_type": "code",
   "execution_count": 26,
   "metadata": {},
   "outputs": [
    {
     "data": {
      "image/png": "[encoded data removed]",
      "text/latex": [
       "$\\displaystyle 4 \\int\\limits_{0}^{b}\\int\\limits_{0}^{\\frac{a \\sqrt{b^{2} - y^{2}}}{b}} 1\\, dx\\, dy = \\pi a b$"
      ],
      "text/plain": [
       "         _________                \n",
       "        ╱  2    2                 \n",
       "    a⋅╲╱  b  - y                  \n",
       "    ──────────────                \n",
       "  b       b                       \n",
       "  ⌠       ⌠                       \n",
       "4⋅⎮       ⎮        1 dx dy = π⋅a⋅b\n",
       "  ⌡       ⌡                       \n",
       "  0       0                       "
      ]
     },
     "execution_count": 26,
     "metadata": {},
     "output_type": "execute_result"
    }
   ],
   "source": [
    "Eq(4*Integral(Integral(1,(x,0,X)),(y,0,b)),4*integrate(integrate(1,(x,0,X)),(y,0,b)))"
   ]
  }
 ],
 "metadata": {
  "colab": {
   "collapsed_sections": [
    "HS5j074Bpqw9",
    "M6k5DaB7AMNL",
    "IZBsDTb4E7U4",
    "Hn31KOmRS9EA",
    "A3ZNaLdqWeG5",
    "5Vs06j5DdIme",
    "ujW8a0HzkNuV"
   ],
   "provenance": [
    {
     "file_id": "1YrOBd8YdJ9P2aPSTRJEnMxLdlqznqh8y",
     "timestamp": 1694038709310
    }
   ]
  },
  "kernelspec": {
   "display_name": "Python 3 (ipykernel)",
   "language": "python",
   "name": "python3"
  },
  "language_info": {
   "codemirror_mode": {
    "name": "ipython",
    "version": 3
   },
   "file_extension": ".py",
   "mimetype": "text/x-python",
   "name": "python",
   "nbconvert_exporter": "python",
   "pygments_lexer": "ipython3",
   "version": "3.11.7"
  }
 },
 "nbformat": 4,
 "nbformat_minor": 1
}

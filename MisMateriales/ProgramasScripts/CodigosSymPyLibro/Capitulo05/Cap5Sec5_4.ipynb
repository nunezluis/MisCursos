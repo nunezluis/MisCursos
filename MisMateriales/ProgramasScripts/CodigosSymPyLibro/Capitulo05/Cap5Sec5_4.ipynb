{
 "cells": [
  {
   "cell_type": "code",
   "execution_count": 1,
   "metadata": {
    "id": "604d4rBS80_Y"
   },
   "outputs": [],
   "source": [
    "import sympy\n",
    "from sympy import *\n",
    "from sympy.vector import *\n",
    "init_printing()"
   ]
  },
  {
   "cell_type": "markdown",
   "metadata": {},
   "source": [
    "1.  Como sabemos, una partícula que se mueve en un campo de fuerzas estará sujeta en cada punto a esta fuerza ${\\bf f}({\\bf r})$ de manera que el cambio de energía potencial es \n",
    "$$\n",
    "U({\\bf r})-U({\\bf r}_0)=-\\int_{{\\bf r}_0}^{{\\bf r}} {\\bf f}({\\bf r})\n",
    "\\cdot \\mathrm{d} {\\bf r} \\,.\n",
    "$$\n",
    "\n",
    "Sea el siguiente campo de fuerzas\n",
    "$$\n",
    "{\\bf f}_1({\\bf r})= 3xy^3 \\hat{i} + 3x^2y^2\\hat{j}\\,.\n",
    "$$\n",
    "\n",
    "En primer lugar, consideremos que la partícula se mueve desde el punto $(0,0)$ al punto $(a,b)$ siguiendo las lineas rectas: \n",
    "\n",
    "$(0,0) \\rightarrow (a,0) \\rightarrow (a,b)$. \n",
    "\n",
    "Calculemos el trabajo realizado sobre la partícula "
   ]
  },
  {
   "cell_type": "code",
   "execution_count": 2,
   "metadata": {},
   "outputs": [
    {
     "data": {
      "image/png": "[encoded data removed]",
      "text/latex": [
       "$\\displaystyle \\left[ 3 x y^{3}, \\  3 x^{2} y^{2}, \\  0\\right]$"
      ],
      "text/plain": [
       "⎡     3     2  2   ⎤\n",
       "⎣3⋅x⋅y , 3⋅x ⋅y , 0⎦"
      ]
     },
     "execution_count": 2,
     "metadata": {},
     "output_type": "execute_result"
    }
   ],
   "source": [
    "# Definimos la función\n",
    "x, y, z = symbols('x y z', real=True)\n",
    "f1= [3*x*y**3,3*x**2*y**2,0]\n",
    "f1"
   ]
  },
  {
   "cell_type": "code",
   "execution_count": 3,
   "metadata": {},
   "outputs": [
    {
     "data": {
      "image/png": "[encoded data removed]",
      "text/latex": [
       "$\\displaystyle \\left[ 1, \\  1, \\  1\\right]$"
      ],
      "text/plain": [
       "[1, 1, 1]"
      ]
     },
     "execution_count": 3,
     "metadata": {},
     "output_type": "execute_result"
    }
   ],
   "source": [
    "r= [x,y,z]\n",
    "dr= [diff(x, x), diff(y, y), diff(z, z)]\n",
    "dr"
   ]
  },
  {
   "cell_type": "markdown",
   "metadata": {},
   "source": [
    "Evaluamos la función para la trayectoria $(0,0) \\rightarrow (a,0) \\rightarrow (a,b)$."
   ]
  },
  {
   "cell_type": "code",
   "execution_count": 4,
   "metadata": {},
   "outputs": [
    {
     "data": {
      "image/png": "[encoded data removed]",
      "text/latex": [
       "$\\displaystyle \\left[ 0, \\  3 a^{2} y^{2}, \\  0\\right]$"
      ],
      "text/plain": [
       "⎡      2  2   ⎤\n",
       "⎣0, 3⋅a ⋅y , 0⎦"
      ]
     },
     "execution_count": 4,
     "metadata": {},
     "output_type": "execute_result"
    }
   ],
   "source": [
    "a,b = symbols('a b', real=True)\n",
    "f1x=f1[0].subs({y:0})\n",
    "f1y=f1[1].subs({x:a})\n",
    "f1a=[f1x,f1y,0]\n",
    "f1a"
   ]
  },
  {
   "cell_type": "code",
   "execution_count": 5,
   "metadata": {},
   "outputs": [
    {
     "data": {
      "image/png": "[encoded data removed]",
      "text/latex": [
       "$\\displaystyle a^{2} b^{3}$"
      ],
      "text/plain": [
       " 2  3\n",
       "a ⋅b "
      ]
     },
     "execution_count": 5,
     "metadata": {},
     "output_type": "execute_result"
    }
   ],
   "source": [
    "integrate(f1x,(x,0,a)) + integrate(f1y,(y,0,b))"
   ]
  },
  {
   "cell_type": "markdown",
   "metadata": {},
   "source": [
    "Supongamos ahora que la partícula se mueve siguiendo la trayectoria $y=bx^3/a^3$. "
   ]
  },
  {
   "cell_type": "code",
   "execution_count": 6,
   "metadata": {},
   "outputs": [],
   "source": [
    "y2=b*x**3/a**3"
   ]
  },
  {
   "cell_type": "code",
   "execution_count": 7,
   "metadata": {},
   "outputs": [
    {
     "data": {
      "image/png": "[encoded data removed]",
      "text/latex": [
       "$\\displaystyle \\left[ \\frac{3 b^{3} x^{10}}{a^{9}}, \\  \\frac{3 b^{2} x^{8}}{a^{6}}, \\  0\\right]$"
      ],
      "text/plain": [
       "⎡   3  10     2  8   ⎤\n",
       "⎢3⋅b ⋅x    3⋅b ⋅x    ⎥\n",
       "⎢────────, ───────, 0⎥\n",
       "⎢    9         6     ⎥\n",
       "⎣   a         a      ⎦"
      ]
     },
     "execution_count": 7,
     "metadata": {},
     "output_type": "execute_result"
    }
   ],
   "source": [
    "f1x=f1[0].subs({y:y2})\n",
    "f1y=f1[1].subs({y:y2})\n",
    "f1b=[f1x,f1y,0]\n",
    "f1b"
   ]
  },
  {
   "cell_type": "code",
   "execution_count": 8,
   "metadata": {},
   "outputs": [
    {
     "data": {
      "image/png": "[encoded data removed]",
      "text/latex": [
       "$\\displaystyle \\left[ 1, \\  \\frac{3 b x^{2}}{a^{3}}, \\  0\\right]$"
      ],
      "text/plain": [
       "⎡        2   ⎤\n",
       "⎢   3⋅b⋅x    ⎥\n",
       "⎢1, ──────, 0⎥\n",
       "⎢      3     ⎥\n",
       "⎣     a      ⎦"
      ]
     },
     "execution_count": 8,
     "metadata": {},
     "output_type": "execute_result"
    }
   ],
   "source": [
    "dr= [diff(x, x), diff(y2, x), 0]\n",
    "dr"
   ]
  },
  {
   "cell_type": "markdown",
   "metadata": {},
   "source": [
    "Hacemos el producto  $f_1.dr$"
   ]
  },
  {
   "cell_type": "code",
   "execution_count": 9,
   "metadata": {},
   "outputs": [
    {
     "data": {
      "image/png": "[encoded data removed]",
      "text/latex": [
       "$\\displaystyle \\frac{12 b^{3} x^{10}}{a^{9}}$"
      ],
      "text/plain": [
       "    3  10\n",
       "12⋅b ⋅x  \n",
       "─────────\n",
       "     9   \n",
       "    a    "
      ]
     },
     "execution_count": 9,
     "metadata": {},
     "output_type": "execute_result"
    }
   ],
   "source": [
    "f1bdr=sum([m*n for m,n in zip(f1b,dr)])\n",
    "f1bdr"
   ]
  },
  {
   "cell_type": "code",
   "execution_count": 10,
   "metadata": {},
   "outputs": [
    {
     "data": {
      "image/png": "[encoded data removed]",
      "text/latex": [
       "$\\displaystyle \\frac{12 a^{2} b^{3}}{11}$"
      ],
      "text/plain": [
       "    2  3\n",
       "12⋅a ⋅b \n",
       "────────\n",
       "   11   "
      ]
     },
     "execution_count": 10,
     "metadata": {},
     "output_type": "execute_result"
    }
   ],
   "source": [
    "integrate(f1bdr,(x,0,a))"
   ]
  },
  {
   "cell_type": "markdown",
   "metadata": {},
   "source": [
    "El resultado es diferente, el campo de fuerzas no es conservativo "
   ]
  },
  {
   "cell_type": "code",
   "execution_count": 11,
   "metadata": {},
   "outputs": [
    {
     "data": {
      "image/png": "[encoded data removed]",
      "text/latex": [
       "$\\displaystyle \\left(- 3 \\mathbf{{x}_{R}} \\mathbf{{y}_{R}}^{2}\\right)\\mathbf{\\hat{k}_{R}}$"
      ],
      "text/plain": [
       "⎛          2⎞     \n",
       "⎝-3⋅x_R⋅y_R ⎠ k_R "
      ]
     },
     "execution_count": 11,
     "metadata": {},
     "output_type": "execute_result"
    }
   ],
   "source": [
    "R = CoordSys3D('R')\n",
    "curl(3*R.x*R.y**3*R.i + 3*R.x**2*R.y**2*R.j+0*R.k)"
   ]
  },
  {
   "cell_type": "markdown",
   "metadata": {},
   "source": [
    "2. Consideremos ahora el siguiente campo \n",
    "\n",
    "${\\bf f}_2({\\bf r})= 2xy^3 \\hat{i} + 3x^2y^2\\hat{j}$, \n",
    "\n",
    "ligeramente diferente al anterior y repitamos los cálculos."
   ]
  },
  {
   "cell_type": "code",
   "execution_count": 12,
   "metadata": {},
   "outputs": [
    {
     "data": {
      "image/png": "[encoded data removed]",
      "text/latex": [
       "$\\displaystyle \\left[ 2 x y^{3}, \\  3 x^{2} y^{2}, \\  0\\right]$"
      ],
      "text/plain": [
       "⎡     3     2  2   ⎤\n",
       "⎣2⋅x⋅y , 3⋅x ⋅y , 0⎦"
      ]
     },
     "execution_count": 12,
     "metadata": {},
     "output_type": "execute_result"
    }
   ],
   "source": [
    "x, y, z = symbols('x y z', real=True)\n",
    "f2= [2*x*y**3,3*x**2*y**2,0]\n",
    "f2"
   ]
  },
  {
   "cell_type": "markdown",
   "metadata": {},
   "source": [
    "Trayectoria $(0,0) \\rightarrow (a,0) \\rightarrow (a,b)$"
   ]
  },
  {
   "cell_type": "code",
   "execution_count": 13,
   "metadata": {},
   "outputs": [
    {
     "data": {
      "image/png": "[encoded data removed]",
      "text/latex": [
       "$\\displaystyle \\left[ 0, \\  3 a^{2} y^{2}, \\  0\\right]$"
      ],
      "text/plain": [
       "⎡      2  2   ⎤\n",
       "⎣0, 3⋅a ⋅y , 0⎦"
      ]
     },
     "execution_count": 13,
     "metadata": {},
     "output_type": "execute_result"
    }
   ],
   "source": [
    "a,b = symbols('a b', real=True)\n",
    "f2x=f2[0].subs({y:0})\n",
    "f2y=f2[1].subs({x:a})\n",
    "f2a=[f2x,f2y,0]\n",
    "f2a"
   ]
  },
  {
   "cell_type": "code",
   "execution_count": 14,
   "metadata": {},
   "outputs": [],
   "source": [
    "r= [x,y,z]\n",
    "dr= [diff(x, x), diff(y, y), diff(z, z)]"
   ]
  },
  {
   "cell_type": "code",
   "execution_count": 15,
   "metadata": {},
   "outputs": [
    {
     "data": {
      "image/png": "[encoded data removed]",
      "text/latex": [
       "$\\displaystyle a^{2} b^{3}$"
      ],
      "text/plain": [
       " 2  3\n",
       "a ⋅b "
      ]
     },
     "execution_count": 15,
     "metadata": {},
     "output_type": "execute_result"
    }
   ],
   "source": [
    "integrate(f2x,(x,0,a)) + integrate(f2y,(y,0,b))"
   ]
  },
  {
   "cell_type": "markdown",
   "metadata": {},
   "source": [
    "Trayectoria $y=bx^3/a^3$. "
   ]
  },
  {
   "cell_type": "code",
   "execution_count": 16,
   "metadata": {},
   "outputs": [],
   "source": [
    "y2=b*x**3/a**3\n",
    "f2xb=f2[0].subs({y:y2})\n",
    "f2yb=f2[1].subs({y:y2})\n",
    "f2b=[f2xb,f2yb,0]\n",
    "dr= [1,diff(y2,x),0]"
   ]
  },
  {
   "cell_type": "code",
   "execution_count": 17,
   "metadata": {},
   "outputs": [
    {
     "data": {
      "image/png": "[encoded data removed]",
      "text/latex": [
       "$\\displaystyle a^{2} b^{3}$"
      ],
      "text/plain": [
       " 2  3\n",
       "a ⋅b "
      ]
     },
     "execution_count": 17,
     "metadata": {},
     "output_type": "execute_result"
    }
   ],
   "source": [
    "f2bdr=sum([m*n for m,n in zip(f2b,dr)])\n",
    "f2bdr\n",
    "integrate(f2bdr,(x,0,a))"
   ]
  },
  {
   "cell_type": "markdown",
   "metadata": {},
   "source": [
    "El trabajo es el mismo ya que el campo vectorial es conservativo"
   ]
  },
  {
   "cell_type": "code",
   "execution_count": 18,
   "metadata": {},
   "outputs": [
    {
     "data": {
      "image/png": "[encoded data removed]",
      "text/latex": [
       "$\\displaystyle \\mathbf{\\hat{0}}$"
      ],
      "text/plain": [
       "0"
      ]
     },
     "execution_count": 18,
     "metadata": {},
     "output_type": "execute_result"
    }
   ],
   "source": [
    "curl(2*R.x*R.y**3*R.i + 3*R.x**2*R.y**2*R.j+0*R.k)"
   ]
  },
  {
   "cell_type": "markdown",
   "metadata": {},
   "source": [
    "El potencial asociado a campo se puede calcular ahora"
   ]
  },
  {
   "cell_type": "code",
   "execution_count": 19,
   "metadata": {},
   "outputs": [
    {
     "data": {
      "image/png": "[encoded data removed]",
      "text/latex": [
       "$\\displaystyle - x^{2} y^{3}$"
      ],
      "text/plain": [
       "  2  3\n",
       "-x ⋅y "
      ]
     },
     "execution_count": 19,
     "metadata": {},
     "output_type": "execute_result"
    }
   ],
   "source": [
    "U=-(integrate(f2[0].subs(x,0),x) + integrate(f2[1],y))\n",
    "U"
   ]
  },
  {
   "cell_type": "markdown",
   "metadata": {},
   "source": [
    "3. Consideremos el siguiente campo vectorial en el plano\n",
    "$$\n",
    "{\\bf f}= \\kappa\\left[  xy^2 \\hat{i} + x^2 y\\hat{j}\\right]\\,,\n",
    "$$\n",
    "con $\\kappa$ constante."
   ]
  },
  {
   "cell_type": "code",
   "execution_count": 20,
   "metadata": {},
   "outputs": [
    {
     "data": {
      "image/png": "[encoded data removed]",
      "text/latex": [
       "$\\displaystyle \\left[ k x y^{2}, \\  k x^{2} y, \\  0\\right]$"
      ],
      "text/plain": [
       "⎡     2     2     ⎤\n",
       "⎣k⋅x⋅y , k⋅x ⋅y, 0⎦"
      ]
     },
     "execution_count": 20,
     "metadata": {},
     "output_type": "execute_result"
    }
   ],
   "source": [
    "k, x, y = symbols('k x y', real=True)\n",
    "f= [k*x*y**2,k*x**2*y,0]\n",
    "f"
   ]
  },
  {
   "cell_type": "markdown",
   "metadata": {},
   "source": [
    "Es fácil comprobar que ${\\boldsymbol \\nabla}\\times{\\bf f}=0$, de manera que {\\bf f} es conservativo."
   ]
  },
  {
   "cell_type": "code",
   "execution_count": 21,
   "metadata": {},
   "outputs": [
    {
     "data": {
      "image/png": "[encoded data removed]",
      "text/latex": [
       "$\\displaystyle \\mathbf{\\hat{0}}$"
      ],
      "text/plain": [
       "0"
      ]
     },
     "execution_count": 21,
     "metadata": {},
     "output_type": "execute_result"
    }
   ],
   "source": [
    "curl(k*R.x*R.y**2*R.i + k*R.x**2*R.y*R.j)"
   ]
  },
  {
   "cell_type": "code",
   "execution_count": 22,
   "metadata": {},
   "outputs": [
    {
     "data": {
      "image/png": "[encoded data removed]",
      "text/latex": [
       "$\\displaystyle \\left[ x_{1}, \\  y_{2}\\right]$"
      ],
      "text/plain": [
       "[x₁, y₂]"
      ]
     },
     "execution_count": 22,
     "metadata": {},
     "output_type": "execute_result"
    }
   ],
   "source": [
    "x1,y2,τ = symbols('x1 y2 τ')\n",
    "x_sub = x1*τ\n",
    "y_sub = y2*τ\n",
    "dr = [diff(x_sub, τ), diff(y_sub, τ)]\n",
    "dr"
   ]
  },
  {
   "cell_type": "code",
   "execution_count": 23,
   "metadata": {},
   "outputs": [
    {
     "data": {
      "image/png": "[encoded data removed]",
      "text/latex": [
       "$\\displaystyle 2 k x_{1}^{2} y_{2}^{2} τ^{3}$"
      ],
      "text/plain": [
       "      2   2  3\n",
       "2⋅k⋅x₁ ⋅y₂ ⋅τ "
      ]
     },
     "execution_count": 23,
     "metadata": {},
     "output_type": "execute_result"
    }
   ],
   "source": [
    "Fdr=sum([a*b for a,b in zip(f,dr)])\n",
    "Fdr=Fdr.subs({x:x_sub,y:y_sub})\n",
    "Fdr"
   ]
  },
  {
   "cell_type": "code",
   "execution_count": 24,
   "metadata": {},
   "outputs": [
    {
     "data": {
      "image/png": "[encoded data removed]",
      "text/latex": [
       "$\\displaystyle \\int\\limits_{0}^{1} 2 k x_{1}^{2} y_{2}^{2} τ^{3}\\, dτ = \\frac{k x_{1}^{2} y_{2}^{2}}{2}$"
      ],
      "text/plain": [
       "1                              \n",
       "⌠                         2   2\n",
       "⎮       2   2  3      k⋅x₁ ⋅y₂ \n",
       "⎮ 2⋅k⋅x₁ ⋅y₂ ⋅τ  dτ = ─────────\n",
       "⌡                         2    \n",
       "0                              "
      ]
     },
     "execution_count": 24,
     "metadata": {},
     "output_type": "execute_result"
    }
   ],
   "source": [
    "Eq(Integral(Fdr,(τ,0,1)),integrate(Fdr,(τ,0,1)).simplify())"
   ]
  },
  {
   "cell_type": "markdown",
   "metadata": {},
   "source": [
    "Para el potencial:"
   ]
  },
  {
   "cell_type": "code",
   "execution_count": 25,
   "metadata": {},
   "outputs": [
    {
     "data": {
      "image/png": "[encoded data removed]",
      "text/latex": [
       "$\\displaystyle - \\frac{k x^{2} y^{2}}{2}$"
      ],
      "text/plain": [
       "    2  2 \n",
       "-k⋅x ⋅y  \n",
       "─────────\n",
       "    2    "
      ]
     },
     "execution_count": 25,
     "metadata": {},
     "output_type": "execute_result"
    }
   ],
   "source": [
    "U=-(integrate(f[0].subs(x,0),x) + integrate(f[1],y))\n",
    "U"
   ]
  },
  {
   "cell_type": "code",
   "execution_count": 26,
   "metadata": {},
   "outputs": [
    {
     "data": {
      "image/png": "[encoded data removed]",
      "text/latex": [
       "$\\displaystyle \\left(- \\mathbf{{x}_{R}} \\mathbf{{y}_{R}}^{2} k\\right)\\mathbf{\\hat{i}_{R}} + \\left(- \\mathbf{{x}_{R}}^{2} \\mathbf{{y}_{R}} k\\right)\\mathbf{\\hat{j}_{R}}$"
      ],
      "text/plain": [
       "⎛        2  ⎞        ⎛    2      ⎞     \n",
       "⎝-x_R⋅y_R ⋅k⎠ i_R  + ⎝-x_R ⋅y_R⋅k⎠ j_R "
      ]
     },
     "execution_count": 26,
     "metadata": {},
     "output_type": "execute_result"
    }
   ],
   "source": [
    "gradient(-k*R.x**2*R.y**2/2)"
   ]
  },
  {
   "cell_type": "markdown",
   "metadata": {},
   "source": [
    "3. Consideremos el siguiente campo vectorial \n",
    "$$\n",
    "{\\bf f}= \\frac{\\kappa y}{x^2+y^2}  \\hat{i} - \\frac{\\kappa x}{x^2+y^2}\\hat{j}\\,,\n",
    "$$\n",
    "con $\\kappa$ constante.\n",
    "\n",
    "De nuevo, es fácil ver que \n",
    "$$\n",
    "{\\boldsymbol \\nabla} \\times {\\bf f} =\n",
    "\\left[ \\partial_x F_y - \\partial_y F_x \\right] \\hat{k}=0\\,.\n",
    "$$"
   ]
  },
  {
   "cell_type": "code",
   "execution_count": 27,
   "metadata": {},
   "outputs": [
    {
     "data": {
      "image/png": "[encoded data removed]",
      "text/latex": [
       "$\\displaystyle \\left[ \\frac{k y}{x^{2} + y^{2}}, \\  - \\frac{k x}{x^{2} + y^{2}}, \\  0\\right]$"
      ],
      "text/plain": [
       "⎡  k⋅y     -k⋅x     ⎤\n",
       "⎢───────, ───────, 0⎥\n",
       "⎢ 2    2   2    2   ⎥\n",
       "⎣x  + y   x  + y    ⎦"
      ]
     },
     "execution_count": 27,
     "metadata": {},
     "output_type": "execute_result"
    }
   ],
   "source": [
    "k, a, x, y, τ = symbols('k a x y τ', real=True)\n",
    "f= [k*y/(x**2+y**2),-k*x/(x**2+y**2),0]\n",
    "f"
   ]
  },
  {
   "cell_type": "markdown",
   "metadata": {},
   "source": [
    "Si calculamos el rotor, resulta "
   ]
  },
  {
   "cell_type": "code",
   "execution_count": 28,
   "metadata": {},
   "outputs": [
    {
     "data": {
      "image/png": "[encoded data removed]",
      "text/latex": [
       "$\\displaystyle \\mathbf{\\hat{0}}$"
      ],
      "text/plain": [
       "0"
      ]
     },
     "execution_count": 28,
     "metadata": {},
     "output_type": "execute_result"
    }
   ],
   "source": [
    "curl(k*R.y/(R.x**2+R.y**2)*R.i - k*R.x/(R.x**2+R.y**2)*R.j).simplify()"
   ]
  },
  {
   "cell_type": "code",
   "execution_count": 29,
   "metadata": {},
   "outputs": [
    {
     "data": {
      "image/png": "[encoded data removed]",
      "text/latex": [
       "$\\displaystyle \\left[ - a \\sin{\\left(τ \\right)}, \\  a \\cos{\\left(τ \\right)}\\right]$"
      ],
      "text/plain": [
       "[-a⋅sin(τ), a⋅cos(τ)]"
      ]
     },
     "execution_count": 29,
     "metadata": {},
     "output_type": "execute_result"
    }
   ],
   "source": [
    "x_sub = a*cos(τ)\n",
    "y_sub = a*sin(τ)\n",
    "dr = [diff(x_sub, τ), diff(y_sub, τ)]\n",
    "dr"
   ]
  },
  {
   "cell_type": "code",
   "execution_count": 30,
   "metadata": {},
   "outputs": [
    {
     "data": {
      "image/png": "[encoded data removed]",
      "text/latex": [
       "$\\displaystyle - k$"
      ],
      "text/plain": [
       "-k"
      ]
     },
     "execution_count": 30,
     "metadata": {},
     "output_type": "execute_result"
    }
   ],
   "source": [
    "Fdr=sum([a*b for a,b in zip(f,dr)])\n",
    "Fdr=Fdr.subs({x:x_sub,y:y_sub}).simplify()\n",
    "Fdr"
   ]
  },
  {
   "cell_type": "code",
   "execution_count": 31,
   "metadata": {},
   "outputs": [
    {
     "data": {
      "image/png": "[encoded data removed]",
      "text/latex": [
       "$\\displaystyle \\int\\limits_{0}^{2 \\pi} \\left(- k\\right)\\, dτ = - 2 \\pi k$"
      ],
      "text/plain": [
       "2⋅π               \n",
       " ⌠                \n",
       " ⎮  -k dτ = -2⋅π⋅k\n",
       " ⌡                \n",
       " 0                "
      ]
     },
     "execution_count": 31,
     "metadata": {},
     "output_type": "execute_result"
    }
   ],
   "source": [
    "Eq(Integral(Fdr,(τ,0,2*pi)), integrate(Fdr,(τ,0,2*pi)).simplify())"
   ]
  }
 ],
 "metadata": {
  "colab": {
   "collapsed_sections": [
    "HS5j074Bpqw9",
    "M6k5DaB7AMNL",
    "IZBsDTb4E7U4",
    "Hn31KOmRS9EA",
    "A3ZNaLdqWeG5",
    "5Vs06j5DdIme",
    "ujW8a0HzkNuV"
   ],
   "provenance": [
    {
     "file_id": "1YrOBd8YdJ9P2aPSTRJEnMxLdlqznqh8y",
     "timestamp": 1694038709310
    }
   ]
  },
  "kernelspec": {
   "display_name": "Python 3 (ipykernel)",
   "language": "python",
   "name": "python3"
  },
  "language_info": {
   "codemirror_mode": {
    "name": "ipython",
    "version": 3
   },
   "file_extension": ".py",
   "mimetype": "text/x-python",
   "name": "python",
   "nbconvert_exporter": "python",
   "pygments_lexer": "ipython3",
   "version": "3.11.7"
  }
 },
 "nbformat": 4,
 "nbformat_minor": 1
}

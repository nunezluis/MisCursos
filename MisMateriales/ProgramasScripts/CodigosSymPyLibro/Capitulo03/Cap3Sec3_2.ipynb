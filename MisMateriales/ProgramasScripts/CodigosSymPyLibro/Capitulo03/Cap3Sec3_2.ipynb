{
 "cells": [
  {
   "cell_type": "markdown",
   "metadata": {},
   "source": [
    "1. {\\bf Tensores y SymPy}\n",
    "\n",
    "SymPy contiene un módulo para hacer manipulación simbólica con objetos con índices y se llama \"sympy.tensor.tensor\". \n",
    "\n",
    "Para más información: \\url{https://docs.sympy.org/latest/modules/tensor/tensor.html#}"
   ]
  },
  {
   "cell_type": "code",
   "execution_count": 10,
   "metadata": {},
   "outputs": [],
   "source": [
    "import sympy\n",
    "from sympy import *\n",
    "init_printing()"
   ]
  },
  {
   "cell_type": "markdown",
   "metadata": {},
   "source": [
    "2.{\\bf Transformación de tensores}\n",
    "\n",
    "Podemos hacer la manipulación de tensores en función de sus componentes. La métrica se almacena en una matriz $\\mathrm{lg}$ y la métrica inversa se obtiene y almacena en la matriz $\\mathrm{ug}$.\n",
    "\n",
    "En un ejemplo visto con anterioridad se especificaba las componentes de un tensor en coordenadas cartesianas, esto es:\n",
    "\n",
    "$$\n",
    "\\mathrm{To}=T_j^i=\\left(\\begin{array}{ccc}\n",
    "2 & 1 & 3 \\\\\n",
    "2 & 3 & 4 \\\\\n",
    "1 & 2 & 2\n",
    "\\end{array}\\right), \\quad \\text { en la base: }\\left\\{\\left|\\hat{\\mathrm{e}}_1\\right\\rangle,\\left|\\hat{\\mathrm{e}}_2\\right\\rangle,\\left|\\hat{\\mathrm{e}}_3\\right\\rangle\\right\\} \\equiv\\{|\\mathrm{i}\\rangle,|\\mathrm{j}\\rangle,|\\mathrm{k}\\rangle\\} \\text {. }\n",
    "$$\n",
    "\n",
    "Para luego representarlo en la nueva base: $\\left|\\mathrm{w}_{1^{\\prime}}\\right\\rangle=|\\mathrm{i}\\rangle,\\left|\\mathrm{w}_{2^{\\prime}}\\right\\rangle=|\\mathrm{i}\\rangle+|\\mathrm{j}\\rangle \\mathrm{y}\\left|\\mathrm{w}_{3^{\\prime}}\\right\\rangle=|\\mathrm{i}\\rangle+|\\mathrm{j}\\rangle+|\\mathrm{k}\\rangle$.\n",
    "Entonces necesitamos calcular:\n",
    "$$\n",
    "T_{m^{\\prime}}^{k^{\\prime}}=\\frac{\\partial x^{k^{\\prime}}}{\\partial x^i} \\frac{\\partial x^j}{\\partial x^{m^{\\prime}}} T_j^i \\Rightarrow \\mathrm{Tn}=\\alpha \\beta \\mathrm{To}=\n",
    "$$\n",
    "\n",
    "Como vimos cuando hacíamos los cálculos:\n",
    "$$\n",
    "\\alpha=\\frac{\\partial x^{k^{\\prime}}}{\\partial x^i}=\\left(\\begin{array}{rrr}\n",
    "1 & -1 & 0 \\\\\n",
    "0 & 1 & -1 \\\\\n",
    "0 & 0 & 1\n",
    "\\end{array}\\right), \\quad \\beta=\\frac{\\partial x^i}{\\partial x^{k^{\\prime}}}=\\left(\\begin{array}{lll}\n",
    "1 & 1 & 1 \\\\\n",
    "0 & 1 & 1 \\\\\n",
    "0 & 0 & 1\n",
    "\\end{array}\\right)\n",
    "$$\n",
    "\n",
    "\n",
    "\n",
    "Respetando ``la concatenación interna de índices'' podemos realizar la multiplicación de matrices.  \n"
   ]
  },
  {
   "cell_type": "code",
   "execution_count": 11,
   "metadata": {},
   "outputs": [
    {
     "data": {
      "image/png": "[encoded data removed]",
      "text/latex": [
       "$\\displaystyle \\left[\\begin{matrix}2 & 1 & 3\\\\2 & 3 & 4\\\\1 & 2 & 2\\end{matrix}\\right]$"
      ],
      "text/plain": [
       "⎡2  1  3⎤\n",
       "⎢       ⎥\n",
       "⎢2  3  4⎥\n",
       "⎢       ⎥\n",
       "⎣1  2  2⎦"
      ]
     },
     "execution_count": 11,
     "metadata": {},
     "output_type": "execute_result"
    }
   ],
   "source": [
    "T0 = Matrix([[2,1,3], [2,3,4], [1,2,2]])\n",
    "T0"
   ]
  },
  {
   "cell_type": "code",
   "execution_count": 12,
   "metadata": {},
   "outputs": [
    {
     "data": {
      "image/png": "[encoded data removed]",
      "text/latex": [
       "$\\displaystyle \\left[\\begin{matrix}1 & -1 & 0\\\\0 & 1 & -1\\\\0 & 0 & 1\\end{matrix}\\right]$"
      ],
      "text/plain": [
       "⎡1  -1  0 ⎤\n",
       "⎢         ⎥\n",
       "⎢0  1   -1⎥\n",
       "⎢         ⎥\n",
       "⎣0  0   1 ⎦"
      ]
     },
     "execution_count": 12,
     "metadata": {},
     "output_type": "execute_result"
    }
   ],
   "source": [
    "α= Matrix([[1,-1,0], [0,1,-1], [0,0,1]])\n",
    "α"
   ]
  },
  {
   "cell_type": "code",
   "execution_count": 13,
   "metadata": {},
   "outputs": [
    {
     "data": {
      "image/png": "[encoded data removed]",
      "text/latex": [
       "$\\displaystyle \\left[\\begin{matrix}1 & 1 & 1\\\\0 & 1 & 1\\\\0 & 0 & 1\\end{matrix}\\right]$"
      ],
      "text/plain": [
       "⎡1  1  1⎤\n",
       "⎢       ⎥\n",
       "⎢0  1  1⎥\n",
       "⎢       ⎥\n",
       "⎣0  0  1⎦"
      ]
     },
     "execution_count": 13,
     "metadata": {},
     "output_type": "execute_result"
    }
   ],
   "source": [
    "β= Matrix([[1,1,1], [0,1,1], [0,0,1]])\n",
    "β"
   ]
  },
  {
   "cell_type": "code",
   "execution_count": 14,
   "metadata": {},
   "outputs": [
    {
     "data": {
      "image/png": "[encoded data removed]",
      "text/latex": [
       "$\\displaystyle \\left[\\begin{matrix}0 & -2 & -3\\\\1 & 2 & 4\\\\1 & 3 & 5\\end{matrix}\\right]$"
      ],
      "text/plain": [
       "⎡0  -2  -3⎤\n",
       "⎢         ⎥\n",
       "⎢1  2   4 ⎥\n",
       "⎢         ⎥\n",
       "⎣1  3   5 ⎦"
      ]
     },
     "execution_count": 14,
     "metadata": {},
     "output_type": "execute_result"
    }
   ],
   "source": [
    "Tn=α*(T0*β)\n",
    "Tn"
   ]
  },
  {
   "cell_type": "markdown",
   "metadata": {},
   "source": [
    "Una vez que hemos calculado el nuevo tensor $\\mathrm{Tn}={\\tilde T}_j^i$ en la nueva base, podemos calcular: ${\\tilde T}^{ij}$, ${\\tilde T}_{ij}$. Pero podemos utilizar la métrica para las coordenadas nuevas hacer las respectivas contracciones. "
   ]
  },
  {
   "cell_type": "code",
   "execution_count": 15,
   "metadata": {},
   "outputs": [
    {
     "data": {
      "image/png": "[encoded data removed]",
      "text/latex": [
       "$\\displaystyle \\left[\\begin{matrix}1 & 1 & 1\\\\1 & 2 & 2\\\\1 & 2 & 3\\end{matrix}\\right]$"
      ],
      "text/plain": [
       "⎡1  1  1⎤\n",
       "⎢       ⎥\n",
       "⎢1  2  2⎥\n",
       "⎢       ⎥\n",
       "⎣1  2  3⎦"
      ]
     },
     "execution_count": 15,
     "metadata": {},
     "output_type": "execute_result"
    }
   ],
   "source": [
    "lg= Matrix([[1,1,1], [1,2,2], [1,2,3]])\n",
    "lg"
   ]
  },
  {
   "cell_type": "markdown",
   "metadata": {},
   "source": [
    "Para tener la métrica inversa ${\\tilde g}^{ik}$ escribimos:"
   ]
  },
  {
   "cell_type": "code",
   "execution_count": 16,
   "metadata": {},
   "outputs": [
    {
     "data": {
      "image/png": "[encoded data removed]",
      "text/latex": [
       "$\\displaystyle \\left[\\begin{matrix}2 & -1 & 0\\\\-1 & 2 & -1\\\\0 & -1 & 1\\end{matrix}\\right]$"
      ],
      "text/plain": [
       "⎡2   -1  0 ⎤\n",
       "⎢          ⎥\n",
       "⎢-1  2   -1⎥\n",
       "⎢          ⎥\n",
       "⎣0   -1  1 ⎦"
      ]
     },
     "execution_count": 16,
     "metadata": {},
     "output_type": "execute_result"
    }
   ],
   "source": [
    "ug=lg.inv()\n",
    "ug"
   ]
  },
  {
   "cell_type": "markdown",
   "metadata": {},
   "source": [
    "Para calcular ${\\tilde T}_{ij}={\\tilde g}_{ik}{\\tilde T}_j^{k}$ hacemos lo siguiente:"
   ]
  },
  {
   "cell_type": "code",
   "execution_count": 17,
   "metadata": {},
   "outputs": [
    {
     "data": {
      "image/png": "[encoded data removed]",
      "text/latex": [
       "$\\displaystyle \\left[\\begin{matrix}2 & 3 & 6\\\\4 & 8 & 15\\\\5 & 11 & 20\\end{matrix}\\right]$"
      ],
      "text/plain": [
       "⎡2  3   6 ⎤\n",
       "⎢         ⎥\n",
       "⎢4  8   15⎥\n",
       "⎢         ⎥\n",
       "⎣5  11  20⎦"
      ]
     },
     "execution_count": 17,
     "metadata": {},
     "output_type": "execute_result"
    }
   ],
   "source": [
    "lg*Tn"
   ]
  },
  {
   "cell_type": "markdown",
   "metadata": {},
   "source": [
    "Y para calcular ${\\tilde T}^{ij}={\\tilde T}^i_{k}{\\tilde g}^{kj}$ procedemos así:"
   ]
  },
  {
   "cell_type": "code",
   "execution_count": 18,
   "metadata": {},
   "outputs": [
    {
     "data": {
      "image/png": "[encoded data removed]",
      "text/latex": [
       "$\\displaystyle \\left[\\begin{matrix}2 & -1 & -1\\\\0 & -1 & 2\\\\-1 & 0 & 2\\end{matrix}\\right]$"
      ],
      "text/plain": [
       "⎡2   -1  -1⎤\n",
       "⎢          ⎥\n",
       "⎢0   -1  2 ⎥\n",
       "⎢          ⎥\n",
       "⎣-1  0   2 ⎦"
      ]
     },
     "execution_count": 18,
     "metadata": {},
     "output_type": "execute_result"
    }
   ],
   "source": [
    "Tn*ug"
   ]
  }
 ],
 "metadata": {
  "colab": {
   "collapsed_sections": [
    "HS5j074Bpqw9",
    "M6k5DaB7AMNL",
    "IZBsDTb4E7U4",
    "Hn31KOmRS9EA",
    "A3ZNaLdqWeG5",
    "5Vs06j5DdIme",
    "ujW8a0HzkNuV"
   ],
   "provenance": [
    {
     "file_id": "1YrOBd8YdJ9P2aPSTRJEnMxLdlqznqh8y",
     "timestamp": 1694038709310
    }
   ]
  },
  "kernelspec": {
   "display_name": "Python 3 (ipykernel)",
   "language": "python",
   "name": "python3"
  },
  "language_info": {
   "codemirror_mode": {
    "name": "ipython",
    "version": 3
   },
   "file_extension": ".py",
   "mimetype": "text/x-python",
   "name": "python",
   "nbconvert_exporter": "python",
   "pygments_lexer": "ipython3",
   "version": "3.11.7"
  }
 },
 "nbformat": 4,
 "nbformat_minor": 1
}

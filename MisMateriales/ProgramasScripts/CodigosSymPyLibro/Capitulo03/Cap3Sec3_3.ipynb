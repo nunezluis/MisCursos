{
 "cells": [
  {
   "cell_type": "markdown",
   "metadata": {},
   "source": [
    "1. {\\bf Tensores y SymPy}\n",
    "\n",
    "SymPy contiene un módulo para hacer manipulación simbólica con objetos con índices y se llama \"sympy.tensor.tensor\". \n",
    "\n",
    "Para más información: \\url{https://docs.sympy.org/latest/modules/tensor/tensor.html#}"
   ]
  },
  {
   "cell_type": "code",
   "execution_count": 3,
   "metadata": {},
   "outputs": [],
   "source": [
    "import sympy\n",
    "from sympy import *\n",
    "from sympy.tensor.tensor import *\n",
    "init_printing()"
   ]
  },
  {
   "cell_type": "markdown",
   "metadata": {},
   "source": [
    "Empezamos definiendo un tensor métrico abstracto "
   ]
  },
  {
   "cell_type": "code",
   "execution_count": 4,
   "metadata": {},
   "outputs": [],
   "source": [
    "gij = TensorIndexType('gij',dim=3,metric_name='g',metric_symmetry = 1, dummy_name='g')\n",
    "gij.metric\n",
    "i, j,k,l = tensor_indices('i,j,k,l', gij)\n",
    "g = gij.metric"
   ]
  },
  {
   "cell_type": "code",
   "execution_count": 5,
   "metadata": {},
   "outputs": [
    {
     "data": {
      "image/png": "[encoded data removed]",
      "text/latex": [
       "$\\displaystyle g{}^{ij}$"
      ],
      "text/plain": [
       " ij\n",
       "g  \n",
       "   "
      ]
     },
     "execution_count": 5,
     "metadata": {},
     "output_type": "execute_result"
    }
   ],
   "source": [
    "g(i,j)"
   ]
  },
  {
   "cell_type": "markdown",
   "metadata": {},
   "source": [
    "La $\\delta$ de Kronecker $\\delta_i^j$ "
   ]
  },
  {
   "cell_type": "code",
   "execution_count": 6,
   "metadata": {},
   "outputs": [],
   "source": [
    "i, j = tensor_indices('i,j', gij)\n",
    "δ = gij.delta"
   ]
  },
  {
   "cell_type": "code",
   "execution_count": 7,
   "metadata": {},
   "outputs": [
    {
     "data": {
      "image/png": "[encoded data removed]",
      "text/latex": [
       "$\\displaystyle KD{}^{ij}$"
      ],
      "text/plain": [
       "  ij\n",
       "KD  \n",
       "    "
      ]
     },
     "execution_count": 7,
     "metadata": {},
     "output_type": "execute_result"
    }
   ],
   "source": [
    "δ(i,j)"
   ]
  },
  {
   "cell_type": "code",
   "execution_count": 8,
   "metadata": {},
   "outputs": [
    {
     "data": {
      "image/png": "[encoded data removed]",
      "text/latex": [
       "$\\displaystyle KD{}^{g_{0}g_{1}}KD{}_{g_{0}g_{1}}g{}^{kl}$"
      ],
      "text/plain": [
       "  g₀g₁         kl\n",
       "KD    ⋅KD    ⋅g  \n",
       "         g₀g₁    "
      ]
     },
     "execution_count": 8,
     "metadata": {},
     "output_type": "execute_result"
    }
   ],
   "source": [
    "t = δ(i,-j)*δ(-i,j)*g(k, l)\n",
    "t.canon_bp()\n",
    "t.contract_metric(g).canon_bp()"
   ]
  },
  {
   "cell_type": "markdown",
   "metadata": {},
   "source": [
    "Para el símbolo de Levi-Civita:"
   ]
  },
  {
   "cell_type": "code",
   "execution_count": 9,
   "metadata": {},
   "outputs": [],
   "source": [
    "i, j, k = tensor_indices('i,j,k', gij)\n",
    "ϵ = gij.epsilon"
   ]
  },
  {
   "cell_type": "code",
   "execution_count": 10,
   "metadata": {},
   "outputs": [
    {
     "data": {
      "image/png": "[encoded data removed]",
      "text/latex": [
       "$\\displaystyle Eps{}^{ijk}$"
      ],
      "text/plain": [
       "   ijk\n",
       "Eps   \n",
       "      "
      ]
     },
     "execution_count": 10,
     "metadata": {},
     "output_type": "execute_result"
    }
   ],
   "source": [
    "ϵ(i,j,k)"
   ]
  },
  {
   "cell_type": "markdown",
   "metadata": {},
   "source": [
    "Un tensor $T$ de dos índices"
   ]
  },
  {
   "cell_type": "code",
   "execution_count": 11,
   "metadata": {},
   "outputs": [
    {
     "data": {
      "image/png": "[encoded data removed]",
      "text/latex": [
       "$\\displaystyle \\left( T{}^{ij}, \\  T{}_{ij}, \\  T{}^{i}{}_{j}\\right)$"
      ],
      "text/plain": [
       "⎛ ij        i ⎞\n",
       "⎜T  , T  , T  ⎟\n",
       "⎝      ij    j⎠"
      ]
     },
     "execution_count": 11,
     "metadata": {},
     "output_type": "execute_result"
    }
   ],
   "source": [
    "i = TensorIndex('i', gij, is_up=True)\n",
    "j, k  = tensor_indices('j, k', gij)\n",
    "T = TensorHead('T', [gij, gij])\n",
    "T(i, j), T(-i, -j), T(i, -j)"
   ]
  },
  {
   "cell_type": "code",
   "execution_count": 12,
   "metadata": {},
   "outputs": [
    {
     "data": {
      "image/png": "[encoded data removed]",
      "text/latex": [
       "$\\displaystyle KD{}_{ig_{0}}T{}^{g_{0}k}$"
      ],
      "text/plain": [
       "       g₀k\n",
       "KD   ⋅T   \n",
       "  ig₀     "
      ]
     },
     "execution_count": 12,
     "metadata": {},
     "output_type": "execute_result"
    }
   ],
   "source": [
    "δ(-i,-j)*T(j, k)"
   ]
  },
  {
   "cell_type": "code",
   "execution_count": 13,
   "metadata": {},
   "outputs": [
    {
     "data": {
      "image/png": "[encoded data removed]",
      "text/latex": [
       "$\\displaystyle KD{}_{ig_{0}}g{}^{g_{0}k}$"
      ],
      "text/plain": [
       "       g₀k\n",
       "KD   ⋅g   \n",
       "  ig₀     "
      ]
     },
     "execution_count": 13,
     "metadata": {},
     "output_type": "execute_result"
    }
   ],
   "source": [
    "δ(-i,-j)*g(j, k)"
   ]
  },
  {
   "cell_type": "code",
   "execution_count": 14,
   "metadata": {},
   "outputs": [
    {
     "data": {
      "image/png": "[encoded data removed]",
      "text/latex": [
       "$\\displaystyle g{}_{ig_{0}}T{}^{g_{0}k}$"
      ],
      "text/plain": [
       "      g₀k\n",
       "g   ⋅T   \n",
       " ig₀     "
      ]
     },
     "execution_count": 14,
     "metadata": {},
     "output_type": "execute_result"
    }
   ],
   "source": [
    "g(-i,-j)*T(j, k)"
   ]
  },
  {
   "cell_type": "markdown",
   "metadata": {},
   "source": [
    "Un tensor totalmente antisimétrico de rango 2"
   ]
  },
  {
   "cell_type": "code",
   "execution_count": 15,
   "metadata": {},
   "outputs": [],
   "source": [
    "asym2 = TensorSymmetry.fully_symmetric(-2)"
   ]
  },
  {
   "cell_type": "markdown",
   "metadata": {},
   "source": [
    "Lo que viene a continuación es definir  un diccionario de reemplazos para llevar la cuenta de las matrices a utilizar para los reemplazos en la expresión tensorial. \n",
    "\n",
    "El TensorIndexType está asociado a la métrica utilizada para las contracciones (en forma totalmente covariante):"
   ]
  },
  {
   "cell_type": "code",
   "execution_count": 16,
   "metadata": {},
   "outputs": [],
   "source": [
    "repl = {gij: diag(1, 1, 1,)}"
   ]
  },
  {
   "cell_type": "markdown",
   "metadata": {},
   "source": [
    "Veamos un ejemplos  con componentes con el tensor $F$ antisimétrico de rango 2:"
   ]
  },
  {
   "cell_type": "code",
   "execution_count": 17,
   "metadata": {},
   "outputs": [],
   "source": [
    "Ax, Ay, Bx, By = symbols('A_x A_y B_x B_y')\n",
    "F = TensorHead('F', [gij, gij], asym2)\n",
    "repl.update({F(-i, -j): [\n",
    "[0, Ax, Ay],\n",
    "[-Ax, 0, -By],\n",
    "[-Ay, By, 0]]})"
   ]
  },
  {
   "cell_type": "markdown",
   "metadata": {},
   "source": [
    "Ahora es posible recuperar la forma contravariante del tensor $F$:"
   ]
  },
  {
   "cell_type": "code",
   "execution_count": 18,
   "metadata": {},
   "outputs": [
    {
     "data": {
      "image/png": "[encoded data removed]",
      "text/latex": [
       "$\\displaystyle \\left[\\begin{matrix}0 & A_{x} & A_{y}\\\\- A_{x} & 0 & - B_{y}\\\\- A_{y} & B_{y} & 0\\end{matrix}\\right]$"
      ],
      "text/plain": [
       "⎡ 0    Aₓ   A_y ⎤\n",
       "⎢               ⎥\n",
       "⎢-Aₓ    0   -B_y⎥\n",
       "⎢               ⎥\n",
       "⎣-A_y  B_y   0  ⎦"
      ]
     },
     "execution_count": 18,
     "metadata": {},
     "output_type": "execute_result"
    }
   ],
   "source": [
    "F(i, j).replace_with_arrays(repl, [i,j])"
   ]
  },
  {
   "cell_type": "markdown",
   "metadata": {},
   "source": [
    "O el tensor mixto"
   ]
  },
  {
   "cell_type": "code",
   "execution_count": 19,
   "metadata": {},
   "outputs": [
    {
     "data": {
      "image/png": "[encoded data removed]",
      "text/latex": [
       "$\\displaystyle \\left[\\begin{matrix}0 & A_{x} & A_{y}\\\\- A_{x} & 0 & - B_{y}\\\\- A_{y} & B_{y} & 0\\end{matrix}\\right]$"
      ],
      "text/plain": [
       "⎡ 0    Aₓ   A_y ⎤\n",
       "⎢               ⎥\n",
       "⎢-Aₓ    0   -B_y⎥\n",
       "⎢               ⎥\n",
       "⎣-A_y  B_y   0  ⎦"
      ]
     },
     "execution_count": 19,
     "metadata": {},
     "output_type": "execute_result"
    }
   ],
   "source": [
    "F(i, -j).replace_with_arrays(repl, [i,-j])"
   ]
  },
  {
   "cell_type": "markdown",
   "metadata": {},
   "source": [
    "Para calcular $F_{ i j}F^{i j }$"
   ]
  },
  {
   "cell_type": "code",
   "execution_count": 20,
   "metadata": {},
   "outputs": [
    {
     "data": {
      "image/png": "[encoded data removed]",
      "text/latex": [
       "$\\displaystyle 2 A_{x}^{2} + 2 A_{y}^{2} + 2 B_{y}^{2}$"
      ],
      "text/plain": [
       "    2        2        2\n",
       "2⋅Aₓ  + 2⋅A_y  + 2⋅B_y "
      ]
     },
     "execution_count": 20,
     "metadata": {},
     "output_type": "execute_result"
    }
   ],
   "source": [
    "(F(i,j)*F(-i,-j)).replace_with_arrays(repl, [])"
   ]
  },
  {
   "cell_type": "markdown",
   "metadata": {},
   "source": [
    "Para calcular $F^{i}_{j}F^{j}_k$"
   ]
  },
  {
   "cell_type": "code",
   "execution_count": 21,
   "metadata": {},
   "outputs": [
    {
     "data": {
      "image/png": "[encoded data removed]",
      "text/latex": [
       "$\\displaystyle \\left[\\begin{matrix}- A_{x}^{2} - A_{y}^{2} & A_{y} B_{y} & - A_{x} B_{y}\\\\A_{y} B_{y} & - A_{x}^{2} - B_{y}^{2} & - A_{x} A_{y}\\\\- A_{x} B_{y} & - A_{x} A_{y} & - A_{y}^{2} - B_{y}^{2}\\end{matrix}\\right]$"
      ],
      "text/plain": [
       "⎡    2      2                             ⎤\n",
       "⎢- Aₓ  - A_y     A_y⋅B_y        -Aₓ⋅B_y   ⎥\n",
       "⎢                                         ⎥\n",
       "⎢                  2      2               ⎥\n",
       "⎢  A_y⋅B_y     - Aₓ  - B_y      -Aₓ⋅A_y   ⎥\n",
       "⎢                                         ⎥\n",
       "⎢                                 2      2⎥\n",
       "⎣  -Aₓ⋅B_y       -Aₓ⋅A_y     - A_y  - B_y ⎦"
      ]
     },
     "execution_count": 21,
     "metadata": {},
     "output_type": "execute_result"
    }
   ],
   "source": [
    "(F(i,-j)*F(j, -k)).replace_with_arrays(repl, [])"
   ]
  },
  {
   "cell_type": "markdown",
   "metadata": {},
   "source": [
    "Definimos las componentes de la $\\delta$ de Kronecker"
   ]
  },
  {
   "cell_type": "code",
   "execution_count": 22,
   "metadata": {},
   "outputs": [],
   "source": [
    "D = TensorHead('D', [gij, gij])\n",
    "repl.update({D(i, j): [\n",
    "[1, 0, 0],\n",
    "[0, 1, 0],\n",
    "[0, 0, 1]]})"
   ]
  },
  {
   "cell_type": "code",
   "execution_count": 23,
   "metadata": {},
   "outputs": [
    {
     "data": {
      "image/png": "[encoded data removed]",
      "text/latex": [
       "$\\displaystyle \\left[\\begin{matrix}1 & 0 & 0\\\\0 & 1 & 0\\\\0 & 0 & 1\\end{matrix}\\right]$"
      ],
      "text/plain": [
       "⎡1  0  0⎤\n",
       "⎢       ⎥\n",
       "⎢0  1  0⎥\n",
       "⎢       ⎥\n",
       "⎣0  0  1⎦"
      ]
     },
     "execution_count": 23,
     "metadata": {},
     "output_type": "execute_result"
    }
   ],
   "source": [
    "D(i, -j).replace_with_arrays(repl, [i,-j])\n",
    "D(-i, -j).replace_with_arrays(repl, [-i,-j])"
   ]
  },
  {
   "cell_type": "markdown",
   "metadata": {},
   "source": [
    "Para calcular $F^{i j}\\delta_{i k}$"
   ]
  },
  {
   "cell_type": "code",
   "execution_count": 24,
   "metadata": {},
   "outputs": [
    {
     "data": {
      "image/png": "[encoded data removed]",
      "text/latex": [
       "$\\displaystyle \\left[\\begin{matrix}0 & - A_{x} & - A_{y}\\\\A_{x} & 0 & B_{y}\\\\A_{y} & - B_{y} & 0\\end{matrix}\\right]$"
      ],
      "text/plain": [
       "⎡ 0   -Aₓ   -A_y⎤\n",
       "⎢               ⎥\n",
       "⎢Aₓ    0    B_y ⎥\n",
       "⎢               ⎥\n",
       "⎣A_y  -B_y   0  ⎦"
      ]
     },
     "execution_count": 24,
     "metadata": {},
     "output_type": "execute_result"
    }
   ],
   "source": [
    "(F(i,j)*D(-i,-k)).replace_with_arrays(repl, [])"
   ]
  },
  {
   "cell_type": "markdown",
   "metadata": {},
   "source": [
    "La identidad $\\delta^{i j}\\delta_{i j}$"
   ]
  },
  {
   "cell_type": "code",
   "execution_count": 25,
   "metadata": {},
   "outputs": [
    {
     "data": {
      "image/png": "[encoded data removed]",
      "text/latex": [
       "$\\displaystyle 3$"
      ],
      "text/plain": [
       "3"
      ]
     },
     "execution_count": 25,
     "metadata": {},
     "output_type": "execute_result"
    }
   ],
   "source": [
    "(D(i,j)*D(-i,-j)).replace_with_arrays(repl, [])"
   ]
  }
 ],
 "metadata": {
  "colab": {
   "collapsed_sections": [
    "HS5j074Bpqw9",
    "M6k5DaB7AMNL",
    "IZBsDTb4E7U4",
    "Hn31KOmRS9EA",
    "A3ZNaLdqWeG5",
    "5Vs06j5DdIme",
    "ujW8a0HzkNuV"
   ],
   "provenance": [
    {
     "file_id": "1YrOBd8YdJ9P2aPSTRJEnMxLdlqznqh8y",
     "timestamp": 1694038709310
    }
   ]
  },
  "kernelspec": {
   "display_name": "Python 3 (ipykernel)",
   "language": "python",
   "name": "python3"
  },
  "language_info": {
   "codemirror_mode": {
    "name": "ipython",
    "version": 3
   },
   "file_extension": ".py",
   "mimetype": "text/x-python",
   "name": "python",
   "nbconvert_exporter": "python",
   "pygments_lexer": "ipython3",
   "version": "3.11.7"
  }
 },
 "nbformat": 4,
 "nbformat_minor": 1
}

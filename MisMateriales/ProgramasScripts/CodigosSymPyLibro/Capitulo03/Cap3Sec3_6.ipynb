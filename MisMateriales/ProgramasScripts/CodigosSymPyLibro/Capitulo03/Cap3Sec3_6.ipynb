{
 "cells": [
  {
   "cell_type": "markdown",
   "metadata": {},
   "source": [
    "Estudiaremos en este módulo como calcular transformadas integrales de Fourier.  \n",
    "\n",
    "\n",
    "Si $f(x)$ es una función definida en $(-\\infty, \\infty)$ la transformada de Fourier exponencial es:\n",
    "$$\n",
    "F(k)=\\frac{1}{\\sqrt{2\\pi}}\\int_{-\\infty}^{\\infty} f(x)\\ {\\rm e}^{-ikx} {\\rm d}x\n",
    "\\,\\, \\Leftrightarrow \\,\\, \n",
    "f(x)=\\frac{1}{\\sqrt{2\\pi}}\\int_{-\\infty}^{\\infty} F(k)\\ {\\rm e}^{ikx} {\\rm d}k\\,.\n",
    "$$\n",
    "\n",
    "Veamos algunos ejemplos:\n"
   ]
  },
  {
   "cell_type": "code",
   "execution_count": 1,
   "metadata": {},
   "outputs": [],
   "source": [
    "import sympy\n",
    "from sympy import *\n",
    "init_printing()"
   ]
  },
  {
   "cell_type": "markdown",
   "metadata": {},
   "source": [
    "1. Consideremos la siguiente función: \n",
    "$$\n",
    "f=x {\\rm e}^{-x^2} \\,, \\quad \\text{con  }  x \\in (-\\infty, \\infty) \\,.\n",
    "$$"
   ]
  },
  {
   "cell_type": "code",
   "execution_count": 2,
   "metadata": {},
   "outputs": [
    {
     "data": {
      "image/png": "[encoded data removed]",
      "text/latex": [
       "$\\displaystyle x e^{- x^{2}}$"
      ],
      "text/plain": [
       "     2\n",
       "   -x \n",
       "x⋅ℯ   "
      ]
     },
     "execution_count": 2,
     "metadata": {},
     "output_type": "execute_result"
    }
   ],
   "source": [
    "x,k = symbols('x k', positive=True)\n",
    "f = x*exp(-x**2)\n",
    "f"
   ]
  },
  {
   "cell_type": "markdown",
   "metadata": {},
   "source": [
    "Podemos intentar resolver la integral que define la transformada de Fourier de manera ``manual'' o directa:\n",
    "$$\n",
    "F(k)=\\frac{1}{\\sqrt{2\\pi}}\\int_{-\\infty}^{\\infty} f(x)\\ {\\rm e}^{-ikx} {\\rm d}x\n",
    "$$"
   ]
  },
  {
   "cell_type": "code",
   "execution_count": 3,
   "metadata": {},
   "outputs": [
    {
     "data": {
      "image/png": "[encoded data removed]",
      "text/latex": [
       "$\\displaystyle - \\frac{\\sqrt{2} i k e^{- \\frac{k^{2}}{4}}}{4}$"
      ],
      "text/plain": [
       "           2  \n",
       "         -k   \n",
       "         ──── \n",
       "          4   \n",
       "-√2⋅ⅈ⋅k⋅ℯ     \n",
       "──────────────\n",
       "      4       "
      ]
     },
     "execution_count": 3,
     "metadata": {},
     "output_type": "execute_result"
    }
   ],
   "source": [
    "F1=(1/(sqrt(2*pi))*integrate(exp(-I*k*x)*f,(x,-oo,oo))).factor()\n",
    "F1"
   ]
  },
  {
   "cell_type": "markdown",
   "metadata": {},
   "source": [
    "O utilizar la función de SymPy \"fourier_transform\""
   ]
  },
  {
   "cell_type": "code",
   "execution_count": 4,
   "metadata": {},
   "outputs": [
    {
     "data": {
      "image/png": "[encoded data removed]",
      "text/latex": [
       "$\\displaystyle - i \\pi^{\\frac{3}{2}} k e^{- \\pi^{2} k^{2}}$"
      ],
      "text/plain": [
       "             2  2\n",
       "    3/2    -π ⋅k \n",
       "-ⅈ⋅π   ⋅k⋅ℯ      "
      ]
     },
     "execution_count": 4,
     "metadata": {},
     "output_type": "execute_result"
    }
   ],
   "source": [
    "F1s = fourier_transform(f, x, k,simplify=True)\n",
    "F1s"
   ]
  },
  {
   "cell_type": "markdown",
   "metadata": {},
   "source": [
    "La transformada inversa"
   ]
  },
  {
   "cell_type": "code",
   "execution_count": 5,
   "metadata": {},
   "outputs": [
    {
     "data": {
      "image/png": "[encoded data removed]",
      "text/latex": [
       "$\\displaystyle x e^{- x^{2}}$"
      ],
      "text/plain": [
       "     2\n",
       "   -x \n",
       "x⋅ℯ   "
      ]
     },
     "execution_count": 5,
     "metadata": {},
     "output_type": "execute_result"
    }
   ],
   "source": [
    "inverse_fourier_transform(F1s, k, x)"
   ]
  },
  {
   "cell_type": "markdown",
   "metadata": {},
   "source": [
    "2. Consideremos ahora la siguiente función par: \n",
    "$$\n",
    "g(x)=x^2 {\\rm e}^{-|x|} \\,, \\quad \\text{con  }  x \\in (-\\infty, \\infty) \\,.\n",
    "$$"
   ]
  },
  {
   "cell_type": "code",
   "execution_count": 6,
   "metadata": {},
   "outputs": [
    {
     "data": {
      "image/png": "[encoded data removed]",
      "text/latex": [
       "$\\displaystyle x^{2} e^{- x}$"
      ],
      "text/plain": [
       " 2  -x\n",
       "x ⋅ℯ  "
      ]
     },
     "execution_count": 6,
     "metadata": {},
     "output_type": "execute_result"
    }
   ],
   "source": [
    "g= x**2*exp(-abs(x))\n",
    "g"
   ]
  },
  {
   "cell_type": "code",
   "execution_count": 7,
   "metadata": {},
   "outputs": [
    {
     "data": {
      "image/png": "[encoded data removed]",
      "text/latex": [
       "$\\displaystyle \\frac{\\sqrt{2} \\int\\limits_{-\\infty}^{\\infty} x^{2} e^{- x} e^{- i k x}\\, dx}{2 \\sqrt{\\pi}}$"
      ],
      "text/plain": [
       "   ∞                   \n",
       "   ⌠                   \n",
       "   ⎮   2  -x  -ⅈ⋅k⋅x   \n",
       "√2⋅⎮  x ⋅ℯ  ⋅ℯ       dx\n",
       "   ⌡                   \n",
       "   -∞                  \n",
       "───────────────────────\n",
       "          2⋅√π         "
      ]
     },
     "execution_count": 7,
     "metadata": {},
     "output_type": "execute_result"
    }
   ],
   "source": [
    "1/(sqrt(2*pi))*integrate(exp(-I*k*x)*g,(x,-oo,oo))"
   ]
  },
  {
   "cell_type": "markdown",
   "metadata": {},
   "source": [
    "SymPy no pudo hallar la integral"
   ]
  },
  {
   "cell_type": "code",
   "execution_count": 8,
   "metadata": {},
   "outputs": [
    {
     "data": {
      "image/png": "[encoded data removed]",
      "text/latex": [
       "$\\displaystyle \\mathcal{F}_{x}\\left[x^{2} e^{- x}\\right]\\left(k\\right)$"
      ],
      "text/plain": [
       "                ⎛ 2  -x      ⎞\n",
       "FourierTransform⎝x ⋅ℯ  , x, k⎠"
      ]
     },
     "execution_count": 8,
     "metadata": {},
     "output_type": "execute_result"
    }
   ],
   "source": [
    "fourier_transform(g, x, k)"
   ]
  },
  {
   "cell_type": "markdown",
   "metadata": {},
   "source": [
    "Y tampoco fuciona  \"fourier_transform\""
   ]
  },
  {
   "cell_type": "markdown",
   "metadata": {},
   "source": [
    "Pero notemos que se puede encontrar la tansformada coseno de de Fourier:"
   ]
  },
  {
   "cell_type": "code",
   "execution_count": 9,
   "metadata": {},
   "outputs": [
    {
     "data": {
      "image/png": "[encoded data removed]",
      "text/latex": [
       "$\\displaystyle - \\frac{2 \\sqrt{2} \\cdot \\left(3 k^{2} - 1\\right)}{\\sqrt{\\pi} \\left(k^{2} + 1\\right)^{3}}$"
      ],
      "text/plain": [
       "      ⎛   2    ⎞ \n",
       "-2⋅√2⋅⎝3⋅k  - 1⎠ \n",
       "─────────────────\n",
       "              3  \n",
       "      ⎛ 2    ⎞   \n",
       "   √π⋅⎝k  + 1⎠   "
      ]
     },
     "execution_count": 9,
     "metadata": {},
     "output_type": "execute_result"
    }
   ],
   "source": [
    "H=cosine_transform(g, x, k,simplify=True )\n",
    "H.factor()"
   ]
  },
  {
   "cell_type": "markdown",
   "metadata": {},
   "source": [
    "Salvo constantes, la transformada inversa de esta función es  $g(x)$"
   ]
  },
  {
   "cell_type": "code",
   "execution_count": 10,
   "metadata": {},
   "outputs": [
    {
     "data": {
      "image/png": "[encoded data removed]",
      "text/latex": [
       "$\\displaystyle 4 \\sqrt{2} \\pi^{\\frac{5}{2}} x^{2} e^{- 2 \\pi x}$"
      ],
      "text/plain": [
       "      5/2  2  -2⋅π⋅x\n",
       "4⋅√2⋅π   ⋅x ⋅ℯ      "
      ]
     },
     "execution_count": 10,
     "metadata": {},
     "output_type": "execute_result"
    }
   ],
   "source": [
    "inverse_fourier_transform(H, k, x)"
   ]
  },
  {
   "cell_type": "markdown",
   "metadata": {},
   "source": [
    "3.  Consideremos la siguiente función impar:\n",
    "$$\n",
    "f=x e^{-|x|} \\,.\n",
    "$$"
   ]
  },
  {
   "cell_type": "code",
   "execution_count": 11,
   "metadata": {},
   "outputs": [
    {
     "data": {
      "image/png": "[encoded data removed]",
      "text/latex": [
       "$\\displaystyle x e^{- x}$"
      ],
      "text/plain": [
       "   -x\n",
       "x⋅ℯ  "
      ]
     },
     "execution_count": 11,
     "metadata": {},
     "output_type": "execute_result"
    }
   ],
   "source": [
    "f=x*exp(-abs(x))\n",
    "f"
   ]
  },
  {
   "cell_type": "code",
   "execution_count": 12,
   "metadata": {},
   "outputs": [
    {
     "data": {
      "image/png": "[encoded data removed]",
      "text/latex": [
       "$\\displaystyle \\frac{\\sqrt{2} \\int\\limits_{-\\infty}^{\\infty} x e^{- x} e^{- i k x}\\, dx}{2 \\sqrt{\\pi}}$"
      ],
      "text/plain": [
       "   ∞                  \n",
       "   ⌠                  \n",
       "   ⎮     -x  -ⅈ⋅k⋅x   \n",
       "√2⋅⎮  x⋅ℯ  ⋅ℯ       dx\n",
       "   ⌡                  \n",
       "   -∞                 \n",
       "──────────────────────\n",
       "         2⋅√π         "
      ]
     },
     "execution_count": 12,
     "metadata": {},
     "output_type": "execute_result"
    }
   ],
   "source": [
    "1/(sqrt(2*pi))*integrate(exp(-I*k*x)*f,(x,-oo,oo))"
   ]
  },
  {
   "cell_type": "code",
   "execution_count": 13,
   "metadata": {},
   "outputs": [
    {
     "data": {
      "image/png": "[encoded data removed]",
      "text/latex": [
       "$\\displaystyle \\mathcal{F}_{x}\\left[x e^{- x}\\right]\\left(k\\right)$"
      ],
      "text/plain": [
       "                ⎛   -x      ⎞\n",
       "FourierTransform⎝x⋅ℯ  , x, k⎠"
      ]
     },
     "execution_count": 13,
     "metadata": {},
     "output_type": "execute_result"
    }
   ],
   "source": [
    "fourier_transform(f, x, k)"
   ]
  },
  {
   "cell_type": "code",
   "execution_count": 14,
   "metadata": {},
   "outputs": [
    {
     "data": {
      "image/png": "[encoded data removed]",
      "text/latex": [
       "$\\displaystyle \\frac{2 \\sqrt{2} k}{\\sqrt{\\pi} \\left(k^{2} + 1\\right)^{2}}$"
      ],
      "text/plain": [
       "   2⋅√2⋅k   \n",
       "────────────\n",
       "           2\n",
       "   ⎛ 2    ⎞ \n",
       "√π⋅⎝k  + 1⎠ "
      ]
     },
     "execution_count": 14,
     "metadata": {},
     "output_type": "execute_result"
    }
   ],
   "source": [
    "G=sine_transform(f, x, k,simplify=True )\n",
    "G.factor()"
   ]
  },
  {
   "cell_type": "code",
   "execution_count": 15,
   "metadata": {},
   "outputs": [
    {
     "data": {
      "image/png": "[encoded data removed]",
      "text/latex": [
       "$\\displaystyle 2 \\sqrt{2} i \\pi^{\\frac{3}{2}} x e^{- 2 \\pi x}$"
      ],
      "text/plain": [
       "        3/2    -2⋅π⋅x\n",
       "2⋅√2⋅ⅈ⋅π   ⋅x⋅ℯ      "
      ]
     },
     "execution_count": 15,
     "metadata": {},
     "output_type": "execute_result"
    }
   ],
   "source": [
    "inverse_fourier_transform(G, k, x)"
   ]
  },
  {
   "cell_type": "markdown",
   "metadata": {},
   "source": [
    "De nuevo, la transformada inversa de esta función es la función original."
   ]
  },
  {
   "cell_type": "markdown",
   "metadata": {},
   "source": [
    "4.  Resolvamos ahora el ejemplo \\ref{ejemplo5s35} donde la función era:\n",
    "$$\n",
    "f(t)=\\sin (\\omega_0 t) \\,.\n",
    "$$"
   ]
  },
  {
   "cell_type": "code",
   "execution_count": 16,
   "metadata": {},
   "outputs": [
    {
     "data": {
      "image/png": "[encoded data removed]",
      "text/latex": [
       "$\\displaystyle \\sin{\\left(t ω_{0} \\right)}$"
      ],
      "text/plain": [
       "sin(t⋅ω₀)"
      ]
     },
     "execution_count": 16,
     "metadata": {},
     "output_type": "execute_result"
    }
   ],
   "source": [
    "ω0,t,n,ω = symbols('ω0 t n ω', real=True)\n",
    "f = sin(ω0*t)\n",
    "f"
   ]
  },
  {
   "cell_type": "code",
   "execution_count": 17,
   "metadata": {},
   "outputs": [
    {
     "data": {
      "image/png": "[encoded data removed]",
      "text/latex": [
       "$\\displaystyle \\mathcal{SIN}_{t}\\left[\\sin{\\left(t ω_{0} \\right)}\\right]\\left(k\\right)$"
      ],
      "text/plain": [
       "SineTransform(sin(t⋅ω₀), t, k)"
      ]
     },
     "execution_count": 17,
     "metadata": {},
     "output_type": "execute_result"
    }
   ],
   "source": [
    "sine_transform(f, t, k,simplify=True )"
   ]
  },
  {
   "cell_type": "code",
   "execution_count": 18,
   "metadata": {},
   "outputs": [
    {
     "data": {
      "image/png": "[encoded data removed]",
      "text/latex": [
       "$\\displaystyle \\frac{\\pi n}{ω_{0}}$"
      ],
      "text/plain": [
       "π⋅n\n",
       "───\n",
       " ω₀"
      ]
     },
     "execution_count": 18,
     "metadata": {},
     "output_type": "execute_result"
    }
   ],
   "source": [
    "τ = n*pi/ω0\n",
    "τ"
   ]
  },
  {
   "cell_type": "markdown",
   "metadata": {},
   "source": [
    "Podemos intentar hacer la integral:\n",
    "$$\n",
    "\\sqrt{\\frac{{2}}{\\pi}} \\int_{0}^{\\tau}\\sin(tω)f(t) \\ dt\n",
    "$$"
   ]
  },
  {
   "cell_type": "code",
   "execution_count": 19,
   "metadata": {},
   "outputs": [
    {
     "data": {
      "text/latex": [
       "$\\displaystyle \\frac{\\sqrt{2} \\left(\\begin{cases} 0 & \\text{for}\\: \\left(ω = 0 \\wedge ω_{0} = 0\\right) \\vee \\left(ω = 0 \\wedge ω = ω_{0} \\wedge ω_{0} = 0\\right) \\vee \\left(ω = 0 \\wedge ω = - ω_{0} \\wedge ω_{0} = 0\\right) \\vee \\left(ω = 0 \\wedge ω = - ω_{0} \\wedge ω = ω_{0} \\wedge ω_{0} = 0\\right) \\\\- \\frac{\\pi n \\sin^{2}{\\left(\\pi n \\right)}}{2 ω_{0}} - \\frac{\\pi n \\cos^{2}{\\left(\\pi n \\right)}}{2 ω_{0}} + \\frac{\\sin{\\left(\\pi n \\right)} \\cos{\\left(\\pi n \\right)}}{2 ω_{0}} & \\text{for}\\: \\left(ω = 0 \\wedge ω = - ω_{0}\\right) \\vee \\left(ω = - ω_{0} \\wedge ω = ω_{0}\\right) \\vee \\left(ω = - ω_{0} \\wedge ω_{0} = 0\\right) \\vee \\left(ω = 0 \\wedge ω = - ω_{0} \\wedge ω = ω_{0}\\right) \\vee \\left(ω = - ω_{0} \\wedge ω = ω_{0} \\wedge ω_{0} = 0\\right) \\vee ω = - ω_{0} \\\\\\frac{\\pi n \\sin^{2}{\\left(\\pi n \\right)}}{2 ω_{0}} + \\frac{\\pi n \\cos^{2}{\\left(\\pi n \\right)}}{2 ω_{0}} - \\frac{\\sin{\\left(\\pi n \\right)} \\cos{\\left(\\pi n \\right)}}{2 ω_{0}} & \\text{for}\\: \\left(ω = 0 \\wedge ω = ω_{0}\\right) \\vee \\left(ω = ω_{0} \\wedge ω_{0} = 0\\right) \\vee ω = ω_{0} \\\\\\frac{ω \\sin{\\left(\\pi n \\right)} \\cos{\\left(\\frac{\\pi n ω}{ω_{0}} \\right)}}{- ω^{2} + ω_{0}^{2}} - \\frac{ω_{0} \\sin{\\left(\\frac{\\pi n ω}{ω_{0}} \\right)} \\cos{\\left(\\pi n \\right)}}{- ω^{2} + ω_{0}^{2}} & \\text{otherwise} \\end{cases}\\right)}{\\sqrt{\\pi}}$"
      ],
      "text/plain": [
       "   ⎛⎧                         0                                   for (ω = 0 ∧\n",
       "   ⎜⎪                                                                         \n",
       "   ⎜⎪         2               2                                               \n",
       "   ⎜⎪  π⋅n⋅sin (π⋅n)   π⋅n⋅cos (π⋅n)   sin(π⋅n)⋅cos(π⋅n)                      \n",
       "   ⎜⎪- ───────────── - ───────────── + ─────────────────  for (ω = 0 ∧ ω = -ω₀\n",
       "   ⎜⎪       2⋅ω₀            2⋅ω₀              2⋅ω₀                            \n",
       "   ⎜⎪                                                                         \n",
       "   ⎜⎪        2               2                                                \n",
       "   ⎜⎪ π⋅n⋅sin (π⋅n)   π⋅n⋅cos (π⋅n)   sin(π⋅n)⋅cos(π⋅n)                       \n",
       "√2⋅⎜⎨ ───────────── + ───────────── - ─────────────────                       \n",
       "   ⎜⎪      2⋅ω₀            2⋅ω₀              2⋅ω₀                             \n",
       "   ⎜⎪                                                                         \n",
       "   ⎜⎪                ⎛π⋅n⋅ω⎞         ⎛π⋅n⋅ω⎞                                  \n",
       "   ⎜⎪  ω⋅sin(π⋅n)⋅cos⎜─────⎟   ω₀⋅sin⎜─────⎟⋅cos(π⋅n)                         \n",
       "   ⎜⎪                ⎝  ω₀ ⎠         ⎝  ω₀ ⎠                                  \n",
       "   ⎜⎪  ───────────────────── - ──────────────────────                         \n",
       "   ⎜⎪           2     2                 2     2                               \n",
       "   ⎜⎪        - ω  + ω₀               - ω  + ω₀                                \n",
       "   ⎝⎩                                                                         \n",
       "──────────────────────────────────────────────────────────────────────────────\n",
       "                                                                              \n",
       "\n",
       " ω₀ = 0) ∨ (ω = 0 ∧ ω = ω₀ ∧ ω₀ = 0) ∨ (ω = 0 ∧ ω = -ω₀ ∧ ω₀ = 0) ∨ (ω = 0 ∧ ω\n",
       "                                                                              \n",
       "                                                                              \n",
       "                                                                              \n",
       ") ∨ (ω = -ω₀ ∧ ω = ω₀) ∨ (ω = -ω₀ ∧ ω₀ = 0) ∨ (ω = 0 ∧ ω = -ω₀ ∧ ω = ω₀) ∨ (ω \n",
       "                                                                              \n",
       "                                                                              \n",
       "                                                                              \n",
       "                                                                              \n",
       "                     for (ω = 0 ∧ ω = ω₀) ∨ (ω = ω₀ ∧ ω₀ = 0) ∨ ω = ω₀        \n",
       "                                                                              \n",
       "                                                                              \n",
       "                                                                              \n",
       "                                                                              \n",
       "                                                                              \n",
       "                                         otherwise                            \n",
       "                                                                              \n",
       "                                                                              \n",
       "                                                                              \n",
       "──────────────────────────────────────────────────────────────────────────────\n",
       "                 √π                                                           \n",
       "\n",
       " = -ω₀ ∧ ω = ω₀ ∧ ω₀ = 0)         ⎞\n",
       "                                  ⎟\n",
       "                                  ⎟\n",
       "                                  ⎟\n",
       "= -ω₀ ∧ ω = ω₀ ∧ ω₀ = 0) ∨ ω = -ω₀⎟\n",
       "                                  ⎟\n",
       "                                  ⎟\n",
       "                                  ⎟\n",
       "                                  ⎟\n",
       "                                  ⎟\n",
       "                                  ⎟\n",
       "                                  ⎟\n",
       "                                  ⎟\n",
       "                                  ⎟\n",
       "                                  ⎟\n",
       "                                  ⎟\n",
       "                                  ⎟\n",
       "                                  ⎟\n",
       "                                  ⎠\n",
       "───────────────────────────────────\n",
       "                                   "
      ]
     },
     "execution_count": 19,
     "metadata": {},
     "output_type": "execute_result"
    }
   ],
   "source": [
    "res=sqrt(2/pi)*(integrate(sin(t*ω)*f,(t,0,τ)))\n",
    "res"
   ]
  },
  {
   "cell_type": "code",
   "execution_count": 20,
   "metadata": {},
   "outputs": [
    {
     "name": "stdout",
     "output_type": "stream",
     "text": [
      "Piecewise((0, (Eq(ω, 0) & Eq(ω0, 0)) | (Eq(ω, 0) & Eq(ω, ω0) & Eq(ω0, 0)) | (Eq(ω, 0) & Eq(ω0, 0) & Eq(ω, -ω0)) | (Eq(ω, 0) & Eq(ω, ω0) & Eq(ω0, 0) & Eq(ω, -ω0))), (sqrt(2)*(-pi*n*sin(pi*n)**2/(2*ω0) - pi*n*cos(pi*n)**2/(2*ω0) + sin(pi*n)*cos(pi*n)/(2*ω0))/sqrt(pi), Eq(ω, -ω0) | (Eq(ω, 0) & Eq(ω, -ω0)) | (Eq(ω, ω0) & Eq(ω, -ω0)) | (Eq(ω0, 0) & Eq(ω, -ω0)) | (Eq(ω, 0) & Eq(ω, ω0) & Eq(ω, -ω0)) | (Eq(ω, ω0) & Eq(ω0, 0) & Eq(ω, -ω0))), (sqrt(2)*(pi*n*sin(pi*n)**2/(2*ω0) + pi*n*cos(pi*n)**2/(2*ω0) - sin(pi*n)*cos(pi*n)/(2*ω0))/sqrt(pi), Eq(ω, ω0) | (Eq(ω, 0) & Eq(ω, ω0)) | (Eq(ω, ω0) & Eq(ω0, 0))), (sqrt(2)*(ω*sin(pi*n)*cos(pi*n*ω/ω0)/(-ω**2 + ω0**2) - ω0*sin(pi*n*ω/ω0)*cos(pi*n)/(-ω**2 + ω0**2))/sqrt(pi), True))\n"
     ]
    }
   ],
   "source": [
    "partes=piecewise_fold(res)\n",
    "print(partes)"
   ]
  },
  {
   "cell_type": "code",
   "execution_count": 21,
   "metadata": {},
   "outputs": [
    {
     "data": {
      "image/png": "[encoded data removed]",
      "text/latex": [
       "$\\displaystyle \\frac{\\sqrt{2} \\left(- \\frac{ω \\sin{\\left(\\pi n \\right)} \\cos{\\left(\\frac{\\pi n ω}{ω_{0}} \\right)}}{ω^{2} - ω_{0}^{2}} + \\frac{ω_{0} \\sin{\\left(\\frac{\\pi n ω}{ω_{0}} \\right)} \\cos{\\left(\\pi n \\right)}}{ω^{2} - ω_{0}^{2}}\\right)}{\\sqrt{\\pi}}$"
      ],
      "text/plain": [
       "   ⎛                ⎛π⋅n⋅ω⎞         ⎛π⋅n⋅ω⎞         ⎞\n",
       "   ⎜  ω⋅sin(π⋅n)⋅cos⎜─────⎟   ω₀⋅sin⎜─────⎟⋅cos(π⋅n)⎟\n",
       "   ⎜                ⎝  ω₀ ⎠         ⎝  ω₀ ⎠         ⎟\n",
       "√2⋅⎜- ───────────────────── + ──────────────────────⎟\n",
       "   ⎜          2     2                 2     2       ⎟\n",
       "   ⎝         ω  - ω₀                 ω  - ω₀        ⎠\n",
       "─────────────────────────────────────────────────────\n",
       "                          √π                         "
      ]
     },
     "execution_count": 21,
     "metadata": {},
     "output_type": "execute_result"
    }
   ],
   "source": [
    "F=(sqrt(2)*(-ω*sin(pi*n)*cos(pi*n*ω/ω0)/(ω**2 - ω0**2) + ω0*sin(pi*n*ω/ω0)*cos(pi*n)/(ω**2 - ω0**2))/sqrt(pi))\n",
    "F"
   ]
  },
  {
   "cell_type": "code",
   "execution_count": 22,
   "metadata": {},
   "outputs": [],
   "source": [
    "n=6\n",
    "ω0=pi"
   ]
  },
  {
   "cell_type": "code",
   "execution_count": 23,
   "metadata": {},
   "outputs": [
    {
     "data": {
      "image/png": "[encoded data removed]",
      "text/latex": [
       "$\\displaystyle \\frac{\\sqrt{2} \\sqrt{\\pi} \\sin{\\left(6 ω \\right)}}{ω^{2} - \\pi^{2}}$"
      ],
      "text/plain": [
       "√2⋅√π⋅sin(6⋅ω)\n",
       "──────────────\n",
       "    2    2    \n",
       "   ω  - π     "
      ]
     },
     "execution_count": 23,
     "metadata": {},
     "output_type": "execute_result"
    }
   ],
   "source": [
    "F=(sqrt(2)*(-ω*sin(pi*n)*cos(pi*n*ω/ω0)/(ω**2 - ω0**2) + ω0*sin(pi*n*ω/ω0)*cos(pi*n)/(ω**2 - ω0**2))/sqrt(pi))\n",
    "F"
   ]
  },
  {
   "cell_type": "code",
   "execution_count": 24,
   "metadata": {},
   "outputs": [
    {
     "data": {
      "image/png": "[encoded data removed]",
      "text/plain": [
       "<Figure size 640x480 with 1 Axes>"
      ]
     },
     "metadata": {},
     "output_type": "display_data"
    },
    {
     "data": {
      "text/plain": [
       "<sympy.plotting.plot.Plot at 0x10e6d4b90>"
      ]
     },
     "execution_count": 24,
     "metadata": {},
     "output_type": "execute_result"
    }
   ],
   "source": [
    "plot(F,(ω,0,3*pi))"
   ]
  }
 ],
 "metadata": {
  "colab": {
   "collapsed_sections": [
    "HS5j074Bpqw9",
    "M6k5DaB7AMNL",
    "IZBsDTb4E7U4",
    "Hn31KOmRS9EA",
    "A3ZNaLdqWeG5",
    "5Vs06j5DdIme",
    "ujW8a0HzkNuV"
   ],
   "provenance": [
    {
     "file_id": "1YrOBd8YdJ9P2aPSTRJEnMxLdlqznqh8y",
     "timestamp": 1694038709310
    }
   ]
  },
  "kernelspec": {
   "display_name": "Python 3 (ipykernel)",
   "language": "python",
   "name": "python3"
  },
  "language_info": {
   "codemirror_mode": {
    "name": "ipython",
    "version": 3
   },
   "file_extension": ".py",
   "mimetype": "text/x-python",
   "name": "python",
   "nbconvert_exporter": "python",
   "pygments_lexer": "ipython3",
   "version": "3.11.7"
  }
 },
 "nbformat": 4,
 "nbformat_minor": 1
}

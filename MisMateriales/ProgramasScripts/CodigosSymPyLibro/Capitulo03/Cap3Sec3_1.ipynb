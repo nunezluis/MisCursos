{
 "cells": [
  {
   "cell_type": "markdown",
   "metadata": {
    "id": "aleOVKzP-8kQ"
   },
   "source": [
    "1. Tenemos para el espacio vectorial $\\boldsymbol{V}=\\mathbb{R}^3$, la base ortogonal:\n",
    "$$\n",
    "\\left|\\mathrm{e}_1\\right\\rangle=(1,1,-1),\\left|\\mathrm{e}_2\\right\\rangle=(2,-1,1),\\left|\\mathrm{e}_3\\right\\rangle=(0,-1,-1) .\n",
    "$$\n",
    "\n",
    "Con $\\mathcal{F} \\in \\boldsymbol{V}^{\\star}$ donde $\\mathcal{F}[\\mathrm{o}] \\equiv\\langle F| \\leftrightarrow\\left(w_1, w_2, w_3\\right)$ y $\\left\\langle\\hat{\\mathrm{e}}^i\\right|=\\left(a_i, b_i, c_i\\right)$, con $\\left\\langle\\hat{\\mathrm{e}}^i \\mid \\hat{\\mathrm{e}}_j\\right\\rangle=\\delta_j^i$."
   ]
  },
  {
   "cell_type": "code",
   "execution_count": 1,
   "metadata": {
    "id": "604d4rBS80_Y"
   },
   "outputs": [],
   "source": [
    "import sympy\n",
    "from sympy import *"
   ]
  },
  {
   "cell_type": "markdown",
   "metadata": {
    "id": "oLNHFfRNpqxC"
   },
   "source": [
    "Comencemos introduciendo los vectores en las filas de matriz, pero los vectores ya normalizados."
   ]
  },
  {
   "cell_type": "code",
   "execution_count": 2,
   "metadata": {
    "id": "gKVSMC2sCM_g"
   },
   "outputs": [
    {
     "data": {
      "text/latex": [
       "$\\displaystyle \\left[\\begin{matrix}\\frac{\\sqrt{3}}{3} & \\frac{\\sqrt{3}}{3} & - \\frac{\\sqrt{3}}{3}\\\\\\frac{\\sqrt{6}}{3} & - \\frac{\\sqrt{6}}{6} & \\frac{\\sqrt{6}}{6}\\\\0 & - \\frac{\\sqrt{2}}{2} & - \\frac{\\sqrt{2}}{2}\\end{matrix}\\right]$"
      ],
      "text/plain": [
       "Matrix([\n",
       "[sqrt(3)/3,  sqrt(3)/3, -sqrt(3)/3],\n",
       "[sqrt(6)/3, -sqrt(6)/6,  sqrt(6)/6],\n",
       "[        0, -sqrt(2)/2, -sqrt(2)/2]])"
      ]
     },
     "execution_count": 2,
     "metadata": {},
     "output_type": "execute_result"
    }
   ],
   "source": [
    "E = Matrix([[1/sqrt(3),1/sqrt(3),-1/sqrt(3)], [2/sqrt(6),-1/sqrt(6),1/sqrt(6)], [0,-1/sqrt(2),-1/sqrt(2)]])\n",
    "E"
   ]
  },
  {
   "cell_type": "code",
   "execution_count": 3,
   "metadata": {},
   "outputs": [],
   "source": [
    "a1, b1, c1 = symbols('a1 b1 c1')\n",
    "t1= Matrix([[a1], [b1], [c1]])"
   ]
  },
  {
   "cell_type": "markdown",
   "metadata": {
    "id": "YmITKKB7FeAC"
   },
   "source": [
    "De manera que podemos construir una nueva matriz pero donde cada fila contenga cada una de las ecuaciones que queremos resolver"
   ]
  },
  {
   "cell_type": "code",
   "execution_count": 4,
   "metadata": {},
   "outputs": [],
   "source": [
    "M1=E*t1\n",
    "ec1=Eq(M1[0],1)\n",
    "ec2=Eq(M1[1],0)\n",
    "ec3=Eq(M1[2],0)"
   ]
  },
  {
   "cell_type": "markdown",
   "metadata": {},
   "source": [
    "Resolvemos este sistema de ecuaciones:"
   ]
  },
  {
   "cell_type": "code",
   "execution_count": 5,
   "metadata": {},
   "outputs": [
    {
     "data": {
      "text/plain": [
       "[(sqrt(3)/3, sqrt(3)/3, -sqrt(3)/3)]"
      ]
     },
     "execution_count": 5,
     "metadata": {},
     "output_type": "execute_result"
    }
   ],
   "source": [
    "sol1=list(linsolve([ec1,ec2,ec3],[a1,b1,c1]))\n",
    "sol1"
   ]
  },
  {
   "cell_type": "markdown",
   "metadata": {},
   "source": [
    "Debemos repetir  los pasos anteriores dos veces más. "
   ]
  },
  {
   "cell_type": "code",
   "execution_count": 6,
   "metadata": {},
   "outputs": [],
   "source": [
    "a2, b2, c2 = symbols('a2 b2 c2')\n",
    "t2= Matrix([[a2], [b2], [c2]])\n",
    "M2=E*t2\n",
    "ec4=Eq(M2[0],0)\n",
    "ec5=Eq(M2[1],1)\n",
    "ec6=Eq(M2[2],0)\n",
    "sol2=list(linsolve([ec4,ec5,ec6],[a2,b2,c2]))"
   ]
  },
  {
   "cell_type": "code",
   "execution_count": 7,
   "metadata": {},
   "outputs": [],
   "source": [
    "a3, b3, c3 = symbols('a3 b3 c3')\n",
    "t3= Matrix([[a3], [b3], [c3]])\n",
    "M3=E*t3\n",
    "ec7=Eq(M3[0],0)\n",
    "ec8=Eq(M3[1],0)\n",
    "ec9=Eq(M3[2],1)\n",
    "sol3=list(linsolve([ec7,ec8,ec9],[a3,b3,c3]))"
   ]
  },
  {
   "cell_type": "code",
   "execution_count": 8,
   "metadata": {},
   "outputs": [],
   "source": [
    "d1 = Matrix(list(sol1)[0])\n",
    "d2 = Matrix(list(sol2)[0])\n",
    "d3 = Matrix(list(sol3)[0])"
   ]
  },
  {
   "cell_type": "markdown",
   "metadata": {},
   "source": [
    "Podemos ver que son unitarios "
   ]
  },
  {
   "cell_type": "code",
   "execution_count": 9,
   "metadata": {},
   "outputs": [
    {
     "data": {
      "text/plain": [
       "(0, 0, 0)"
      ]
     },
     "execution_count": 9,
     "metadata": {},
     "output_type": "execute_result"
    }
   ],
   "source": [
    "d1.dot(d2), d1.dot(d3), d3.dot(d2)"
   ]
  },
  {
   "cell_type": "markdown",
   "metadata": {},
   "source": [
    "y mutuamente ortogonales"
   ]
  },
  {
   "cell_type": "code",
   "execution_count": 10,
   "metadata": {},
   "outputs": [
    {
     "data": {
      "text/plain": [
       "(1, 1, 1)"
      ]
     },
     "execution_count": 10,
     "metadata": {},
     "output_type": "execute_result"
    }
   ],
   "source": [
    "d1.dot(d1), d2.dot(d2), d3.dot(d3)"
   ]
  },
  {
   "cell_type": "markdown",
   "metadata": {},
   "source": [
    "También podemos reducir todo lo anterior a un programa "
   ]
  },
  {
   "cell_type": "code",
   "execution_count": 11,
   "metadata": {},
   "outputs": [
    {
     "name": "stdout",
     "output_type": "stream",
     "text": [
      "Base Dual:\n",
      "d1 = Matrix([[sqrt(3)/3], [sqrt(3)/3], [-sqrt(3)/3]])\n",
      "d2 = Matrix([[sqrt(6)/3], [-sqrt(6)/6], [sqrt(6)/6]])\n",
      "d3 = Matrix([[0], [-sqrt(2)/2], [-sqrt(2)/2]])\n",
      "\n",
      "Productos internos de los vectores de la base dual con ellos mismos:\n",
      "d1.dot(d1) = 1\n",
      "d2.dot(d2) = 0\n",
      "d3.dot(d3) = 0\n",
      "d4.dot(d4) = 1\n",
      "d5.dot(d5) = 0\n",
      "d6.dot(d6) = 1\n"
     ]
    }
   ],
   "source": [
    "# Sw define una matriz E que representa la base ortonormal\n",
    "E = Matrix([[1/sqrt(3), 1/sqrt(3), -1/sqrt(3)],\n",
    "            [2/sqrt(6), -1/sqrt(6), 1/sqrt(6)],\n",
    "            [0, -1/sqrt(2), -1/sqrt(2)]])\n",
    "\n",
    "# Definir las variables simbólicas\n",
    "a, b, c = symbols('a b c')\n",
    "\n",
    "# Inicializar una lista para almacenar las soluciones de la base dual\n",
    "dual_basis = []\n",
    "\n",
    "# Iterar sobre cada columna de la matriz E para calcular las ecuaciones y las soluciones\n",
    "for i in range(E.shape[1]):\n",
    "    # Definir las variables simbólicas para la nueva columna\n",
    "    t = Matrix([a, b, c])\n",
    "    # Calcular el producto matriz-vector para obtener la nueva columna\n",
    "    M = E * t\n",
    "    # Definir las ecuaciones para igualar cada componente a 0 o 1 según corresponda\n",
    "    equations = [Eq(M[j], 1 if j == i else 0) for j in range(E.shape[0])]\n",
    "    # Resolver el sistema de ecuaciones\n",
    "    sol = linsolve(equations, (a, b, c))\n",
    "    # Agregar la solución a la lista de la base dual\n",
    "    dual_basis.append(Matrix(list(sol)[0]))\n",
    "\n",
    "# Calcular los productos internos de los vectores de la base dual con ellos mismos\n",
    "dot_products = [(dual_basis[i].dot(dual_basis[j])) for i in range(len(dual_basis)) for j in range(i, len(dual_basis))]\n",
    "\n",
    "# Mostrar los resultados\n",
    "print(\"Base Dual:\")\n",
    "for i, vector in enumerate(dual_basis, 1):\n",
    "    print(f\"d{i} =\", vector)\n",
    "\n",
    "print(\"\\nProductos internos de los vectores de la base dual con ellos mismos:\")\n",
    "for i, product in enumerate(dot_products):\n",
    "    print(f\"d{i+1}.dot(d{i+1}) =\", product)"
   ]
  },
  {
   "cell_type": "markdown",
   "metadata": {},
   "source": [
    "2. En este ejercicio veremos la manera de construir la matriz de transformación entre bases y el cálculo de las bases recíprocas. \n",
    "\n",
    "Si tenemos la siguientes bases:\n",
    "$$\n",
    " |\\mathrm{w}_1\\rangle= |\\mathrm{j}\\rangle+ |\\mathrm{k}\\rangle\\,,\\quad\n",
    " |\\mathrm{w}_2\\rangle= |\\mathrm{i}\\rangle+ |\\mathrm{k}\\rangle\\,,\\quad\n",
    " |\\mathrm{w}_3\\rangle= |\\mathrm{i}\\rangle+ |\\mathrm{j}\\rangle\\,.\n",
    "$$\n",
    "Para calcular la matriz de transformación:\n",
    "$$\n",
    " |\\mathrm{w}_{i}\\rangle={ A}^{j'}_i | \\mathrm{i}_{j'}\\rangle\\,, \n",
    "$$\n",
    "podemos trabajar de la manera siguiente. Primero introducimos los vectores como una matriz y luego calculamos la transpuesta:"
   ]
  },
  {
   "cell_type": "code",
   "execution_count": 12,
   "metadata": {},
   "outputs": [
    {
     "data": {
      "text/latex": [
       "$\\displaystyle \\left[\\begin{matrix}0 & 1 & 1\\\\1 & 0 & 1\\\\1 & 1 & 0\\end{matrix}\\right]$"
      ],
      "text/plain": [
       "Matrix([\n",
       "[0, 1, 1],\n",
       "[1, 0, 1],\n",
       "[1, 1, 0]])"
      ]
     },
     "execution_count": 12,
     "metadata": {},
     "output_type": "execute_result"
    }
   ],
   "source": [
    "# Definir los vectores w1, w2, w3\n",
    "w1 = [0, 1, 1]\n",
    "w2 = [1, 0, 1]\n",
    "w3 = [1, 1, 0]\n",
    "# Crear la matriz Aij\n",
    "Aij = Matrix([w1, w2, w3]).transpose()\n",
    "Aij"
   ]
  },
  {
   "cell_type": "markdown",
   "metadata": {},
   "source": [
    "La matriz de transformación inversa $ |\\mathrm{i}_{i'}\\rangle=A^j_{i'} | \\mathrm{w}_{j} \\rangle $,   es simplemente la matriz inversa:"
   ]
  },
  {
   "cell_type": "code",
   "execution_count": 13,
   "metadata": {},
   "outputs": [
    {
     "data": {
      "text/latex": [
       "$\\displaystyle \\left[\\begin{matrix}- \\frac{1}{2} & \\frac{1}{2} & \\frac{1}{2}\\\\\\frac{1}{2} & - \\frac{1}{2} & \\frac{1}{2}\\\\\\frac{1}{2} & \\frac{1}{2} & - \\frac{1}{2}\\end{matrix}\\right]$"
      ],
      "text/plain": [
       "Matrix([\n",
       "[-1/2,  1/2,  1/2],\n",
       "[ 1/2, -1/2,  1/2],\n",
       "[ 1/2,  1/2, -1/2]])"
      ]
     },
     "execution_count": 13,
     "metadata": {},
     "output_type": "execute_result"
    }
   ],
   "source": [
    "Aij.inv()"
   ]
  },
  {
   "cell_type": "markdown",
   "metadata": {},
   "source": [
    "Es claro que $A^j_{k'} A^{k'}_i= \\delta_i^j$ "
   ]
  },
  {
   "cell_type": "code",
   "execution_count": 14,
   "metadata": {},
   "outputs": [
    {
     "data": {
      "text/latex": [
       "$\\displaystyle \\left[\\begin{matrix}1 & 0 & 0\\\\0 & 1 & 0\\\\0 & 0 & 1\\end{matrix}\\right]$"
      ],
      "text/plain": [
       "Matrix([\n",
       "[1, 0, 0],\n",
       "[0, 1, 0],\n",
       "[0, 0, 1]])"
      ]
     },
     "execution_count": 14,
     "metadata": {},
     "output_type": "execute_result"
    }
   ],
   "source": [
    " Aij*Aij.inv()"
   ]
  },
  {
   "cell_type": "markdown",
   "metadata": {},
   "source": [
    "3. Con el uso de la librería  \"sympy.vector\" podemos hacer algunos cálculos sencillos con vectores, como por ejemplo, el cálculo de las bases recíprocas.\n",
    "\n",
    "Dado el siguiente conjunto de vectores:\n",
    "$$\n",
    "{\\tt b} 1={\\bf e}_1= \\hat{i}+\\hat{j}+2\\hat{k} \\,, \\,\\,\n",
    "{\\tt b} 2={\\bf e}_2= -\\hat{i}-\\hat{j}-\\hat{k}\\,, \\,\\,\n",
    "{\\tt b} 3={\\bf e}_3=  2\\hat{i}-2\\hat{j}+\\hat{k}\n",
    "$$\n",
    "\n",
    "Calcularemos la base recíproca a través de:\n",
    "$$\n",
    "{\\bf e}^i= \\frac{{\\bf e}_j \\times {\\bf e}_k}{{\\bf e}_i \\cdot ({\\bf e}_j \\times {\\bf e}_k)}\\,,\n",
    "$$"
   ]
  },
  {
   "cell_type": "code",
   "execution_count": 15,
   "metadata": {},
   "outputs": [],
   "source": [
    "from sympy.vector import *\n",
    "R = CoordSys3D('R')"
   ]
  },
  {
   "cell_type": "markdown",
   "metadata": {},
   "source": [
    "Primero que todo, debemos introducir los vectores "
   ]
  },
  {
   "cell_type": "code",
   "execution_count": 16,
   "metadata": {},
   "outputs": [
    {
     "data": {
      "text/plain": [
       "(R.i + R.j + 2*R.k, (-1)*R.i + (-1)*R.j + (-1)*R.k, 2*R.i + (-2)*R.j + R.k)"
      ]
     },
     "execution_count": 16,
     "metadata": {},
     "output_type": "execute_result"
    }
   ],
   "source": [
    "b1 = R.i + R.j + 2*R.k\n",
    "b2 = -R.i - R.j - R.k\n",
    "b3 = 2*R.i -2*R.j + R.k\n",
    "b1,b2,b3"
   ]
  },
  {
   "cell_type": "markdown",
   "metadata": {},
   "source": [
    "Podemos comprobar si  la base original ${\\tt b}_i$ es ortogonal calculando sus productos escalares:"
   ]
  },
  {
   "cell_type": "code",
   "execution_count": 17,
   "metadata": {},
   "outputs": [
    {
     "data": {
      "text/plain": [
       "(-4, 2, -1)"
      ]
     },
     "execution_count": 17,
     "metadata": {},
     "output_type": "execute_result"
    }
   ],
   "source": [
    "b1.dot(b2),b1.dot(b3),b2.dot(b3)"
   ]
  },
  {
   "cell_type": "markdown",
   "metadata": {},
   "source": [
    "Por lo tanto, no son ortogonales.   Ahora, los vectores recíprocos ${\\tt e}^i$ se calculan de la manera siguiente: "
   ]
  },
  {
   "cell_type": "code",
   "execution_count": 18,
   "metadata": {},
   "outputs": [
    {
     "data": {
      "text/plain": [
       "((-3/4)*R.i + (-1/4)*R.j + R.k,\n",
       " (-5/4)*R.i + (-3/4)*R.j + R.k,\n",
       " 1/4*R.i + (-1/4)*R.j)"
      ]
     },
     "execution_count": 18,
     "metadata": {},
     "output_type": "execute_result"
    }
   ],
   "source": [
    "e1 = b2.cross(b3)/(b1.cross(b2).dot(b3))\n",
    "e2 = b3.cross(b1)/(b1.cross(b2).dot(b3))\n",
    "e3 = b1.cross(b2)/(b1.cross(b2).dot(b3))\n",
    "e1,e2,e3"
   ]
  },
  {
   "cell_type": "markdown",
   "metadata": {},
   "source": [
    "La base recíproca es entonces:\n",
    "$$\n",
    "{\\bf e}^1= -\\frac{3}{4}\\hat{i}-\\frac{1}{4} \\hat{j}+\\hat{k}\\,, \\,\\,\n",
    "{\\bf e}^2= -\\frac{5}{4}\\hat{i}-\\frac{3}{4}\\hat{j}+\\hat{k}\\,, \\,\\,\n",
    "{\\bf e}^3=   \\frac{1}{4}\\hat{i}-\\frac{1}{4}\\hat{j}\n",
    "$$\n",
    "\n",
    "Que tampoco es ortogonal:"
   ]
  },
  {
   "cell_type": "code",
   "execution_count": 19,
   "metadata": {},
   "outputs": [
    {
     "data": {
      "text/plain": [
       "(17/8, -1/8, -1/8)"
      ]
     },
     "execution_count": 19,
     "metadata": {},
     "output_type": "execute_result"
    }
   ],
   "source": [
    "e1.dot(e2),e1.dot(e3),e2.dot(e3)"
   ]
  },
  {
   "cell_type": "markdown",
   "metadata": {},
   "source": [
    "Como veremos más adelante, podemos construir un objeto con dos índices para la base original: $g_{ij}={\\bf e}_i\\cdot {\\bf e}_j$ de la manera siguiente:"
   ]
  },
  {
   "cell_type": "code",
   "execution_count": 20,
   "metadata": {},
   "outputs": [
    {
     "data": {
      "text/latex": [
       "$\\displaystyle \\left[\\begin{matrix}6 & -4 & 2\\\\-4 & 3 & -1\\\\2 & -1 & 9\\end{matrix}\\right]$"
      ],
      "text/plain": [
       "Matrix([\n",
       "[ 6, -4,  2],\n",
       "[-4,  3, -1],\n",
       "[ 2, -1,  9]])"
      ]
     },
     "execution_count": 20,
     "metadata": {},
     "output_type": "execute_result"
    }
   ],
   "source": [
    "gb = Matrix([[b1.dot(b1),b1.dot(b2),b1.dot(b3)],[b2.dot(b1),b2.dot(b2),b2.dot(b3)],[b3.dot(b1),b3.dot(b2),b3.dot(b3)]])\n",
    "gb"
   ]
  },
  {
   "cell_type": "markdown",
   "metadata": {},
   "source": [
    "Para la base recíproca: $g^{ij}={\\bf e}^i\\cdot {\\bf e}^j$"
   ]
  },
  {
   "cell_type": "code",
   "execution_count": 21,
   "metadata": {},
   "outputs": [
    {
     "data": {
      "text/latex": [
       "$\\displaystyle \\left[\\begin{matrix}\\frac{13}{8} & \\frac{17}{8} & - \\frac{1}{8}\\\\\\frac{17}{8} & \\frac{25}{8} & - \\frac{1}{8}\\\\- \\frac{1}{8} & - \\frac{1}{8} & \\frac{1}{8}\\end{matrix}\\right]$"
      ],
      "text/plain": [
       "Matrix([\n",
       "[13/8, 17/8, -1/8],\n",
       "[17/8, 25/8, -1/8],\n",
       "[-1/8, -1/8,  1/8]])"
      ]
     },
     "execution_count": 21,
     "metadata": {},
     "output_type": "execute_result"
    }
   ],
   "source": [
    "ge = Matrix([[e1.dot(e1),e1.dot(e2),e1.dot(e3)],[e2.dot(e1),e2.dot(e2),e2.dot(e3)],[e3.dot(e1),e3.dot(e2),e3.dot(e3)]])\n",
    "ge"
   ]
  },
  {
   "cell_type": "markdown",
   "metadata": {},
   "source": [
    "De manera que: ${\\bf e}^i\\cdot {\\bf e}_j=g^i_j=\\delta^i_j$:"
   ]
  },
  {
   "cell_type": "code",
   "execution_count": 22,
   "metadata": {},
   "outputs": [
    {
     "data": {
      "text/latex": [
       "$\\displaystyle \\left[\\begin{matrix}1 & 0 & 0\\\\0 & 1 & 0\\\\0 & 0 & 1\\end{matrix}\\right]$"
      ],
      "text/plain": [
       "Matrix([\n",
       "[1, 0, 0],\n",
       "[0, 1, 0],\n",
       "[0, 0, 1]])"
      ]
     },
     "execution_count": 22,
     "metadata": {},
     "output_type": "execute_result"
    }
   ],
   "source": [
    "gb*ge"
   ]
  }
 ],
 "metadata": {
  "colab": {
   "collapsed_sections": [
    "HS5j074Bpqw9",
    "M6k5DaB7AMNL",
    "IZBsDTb4E7U4",
    "Hn31KOmRS9EA",
    "A3ZNaLdqWeG5",
    "5Vs06j5DdIme",
    "ujW8a0HzkNuV"
   ],
   "provenance": [
    {
     "file_id": "1YrOBd8YdJ9P2aPSTRJEnMxLdlqznqh8y",
     "timestamp": 1694038709310
    }
   ]
  },
  "kernelspec": {
   "display_name": "Python 3 (ipykernel)",
   "language": "python",
   "name": "python3"
  },
  "language_info": {
   "codemirror_mode": {
    "name": "ipython",
    "version": 3
   },
   "file_extension": ".py",
   "mimetype": "text/x-python",
   "name": "python",
   "nbconvert_exporter": "python",
   "pygments_lexer": "ipython3",
   "version": "3.11.7"
  }
 },
 "nbformat": 4,
 "nbformat_minor": 1
}

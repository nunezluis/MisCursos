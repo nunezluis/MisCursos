{
 "cells": [
  {
   "cell_type": "markdown",
   "metadata": {},
   "source": [
    "1. En los grandes aceleradores de partículas se puede producir piones cargados cuando se hace colisionar protones  de gran energía con algún blanco preparado para este fin. Se conoce que los piones tienen una vida media muy corta: $1.77 \\times 10^{-8}$ seg. Lo que esto significa es, que una vez que se producen los piones, la mitad de ellos se habrá desintegrado en un tiempo de $1.77 \\times 10^{-8}$ seg. \n",
    "\n",
    "Los experimentos en el acelerador reflejan el hecho de que la intensidad del haz de piones que emerge del blanco, y que viaja a $0.99 \\ c$, se reduce a la mitad una vez que recorren $37.2$ mts. \n",
    "Pero sucede que si los piones viajan a $0.99 \\ c= 2.968\\times 10^8$ m/s cuando estos hayan decaído a la mitad la distancia que habrán recorrido es $d=vt$:"
   ]
  },
  {
   "cell_type": "code",
   "execution_count": 1,
   "metadata": {},
   "outputs": [],
   "source": [
    "import sympy\n",
    "from sympy import *\n",
    "init_printing()"
   ]
  },
  {
   "cell_type": "markdown",
   "metadata": {},
   "source": [
    "Empezamos definiendo un tensor métrico abstracto "
   ]
  },
  {
   "cell_type": "code",
   "execution_count": 2,
   "metadata": {},
   "outputs": [
    {
     "data": {
      "image/png": "[encoded data removed]",
      "text/latex": [
       "$\\displaystyle 5.253263241534 m$"
      ],
      "text/plain": [
       "5.253263241534⋅m"
      ]
     },
     "execution_count": 2,
     "metadata": {},
     "output_type": "execute_result"
    }
   ],
   "source": [
    "m, s = symbols('m s')\n",
    "c = 2.99792458 *10**(8)\n",
    "d = (0.99*c*(m/s))*(1.77*10**(-8)*s)\n",
    "d"
   ]
  },
  {
   "cell_type": "markdown",
   "metadata": {},
   "source": [
    "¿Y entonces por qué el experimento mide que viajaron $37.2$ mts? Bueno, no estamos considerando los efectos relativistas que están contenidas en las transformaciones de Lorentz:\n",
    "$$\n",
    "t_2-t_1= ({t'}_2-{t'}_1)\\gamma \\quad \\Rightarrow   \\Delta t= \\Delta {t'} \\gamma \\,,\n",
    "$$\n",
    "donde $\\Delta {t'}$ es el tiempo propio, el tiempo medido por un reloj respecto a la partícula en movimiento, es decir, el sistema de referencia donde el pion se encuentra en reposo. \n",
    "\n",
    "Calculemos, primeramente el factor $\\gamma$:"
   ]
  },
  {
   "cell_type": "code",
   "execution_count": 3,
   "metadata": {},
   "outputs": [
    {
     "data": {
      "image/png": "[encoded data removed]",
      "text/latex": [
       "$\\displaystyle 7.08881205008335$"
      ],
      "text/plain": [
       "7.08881205008335"
      ]
     },
     "execution_count": 3,
     "metadata": {},
     "output_type": "execute_result"
    }
   ],
   "source": [
    "γ = 1/sqrt(1-(0.99)**2)\n",
    "γ"
   ]
  },
  {
   "cell_type": "markdown",
   "metadata": {},
   "source": [
    "Por lo tanto, la vida media de los piones medida desde el laboratorio es:"
   ]
  },
  {
   "cell_type": "code",
   "execution_count": 4,
   "metadata": {},
   "outputs": [
    {
     "data": {
      "image/png": "[encoded data removed]",
      "text/latex": [
       "$\\displaystyle 1.25 \\cdot 10^{-7} s$"
      ],
      "text/plain": [
       "1.25e-7⋅s"
      ]
     },
     "execution_count": 4,
     "metadata": {},
     "output_type": "execute_result"
    }
   ],
   "source": [
    "Δt = (1.77*10**(-8)*s)*γ\n",
    "Δt.evalf(3)"
   ]
  },
  {
   "cell_type": "markdown",
   "metadata": {},
   "source": [
    "Según las personas que miden el experimento, y que están en el sistema en reposo, los piones viven $\\approx 1.255 \\times 10^{-7}$ s,  y por lo tanto viajan una distancia: $x=(0.99 c) \\Delta t$"
   ]
  },
  {
   "cell_type": "code",
   "execution_count": 5,
   "metadata": {},
   "outputs": [
    {
     "data": {
      "image/png": "[encoded data removed]",
      "text/latex": [
       "$\\displaystyle 37.2 m$"
      ],
      "text/plain": [
       "37.2⋅m"
      ]
     },
     "execution_count": 5,
     "metadata": {},
     "output_type": "execute_result"
    }
   ],
   "source": [
    "N(0.99*c*(m/s)*Δt,3)"
   ]
  },
  {
   "cell_type": "markdown",
   "metadata": {},
   "source": [
    "2. Procederemos ahora a resolver  el sistema que nos condujo a las transformaciones impropias de Lorentz. \n",
    "\n",
    "Primero, escribamos una lista que contiene el sistema de ecuaciones:"
   ]
  },
  {
   "cell_type": "code",
   "execution_count": 6,
   "metadata": {},
   "outputs": [
    {
     "data": {
      "image/png": "[encoded data removed]",
      "text/latex": [
       "$\\displaystyle \\left[ - L_{01}^{2} c^{2} + L_{11}^{2} = 1, \\  L_{00} L_{01} c^{2} + L_{11}^{2} v = 0, \\  L_{00}^{2} c^{2} - L_{11}^{2} v^{2} = c^{2}\\right]$"
      ],
      "text/plain": [
       "⎡     2  2      2               2      2           2  2      2  2    2⎤\n",
       "⎣- L₀₁ ⋅c  + L₁₁  = 1, L₀₀⋅L₀₁⋅c  + L₁₁ ⋅v = 0, L₀₀ ⋅c  - L₁₁ ⋅v  = c ⎦"
      ]
     },
     "execution_count": 6,
     "metadata": {},
     "output_type": "execute_result"
    }
   ],
   "source": [
    "L11, L01, L00 = symbols('L11 L01 L00')\n",
    "v, c = symbols('v c' , positive=True)\n",
    "assuming(c > v)\n",
    "sis = [Eq(L11**2-c**2*L01**2,1), Eq(L11**2*v+c**2*L01*L00,0), Eq(c**2*L00**2-v**2*L11**2,c**2)]\n",
    "sis"
   ]
  },
  {
   "cell_type": "markdown",
   "metadata": {},
   "source": [
    "Es importante defir $v>0$,y  $v<c$, para evitar soluciones complejas. "
   ]
  },
  {
   "cell_type": "code",
   "execution_count": 7,
   "metadata": {},
   "outputs": [
    {
     "data": {
      "image/png": "[encoded data removed]",
      "text/latex": [
       "$\\displaystyle \\left[ \\left( - \\frac{c \\sqrt{\\frac{1}{c - v}}}{\\sqrt{c + v}}, \\  \\frac{v \\sqrt{\\frac{1}{c - v}}}{c \\sqrt{c + v}}, \\  - \\frac{c \\sqrt{\\frac{1}{c - v}}}{\\sqrt{c + v}}\\right), \\  \\left( - \\frac{c \\sqrt{\\frac{1}{c - v}}}{\\sqrt{c + v}}, \\  \\frac{v \\sqrt{\\frac{1}{c - v}}}{c \\sqrt{c + v}}, \\  \\frac{c \\sqrt{\\frac{1}{c - v}}}{\\sqrt{c + v}}\\right), \\  \\left( \\frac{c \\sqrt{\\frac{1}{c - v}}}{\\sqrt{c + v}}, \\  - \\frac{v \\sqrt{\\frac{1}{c - v}}}{c \\sqrt{c + v}}, \\  - \\frac{c \\sqrt{\\frac{1}{c - v}}}{\\sqrt{c + v}}\\right), \\  \\left( \\frac{c \\sqrt{\\frac{1}{c - v}}}{\\sqrt{c + v}}, \\  - \\frac{v \\sqrt{\\frac{1}{c - v}}}{c \\sqrt{c + v}}, \\  \\frac{c \\sqrt{\\frac{1}{c - v}}}{\\sqrt{c + v}}\\right)\\right]$"
      ],
      "text/plain": [
       "⎡⎛       _______         _______         _______ ⎞  ⎛       _______         __\n",
       "⎢⎜      ╱   1           ╱   1           ╱   1    ⎟  ⎜      ╱   1           ╱  \n",
       "⎢⎜-c⋅  ╱  ─────    v⋅  ╱  ─────   -c⋅  ╱  ─────  ⎟  ⎜-c⋅  ╱  ─────    v⋅  ╱  ─\n",
       "⎢⎜   ╲╱   c - v      ╲╱   c - v      ╲╱   c - v  ⎟  ⎜   ╲╱   c - v      ╲╱   c\n",
       "⎢⎜───────────────, ─────────────, ───────────────⎟, ⎜───────────────, ────────\n",
       "⎢⎜     _______          _______        _______   ⎟  ⎜     _______          ___\n",
       "⎣⎝   ╲╱ c + v       c⋅╲╱ c + v       ╲╱ c + v    ⎠  ⎝   ╲╱ c + v       c⋅╲╱ c \n",
       "\n",
       "_____        _______⎞  ⎛      _______         _______          _______ ⎞  ⎛   \n",
       " 1          ╱   1   ⎟  ⎜     ╱   1           ╱   1            ╱   1    ⎟  ⎜   \n",
       "────   c⋅  ╱  ───── ⎟  ⎜c⋅  ╱  ─────   -v⋅  ╱  ─────    -c⋅  ╱  ─────  ⎟  ⎜c⋅ \n",
       " - v     ╲╱   c - v ⎟  ⎜  ╲╱   c - v      ╲╱   c - v       ╲╱   c - v  ⎟  ⎜  ╲\n",
       "─────, ─────────────⎟, ⎜─────────────, ───────────────, ───────────────⎟, ⎜───\n",
       "____       _______  ⎟  ⎜    _______          _______         _______   ⎟  ⎜   \n",
       "+ v      ╲╱ c + v   ⎠  ⎝  ╲╱ c + v       c⋅╲╱ c + v        ╲╱ c + v    ⎠  ⎝  ╲\n",
       "\n",
       "   _______         _______         _______⎞⎤\n",
       "  ╱   1           ╱   1           ╱   1   ⎟⎥\n",
       " ╱  ─────   -v⋅  ╱  ─────    c⋅  ╱  ───── ⎟⎥\n",
       "╱   c - v      ╲╱   c - v      ╲╱   c - v ⎟⎥\n",
       "──────────, ───────────────, ─────────────⎟⎥\n",
       " _______          _______        _______  ⎟⎥\n",
       "╱ c + v       c⋅╲╱ c + v       ╲╱ c + v   ⎠⎦"
      ]
     },
     "execution_count": 7,
     "metadata": {},
     "output_type": "execute_result"
    }
   ],
   "source": [
    "sols =list(solve(sis,(L00, L01, L11)))\n",
    "sols"
   ]
  },
  {
   "cell_type": "markdown",
   "metadata": {},
   "source": [
    "3. Existe una librería llamada \"pytearcat\" para Python que es de código abierto y creado para trabajar con operaciones tensoriales generales, tanto en el campo de la Relatividad General (GR) como en otros que necesitan usar cálculo tensorial. Para mayor información se puede consultar \\url{https://github.com/pytearcat/pytearcat}"
   ]
  },
  {
   "cell_type": "code",
   "execution_count": 8,
   "metadata": {},
   "outputs": [],
   "source": [
    "import pytearcat as pt"
   ]
  },
  {
   "cell_type": "code",
   "execution_count": 9,
   "metadata": {},
   "outputs": [
    {
     "name": "stdout",
     "output_type": "stream",
     "text": [
      "Remember that the time coordinate must be the first coordinate.\n",
      "\n",
      "Dimension = 4\n",
      "Coordinates = t,x,y,z\n",
      "Metric defined successfully: \n",
      "\n"
     ]
    },
    {
     "data": {
      "text/latex": [
       "$\\displaystyle ds^2 = -1 \\cdot dt^2+1 \\cdot dx^2+1 \\cdot dy^2+1 \\cdot dz^2$"
      ],
      "text/plain": [
       "<IPython.core.display.Math object>"
      ]
     },
     "metadata": {},
     "output_type": "display_data"
    },
    {
     "data": {
      "image/png": "[encoded data removed]",
      "text/latex": [
       "$\\displaystyle \\left[\\begin{matrix}-1 & 0 & 0 & 0\\\\0 & 1 & 0 & 0\\\\0 & 0 & 1 & 0\\\\0 & 0 & 0 & 1\\end{matrix}\\right]$"
      ],
      "text/plain": [
       "⎡-1  0  0  0⎤\n",
       "⎢           ⎥\n",
       "⎢0   1  0  0⎥\n",
       "⎢           ⎥\n",
       "⎢0   0  1  0⎥\n",
       "⎢           ⎥\n",
       "⎣0   0  0  1⎦"
      ]
     },
     "metadata": {},
     "output_type": "display_data"
    }
   ],
   "source": [
    "# Se definen las coordenadas\n",
    "t,x,y,z = pt.coords('t,x,y,z')\n",
    "# Se definen las funciones y constantes\n",
    "c = pt.con('c')\n",
    "Ax = pt.fun('Ax','t,x,y,z')\n",
    "Ay = pt.fun('Ay','t,x,y,z')\n",
    "Az = pt.fun('Az','t,x,y,z')\n",
    "phi = pt.fun('phi','t,x,y,z')\n",
    "g = pt.metric('ds2 = -dt**2 + (dx**2 + dy**2 + dz**2)')"
   ]
  },
  {
   "cell_type": "markdown",
   "metadata": {},
   "source": [
    "Construyamos el tensor de Maxwell"
   ]
  },
  {
   "cell_type": "code",
   "execution_count": 10,
   "metadata": {},
   "outputs": [],
   "source": [
    "Ex = pt.fun('Ex','t,x,y,z')\n",
    "Ey = pt.fun('Ey','t,x,y,z')\n",
    "Ez = pt.fun('Ez','t,x,y,z')\n",
    "Bx = pt.fun('Bx','t,x,y,z')\n",
    "By = pt.fun('By','t,x,y,z')\n",
    "Bz = pt.fun('Bz','t,x,y,z')"
   ]
  },
  {
   "cell_type": "code",
   "execution_count": 11,
   "metadata": {},
   "outputs": [
    {
     "data": {
      "image/png": "[encoded data removed]",
      "text/latex": [
       "$\\displaystyle \\left[ \\left[ 0, \\  - \\operatorname{Ex}{\\left(t,x,y,z \\right)}, \\  - \\operatorname{Ey}{\\left(t,x,y,z \\right)}, \\  - \\operatorname{Ez}{\\left(t,x,y,z \\right)}\\right], \\  \\left[ \\operatorname{Ex}{\\left(t,x,y,z \\right)}, \\  0, \\  - \\operatorname{Bz}{\\left(t,x,y,z \\right)}, \\  \\operatorname{By}{\\left(t,x,y,z \\right)}\\right], \\  \\left[ \\operatorname{Ey}{\\left(t,x,y,z \\right)}, \\  \\operatorname{Bz}{\\left(t,x,y,z \\right)}, \\  0, \\  - \\operatorname{Bx}{\\left(t,x,y,z \\right)}\\right], \\  \\left[ \\operatorname{Ez}{\\left(t,x,y,z \\right)}, \\  - \\operatorname{By}{\\left(t,x,y,z \\right)}, \\  \\operatorname{Bx}{\\left(t,x,y,z \\right)}, \\  0\\right]\\right]$"
      ],
      "text/plain": [
       "[[0, -Ex(t, x, y, z), -Ey(t, x, y, z), -Ez(t, x, y, z)], [Ex(t, x, y, z), 0, -\n",
       "Bz(t, x, y, z), By(t, x, y, z)], [Ey(t, x, y, z), Bz(t, x, y, z), 0, -Bx(t, x,\n",
       " y, z)], [Ez(t, x, y, z), -By(t, x, y, z), Bx(t, x, y, z), 0]]"
      ]
     },
     "execution_count": 11,
     "metadata": {},
     "output_type": "execute_result"
    }
   ],
   "source": [
    "F_simplified = [[0,-Ex,-Ey,-Ez],[Ex,0,-Bz,By],[Ey,Bz,0,-Bx],[Ez,-By,Bx,0]]\n",
    "F_simplified"
   ]
  },
  {
   "cell_type": "code",
   "execution_count": 12,
   "metadata": {},
   "outputs": [
    {
     "name": "stdout",
     "output_type": "stream",
     "text": [
      "Elements assigned correctly to the ^,^ components\n"
     ]
    },
    {
     "data": {
      "image/png": "[encoded data removed]",
      "text/latex": [
       "$\\displaystyle \\left[\\begin{matrix}0 & - \\operatorname{Ex}{\\left(t,x,y,z \\right)} & - \\operatorname{Ey}{\\left(t,x,y,z \\right)} & - \\operatorname{Ez}{\\left(t,x,y,z \\right)}\\\\\\operatorname{Ex}{\\left(t,x,y,z \\right)} & 0 & - \\operatorname{Bz}{\\left(t,x,y,z \\right)} & \\operatorname{By}{\\left(t,x,y,z \\right)}\\\\\\operatorname{Ey}{\\left(t,x,y,z \\right)} & \\operatorname{Bz}{\\left(t,x,y,z \\right)} & 0 & - \\operatorname{Bx}{\\left(t,x,y,z \\right)}\\\\\\operatorname{Ez}{\\left(t,x,y,z \\right)} & - \\operatorname{By}{\\left(t,x,y,z \\right)} & \\operatorname{Bx}{\\left(t,x,y,z \\right)} & 0\\end{matrix}\\right]$"
      ],
      "text/plain": [
       "⎡      0         -Ex(t, x, y, z)  -Ey(t, x, y, z)  -Ez(t, x, y, z)⎤\n",
       "⎢                                                                 ⎥\n",
       "⎢Ex(t, x, y, z)         0         -Bz(t, x, y, z)  By(t, x, y, z) ⎥\n",
       "⎢                                                                 ⎥\n",
       "⎢Ey(t, x, y, z)  Bz(t, x, y, z)          0         -Bx(t, x, y, z)⎥\n",
       "⎢                                                                 ⎥\n",
       "⎣Ez(t, x, y, z)  -By(t, x, y, z)  Bx(t, x, y, z)          0       ⎦"
      ]
     },
     "metadata": {},
     "output_type": "display_data"
    }
   ],
   "source": [
    "F = pt.ten('F',2)\n",
    "F.assign(F_simplified,'^,^')\n",
    "F.display('^,^')"
   ]
  },
  {
   "cell_type": "markdown",
   "metadata": {},
   "source": [
    "Podemos calcular ${F^{\\mu \\nu}}_{ ,\\nu}=4 \\pi J^\\mu$"
   ]
  },
  {
   "cell_type": "code",
   "execution_count": 13,
   "metadata": {},
   "outputs": [
    {
     "name": "stdout",
     "output_type": "stream",
     "text": [
      "Elements assigned correctly to the ^nu components\n"
     ]
    },
    {
     "data": {
      "image/png": "[encoded data removed]",
      "text/latex": [
       "$\\displaystyle \\left[\\begin{matrix}\\frac{\\partial}{\\partial x} \\operatorname{Ex}{\\left(t,x,y,z \\right)} + \\frac{\\partial}{\\partial y} \\operatorname{Ey}{\\left(t,x,y,z \\right)} + \\frac{\\partial}{\\partial z} \\operatorname{Ez}{\\left(t,x,y,z \\right)}\\\\- \\frac{\\partial}{\\partial z} \\operatorname{By}{\\left(t,x,y,z \\right)} + \\frac{\\partial}{\\partial y} \\operatorname{Bz}{\\left(t,x,y,z \\right)} - \\frac{\\partial}{\\partial t} \\operatorname{Ex}{\\left(t,x,y,z \\right)}\\\\\\frac{\\partial}{\\partial z} \\operatorname{Bx}{\\left(t,x,y,z \\right)} - \\frac{\\partial}{\\partial x} \\operatorname{Bz}{\\left(t,x,y,z \\right)} - \\frac{\\partial}{\\partial t} \\operatorname{Ey}{\\left(t,x,y,z \\right)}\\\\- \\frac{\\partial}{\\partial y} \\operatorname{Bx}{\\left(t,x,y,z \\right)} + \\frac{\\partial}{\\partial x} \\operatorname{By}{\\left(t,x,y,z \\right)} - \\frac{\\partial}{\\partial t} \\operatorname{Ez}{\\left(t,x,y,z \\right)}\\end{matrix}\\right]$"
      ],
      "text/plain": [
       "⎡ ∂                    ∂                    ∂                  ⎤\n",
       "⎢ ──(Ex(t, x, y, z)) + ──(Ey(t, x, y, z)) + ──(Ez(t, x, y, z)) ⎥\n",
       "⎢ ∂x                   ∂y                   ∂z                 ⎥\n",
       "⎢                                                              ⎥\n",
       "⎢  ∂                    ∂                    ∂                 ⎥\n",
       "⎢- ──(By(t, x, y, z)) + ──(Bz(t, x, y, z)) - ──(Ex(t, x, y, z))⎥\n",
       "⎢  ∂z                   ∂y                   ∂t                ⎥\n",
       "⎢                                                              ⎥\n",
       "⎢ ∂                    ∂                    ∂                  ⎥\n",
       "⎢ ──(Bx(t, x, y, z)) - ──(Bz(t, x, y, z)) - ──(Ey(t, x, y, z)) ⎥\n",
       "⎢ ∂z                   ∂x                   ∂t                 ⎥\n",
       "⎢                                                              ⎥\n",
       "⎢  ∂                    ∂                    ∂                 ⎥\n",
       "⎢- ──(Bx(t, x, y, z)) + ──(By(t, x, y, z)) - ──(Ez(t, x, y, z))⎥\n",
       "⎣  ∂y                   ∂x                   ∂t                ⎦"
      ]
     },
     "metadata": {},
     "output_type": "display_data"
    }
   ],
   "source": [
    "DF = pt.ten('J',1)\n",
    "DF_dat = pt.D(F('^mu,^nu'),'_mu')\n",
    "DF.assign(DF_dat,'^nu')\n",
    "DF.display('^')"
   ]
  },
  {
   "cell_type": "markdown",
   "metadata": {},
   "source": [
    "Podemos definir un tensor de un solo índice $J$"
   ]
  },
  {
   "cell_type": "code",
   "execution_count": 14,
   "metadata": {},
   "outputs": [],
   "source": [
    "rho = pt.fun('rho','t,x,y,z')\n",
    "Jx = pt.fun('Jx','t,x,y,z')\n",
    "Jy = pt.fun('Jy','t,x,y,z')\n",
    "Jz = pt.fun('Jz','t,x,y,z')"
   ]
  },
  {
   "cell_type": "code",
   "execution_count": 15,
   "metadata": {},
   "outputs": [
    {
     "name": "stdout",
     "output_type": "stream",
     "text": [
      "Elements assigned correctly to the ^ components\n"
     ]
    },
    {
     "data": {
      "image/png": "[encoded data removed]",
      "text/latex": [
       "$\\displaystyle \\left[\\begin{matrix}\\rho{\\left(t,x,y,z \\right)}\\\\\\operatorname{Jx}{\\left(t,x,y,z \\right)}\\\\\\operatorname{Jy}{\\left(t,x,y,z \\right)}\\\\\\operatorname{Jz}{\\left(t,x,y,z \\right)}\\end{matrix}\\right]$"
      ],
      "text/plain": [
       "⎡ρ(t, x, y, z) ⎤\n",
       "⎢              ⎥\n",
       "⎢Jx(t, x, y, z)⎥\n",
       "⎢              ⎥\n",
       "⎢Jy(t, x, y, z)⎥\n",
       "⎢              ⎥\n",
       "⎣Jz(t, x, y, z)⎦"
      ]
     },
     "metadata": {},
     "output_type": "display_data"
    }
   ],
   "source": [
    "J = pt.ten('J',1)\n",
    "J_dat = [rho,Jx,Jy,Jz]\n",
    "J.assign(J_dat,'^')\n",
    "J.display('^')"
   ]
  },
  {
   "cell_type": "markdown",
   "metadata": {},
   "source": [
    "Las identidades de Bianchi\n",
    "$$\n",
    "\\partial_\\gamma F_{\\mu \\nu}+\\partial_\\mu F_{\\nu \\gamma}+\\partial_\\nu F_{\\gamma \\mu} \\equiv F_{\\mu \\nu, \\gamma}+F_{\\nu \\gamma, \\mu}+F_{\\gamma \\mu, \\nu}=0\n",
    "$$\n"
   ]
  },
  {
   "cell_type": "code",
   "execution_count": 16,
   "metadata": {},
   "outputs": [
    {
     "name": "stdout",
     "output_type": "stream",
     "text": [
      "Elements assigned correctly to the _a,_b,_c components\n",
      "All components are zero\n"
     ]
    }
   ],
   "source": [
    "IB = pt.ten('IB',3)\n",
    "IB_dat = pt.D(F('_a,_b'),'_c') + pt.D(F('_b,_c'),'_a') + pt.D(F('_c,_a'),'_b')\n",
    "IB.assign(IB_dat,'_a,_b,_c')\n",
    "IB.factor()\n",
    "IB.display()"
   ]
  },
  {
   "cell_type": "markdown",
   "metadata": {},
   "source": [
    "La $\\delta$ de Kronecker $\\delta_i^j$ "
   ]
  },
  {
   "cell_type": "code",
   "execution_count": 17,
   "metadata": {},
   "outputs": [
    {
     "data": {
      "image/png": "[encoded data removed]",
      "text/latex": [
       "$\\displaystyle \\left[\\begin{matrix}1 & 0 & 0 & 0\\\\0 & 1 & 0 & 0\\\\0 & 0 & 1 & 0\\\\0 & 0 & 0 & 1\\end{matrix}\\right]$"
      ],
      "text/plain": [
       "⎡1  0  0  0⎤\n",
       "⎢          ⎥\n",
       "⎢0  1  0  0⎥\n",
       "⎢          ⎥\n",
       "⎢0  0  1  0⎥\n",
       "⎢          ⎥\n",
       "⎣0  0  0  1⎦"
      ]
     },
     "metadata": {},
     "output_type": "display_data"
    }
   ],
   "source": [
    "KD = pt.kdelta()\n",
    "KD.display()"
   ]
  },
  {
   "cell_type": "code",
   "execution_count": 18,
   "metadata": {},
   "outputs": [
    {
     "data": {
      "image/png": "[encoded data removed]",
      "text/latex": [
       "$\\displaystyle 1$"
      ],
      "text/plain": [
       "1"
      ]
     },
     "execution_count": 18,
     "metadata": {},
     "output_type": "execute_result"
    }
   ],
   "source": [
    "KD(\"_0,_0\")"
   ]
  },
  {
   "cell_type": "markdown",
   "metadata": {},
   "source": [
    "El símbolo de Levi-Civita"
   ]
  },
  {
   "cell_type": "code",
   "execution_count": 19,
   "metadata": {},
   "outputs": [
    {
     "data": {
      "image/png": "[encoded data removed]",
      "text/latex": [
       "$\\displaystyle -1$"
      ],
      "text/plain": [
       "-1"
      ]
     },
     "execution_count": 19,
     "metadata": {},
     "output_type": "execute_result"
    }
   ],
   "source": [
    "LC = pt.lcivita(convention=-1)\n",
    "LC(\"_0,_1,_2,_3\")"
   ]
  },
  {
   "cell_type": "markdown",
   "metadata": {},
   "source": [
    "Con el símbolo de Levi-Civita haremos la siguiente operación\n",
    "$$\n",
    "\\epsilon_{a b c d} F^{c d}\n",
    "$$"
   ]
  },
  {
   "cell_type": "code",
   "execution_count": 20,
   "metadata": {},
   "outputs": [
    {
     "name": "stdout",
     "output_type": "stream",
     "text": [
      "Elements assigned correctly to the _a,_b components\n"
     ]
    },
    {
     "data": {
      "image/png": "[encoded data removed]",
      "text/latex": [
       "$\\displaystyle \\left[\\begin{matrix}0 & 2 \\operatorname{Bx}{\\left(t,x,y,z \\right)} & 2 \\operatorname{By}{\\left(t,x,y,z \\right)} & 2 \\operatorname{Bz}{\\left(t,x,y,z \\right)}\\\\- 2 \\operatorname{Bx}{\\left(t,x,y,z \\right)} & 0 & 2 \\operatorname{Ez}{\\left(t,x,y,z \\right)} & - 2 \\operatorname{Ey}{\\left(t,x,y,z \\right)}\\\\- 2 \\operatorname{By}{\\left(t,x,y,z \\right)} & - 2 \\operatorname{Ez}{\\left(t,x,y,z \\right)} & 0 & 2 \\operatorname{Ex}{\\left(t,x,y,z \\right)}\\\\- 2 \\operatorname{Bz}{\\left(t,x,y,z \\right)} & 2 \\operatorname{Ey}{\\left(t,x,y,z \\right)} & - 2 \\operatorname{Ex}{\\left(t,x,y,z \\right)} & 0\\end{matrix}\\right]$"
      ],
      "text/plain": [
       "⎡        0          2⋅Bx(t, x, y, z)   2⋅By(t, x, y, z)   2⋅Bz(t, x, y, z) ⎤\n",
       "⎢                                                                          ⎥\n",
       "⎢-2⋅Bx(t, x, y, z)          0          2⋅Ez(t, x, y, z)   -2⋅Ey(t, x, y, z)⎥\n",
       "⎢                                                                          ⎥\n",
       "⎢-2⋅By(t, x, y, z)  -2⋅Ez(t, x, y, z)          0          2⋅Ex(t, x, y, z) ⎥\n",
       "⎢                                                                          ⎥\n",
       "⎣-2⋅Bz(t, x, y, z)  2⋅Ey(t, x, y, z)   -2⋅Ex(t, x, y, z)          0        ⎦"
      ]
     },
     "metadata": {},
     "output_type": "display_data"
    }
   ],
   "source": [
    "val = pt.ten('val',2)\n",
    "val_dat= LC('_a,_b,_mu,_nu')*F('^mu,^nu')\n",
    "val.assign(val_dat,'_a,_b')\n",
    "val.factor()\n",
    "val.display('_,_')"
   ]
  }
 ],
 "metadata": {
  "colab": {
   "collapsed_sections": [
    "HS5j074Bpqw9",
    "M6k5DaB7AMNL",
    "IZBsDTb4E7U4",
    "Hn31KOmRS9EA",
    "A3ZNaLdqWeG5",
    "5Vs06j5DdIme",
    "ujW8a0HzkNuV"
   ],
   "provenance": [
    {
     "file_id": "1YrOBd8YdJ9P2aPSTRJEnMxLdlqznqh8y",
     "timestamp": 1694038709310
    }
   ]
  },
  "kernelspec": {
   "display_name": "Python 3 (ipykernel)",
   "language": "python",
   "name": "python3"
  },
  "language_info": {
   "codemirror_mode": {
    "name": "ipython",
    "version": 3
   },
   "file_extension": ".py",
   "mimetype": "text/x-python",
   "name": "python",
   "nbconvert_exporter": "python",
   "pygments_lexer": "ipython3",
   "version": "3.11.7"
  }
 },
 "nbformat": 4,
 "nbformat_minor": 1
}

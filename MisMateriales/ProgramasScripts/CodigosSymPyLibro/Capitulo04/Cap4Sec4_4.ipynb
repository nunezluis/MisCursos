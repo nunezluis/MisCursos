{
 "cells": [
  {
   "cell_type": "markdown",
   "metadata": {
    "id": "aleOVKzP-8kQ"
   },
   "source": [
    "1. Resolveremos el siguiente sistema se ecuaciones lineales por el método de Gauss-Jordan\n",
    "$$\n",
    "\\begin{aligned}\n",
    "2 x^1+4 x^2+3 x^3 & =4 \\\\\n",
    "x^1-2 x^2-2 x^3 & =0 \\\\\n",
    "-3 x^1+3 x^2+2 x^3 & =-7\n",
    "\\end{aligned}\n",
    "$$"
   ]
  },
  {
   "cell_type": "code",
   "execution_count": 1,
   "metadata": {
    "id": "604d4rBS80_Y"
   },
   "outputs": [],
   "source": [
    "import sympy\n",
    "from sympy import *\n",
    "init_printing()"
   ]
  },
  {
   "cell_type": "markdown",
   "metadata": {
    "id": "oLNHFfRNpqxC"
   },
   "source": [
    "Introducimos el sistema de ecuaciones:"
   ]
  },
  {
   "cell_type": "code",
   "execution_count": 2,
   "metadata": {},
   "outputs": [
    {
     "data": {
      "image/png": "[encoded data removed]",
      "text/latex": [
       "$\\displaystyle \\left( 2 x_{1} + 4 x_{2} + 3 x_{3} = 4, \\  x_{1} - 2 x_{2} - 2 x_{3} = 0, \\  - 3 x_{1} + 3 x_{2} + 2 x_{3} = -7\\right)$"
      ],
      "text/plain": [
       "(2⋅x₁ + 4⋅x₂ + 3⋅x₃ = 4, x₁ - 2⋅x₂ - 2⋅x₃ = 0, -3⋅x₁ + 3⋅x₂ + 2⋅x₃ = -7)"
      ]
     },
     "execution_count": 2,
     "metadata": {},
     "output_type": "execute_result"
    }
   ],
   "source": [
    "# Definimos las variables simbólicas\n",
    "x1, x2, x3 = symbols('x1 x2 x3')\n",
    "ec1=Eq(2*x1+4*x2+3*x3,4)\n",
    "ec2=Eq(x1-2*x2-2*x3,0)\n",
    "ec3=Eq(-3*x1+3*x2+2*x3,-7)\n",
    "ec1,ec2,ec3"
   ]
  },
  {
   "cell_type": "markdown",
   "metadata": {},
   "source": [
    "Construimos la matriz de coeficientes y la denominaremos $A$ "
   ]
  },
  {
   "cell_type": "code",
   "execution_count": 3,
   "metadata": {},
   "outputs": [
    {
     "data": {
      "image/png": "[encoded data removed]",
      "text/latex": [
       "$\\displaystyle \\left[\\begin{matrix}2 & 4 & 3\\\\1 & -2 & -2\\\\-3 & 3 & 2\\end{matrix}\\right]$"
      ],
      "text/plain": [
       "⎡2   4   3 ⎤\n",
       "⎢          ⎥\n",
       "⎢1   -2  -2⎥\n",
       "⎢          ⎥\n",
       "⎣-3  3   2 ⎦"
      ]
     },
     "execution_count": 3,
     "metadata": {},
     "output_type": "execute_result"
    }
   ],
   "source": [
    "A = Matrix([[2, 4, 3], [1, -2, -2], [-3, 3, 2]])\n",
    "A"
   ]
  },
  {
   "cell_type": "markdown",
   "metadata": {},
   "source": [
    "Le agregamos la columna con los elementos independientes"
   ]
  },
  {
   "cell_type": "code",
   "execution_count": 4,
   "metadata": {},
   "outputs": [
    {
     "data": {
      "image/png": "[encoded data removed]",
      "text/latex": [
       "$\\displaystyle \\left[\\begin{matrix}2 & 4 & 3 & 4\\\\1 & -2 & -2 & 0\\\\-3 & 3 & 2 & -7\\end{matrix}\\right]$"
      ],
      "text/plain": [
       "⎡2   4   3   4 ⎤\n",
       "⎢              ⎥\n",
       "⎢1   -2  -2  0 ⎥\n",
       "⎢              ⎥\n",
       "⎣-3  3   2   -7⎦"
      ]
     },
     "execution_count": 4,
     "metadata": {},
     "output_type": "execute_result"
    }
   ],
   "source": [
    "M = A.col_insert(3, Matrix([4, 0, -7]))\n",
    "M"
   ]
  },
  {
   "cell_type": "markdown",
   "metadata": {},
   "source": [
    "Calculamos la forma escalonada de la matriz"
   ]
  },
  {
   "cell_type": "code",
   "execution_count": 5,
   "metadata": {},
   "outputs": [
    {
     "data": {
      "image/png": "[encoded data removed]",
      "text/latex": [
       "$\\displaystyle \\left( \\left[\\begin{matrix}1 & 0 & 0 & 2\\\\0 & 1 & 0 & -3\\\\0 & 0 & 1 & 4\\end{matrix}\\right], \\  \\left( 0, \\  1, \\  2\\right)\\right)$"
      ],
      "text/plain": [
       "⎛⎡1  0  0  2 ⎤           ⎞\n",
       "⎜⎢           ⎥           ⎟\n",
       "⎜⎢0  1  0  -3⎥, (0, 1, 2)⎟\n",
       "⎜⎢           ⎥           ⎟\n",
       "⎝⎣0  0  1  4 ⎦           ⎠"
      ]
     },
     "execution_count": 5,
     "metadata": {},
     "output_type": "execute_result"
    }
   ],
   "source": [
    "M.rref()"
   ]
  },
  {
   "cell_type": "markdown",
   "metadata": {},
   "source": [
    "De la última fila es fácil determinar que ${x^3}=4$. Los otros dos valores que resultan son ${x^2}=-3$ y  ${x^1}=2$. \n",
    "\n",
    "Por supuesto podemos recurrir al cálculo directo:"
   ]
  },
  {
   "cell_type": "code",
   "execution_count": 6,
   "metadata": {},
   "outputs": [
    {
     "data": {
      "image/png": "[encoded data removed]",
      "text/latex": [
       "$\\displaystyle \\left\\{\\left( 2, \\  -3, \\  4\\right)\\right\\}$"
      ],
      "text/plain": [
       "{(2, -3, 4)}"
      ]
     },
     "execution_count": 6,
     "metadata": {},
     "output_type": "execute_result"
    }
   ],
   "source": [
    "sol = linsolve([ec1,ec2,ec3], (x1, x2, x3))\n",
    "sol\n"
   ]
  },
  {
   "cell_type": "markdown",
   "metadata": {},
   "source": [
    "2.  Resolvamos nuevamente el mismo sistema pero ahora por el método de la matriz inversa."
   ]
  },
  {
   "cell_type": "markdown",
   "metadata": {},
   "source": [
    "La matriz inversa de $A$ la denominaremos $Ainv$, y la calcularemos de la manera siguiente"
   ]
  },
  {
   "cell_type": "code",
   "execution_count": 7,
   "metadata": {},
   "outputs": [
    {
     "data": {
      "image/png": "[encoded data removed]",
      "text/latex": [
       "$\\displaystyle \\left[\\begin{matrix}\\frac{2}{11} & \\frac{1}{11} & - \\frac{2}{11}\\\\\\frac{4}{11} & \\frac{13}{11} & \\frac{7}{11}\\\\- \\frac{3}{11} & - \\frac{18}{11} & - \\frac{8}{11}\\end{matrix}\\right]$"
      ],
      "text/plain": [
       "⎡2/11   1/11  -2/11⎤\n",
       "⎢                  ⎥\n",
       "⎢        13        ⎥\n",
       "⎢4/11    ──   7/11 ⎥\n",
       "⎢        11        ⎥\n",
       "⎢                  ⎥\n",
       "⎢       -18        ⎥\n",
       "⎢-3/11  ────  -8/11⎥\n",
       "⎣        11        ⎦"
      ]
     },
     "execution_count": 7,
     "metadata": {},
     "output_type": "execute_result"
    }
   ],
   "source": [
    "Ainv =A.inv()\n",
    "Ainv"
   ]
  },
  {
   "cell_type": "markdown",
   "metadata": {},
   "source": [
    "La matriz con los términos inhomogéneos lo llamaremos $C$:"
   ]
  },
  {
   "cell_type": "code",
   "execution_count": 8,
   "metadata": {},
   "outputs": [
    {
     "data": {
      "image/png": "[encoded data removed]",
      "text/latex": [
       "$\\displaystyle \\left[\\begin{matrix}4\\\\0\\\\-7\\end{matrix}\\right]$"
      ],
      "text/plain": [
       "⎡4 ⎤\n",
       "⎢  ⎥\n",
       "⎢0 ⎥\n",
       "⎢  ⎥\n",
       "⎣-7⎦"
      ]
     },
     "execution_count": 8,
     "metadata": {},
     "output_type": "execute_result"
    }
   ],
   "source": [
    "C = Matrix([4, 0,-7])\n",
    "C"
   ]
  },
  {
   "cell_type": "markdown",
   "metadata": {},
   "source": [
    "Para que finalmente podamos hacer la siguiente multiplicación de matrices:"
   ]
  },
  {
   "cell_type": "code",
   "execution_count": 9,
   "metadata": {},
   "outputs": [
    {
     "data": {
      "image/png": "[encoded data removed]",
      "text/latex": [
       "$\\displaystyle \\left[\\begin{matrix}2\\\\-3\\\\4\\end{matrix}\\right]$"
      ],
      "text/plain": [
       "⎡2 ⎤\n",
       "⎢  ⎥\n",
       "⎢-3⎥\n",
       "⎢  ⎥\n",
       "⎣4 ⎦"
      ]
     },
     "execution_count": 9,
     "metadata": {},
     "output_type": "execute_result"
    }
   ],
   "source": [
    "Ainv*C"
   ]
  },
  {
   "cell_type": "markdown",
   "metadata": {},
   "source": [
    "Por lo tanto: ${x^1}=2$, ${x^2}=-3$, ${x^3}=4$."
   ]
  },
  {
   "cell_type": "markdown",
   "metadata": {},
   "source": [
    "3. Vamos ahora a resolver el mismo sistema pero usando la técnica de factorización $ \\mathbb{L} \\mathbb{U}$. \n",
    "\n",
    "Le podemos pedir al programa que factorize la matriz $A$, consultar el manual de **SymPy** para más detalles."
   ]
  },
  {
   "cell_type": "code",
   "execution_count": 10,
   "metadata": {},
   "outputs": [
    {
     "data": {
      "image/png": "[encoded data removed]",
      "text/latex": [
       "$\\displaystyle \\left( \\left[\\begin{matrix}1 & 0 & 0\\\\\\frac{1}{2} & 1 & 0\\\\- \\frac{3}{2} & - \\frac{9}{4} & 1\\end{matrix}\\right], \\  \\left[\\begin{matrix}2 & 4 & 3\\\\0 & -4 & - \\frac{7}{2}\\\\0 & 0 & - \\frac{11}{8}\\end{matrix}\\right], \\  \\left[ \\right]\\right)$"
      ],
      "text/plain": [
       "⎛⎡ 1     0    0⎤  ⎡2  4     3  ⎤    ⎞\n",
       "⎜⎢             ⎥  ⎢            ⎥    ⎟\n",
       "⎜⎢1/2    1    0⎥, ⎢0  -4  -7/2 ⎥, []⎟\n",
       "⎜⎢             ⎥  ⎢            ⎥    ⎟\n",
       "⎝⎣-3/2  -9/4  1⎦  ⎣0  0   -11/8⎦    ⎠"
      ]
     },
     "execution_count": 10,
     "metadata": {},
     "output_type": "execute_result"
    }
   ],
   "source": [
    "A.LUdecomposition()"
   ]
  },
  {
   "cell_type": "code",
   "execution_count": 11,
   "metadata": {},
   "outputs": [
    {
     "data": {
      "image/png": "[encoded data removed]",
      "text/latex": [
       "$\\displaystyle \\left( \\left[\\begin{matrix}1 & 0 & 0\\\\\\frac{1}{2} & 1 & 0\\\\- \\frac{3}{2} & - \\frac{9}{4} & 1\\end{matrix}\\right], \\  \\left[\\begin{matrix}2 & 4 & 3\\\\0 & -4 & - \\frac{7}{2}\\\\0 & 0 & - \\frac{11}{8}\\end{matrix}\\right]\\right)$"
      ],
      "text/plain": [
       "⎛⎡ 1     0    0⎤  ⎡2  4     3  ⎤⎞\n",
       "⎜⎢             ⎥  ⎢            ⎥⎟\n",
       "⎜⎢1/2    1    0⎥, ⎢0  -4  -7/2 ⎥⎟\n",
       "⎜⎢             ⎥  ⎢            ⎥⎟\n",
       "⎝⎣-3/2  -9/4  1⎦  ⎣0  0   -11/8⎦⎠"
      ]
     },
     "execution_count": 11,
     "metadata": {},
     "output_type": "execute_result"
    }
   ],
   "source": [
    "L, U, _ = A.LUdecomposition()\n",
    "L,U"
   ]
  },
  {
   "cell_type": "code",
   "execution_count": 12,
   "metadata": {},
   "outputs": [
    {
     "data": {
      "image/png": "[encoded data removed]",
      "text/latex": [
       "$\\displaystyle \\left( \\left[\\begin{matrix}1 & 0 & 0\\\\\\frac{1}{2} & 1 & 0\\\\- \\frac{3}{2} & - \\frac{9}{4} & 1\\end{matrix}\\right], \\  \\left[\\begin{matrix}2 & 4 & 3\\\\0 & -4 & - \\frac{7}{2}\\\\0 & 0 & - \\frac{11}{8}\\end{matrix}\\right]\\right)$"
      ],
      "text/plain": [
       "⎛⎡ 1     0    0⎤  ⎡2  4     3  ⎤⎞\n",
       "⎜⎢             ⎥  ⎢            ⎥⎟\n",
       "⎜⎢1/2    1    0⎥, ⎢0  -4  -7/2 ⎥⎟\n",
       "⎜⎢             ⎥  ⎢            ⎥⎟\n",
       "⎝⎣-3/2  -9/4  1⎦  ⎣0  0   -11/8⎦⎠"
      ]
     },
     "execution_count": 12,
     "metadata": {},
     "output_type": "execute_result"
    }
   ],
   "source": [
    "L,U"
   ]
  },
  {
   "cell_type": "markdown",
   "metadata": {},
   "source": [
    "Podemos resolver entonces la primera parte, $\\mathbb{L} \\mathbb{Y}= \\mathbb{C}\\Rightarrow \\mathbb{Y}=\\mathbb{L}^{-1}\\mathbb{C}  $: "
   ]
  },
  {
   "cell_type": "code",
   "execution_count": 13,
   "metadata": {},
   "outputs": [
    {
     "data": {
      "image/png": "[encoded data removed]",
      "text/latex": [
       "$\\displaystyle \\left[\\begin{matrix}4\\\\-2\\\\- \\frac{11}{2}\\end{matrix}\\right]$"
      ],
      "text/plain": [
       "⎡  4  ⎤\n",
       "⎢     ⎥\n",
       "⎢ -2  ⎥\n",
       "⎢     ⎥\n",
       "⎣-11/2⎦"
      ]
     },
     "execution_count": 13,
     "metadata": {},
     "output_type": "execute_result"
    }
   ],
   "source": [
    "Y =L.inv()*C\n",
    "Y"
   ]
  },
  {
   "cell_type": "markdown",
   "metadata": {},
   "source": [
    "Y ahora $ \\mathbb{U} \\mathbb{X}= \\mathbb{Y}$:"
   ]
  },
  {
   "cell_type": "code",
   "execution_count": 14,
   "metadata": {},
   "outputs": [
    {
     "data": {
      "image/png": "[encoded data removed]",
      "text/latex": [
       "$\\displaystyle \\left[\\begin{matrix}2\\\\-3\\\\4\\end{matrix}\\right]$"
      ],
      "text/plain": [
       "⎡2 ⎤\n",
       "⎢  ⎥\n",
       "⎢-3⎥\n",
       "⎢  ⎥\n",
       "⎣4 ⎦"
      ]
     },
     "execution_count": 14,
     "metadata": {},
     "output_type": "execute_result"
    }
   ],
   "source": [
    "X =U.inv()*Y\n",
    "X"
   ]
  },
  {
   "cell_type": "markdown",
   "metadata": {},
   "source": [
    "Por lo que resulta que: ${x^1}=2$,  ${x^2}=-3$,  ${x^3}=4$.\n",
    "\n",
    "Notemos que:"
   ]
  },
  {
   "cell_type": "code",
   "execution_count": 15,
   "metadata": {},
   "outputs": [
    {
     "data": {
      "text/plain": [
       "True"
      ]
     },
     "execution_count": 15,
     "metadata": {},
     "output_type": "execute_result"
    }
   ],
   "source": [
    "A.det() == L.det()*U.det() "
   ]
  },
  {
   "cell_type": "markdown",
   "metadata": {},
   "source": [
    "4. Utilicemos ahora los determinantes de Cramer. Para tal fin, construiremos las matrices eliminando las columnas correspondientes."
   ]
  },
  {
   "cell_type": "code",
   "execution_count": 16,
   "metadata": {},
   "outputs": [
    {
     "data": {
      "image/png": "[encoded data removed]",
      "text/latex": [
       "$\\displaystyle \\left( \\left[\\begin{matrix}2\\\\1\\\\-3\\end{matrix}\\right], \\  \\left[\\begin{matrix}4\\\\-2\\\\3\\end{matrix}\\right], \\  \\left[\\begin{matrix}3\\\\-2\\\\2\\end{matrix}\\right]\\right)$"
      ],
      "text/plain": [
       "⎛⎡2 ⎤  ⎡4 ⎤  ⎡3 ⎤⎞\n",
       "⎜⎢  ⎥  ⎢  ⎥  ⎢  ⎥⎟\n",
       "⎜⎢1 ⎥, ⎢-2⎥, ⎢-2⎥⎟\n",
       "⎜⎢  ⎥  ⎢  ⎥  ⎢  ⎥⎟\n",
       "⎝⎣-3⎦  ⎣3 ⎦  ⎣2 ⎦⎠"
      ]
     },
     "execution_count": 16,
     "metadata": {},
     "output_type": "execute_result"
    }
   ],
   "source": [
    "# Extraemos las columnas de la matriz A\n",
    "A1 = A.col(0)\n",
    "A2 = A.col(1)\n",
    "A3 = A.col(2)\n",
    "A1,A2,A3"
   ]
  },
  {
   "cell_type": "markdown",
   "metadata": {},
   "source": [
    "Construimos  las nuevas matrices con las matrices columnas anteriores"
   ]
  },
  {
   "cell_type": "code",
   "execution_count": 17,
   "metadata": {},
   "outputs": [
    {
     "data": {
      "image/png": "[encoded data removed]",
      "text/latex": [
       "$\\displaystyle \\left( \\left[\\begin{matrix}4 & 4 & 3\\\\0 & -2 & -2\\\\-7 & 3 & 2\\end{matrix}\\right], \\  \\left[\\begin{matrix}2 & 4 & 3\\\\1 & 0 & -2\\\\-3 & -7 & 2\\end{matrix}\\right], \\  \\left[\\begin{matrix}2 & 4 & 4\\\\1 & -2 & 0\\\\-3 & 3 & -7\\end{matrix}\\right]\\right)$"
      ],
      "text/plain": [
       "⎛⎡4   4   3 ⎤  ⎡2   4   3 ⎤  ⎡2   4   4 ⎤⎞\n",
       "⎜⎢          ⎥  ⎢          ⎥  ⎢          ⎥⎟\n",
       "⎜⎢0   -2  -2⎥, ⎢1   0   -2⎥, ⎢1   -2  0 ⎥⎟\n",
       "⎜⎢          ⎥  ⎢          ⎥  ⎢          ⎥⎟\n",
       "⎝⎣-7  3   2 ⎦  ⎣-3  -7  2 ⎦  ⎣-3  3   -7⎦⎠"
      ]
     },
     "execution_count": 17,
     "metadata": {},
     "output_type": "execute_result"
    }
   ],
   "source": [
    "D1 = Matrix.hstack(C, A2, A3)\n",
    "D2 = Matrix.hstack(A1, C, A3)\n",
    "D3 = Matrix.hstack(A1, A2, C)\n",
    "D1,D2,D3"
   ]
  },
  {
   "cell_type": "code",
   "execution_count": 18,
   "metadata": {},
   "outputs": [
    {
     "data": {
      "image/png": "[encoded data removed]",
      "text/latex": [
       "$\\displaystyle \\left( 2, \\  -3, \\  4\\right)$"
      ],
      "text/plain": [
       "(2, -3, 4)"
      ]
     },
     "execution_count": 18,
     "metadata": {},
     "output_type": "execute_result"
    }
   ],
   "source": [
    "# Calculamos los determinantes\n",
    "x1 = D1.det() / A.det()\n",
    "x2 = D2.det() / A.det()\n",
    "x3 = D3.det() / A.det()\n",
    "x1, x2, x3"
   ]
  },
  {
   "cell_type": "markdown",
   "metadata": {},
   "source": [
    "SymPy puede resolver  el sistema $ \\mathbb{A} \\mathbb{x} = \\mathbb{C}$ usando directamente la eliminación de Gauss Jordan."
   ]
  },
  {
   "cell_type": "code",
   "execution_count": 19,
   "metadata": {},
   "outputs": [
    {
     "data": {
      "image/png": "[encoded data removed]",
      "text/latex": [
       "$\\displaystyle \\left[\\begin{matrix}2\\\\-3\\\\4\\end{matrix}\\right]$"
      ],
      "text/plain": [
       "⎡2 ⎤\n",
       "⎢  ⎥\n",
       "⎢-3⎥\n",
       "⎢  ⎥\n",
       "⎣4 ⎦"
      ]
     },
     "execution_count": 19,
     "metadata": {},
     "output_type": "execute_result"
    }
   ],
   "source": [
    "sol, param = A.gauss_jordan_solve(C)\n",
    "sol"
   ]
  },
  {
   "cell_type": "markdown",
   "metadata": {},
   "source": [
    "Si el sistema está subdeterminado (por ejemplo, $\\mathbb{A}$ tiene más columnas que filas), son posibles infinitas soluciones, en términos de parámetros arbitrarios. Estos parámetros arbitrarios se devuelven como matriz de parámetros."
   ]
  },
  {
   "cell_type": "markdown",
   "metadata": {},
   "source": [
    "5.  Existen entonces algunas consideraciones a tomar en cuenta. \n",
    "\n",
    "- El sistema puede contener más incógnitas que ecuaciones, por ejemplo:"
   ]
  },
  {
   "cell_type": "code",
   "execution_count": 20,
   "metadata": {},
   "outputs": [
    {
     "data": {
      "image/png": "[encoded data removed]",
      "text/latex": [
       "$\\displaystyle \\left( 2 x_{1} + 4 x_{2} + 3 x_{3} = 4, \\  x + 2 y + z = 0\\right)$"
      ],
      "text/plain": [
       "(2⋅x₁ + 4⋅x₂ + 3⋅x₃ = 4, x + 2⋅y + z = 0)"
      ]
     },
     "execution_count": 20,
     "metadata": {},
     "output_type": "execute_result"
    }
   ],
   "source": [
    "x, y, z = symbols('x y z')\n",
    "ecu1= Eq(x+y+z,1) \n",
    "ecu2= Eq(x+2*y+z,0)\n",
    "ec1,ecu2"
   ]
  },
  {
   "cell_type": "code",
   "execution_count": 21,
   "metadata": {},
   "outputs": [
    {
     "data": {
      "image/png": "[encoded data removed]",
      "text/latex": [
       "$\\displaystyle \\left\\{\\left( 2 - z, \\  -1, \\  z\\right)\\right\\}$"
      ],
      "text/plain": [
       "{(2 - z, -1, z)}"
      ]
     },
     "execution_count": 21,
     "metadata": {},
     "output_type": "execute_result"
    }
   ],
   "source": [
    "sol = linsolve([ecu1,ecu2], (x, y, z))\n",
    "sol"
   ]
  },
  {
   "cell_type": "markdown",
   "metadata": {},
   "source": [
    "El programa nos está señalando que las soluciones, en este caso infinitas.  Una solución puede ser entonces la siguiente: $\\{x=2 , y=-1 , z=0\\}$.\n",
    "\n",
    "Podemos también hacer lo siguiente:"
   ]
  },
  {
   "cell_type": "code",
   "execution_count": 22,
   "metadata": {},
   "outputs": [],
   "source": [
    "# La matriz de coeficientes\n",
    "A = Matrix([[1, 1, 1], [1, 2, 1]])\n",
    "# La matriz de los coeficientes inhomogéneos\n",
    "C = Matrix([1, 0])"
   ]
  },
  {
   "cell_type": "code",
   "execution_count": 23,
   "metadata": {},
   "outputs": [
    {
     "data": {
      "image/png": "[encoded data removed]",
      "text/latex": [
       "$\\displaystyle \\left( \\left[\\begin{matrix}2 - \\tau_{0}\\\\-1\\\\\\tau_{0}\\end{matrix}\\right], \\  \\left[\\begin{matrix}\\tau_{0}\\end{matrix}\\right]\\right)$"
      ],
      "text/plain": [
       "⎛⎡2 - τ₀⎤      ⎞\n",
       "⎜⎢      ⎥      ⎟\n",
       "⎜⎢  -1  ⎥, [τ₀]⎟\n",
       "⎜⎢      ⎥      ⎟\n",
       "⎝⎣  τ₀  ⎦      ⎠"
      ]
     },
     "execution_count": 23,
     "metadata": {},
     "output_type": "execute_result"
    }
   ],
   "source": [
    "sol, param = A.gauss_jordan_solve(C)\n",
    "sol,param"
   ]
  },
  {
   "cell_type": "markdown",
   "metadata": {},
   "source": [
    "- El sistema tiene más ecuaciones que incógnitas, por ejemplo:"
   ]
  },
  {
   "cell_type": "code",
   "execution_count": 24,
   "metadata": {},
   "outputs": [
    {
     "data": {
      "image/png": "[encoded data removed]",
      "text/latex": [
       "$\\displaystyle \\left( x + y = 5, \\  x + 2 y = 8, \\  3 x + y = 9\\right)$"
      ],
      "text/plain": [
       "(x + y = 5, x + 2⋅y = 8, 3⋅x + y = 9)"
      ]
     },
     "execution_count": 24,
     "metadata": {},
     "output_type": "execute_result"
    }
   ],
   "source": [
    "ecu1= Eq(x+y,5) \n",
    "ecu2= Eq(x+2*y,8)\n",
    "ecu3= Eq(3*x+y,9)\n",
    "ecu1,ecu2,ecu3"
   ]
  },
  {
   "cell_type": "code",
   "execution_count": 25,
   "metadata": {},
   "outputs": [
    {
     "data": {
      "image/png": "[encoded data removed]",
      "text/latex": [
       "$\\displaystyle \\left\\{\\left( 2, \\  3\\right)\\right\\}$"
      ],
      "text/plain": [
       "{(2, 3)}"
      ]
     },
     "execution_count": 25,
     "metadata": {},
     "output_type": "execute_result"
    }
   ],
   "source": [
    "sol = linsolve([ecu1,ecu2,ecu3], (x, y))\n",
    "sol"
   ]
  },
  {
   "cell_type": "markdown",
   "metadata": {},
   "source": [
    "Aquí, SymPy encuentra una solución al eliminar una de las ecuaciones dependientes. "
   ]
  },
  {
   "cell_type": "code",
   "execution_count": 26,
   "metadata": {},
   "outputs": [
    {
     "data": {
      "image/png": "[encoded data removed]",
      "text/latex": [
       "$\\displaystyle \\left( \\left[\\begin{matrix}2\\\\3\\end{matrix}\\right], \\  \\left[\\begin{matrix}\\end{matrix}\\right]\\right)$"
      ],
      "text/plain": [
       "⎛⎡2⎤    ⎞\n",
       "⎜⎢ ⎥, []⎟\n",
       "⎝⎣3⎦    ⎠"
      ]
     },
     "execution_count": 26,
     "metadata": {},
     "output_type": "execute_result"
    }
   ],
   "source": [
    "# La matriz de coeficientes\n",
    "A = Matrix([[1, 1], [1, 2],[3,1]])\n",
    "# La matriz de los coeficientes inhomogéneos\n",
    "C = Matrix([5, 8,9])\n",
    "sol, param = A.gauss_jordan_solve(C)\n",
    "sol,param"
   ]
  },
  {
   "cell_type": "markdown",
   "metadata": {},
   "source": [
    "- El sistema no tiene solución, por ejemplo:"
   ]
  },
  {
   "cell_type": "code",
   "execution_count": 27,
   "metadata": {},
   "outputs": [
    {
     "data": {
      "image/png": "[encoded data removed]",
      "text/latex": [
       "$\\displaystyle \\left( x + y = 5, \\  x + 2 y = 8, \\  3 x + y = 10\\right)$"
      ],
      "text/plain": [
       "(x + y = 5, x + 2⋅y = 8, 3⋅x + y = 10)"
      ]
     },
     "execution_count": 27,
     "metadata": {},
     "output_type": "execute_result"
    }
   ],
   "source": [
    "ecu1= Eq(x+y,5) \n",
    "ecu2= Eq(x+2*y,8)\n",
    "ecu3= Eq(3*x+y,10)\n",
    "ecu1,ecu2,ecu3"
   ]
  },
  {
   "cell_type": "code",
   "execution_count": 28,
   "metadata": {},
   "outputs": [
    {
     "data": {
      "image/png": "[encoded data removed]",
      "text/latex": [
       "$\\displaystyle \\emptyset$"
      ],
      "text/plain": [
       "∅"
      ]
     },
     "execution_count": 28,
     "metadata": {},
     "output_type": "execute_result"
    }
   ],
   "source": [
    "sol = linsolve([ecu1,ecu2,ecu3], (x, y))\n",
    "sol"
   ]
  },
  {
   "cell_type": "markdown",
   "metadata": {},
   "source": [
    "Si intentamos resolver el problema utilizando \"Gauss_jordan_solve\" el programa dará un mensaje de error \"ValueError: Linear system has no solution\""
   ]
  }
 ],
 "metadata": {
  "colab": {
   "collapsed_sections": [
    "HS5j074Bpqw9",
    "M6k5DaB7AMNL",
    "IZBsDTb4E7U4",
    "Hn31KOmRS9EA",
    "A3ZNaLdqWeG5",
    "5Vs06j5DdIme",
    "ujW8a0HzkNuV"
   ],
   "provenance": [
    {
     "file_id": "1YrOBd8YdJ9P2aPSTRJEnMxLdlqznqh8y",
     "timestamp": 1694038709310
    }
   ]
  },
  "kernelspec": {
   "display_name": "Python 3 (ipykernel)",
   "language": "python",
   "name": "python3"
  },
  "language_info": {
   "codemirror_mode": {
    "name": "ipython",
    "version": 3
   },
   "file_extension": ".py",
   "mimetype": "text/x-python",
   "name": "python",
   "nbconvert_exporter": "python",
   "pygments_lexer": "ipython3",
   "version": "3.11.7"
  }
 },
 "nbformat": 4,
 "nbformat_minor": 1
}

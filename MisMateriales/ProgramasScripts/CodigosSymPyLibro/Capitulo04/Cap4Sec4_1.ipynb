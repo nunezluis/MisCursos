{
 "cells": [
  {
   "cell_type": "markdown",
   "metadata": {
    "id": "aleOVKzP-8kQ"
   },
   "source": [
    "1.  Si tenemos la siguiente transformación, $|x^{\\prime}\\rangle=\\mathbf{T}| x \\rangle $: \n",
    "$$\n",
    "\\mathbb{T}: \\mathbf{R}^3 \\rightarrow \\mathbf{R}^4  \\,, \\,\\,\n",
    "\\mathbb{T}\\left[ \\left(x,y,z\\right) \\right]=\\left(2x+y,x-z,x+y+z,y+z\\right)\\,,\n",
    "$$\n",
    "entonces, para que sea una transformación lineal debe satisfacer lo siguiente:\n",
    "\n",
    "\n",
    "-  $\\mathbb{T}\\left[ |  {v}_{1}\\rangle +| {v}_{2}\\rangle \\right]=\n",
    "\\mathbb{T}\\left[ |  {v}_{1}\\rangle\\right]+\\mathbb{T}\\left[ |  {v}_{2}\\rangle\\right]$.\n",
    "-  $\\mathbb{T}\\left[\\alpha | {v}\\rangle\\right]= \\alpha\n",
    "\\mathbb{T}\\left[ | v \\rangle\\right]$.\n",
    "\n"
   ]
  },
  {
   "cell_type": "code",
   "execution_count": 1,
   "metadata": {
    "id": "604d4rBS80_Y"
   },
   "outputs": [],
   "source": [
    "import sympy\n",
    "from sympy import *\n",
    "init_printing()"
   ]
  },
  {
   "cell_type": "markdown",
   "metadata": {
    "id": "oLNHFfRNpqxC"
   },
   "source": [
    "Podemos demostar ambas propiedades de la manera siguiente"
   ]
  },
  {
   "cell_type": "code",
   "execution_count": 2,
   "metadata": {},
   "outputs": [
    {
     "data": {
      "image/png": "[encoded data removed]",
      "text/latex": [
       "$\\displaystyle \\left[ 0, \\  0, \\  0, \\  0\\right]$"
      ],
      "text/plain": [
       "[0, 0, 0, 0]"
      ]
     },
     "execution_count": 2,
     "metadata": {},
     "output_type": "execute_result"
    }
   ],
   "source": [
    "# Definir las variables simbólicas\n",
    "x, y, z, x1, x2, y1, y2, z1, z2, α = symbols('x y z x1 x2 y1 y2 z1 z2 α')\n",
    "\n",
    "# Definir la función f\n",
    "f = [2*x + y, x - z, x + y + z, y + z]\n",
    "\n",
    "# Calcular ld y li\n",
    "ld = [f[0].subs({x: x1 + x2, y: y1 + y2, z: z1 + z2}), \n",
    "      f[1].subs({x: x1 + x2, y: y1 + y2, z: z1 + z2}), \n",
    "      f[2].subs({x: x1 + x2, y: y1 + y2, z: z1 + z2}), \n",
    "      f[3].subs({x: x1 + x2, y: y1 + y2, z: z1 + z2})]\n",
    "\n",
    "li = [f[0].subs({x: x1, y: y1, z: z1}) + f[0].subs({x: x2, y: y2, z: z2}),\n",
    "      f[1].subs({x: x1, y: y1, z: z1}) + f[1].subs({x: x2, y: y2, z: z2}),\n",
    "      f[2].subs({x: x1, y: y1, z: z1}) + f[2].subs({x: x2, y: y2, z: z2}),\n",
    "      f[3].subs({x: x1, y: y1, z: z1}) + f[3].subs({x: x2, y: y2, z: z2})]\n",
    "\n",
    "# Aplicar factor a ld y li\n",
    "ld_f = [factor(expr) for expr in ld]\n",
    "li_f = [factor(expr) for expr in li]\n",
    "\n",
    "# Restar ld de li y simplificar el resultado\n",
    "resultado = [expr1 - expr2 for expr1, expr2 in zip(ld_f, li_f)]\n",
    "ceros = [ratsimp(expr) for expr in resultado]\n",
    "ceros"
   ]
  },
  {
   "cell_type": "markdown",
   "metadata": {},
   "source": [
    "Para la segunda condición"
   ]
  },
  {
   "cell_type": "code",
   "execution_count": 3,
   "metadata": {},
   "outputs": [
    {
     "data": {
      "image/png": "[encoded data removed]",
      "text/latex": [
       "$\\displaystyle \\left[ 0, \\  0, \\  0, \\  0\\right]$"
      ],
      "text/plain": [
       "[0, 0, 0, 0]"
      ]
     },
     "execution_count": 3,
     "metadata": {},
     "output_type": "execute_result"
    }
   ],
   "source": [
    "# Calcular f(alpha*x, alpha*y, alpha*z) - alpha*f(x, y, z)\n",
    "f1 = [f[i].subs({x: α*x, y: α*y, z: α*z}) - α*f[i] for i in range(len(f))]\n",
    "ceros = [factor(expr) for expr in f1]\n",
    "ceros"
   ]
  },
  {
   "cell_type": "markdown",
   "metadata": {},
   "source": [
    "2. Consideremos ahora la siguiente transformación, $|x^{\\prime}\\rangle=\\mathbf{T}| x \\rangle $: \n",
    "$$\n",
    "\\mathbf{T}: \\mathbf{R}^3 \\rightarrow \\mathbf{R}^3  \\,, \\,\\,\n",
    "\\mathbf{T}\\left[ \\left(x,y,z\\right) \\right]=\\left(x^2,y+z,z^2\\right) \\,.\n",
    "$$"
   ]
  },
  {
   "cell_type": "code",
   "execution_count": 4,
   "metadata": {},
   "outputs": [
    {
     "data": {
      "image/png": "[encoded data removed]",
      "text/latex": [
       "$\\displaystyle \\left[ 2 x_{1} x_{2}, \\  0, \\  2 z_{1} z_{2}\\right]$"
      ],
      "text/plain": [
       "[2⋅x₁⋅x₂, 0, 2⋅z₁⋅z₂]"
      ]
     },
     "execution_count": 4,
     "metadata": {},
     "output_type": "execute_result"
    }
   ],
   "source": [
    "# Definir la función f\n",
    "f = [x**2, y + z, z**2]\n",
    "\n",
    "# Calcular ld y li\n",
    "ld = [f[0].subs({x: x1 + x2, y: y1 + y2, z: z1 + z2}), \n",
    "      f[1].subs({x: x1 + x2, y: y1 + y2, z: z1 + z2}), \n",
    "      f[2].subs({x: x1 + x2, y: y1 + y2, z: z1 + z2})]\n",
    "\n",
    "li = [f[0].subs({x: x1, y: y1, z: z1}) + f[0].subs({x: x2, y: y2, z: z2}),\n",
    "      f[1].subs({x: x1, y: y1, z: z1}) + f[1].subs({x: x2, y: y2, z: z2}),\n",
    "      f[2].subs({x: x1, y: y1, z: z1}) + f[2].subs({x: x2, y: y2, z: z2})]\n",
    "\n",
    "# Aplicar factor a ld y li\n",
    "ld_f = [factor(expr) for expr in ld]\n",
    "li_f = [factor(expr) for expr in li]\n",
    "\n",
    "# Restar ld de li y simplificar el resultado\n",
    "resultado = [expr1 - expr2 for expr1, expr2 in zip(ld_f, li_f)]\n",
    "ceros = [ratsimp(expr) for expr in resultado]\n",
    "ceros"
   ]
  },
  {
   "cell_type": "markdown",
   "metadata": {},
   "source": [
    "No es una transformación lineal. "
   ]
  },
  {
   "cell_type": "markdown",
   "metadata": {},
   "source": [
    "3. Dadas las siguientes transformaciones de $\\mathbf{R}^3 \\rightarrow \\mathbf{R}^3$:\n",
    "$$\n",
    "\\mathbb{A}\\left[ \\left(x,y,z\\right) \\right]=\\left(2x-z,x+z,x\\right)\\,, \\,\\,\n",
    "\\mathbb{B}\\left[ \\left(x,y,z\\right) \\right]=\\left(z,x,y\\right)\\,.\n",
    "$$\n",
    "\n",
    "Veamos si conmutan, es decir, $[\\mathbb{A},\\mathbb{B}]=\\mathbb{A}\\mathbb{B}-\\mathbb{B}\\mathbb{A}=0$. \n",
    "\n",
    "Podemos ver que $\\mathbb{A}\\mathbb{B}=\\mathbb{A}[\\mathbb{B}| x \\rangle]=\\left(2z-y,z+y,z\\right)$ y $\\mathbb{B}\\mathbb{A}=\\mathbb{B}[\\mathbb{A}| x \\rangle]=\\left(x,2x-z,x+z\\right)$. "
   ]
  },
  {
   "cell_type": "code",
   "execution_count": 5,
   "metadata": {},
   "outputs": [
    {
     "name": "stdout",
     "output_type": "stream",
     "text": [
      "AB= [-y + 2*z, y + z, z]\n",
      "BA= [x, 2*x - z, x + z]\n"
     ]
    },
    {
     "data": {
      "image/png": "[encoded data removed]",
      "text/latex": [
       "$\\displaystyle \\left[ - x - y + 2 z, \\  - 2 x + y + 2 z, \\  - x\\right]$"
      ],
      "text/plain": [
       "[-x - y + 2⋅z, -2⋅x + y + 2⋅z, -x]"
      ]
     },
     "execution_count": 5,
     "metadata": {},
     "output_type": "execute_result"
    }
   ],
   "source": [
    "# Definir las funciones A y B\n",
    "def A(x, y, z):\n",
    "    return [2*x - z, x + z, x]\n",
    "def B(x, y, z):\n",
    "    return [z, x, y]\n",
    "# Definir la lista [x, y, z]\n",
    "xyz = [z, x, y]\n",
    "# Evaluar A  en (x, y, z)\n",
    "AB = A(*xyz)\n",
    "print('AB=',AB)\n",
    "# Restablecer los valores de x, y, z\n",
    "xyz = [2*x - z, x + z, x]\n",
    "# Evaluar  B en (x, y, z) modificado\n",
    "BA = B(*xyz)\n",
    "print('BA=',BA)\n",
    "# Calcular la diferencia AB - BA\n",
    "diferencia = [AB[i] - BA[i] for i in range(len(BA))]\n",
    "diferencia"
   ]
  },
  {
   "cell_type": "markdown",
   "metadata": {},
   "source": [
    "Por lo tanto no conmutan."
   ]
  }
 ],
 "metadata": {
  "colab": {
   "collapsed_sections": [
    "HS5j074Bpqw9",
    "M6k5DaB7AMNL",
    "IZBsDTb4E7U4",
    "Hn31KOmRS9EA",
    "A3ZNaLdqWeG5",
    "5Vs06j5DdIme",
    "ujW8a0HzkNuV"
   ],
   "provenance": [
    {
     "file_id": "1YrOBd8YdJ9P2aPSTRJEnMxLdlqznqh8y",
     "timestamp": 1694038709310
    }
   ]
  },
  "kernelspec": {
   "display_name": "Python 3 (ipykernel)",
   "language": "python",
   "name": "python3"
  },
  "language_info": {
   "codemirror_mode": {
    "name": "ipython",
    "version": 3
   },
   "file_extension": ".py",
   "mimetype": "text/x-python",
   "name": "python",
   "nbconvert_exporter": "python",
   "pygments_lexer": "ipython3",
   "version": "3.11.7"
  }
 },
 "nbformat": 4,
 "nbformat_minor": 1
}

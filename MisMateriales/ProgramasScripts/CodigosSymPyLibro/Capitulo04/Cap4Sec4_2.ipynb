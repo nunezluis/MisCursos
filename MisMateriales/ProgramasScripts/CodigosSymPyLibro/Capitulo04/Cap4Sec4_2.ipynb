{
 "cells": [
  {
   "cell_type": "markdown",
   "metadata": {
    "id": "aleOVKzP-8kQ"
   },
   "source": [
    "1.  Consideremos la siguiente transformación lineal: \n",
    "$$\n",
    "\\mathbb{T}: \\mathbf{R}^3 \\rightarrow \\mathbf{R}^4  \\,, \\,\\,\n",
    "\\mathbb{T}\\left[ \\left(x,y,z\\right) \\right]=\\left(2x+y,x-z,x+y+z,y+z\\right)\\,.\n",
    "$$"
   ]
  },
  {
   "cell_type": "code",
   "execution_count": 1,
   "metadata": {
    "id": "604d4rBS80_Y"
   },
   "outputs": [],
   "source": [
    "import sympy\n",
    "from sympy import *\n",
    "init_printing()"
   ]
  },
  {
   "cell_type": "markdown",
   "metadata": {
    "id": "oLNHFfRNpqxC"
   },
   "source": [
    "Podemos preguntarnos si es una transformación biyectiva, para averiguarlo calculemos el  núcleo de la transformación. Hagamos entonces lo siguiente:"
   ]
  },
  {
   "cell_type": "code",
   "execution_count": 2,
   "metadata": {},
   "outputs": [
    {
     "data": {
      "image/png": "[encoded data removed]",
      "text/latex": [
       "$\\displaystyle \\left\\{ x : 0, \\  y : 0, \\  z : 0\\right\\}$"
      ],
      "text/plain": [
       "{x: 0, y: 0, z: 0}"
      ]
     },
     "execution_count": 2,
     "metadata": {},
     "output_type": "execute_result"
    }
   ],
   "source": [
    "# Definir las variables simbólicas\n",
    "x, y, z = symbols('x y z')\n",
    "\n",
    "# Resolver el sistema de ecuaciones\n",
    "solucion = solve([2*x + y, x - z, x + y + z, y + z], (x, y, z))\n",
    "solucion"
   ]
  },
  {
   "cell_type": "markdown",
   "metadata": {},
   "source": [
    "De manera que $\\aleph \\left(\\mathbb{T}\\right) =\\left\\{ (0,0,0)  \\in \\mathbf{R}^3 \\right\\}$ y la transformación es biyectiva. \n",
    "\n",
    "Consideremos ahora la transformación lineal:\n",
    "\n",
    "$$\n",
    "\\mathbb{T}: \\mathbf{R}^3 \\rightarrow \\mathbf{R}^4  \\,, \\,\\,\n",
    "\\mathbb{T}\\left[ \\left(x,y,z\\right) \\right]=\\left(x+y,x+z,2x+y+z,y-z\\right)\n",
    "$$"
   ]
  },
  {
   "cell_type": "code",
   "execution_count": 3,
   "metadata": {},
   "outputs": [
    {
     "data": {
      "image/png": "[encoded data removed]",
      "text/latex": [
       "$\\displaystyle \\left\\{ x : - z, \\  y : z\\right\\}$"
      ],
      "text/plain": [
       "{x: -z, y: z}"
      ]
     },
     "execution_count": 3,
     "metadata": {},
     "output_type": "execute_result"
    }
   ],
   "source": [
    "solucion = solve([x + y, x + z, 2*x + y + z, y - z], (x, y, z))\n",
    "solucion"
   ]
  },
  {
   "cell_type": "markdown",
   "metadata": {},
   "source": [
    "Por lo tanto $\\aleph \\left(\\mathbb{T}\\right) =\\left\\{ (-\\lambda,\\lambda,\\lambda) \\,, \\lambda \\in \\mathbf{R} \\right\\}$. \n",
    "\n",
    "En este caso, la transformación no es biyectiva. Notemos que el vector $| e\\rangle=(-1,1,1)$ resulta ser el vector base para subespacio vectorial  núcleo, es decir, la dimensión de este espacio vectorial es: $\\dim\\left[  \\aleph\\left(  \\mathbb{T}\\right)  \\right]=1$. \n",
    "\n",
    "Como veremos más adelante una base en el espacio imagen o rango es el conjunto: $\\{\\mathbb{T}\\left[\\left(1,0,0\\right) \\right], \\mathbb{T}\\left[\\left(0,1,0\\right) \\right], \\mathbb{T}\\left[\\left(0,0,1\\right) \\right]\\}$.\n",
    "\n",
    "Por lo tanto, podemos hacer los siguientes cálculos:"
   ]
  },
  {
   "cell_type": "code",
   "execution_count": 4,
   "metadata": {},
   "outputs": [
    {
     "data": {
      "image/png": "[encoded data removed]",
      "text/latex": [
       "$\\displaystyle \\left( \\left[\\begin{matrix}1 & 0 & 1 & 1\\\\0 & 1 & 1 & -1\\\\0 & 0 & 0 & 0\\end{matrix}\\right], \\  \\left( 0, \\  1\\right)\\right)$"
      ],
      "text/plain": [
       "⎛⎡1  0  1  1 ⎤        ⎞\n",
       "⎜⎢           ⎥        ⎟\n",
       "⎜⎢0  1  1  -1⎥, (0, 1)⎟\n",
       "⎜⎢           ⎥        ⎟\n",
       "⎝⎣0  0  0  0 ⎦        ⎠"
      ]
     },
     "execution_count": 4,
     "metadata": {},
     "output_type": "execute_result"
    }
   ],
   "source": [
    "# Definir la función T(x, y, z)\n",
    "def T(x, y, z):\n",
    "    return [x + y, x + z, 2*x + y + z, y - z]\n",
    "\n",
    "# Crear la matriz M\n",
    "M = Matrix([T(1, 0, 0), T(0, 1, 0), T(0, 0, 1)])\n",
    "#print(M)\n",
    "\n",
    "# Triangularizar la matriz M\n",
    "triangularizada = M.rref()\n",
    "triangularizada"
   ]
  },
  {
   "cell_type": "markdown",
   "metadata": {},
   "source": [
    "Eso significa que una base para el rango $\\mathbb{T}\\{\\mathbf{R}^4\\}$ será: $\\{\\left(1,0,1,1\\right), \\left(0,1, 1, -1 \\right) \\}$, es decir, la dimensión se éste subespacio vectorial es $\\dim\\left[ \\mathbb{T}\\left\\{\\mathbf{R}^4 \\right\\} \\right]=2$.\n",
    "\n",
    "Por lo tanto:\n",
    "$$\n",
    "\\dim\\left[  \\aleph\\left(  \\mathbb{T}\\right)  \\right]  +\n",
    "\\dim\\left[ \\mathbb{T}\\left\\{\\mathbf{R}^4 \\right\\} \\right]  =\n",
    "\\dim\\left[  \\mathbf{R}^3 \\right] \\,\\, \\Rightarrow \\,\\,\n",
    "1+2=3 \\,.\n",
    "$$\n"
   ]
  },
  {
   "cell_type": "markdown",
   "metadata": {},
   "source": [
    "Consideremos ahora el siguiente espacio vectorial $\\textbf{ V}^3 =\\{(x,y,z): x+y+z=0\\} $ en $\\mathbf{R}^3$, y la  siguiente transformación lineal de $ \\textbf{ V}^3 \\,\\, \\rightarrow \\,\\,\\textbf{ V}^3$\n",
    "$$\n",
    "F(x,y,z) = (x + y + z, x + y-z, 2z)\\,, \n",
    "$$"
   ]
  },
  {
   "cell_type": "code",
   "execution_count": 5,
   "metadata": {},
   "outputs": [
    {
     "data": {
      "image/png": "[encoded data removed]",
      "text/latex": [
       "$\\displaystyle \\left\\{ x : - y, \\  z : 0\\right\\}$"
      ],
      "text/plain": [
       "{x: -y, z: 0}"
      ]
     },
     "execution_count": 5,
     "metadata": {},
     "output_type": "execute_result"
    }
   ],
   "source": [
    "# Definir la función T(x, y, z)\n",
    "def F(x, y, z):\n",
    "    return [x + y + z, x + y - z, 2*z]\n",
    "\n",
    "solucion = solve([x + y + z, x + y - z, 2*z], (x, y, z))\n",
    "solucion"
   ]
  },
  {
   "cell_type": "markdown",
   "metadata": {},
   "source": [
    "La solución es: $x=C$, $y=-C$ y $z=0$, por lo tanto, una  base para el espacio $\\aleph\\left[{F}\\right]$ es: $\\{(1, -1, 0)\\}$. \n",
    "\n",
    "Si ahora evaluamos la transformación $F$ para la base canónica resulta lo siguiente:"
   ]
  },
  {
   "cell_type": "code",
   "execution_count": 6,
   "metadata": {},
   "outputs": [
    {
     "data": {
      "image/png": "[encoded data removed]",
      "text/latex": [
       "$\\displaystyle \\left[\\begin{matrix}1 & 1 & 0\\\\1 & 1 & 0\\\\1 & -1 & 2\\end{matrix}\\right]$"
      ],
      "text/plain": [
       "⎡1  1   0⎤\n",
       "⎢        ⎥\n",
       "⎢1  1   0⎥\n",
       "⎢        ⎥\n",
       "⎣1  -1  2⎦"
      ]
     },
     "execution_count": 6,
     "metadata": {},
     "output_type": "execute_result"
    }
   ],
   "source": [
    "Img = Matrix([F(1,0,0),F(0,1,0),F(0,0,1)])\n",
    "Img"
   ]
  },
  {
   "cell_type": "markdown",
   "metadata": {},
   "source": [
    "Reduciremos la matriz anterior"
   ]
  },
  {
   "cell_type": "code",
   "execution_count": 7,
   "metadata": {},
   "outputs": [
    {
     "data": {
      "image/png": "[encoded data removed]",
      "text/latex": [
       "$\\displaystyle \\left( \\left[\\begin{matrix}1 & 0 & 1\\\\0 & 1 & -1\\\\0 & 0 & 0\\end{matrix}\\right], \\  \\left( 0, \\  1\\right)\\right)$"
      ],
      "text/plain": [
       "⎛⎡1  0  1 ⎤        ⎞\n",
       "⎜⎢        ⎥        ⎟\n",
       "⎜⎢0  1  -1⎥, (0, 1)⎟\n",
       "⎜⎢        ⎥        ⎟\n",
       "⎝⎣0  0  0 ⎦        ⎠"
      ]
     },
     "execution_count": 7,
     "metadata": {},
     "output_type": "execute_result"
    }
   ],
   "source": [
    "Img.rref()"
   ]
  },
  {
   "cell_type": "markdown",
   "metadata": {},
   "source": [
    "Es decir, una base para el espacio imagen o rango es el conjunto: $\\{(1,0, 1), (0,1,-1) \\}$. "
   ]
  },
  {
   "cell_type": "markdown",
   "metadata": {},
   "source": [
    "Podemos también calcular una base para $\\textbf{ V}^3 =\\{(x,y,z): x+y+z=0\\} $"
   ]
  },
  {
   "cell_type": "code",
   "execution_count": 8,
   "metadata": {},
   "outputs": [
    {
     "data": {
      "image/png": "[encoded data removed]",
      "text/latex": [
       "$\\displaystyle \\left\\{ x : - y - z\\right\\}$"
      ],
      "text/plain": [
       "{x: -y - z}"
      ]
     },
     "execution_count": 8,
     "metadata": {},
     "output_type": "execute_result"
    }
   ],
   "source": [
    "solucion = solve([x + y + z], (x, y, z))\n",
    "solucion"
   ]
  },
  {
   "cell_type": "markdown",
   "metadata": {},
   "source": [
    "Es una solución del tipo: $x=-{\\it C_3}-{\\it C_2}$ , $y={\\it C_3}$ y  $z={\\it C_2} $. Una base vendrá dada por: $\\{(-1, 1, 0), (-1, 0, 1) \\}$.\n",
    "\n",
    "Si evaluamos la transformación  dada en esta base, resulta:"
   ]
  },
  {
   "cell_type": "code",
   "execution_count": 9,
   "metadata": {},
   "outputs": [
    {
     "data": {
      "image/png": "[encoded data removed]",
      "text/latex": [
       "$\\displaystyle \\left[\\begin{matrix}0 & 0 & 0\\\\0 & -2 & 2\\end{matrix}\\right]$"
      ],
      "text/plain": [
       "⎡0  0   0⎤\n",
       "⎢        ⎥\n",
       "⎣0  -2  2⎦"
      ]
     },
     "execution_count": 9,
     "metadata": {},
     "output_type": "execute_result"
    }
   ],
   "source": [
    "Matrix([F(-1,1,0),F(-1,0,1)])"
   ]
  },
  {
   "cell_type": "markdown",
   "metadata": {},
   "source": [
    "El espacio vectorial tiene como base $\\{(0, -2, 2) \\}$."
   ]
  }
 ],
 "metadata": {
  "colab": {
   "collapsed_sections": [
    "HS5j074Bpqw9",
    "M6k5DaB7AMNL",
    "IZBsDTb4E7U4",
    "Hn31KOmRS9EA",
    "A3ZNaLdqWeG5",
    "5Vs06j5DdIme",
    "ujW8a0HzkNuV"
   ],
   "provenance": [
    {
     "file_id": "1YrOBd8YdJ9P2aPSTRJEnMxLdlqznqh8y",
     "timestamp": 1694038709310
    }
   ]
  },
  "kernelspec": {
   "display_name": "Python 3 (ipykernel)",
   "language": "python",
   "name": "python3"
  },
  "language_info": {
   "codemirror_mode": {
    "name": "ipython",
    "version": 3
   },
   "file_extension": ".py",
   "mimetype": "text/x-python",
   "name": "python",
   "nbconvert_exporter": "python",
   "pygments_lexer": "ipython3",
   "version": "3.11.7"
  }
 },
 "nbformat": 4,
 "nbformat_minor": 1
}

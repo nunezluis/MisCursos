{
 "cells": [
  {
   "cell_type": "markdown",
   "metadata": {
    "id": "aleOVKzP-8kQ"
   },
   "source": [
    "Consideremos uno de los ejemplos anteriores donde:"
   ]
  },
  {
   "cell_type": "code",
   "execution_count": 1,
   "metadata": {
    "id": "604d4rBS80_Y"
   },
   "outputs": [],
   "source": [
    "import sympy\n",
    "from sympy import *\n",
    "init_printing()"
   ]
  },
  {
   "cell_type": "markdown",
   "metadata": {
    "id": "oLNHFfRNpqxC"
   },
   "source": [
    "1.   Dada la matriz $ \\mathbb{A}$ del primer ejemplo anteriormente resuelto:"
   ]
  },
  {
   "cell_type": "code",
   "execution_count": 2,
   "metadata": {},
   "outputs": [
    {
     "data": {
      "image/png": "[encoded data removed]",
      "text/latex": [
       "$\\displaystyle \\left[\\begin{matrix}1 & 0 & 3\\\\0 & -2 & 0\\\\3 & 0 & 1\\end{matrix}\\right]$"
      ],
      "text/plain": [
       "⎡1  0   3⎤\n",
       "⎢        ⎥\n",
       "⎢0  -2  0⎥\n",
       "⎢        ⎥\n",
       "⎣3  0   1⎦"
      ]
     },
     "execution_count": 2,
     "metadata": {},
     "output_type": "execute_result"
    }
   ],
   "source": [
    "A = Matrix([[1, 0, 3], [0, -2, 0], [3, 0, 1]])\n",
    "A"
   ]
  },
  {
   "cell_type": "code",
   "execution_count": 3,
   "metadata": {},
   "outputs": [
    {
     "data": {
      "image/png": "[encoded data removed]",
      "text/latex": [
       "$\\displaystyle \\left(\\lambda - 4\\right) \\left(\\lambda + 2\\right)^{2}$"
      ],
      "text/plain": [
       "               2\n",
       "(λ - 4)⋅(λ + 2) "
      ]
     },
     "execution_count": 3,
     "metadata": {},
     "output_type": "execute_result"
    }
   ],
   "source": [
    "A.charpoly().as_expr().factor()"
   ]
  },
  {
   "cell_type": "markdown",
   "metadata": {},
   "source": [
    "Se calculan los autovalores y autovectores y se asignan a una variable"
   ]
  },
  {
   "cell_type": "code",
   "execution_count": 4,
   "metadata": {},
   "outputs": [
    {
     "data": {
      "image/png": "[encoded data removed]",
      "text/latex": [
       "$\\displaystyle \\left[ \\left( -2, \\  2, \\  \\left[ \\left[\\begin{matrix}0\\\\1\\\\0\\end{matrix}\\right], \\  \\left[\\begin{matrix}-1\\\\0\\\\1\\end{matrix}\\right]\\right]\\right), \\  \\left( 4, \\  1, \\  \\left[ \\left[\\begin{matrix}1\\\\0\\\\1\\end{matrix}\\right]\\right]\\right)\\right]$"
      ],
      "text/plain": [
       "⎡⎛       ⎡⎡0⎤  ⎡-1⎤⎤⎞  ⎛      ⎡⎡1⎤⎤⎞⎤\n",
       "⎢⎜       ⎢⎢ ⎥  ⎢  ⎥⎥⎟  ⎜      ⎢⎢ ⎥⎥⎟⎥\n",
       "⎢⎜-2, 2, ⎢⎢1⎥, ⎢0 ⎥⎥⎟, ⎜4, 1, ⎢⎢0⎥⎥⎟⎥\n",
       "⎢⎜       ⎢⎢ ⎥  ⎢  ⎥⎥⎟  ⎜      ⎢⎢ ⎥⎥⎟⎥\n",
       "⎣⎝       ⎣⎣0⎦  ⎣1 ⎦⎦⎠  ⎝      ⎣⎣1⎦⎦⎠⎦"
      ]
     },
     "execution_count": 4,
     "metadata": {},
     "output_type": "execute_result"
    }
   ],
   "source": [
    "autova_autove = A.eigenvects()\n",
    "autova_autove"
   ]
  },
  {
   "cell_type": "markdown",
   "metadata": {},
   "source": [
    "Podemos imprimir estas cantidades por separado"
   ]
  },
  {
   "cell_type": "code",
   "execution_count": 5,
   "metadata": {},
   "outputs": [
    {
     "name": "stdout",
     "output_type": "stream",
     "text": [
      "Autovalor: -2\n",
      "Autovectores:\n",
      "Matrix([[0], [1], [0]])\n",
      "Matrix([[-1], [0], [1]])\n",
      "Autovalor: 4\n",
      "Autovectores:\n",
      "Matrix([[1], [0], [1]])\n"
     ]
    }
   ],
   "source": [
    "for autovalor, multiplicidad, autovectores in autova_autove:\n",
    "    print(\"Autovalor:\", autovalor)\n",
    "    print(\"Autovectores:\")\n",
    "    for autovector in autovectores:\n",
    "        print(autovector)"
   ]
  },
  {
   "cell_type": "markdown",
   "metadata": {},
   "source": [
    "Es más conveniente aislar las cantidades para un uso posterior"
   ]
  },
  {
   "cell_type": "code",
   "execution_count": 6,
   "metadata": {},
   "outputs": [
    {
     "data": {
      "image/png": "[encoded data removed]",
      "text/latex": [
       "$\\displaystyle -2$"
      ],
      "text/plain": [
       "-2"
      ]
     },
     "execution_count": 6,
     "metadata": {},
     "output_type": "execute_result"
    }
   ],
   "source": [
    "λ_1= autova_autove[0][0]\n",
    "λ_1"
   ]
  },
  {
   "cell_type": "code",
   "execution_count": 7,
   "metadata": {},
   "outputs": [
    {
     "data": {
      "image/png": "[encoded data removed]",
      "text/latex": [
       "$\\displaystyle \\left( \\left[\\begin{matrix}0\\\\1\\\\0\\end{matrix}\\right], \\  \\left[\\begin{matrix}-1\\\\0\\\\1\\end{matrix}\\right]\\right)$"
      ],
      "text/plain": [
       "⎛⎡0⎤  ⎡-1⎤⎞\n",
       "⎜⎢ ⎥  ⎢  ⎥⎟\n",
       "⎜⎢1⎥, ⎢0 ⎥⎟\n",
       "⎜⎢ ⎥  ⎢  ⎥⎟\n",
       "⎝⎣0⎦  ⎣1 ⎦⎠"
      ]
     },
     "execution_count": 7,
     "metadata": {},
     "output_type": "execute_result"
    }
   ],
   "source": [
    "L_1 = autova_autove[0][2][0]\n",
    "L_2 = autova_autove[0][2][1]\n",
    "L_1,L_2"
   ]
  },
  {
   "cell_type": "code",
   "execution_count": 8,
   "metadata": {},
   "outputs": [
    {
     "data": {
      "image/png": "[encoded data removed]",
      "text/latex": [
       "$\\displaystyle 4$"
      ],
      "text/plain": [
       "4"
      ]
     },
     "execution_count": 8,
     "metadata": {},
     "output_type": "execute_result"
    }
   ],
   "source": [
    "λ_2= autova_autove[1][0]\n",
    "λ_2"
   ]
  },
  {
   "cell_type": "code",
   "execution_count": 9,
   "metadata": {},
   "outputs": [
    {
     "data": {
      "image/png": "[encoded data removed]",
      "text/latex": [
       "$\\displaystyle \\left[\\begin{matrix}1\\\\0\\\\1\\end{matrix}\\right]$"
      ],
      "text/plain": [
       "⎡1⎤\n",
       "⎢ ⎥\n",
       "⎢0⎥\n",
       "⎢ ⎥\n",
       "⎣1⎦"
      ]
     },
     "execution_count": 9,
     "metadata": {},
     "output_type": "execute_result"
    }
   ],
   "source": [
    "L_3 = autova_autove[1][2][0]\n",
    "L_3"
   ]
  },
  {
   "cell_type": "markdown",
   "metadata": {},
   "source": [
    "Vamos ahora a normalizar los autovectores:"
   ]
  },
  {
   "cell_type": "code",
   "execution_count": 10,
   "metadata": {},
   "outputs": [
    {
     "data": {
      "image/png": "[encoded data removed]",
      "text/latex": [
       "$\\displaystyle \\left( \\left[\\begin{matrix}0\\\\1\\\\0\\end{matrix}\\right], \\  \\left[\\begin{matrix}- \\frac{\\sqrt{2}}{2}\\\\0\\\\\\frac{\\sqrt{2}}{2}\\end{matrix}\\right], \\  \\left[\\begin{matrix}\\frac{\\sqrt{2}}{2}\\\\0\\\\\\frac{\\sqrt{2}}{2}\\end{matrix}\\right]\\right)$"
      ],
      "text/plain": [
       "⎛     ⎡-√2 ⎤  ⎡√2⎤⎞\n",
       "⎜     ⎢────⎥  ⎢──⎥⎟\n",
       "⎜⎡0⎤  ⎢ 2  ⎥  ⎢2 ⎥⎟\n",
       "⎜⎢ ⎥  ⎢    ⎥  ⎢  ⎥⎟\n",
       "⎜⎢1⎥, ⎢ 0  ⎥, ⎢0 ⎥⎟\n",
       "⎜⎢ ⎥  ⎢    ⎥  ⎢  ⎥⎟\n",
       "⎜⎣0⎦  ⎢ √2 ⎥  ⎢√2⎥⎟\n",
       "⎜     ⎢ ── ⎥  ⎢──⎥⎟\n",
       "⎝     ⎣ 2  ⎦  ⎣2 ⎦⎠"
      ]
     },
     "execution_count": 10,
     "metadata": {},
     "output_type": "execute_result"
    }
   ],
   "source": [
    "V1=L_1/sqrt(L_1.dot(L_1))\n",
    "V2=L_2/sqrt(L_2.dot(L_2)) \n",
    "V3=L_3/sqrt(L_3.dot(L_3))\n",
    "V1,V2,V3"
   ]
  },
  {
   "cell_type": "markdown",
   "metadata": {},
   "source": [
    "Hacemos una lista con los vectores normalizados:"
   ]
  },
  {
   "cell_type": "code",
   "execution_count": 11,
   "metadata": {},
   "outputs": [
    {
     "data": {
      "image/png": "[encoded data removed]",
      "text/latex": [
       "$\\displaystyle \\left[ \\left[ \\left[\\begin{matrix}0\\\\1\\\\0\\end{matrix}\\right], \\  \\left[\\begin{matrix}- \\frac{\\sqrt{2}}{2}\\\\0\\\\\\frac{\\sqrt{2}}{2}\\end{matrix}\\right], \\  \\left[\\begin{matrix}\\frac{\\sqrt{2}}{2}\\\\0\\\\\\frac{\\sqrt{2}}{2}\\end{matrix}\\right]\\right]\\right]$"
      ],
      "text/plain": [
       "⎡⎡     ⎡-√2 ⎤  ⎡√2⎤⎤⎤\n",
       "⎢⎢     ⎢────⎥  ⎢──⎥⎥⎥\n",
       "⎢⎢⎡0⎤  ⎢ 2  ⎥  ⎢2 ⎥⎥⎥\n",
       "⎢⎢⎢ ⎥  ⎢    ⎥  ⎢  ⎥⎥⎥\n",
       "⎢⎢⎢1⎥, ⎢ 0  ⎥, ⎢0 ⎥⎥⎥\n",
       "⎢⎢⎢ ⎥  ⎢    ⎥  ⎢  ⎥⎥⎥\n",
       "⎢⎢⎣0⎦  ⎢ √2 ⎥  ⎢√2⎥⎥⎥\n",
       "⎢⎢     ⎢ ── ⎥  ⎢──⎥⎥⎥\n",
       "⎣⎣     ⎣ 2  ⎦  ⎣2 ⎦⎦⎦"
      ]
     },
     "execution_count": 11,
     "metadata": {},
     "output_type": "execute_result"
    }
   ],
   "source": [
    "L_vec=[[V1,V2,V3]]\n",
    "L_vec"
   ]
  },
  {
   "cell_type": "markdown",
   "metadata": {},
   "source": [
    "Y construimos la matriz $ \\mathbb{C}$:"
   ]
  },
  {
   "cell_type": "code",
   "execution_count": 12,
   "metadata": {},
   "outputs": [
    {
     "data": {
      "image/png": "[encoded data removed]",
      "text/latex": [
       "$\\displaystyle \\left[\\begin{matrix}0 & - \\frac{\\sqrt{2}}{2} & \\frac{\\sqrt{2}}{2}\\\\1 & 0 & 0\\\\0 & \\frac{\\sqrt{2}}{2} & \\frac{\\sqrt{2}}{2}\\end{matrix}\\right]$"
      ],
      "text/plain": [
       "⎡   -√2   √2⎤\n",
       "⎢0  ────  ──⎥\n",
       "⎢    2    2 ⎥\n",
       "⎢           ⎥\n",
       "⎢1   0    0 ⎥\n",
       "⎢           ⎥\n",
       "⎢    √2   √2⎥\n",
       "⎢0   ──   ──⎥\n",
       "⎣    2    2 ⎦"
      ]
     },
     "execution_count": 12,
     "metadata": {},
     "output_type": "execute_result"
    }
   ],
   "source": [
    "C = Matrix(L_vec)\n",
    "C"
   ]
  },
  {
   "cell_type": "markdown",
   "metadata": {},
   "source": [
    "Para finalmente comprobar:"
   ]
  },
  {
   "cell_type": "code",
   "execution_count": 13,
   "metadata": {},
   "outputs": [
    {
     "data": {
      "image/png": "[encoded data removed]",
      "text/latex": [
       "$\\displaystyle \\left[\\begin{matrix}-2 & 0 & 0\\\\0 & -2 & 0\\\\0 & 0 & 4\\end{matrix}\\right]$"
      ],
      "text/plain": [
       "⎡-2  0   0⎤\n",
       "⎢         ⎥\n",
       "⎢0   -2  0⎥\n",
       "⎢         ⎥\n",
       "⎣0   0   4⎦"
      ]
     },
     "execution_count": 13,
     "metadata": {},
     "output_type": "execute_result"
    }
   ],
   "source": [
    "C.T*A*C"
   ]
  },
  {
   "cell_type": "markdown",
   "metadata": {},
   "source": [
    "Para diagonalizar una matriz también se puede utilizar la opción  \"diagonalize()\",  lo que  devuelve una tupla $(P, D)$, donde $D$ es diagonal y $A=P D P^{-1}$."
   ]
  },
  {
   "cell_type": "code",
   "execution_count": 14,
   "metadata": {},
   "outputs": [],
   "source": [
    "P, D = A.diagonalize()"
   ]
  },
  {
   "cell_type": "code",
   "execution_count": 15,
   "metadata": {},
   "outputs": [
    {
     "data": {
      "image/png": "[encoded data removed]",
      "text/latex": [
       "$\\displaystyle \\left( \\left[\\begin{matrix}0 & -1 & 1\\\\1 & 0 & 0\\\\0 & 1 & 1\\end{matrix}\\right], \\  \\left[\\begin{matrix}-2 & 0 & 0\\\\0 & -2 & 0\\\\0 & 0 & 4\\end{matrix}\\right]\\right)$"
      ],
      "text/plain": [
       "⎛⎡0  -1  1⎤  ⎡-2  0   0⎤⎞\n",
       "⎜⎢        ⎥  ⎢         ⎥⎟\n",
       "⎜⎢1  0   0⎥, ⎢0   -2  0⎥⎟\n",
       "⎜⎢        ⎥  ⎢         ⎥⎟\n",
       "⎝⎣0  1   1⎦  ⎣0   0   4⎦⎠"
      ]
     },
     "execution_count": 15,
     "metadata": {},
     "output_type": "execute_result"
    }
   ],
   "source": [
    "P, D"
   ]
  },
  {
   "cell_type": "code",
   "execution_count": 16,
   "metadata": {},
   "outputs": [
    {
     "data": {
      "image/png": "[encoded data removed]",
      "text/latex": [
       "$\\displaystyle \\left[\\begin{matrix}1 & 0 & 3\\\\0 & -2 & 0\\\\3 & 0 & 1\\end{matrix}\\right]$"
      ],
      "text/plain": [
       "⎡1  0   3⎤\n",
       "⎢        ⎥\n",
       "⎢0  -2  0⎥\n",
       "⎢        ⎥\n",
       "⎣3  0   1⎦"
      ]
     },
     "execution_count": 16,
     "metadata": {},
     "output_type": "execute_result"
    }
   ],
   "source": [
    "P*D*P.inv()"
   ]
  },
  {
   "cell_type": "markdown",
   "metadata": {},
   "source": [
    "2. Consideremos ahora otro de los ejemplos, donde teníamos la siguiente matriz:"
   ]
  },
  {
   "cell_type": "code",
   "execution_count": 17,
   "metadata": {},
   "outputs": [
    {
     "data": {
      "image/png": "[encoded data removed]",
      "text/latex": [
       "$\\displaystyle \\left[\\begin{matrix}1 & -1 + 2 i & i\\\\-1 - 2 i & 2 & -1\\\\- i & -1 & 3\\end{matrix}\\right]$"
      ],
      "text/plain": [
       "⎡   1      -1 + 2⋅ⅈ  ⅈ ⎤\n",
       "⎢                      ⎥\n",
       "⎢-1 - 2⋅ⅈ     2      -1⎥\n",
       "⎢                      ⎥\n",
       "⎣   -ⅈ        -1     3 ⎦"
      ]
     },
     "execution_count": 17,
     "metadata": {},
     "output_type": "execute_result"
    }
   ],
   "source": [
    "A = Matrix([[1, 2*I-1, I], [-2*I-1, 2, -1], [-I, -1, 3]])\n",
    "A"
   ]
  },
  {
   "cell_type": "markdown",
   "metadata": {},
   "source": [
    "Es fácil ver que se trata de una matriz hermítica"
   ]
  },
  {
   "cell_type": "code",
   "execution_count": 18,
   "metadata": {},
   "outputs": [
    {
     "data": {
      "image/png": "[encoded data removed]",
      "text/latex": [
       "$\\displaystyle \\left[\\begin{matrix}1 & -1 + 2 i & i\\\\-1 - 2 i & 2 & -1\\\\- i & -1 & 3\\end{matrix}\\right]$"
      ],
      "text/plain": [
       "⎡   1      -1 + 2⋅ⅈ  ⅈ ⎤\n",
       "⎢                      ⎥\n",
       "⎢-1 - 2⋅ⅈ     2      -1⎥\n",
       "⎢                      ⎥\n",
       "⎣   -ⅈ        -1     3 ⎦"
      ]
     },
     "execution_count": 18,
     "metadata": {},
     "output_type": "execute_result"
    }
   ],
   "source": [
    "A.C.T"
   ]
  },
  {
   "cell_type": "markdown",
   "metadata": {},
   "source": [
    "Calculamos los autovalores y autovectores:"
   ]
  },
  {
   "cell_type": "code",
   "execution_count": 19,
   "metadata": {},
   "outputs": [
    {
     "data": {
      "image/png": "[encoded data removed]",
      "text/latex": [
       "$\\displaystyle \\left[ \\left( 4, \\  1, \\  \\left[ \\left[\\begin{matrix}1\\\\-1 - i\\\\1\\end{matrix}\\right]\\right]\\right), \\  \\left( 1 - \\sqrt{5}, \\  1, \\  \\left[ \\left[\\begin{matrix}\\frac{1}{5} - \\frac{8 i}{5} + \\left(- \\frac{1}{5} + \\frac{3 i}{5}\\right) \\left(1 - \\sqrt{5}\\right)\\\\\\frac{7}{5} + \\left(- \\frac{2}{5} + \\frac{i}{5}\\right) \\left(1 - \\sqrt{5}\\right) - \\frac{i}{5}\\\\1\\end{matrix}\\right]\\right]\\right), \\  \\left( 1 + \\sqrt{5}, \\  1, \\  \\left[ \\left[\\begin{matrix}\\frac{1}{5} - \\frac{8 i}{5} + \\left(- \\frac{1}{5} + \\frac{3 i}{5}\\right) \\left(1 + \\sqrt{5}\\right)\\\\\\frac{7}{5} - \\frac{i}{5} + \\left(- \\frac{2}{5} + \\frac{i}{5}\\right) \\left(1 + \\sqrt{5}\\right)\\\\1\\end{matrix}\\right]\\right]\\right)\\right]$"
      ],
      "text/plain": [
       "⎡                    ⎛           ⎡⎡1   8⋅ⅈ   ⎛  1   3⋅ⅈ⎞         ⎤⎤⎞  ⎛       \n",
       "⎢                    ⎜           ⎢⎢─ - ─── + ⎜- ─ + ───⎟⋅(1 - √5)⎥⎥⎟  ⎜       \n",
       "⎢⎛      ⎡⎡  1   ⎤⎤⎞  ⎜           ⎢⎢5    5    ⎝  5    5 ⎠         ⎥⎥⎟  ⎜       \n",
       "⎢⎜      ⎢⎢      ⎥⎥⎟  ⎜           ⎢⎢                              ⎥⎥⎟  ⎜       \n",
       "⎢⎜4, 1, ⎢⎢-1 - ⅈ⎥⎥⎟, ⎜1 - √5, 1, ⎢⎢  7   ⎛  2   ⅈ⎞            ⅈ  ⎥⎥⎟, ⎜1 + √5,\n",
       "⎢⎜      ⎢⎢      ⎥⎥⎟  ⎜           ⎢⎢  ─ + ⎜- ─ + ─⎟⋅(1 - √5) - ─  ⎥⎥⎟  ⎜       \n",
       "⎢⎝      ⎣⎣  1   ⎦⎦⎠  ⎜           ⎢⎢  5   ⎝  5   5⎠            5  ⎥⎥⎟  ⎜       \n",
       "⎢                    ⎜           ⎢⎢                              ⎥⎥⎟  ⎜       \n",
       "⎣                    ⎝           ⎣⎣              1               ⎦⎦⎠  ⎝       \n",
       "\n",
       "    ⎡⎡1   8⋅ⅈ   ⎛  1   3⋅ⅈ⎞         ⎤⎤⎞⎤\n",
       "    ⎢⎢─ - ─── + ⎜- ─ + ───⎟⋅(1 + √5)⎥⎥⎟⎥\n",
       "    ⎢⎢5    5    ⎝  5    5 ⎠         ⎥⎥⎟⎥\n",
       "    ⎢⎢                              ⎥⎥⎟⎥\n",
       " 1, ⎢⎢  7   ⅈ   ⎛  2   ⅈ⎞           ⎥⎥⎟⎥\n",
       "    ⎢⎢  ─ - ─ + ⎜- ─ + ─⎟⋅(1 + √5)  ⎥⎥⎟⎥\n",
       "    ⎢⎢  5   5   ⎝  5   5⎠           ⎥⎥⎟⎥\n",
       "    ⎢⎢                              ⎥⎥⎟⎥\n",
       "    ⎣⎣              1               ⎦⎦⎠⎦"
      ]
     },
     "execution_count": 19,
     "metadata": {},
     "output_type": "execute_result"
    }
   ],
   "source": [
    "autova_autove = A.eigenvects()\n",
    "autova_autove"
   ]
  },
  {
   "cell_type": "code",
   "execution_count": 20,
   "metadata": {},
   "outputs": [
    {
     "data": {
      "image/png": "[encoded data removed]",
      "text/latex": [
       "$\\displaystyle \\left( 4, \\  1 - \\sqrt{5}, \\  1 + \\sqrt{5}\\right)$"
      ],
      "text/plain": [
       "(4, 1 - √5, 1 + √5)"
      ]
     },
     "execution_count": 20,
     "metadata": {},
     "output_type": "execute_result"
    }
   ],
   "source": [
    "λ_1= autova_autove[0][0]\n",
    "λ_2= autova_autove[1][0]\n",
    "λ_3= autova_autove[2][0]\n",
    "λ_1,λ_2,λ_3"
   ]
  },
  {
   "cell_type": "code",
   "execution_count": 21,
   "metadata": {},
   "outputs": [
    {
     "data": {
      "image/png": "[encoded data removed]",
      "text/latex": [
       "$\\displaystyle \\left( \\left[\\begin{matrix}1\\\\-1 - i\\\\1\\end{matrix}\\right], \\  \\left[\\begin{matrix}\\frac{1}{5} - \\frac{8 i}{5} + \\left(- \\frac{1}{5} + \\frac{3 i}{5}\\right) \\left(1 - \\sqrt{5}\\right)\\\\\\frac{7}{5} + \\left(- \\frac{2}{5} + \\frac{i}{5}\\right) \\left(1 - \\sqrt{5}\\right) - \\frac{i}{5}\\\\1\\end{matrix}\\right], \\  \\left[\\begin{matrix}\\frac{1}{5} - \\frac{8 i}{5} + \\left(- \\frac{1}{5} + \\frac{3 i}{5}\\right) \\left(1 + \\sqrt{5}\\right)\\\\\\frac{7}{5} - \\frac{i}{5} + \\left(- \\frac{2}{5} + \\frac{i}{5}\\right) \\left(1 + \\sqrt{5}\\right)\\\\1\\end{matrix}\\right]\\right)$"
      ],
      "text/plain": [
       "⎛          ⎡1   8⋅ⅈ   ⎛  1   3⋅ⅈ⎞         ⎤  ⎡1   8⋅ⅈ   ⎛  1   3⋅ⅈ⎞         ⎤⎞\n",
       "⎜          ⎢─ - ─── + ⎜- ─ + ───⎟⋅(1 - √5)⎥  ⎢─ - ─── + ⎜- ─ + ───⎟⋅(1 + √5)⎥⎟\n",
       "⎜⎡  1   ⎤  ⎢5    5    ⎝  5    5 ⎠         ⎥  ⎢5    5    ⎝  5    5 ⎠         ⎥⎟\n",
       "⎜⎢      ⎥  ⎢                              ⎥  ⎢                              ⎥⎟\n",
       "⎜⎢-1 - ⅈ⎥, ⎢  7   ⎛  2   ⅈ⎞            ⅈ  ⎥, ⎢  7   ⅈ   ⎛  2   ⅈ⎞           ⎥⎟\n",
       "⎜⎢      ⎥  ⎢  ─ + ⎜- ─ + ─⎟⋅(1 - √5) - ─  ⎥  ⎢  ─ - ─ + ⎜- ─ + ─⎟⋅(1 + √5)  ⎥⎟\n",
       "⎜⎣  1   ⎦  ⎢  5   ⎝  5   5⎠            5  ⎥  ⎢  5   5   ⎝  5   5⎠           ⎥⎟\n",
       "⎜          ⎢                              ⎥  ⎢                              ⎥⎟\n",
       "⎝          ⎣              1               ⎦  ⎣              1               ⎦⎠"
      ]
     },
     "execution_count": 21,
     "metadata": {},
     "output_type": "execute_result"
    }
   ],
   "source": [
    "L_1 = autova_autove[0][2][0]\n",
    "L_2 = autova_autove[1][2][0]\n",
    "L_3 = autova_autove[2][2][0]\n",
    "L_1,L_2,L_3"
   ]
  },
  {
   "cell_type": "markdown",
   "metadata": {},
   "source": [
    "Los autovectores normalizados son:"
   ]
  },
  {
   "cell_type": "code",
   "execution_count": 22,
   "metadata": {},
   "outputs": [
    {
     "data": {
      "image/png": "[encoded data removed]",
      "text/latex": [
       "$\\displaystyle \\left( \\left[\\begin{matrix}\\frac{1}{\\sqrt{2 + 2 i}}\\\\\\frac{-1 - i}{\\sqrt{2 + 2 i}}\\\\\\frac{1}{\\sqrt{2 + 2 i}}\\end{matrix}\\right], \\  \\left[\\begin{matrix}\\frac{5 \\cdot \\left(\\frac{1}{5} - \\frac{8 i}{5} + \\left(- \\frac{1}{5} + \\frac{3 i}{5}\\right) \\left(1 - \\sqrt{5}\\right)\\right)}{\\sqrt{- 10 \\sqrt{5} - 50 i - 20 \\sqrt{5} i}}\\\\\\frac{5 \\cdot \\left(\\frac{7}{5} + \\left(- \\frac{2}{5} + \\frac{i}{5}\\right) \\left(1 - \\sqrt{5}\\right) - \\frac{i}{5}\\right)}{\\sqrt{- 10 \\sqrt{5} - 50 i - 20 \\sqrt{5} i}}\\\\\\frac{5}{\\sqrt{- 10 \\sqrt{5} - 50 i - 20 \\sqrt{5} i}}\\end{matrix}\\right], \\  \\left[\\begin{matrix}\\frac{5 \\cdot \\left(\\frac{1}{5} - \\frac{8 i}{5} + \\left(- \\frac{1}{5} + \\frac{3 i}{5}\\right) \\left(1 + \\sqrt{5}\\right)\\right)}{\\sqrt{10 \\sqrt{5} - 50 i + 20 \\sqrt{5} i}}\\\\\\frac{5 \\cdot \\left(\\frac{7}{5} - \\frac{i}{5} + \\left(- \\frac{2}{5} + \\frac{i}{5}\\right) \\left(1 + \\sqrt{5}\\right)\\right)}{\\sqrt{10 \\sqrt{5} - 50 i + 20 \\sqrt{5} i}}\\\\\\frac{5}{\\sqrt{10 \\sqrt{5} - 50 i + 20 \\sqrt{5} i}}\\end{matrix}\\right]\\right)$"
      ],
      "text/plain": [
       "⎛               ⎡  ⎛1   8⋅ⅈ   ⎛  1   3⋅ⅈ⎞         ⎞⎤  ⎡  ⎛1   8⋅ⅈ   ⎛  1   3⋅ⅈ\n",
       "⎜               ⎢5⋅⎜─ - ─── + ⎜- ─ + ───⎟⋅(1 - √5)⎟⎥  ⎢5⋅⎜─ - ─── + ⎜- ─ + ───\n",
       "⎜⎡     1     ⎤  ⎢  ⎝5    5    ⎝  5    5 ⎠         ⎠⎥  ⎢  ⎝5    5    ⎝  5    5 \n",
       "⎜⎢───────────⎥  ⎢──────────────────────────────────⎥  ⎢───────────────────────\n",
       "⎜⎢  _________⎥  ⎢     _________________________    ⎥  ⎢      _________________\n",
       "⎜⎢╲╱ 2 + 2⋅ⅈ ⎥  ⎢   ╲╱ -10⋅√5 - 50⋅ⅈ - 20⋅√5⋅ⅈ     ⎥  ⎢    ╲╱ 10⋅√5 - 50⋅ⅈ + 2\n",
       "⎜⎢           ⎥  ⎢                                  ⎥  ⎢                       \n",
       "⎜⎢   -1 - ⅈ  ⎥  ⎢    ⎛7   ⎛  2   ⅈ⎞            ⅈ⎞  ⎥  ⎢    ⎛7   ⅈ   ⎛  2   ⅈ⎞ \n",
       "⎜⎢───────────⎥  ⎢  5⋅⎜─ + ⎜- ─ + ─⎟⋅(1 - √5) - ─⎟  ⎥  ⎢  5⋅⎜─ - ─ + ⎜- ─ + ─⎟⋅\n",
       "⎜⎢  _________⎥, ⎢    ⎝5   ⎝  5   5⎠            5⎠  ⎥, ⎢    ⎝5   5   ⎝  5   5⎠ \n",
       "⎜⎢╲╱ 2 + 2⋅ⅈ ⎥  ⎢  ──────────────────────────────  ⎥  ⎢  ─────────────────────\n",
       "⎜⎢           ⎥  ⎢     _________________________    ⎥  ⎢      _________________\n",
       "⎜⎢     1     ⎥  ⎢   ╲╱ -10⋅√5 - 50⋅ⅈ - 20⋅√5⋅ⅈ     ⎥  ⎢    ╲╱ 10⋅√5 - 50⋅ⅈ + 2\n",
       "⎜⎢───────────⎥  ⎢                                  ⎥  ⎢                       \n",
       "⎜⎢  _________⎥  ⎢                5                 ⎥  ⎢                5      \n",
       "⎜⎣╲╱ 2 + 2⋅ⅈ ⎦  ⎢   ───────────────────────────    ⎥  ⎢    ───────────────────\n",
       "⎜               ⎢     _________________________    ⎥  ⎢      _________________\n",
       "⎝               ⎣   ╲╱ -10⋅√5 - 50⋅ⅈ - 20⋅√5⋅ⅈ     ⎦  ⎣    ╲╱ 10⋅√5 - 50⋅ⅈ + 2\n",
       "\n",
       "⎞         ⎞⎤⎞\n",
       "⎟⋅(1 + √5)⎟⎥⎟\n",
       "⎠         ⎠⎥⎟\n",
       "───────────⎥⎟\n",
       "_______    ⎥⎟\n",
       "0⋅√5⋅ⅈ     ⎥⎟\n",
       "           ⎥⎟\n",
       "        ⎞  ⎥⎟\n",
       "(1 + √5)⎟  ⎥⎟\n",
       "        ⎠  ⎥⎟\n",
       "─────────  ⎥⎟\n",
       "_______    ⎥⎟\n",
       "0⋅√5⋅ⅈ     ⎥⎟\n",
       "           ⎥⎟\n",
       "           ⎥⎟\n",
       "───────    ⎥⎟\n",
       "_______    ⎥⎟\n",
       "0⋅√5⋅ⅈ     ⎦⎠"
      ]
     },
     "execution_count": 22,
     "metadata": {},
     "output_type": "execute_result"
    }
   ],
   "source": [
    "V1=L_1/sqrt(L_1.dot(L_1)).ratsimp()\n",
    "V2=L_2/sqrt(L_2.dot(L_2)).ratsimp()\n",
    "V3=L_3/sqrt(L_3.dot(L_3)).ratsimp()\n",
    "V1,V2,V3"
   ]
  },
  {
   "cell_type": "markdown",
   "metadata": {},
   "source": [
    "Estos vectores serán ortogonales, como podemos ver:"
   ]
  },
  {
   "cell_type": "code",
   "execution_count": 23,
   "metadata": {},
   "outputs": [
    {
     "data": {
      "image/png": "[encoded data removed]",
      "text/latex": [
       "$\\displaystyle \\left( 0, \\  0, \\  0\\right)$"
      ],
      "text/plain": [
       "(0, 0, 0)"
      ]
     },
     "execution_count": 23,
     "metadata": {},
     "output_type": "execute_result"
    }
   ],
   "source": [
    "V1.C.dot(V2).ratsimp(), V1.C.dot(V3).ratsimp(),V2.C.dot(V3).ratsimp()"
   ]
  },
  {
   "cell_type": "markdown",
   "metadata": {},
   "source": [
    "Ahora construimos la matriz  $C$ como hicimos anteriormente"
   ]
  },
  {
   "cell_type": "code",
   "execution_count": 24,
   "metadata": {},
   "outputs": [
    {
     "data": {
      "image/png": "[encoded data removed]",
      "text/latex": [
       "$\\displaystyle \\left[\\begin{matrix}\\frac{1}{\\sqrt{2 + 2 i}} & \\frac{5 \\cdot \\left(\\frac{1}{5} - \\frac{8 i}{5} + \\left(- \\frac{1}{5} + \\frac{3 i}{5}\\right) \\left(1 - \\sqrt{5}\\right)\\right)}{\\sqrt{- 10 \\sqrt{5} - 50 i - 20 \\sqrt{5} i}} & \\frac{5 \\cdot \\left(\\frac{1}{5} - \\frac{8 i}{5} + \\left(- \\frac{1}{5} + \\frac{3 i}{5}\\right) \\left(1 + \\sqrt{5}\\right)\\right)}{\\sqrt{10 \\sqrt{5} - 50 i + 20 \\sqrt{5} i}}\\\\\\frac{-1 - i}{\\sqrt{2 + 2 i}} & \\frac{5 \\cdot \\left(\\frac{7}{5} + \\left(- \\frac{2}{5} + \\frac{i}{5}\\right) \\left(1 - \\sqrt{5}\\right) - \\frac{i}{5}\\right)}{\\sqrt{- 10 \\sqrt{5} - 50 i - 20 \\sqrt{5} i}} & \\frac{5 \\cdot \\left(\\frac{7}{5} - \\frac{i}{5} + \\left(- \\frac{2}{5} + \\frac{i}{5}\\right) \\left(1 + \\sqrt{5}\\right)\\right)}{\\sqrt{10 \\sqrt{5} - 50 i + 20 \\sqrt{5} i}}\\\\\\frac{1}{\\sqrt{2 + 2 i}} & \\frac{5}{\\sqrt{- 10 \\sqrt{5} - 50 i - 20 \\sqrt{5} i}} & \\frac{5}{\\sqrt{10 \\sqrt{5} - 50 i + 20 \\sqrt{5} i}}\\end{matrix}\\right]$"
      ],
      "text/plain": [
       "⎡               ⎛1   8⋅ⅈ   ⎛  1   3⋅ⅈ⎞         ⎞    ⎛1   8⋅ⅈ   ⎛  1   3⋅ⅈ⎞    \n",
       "⎢             5⋅⎜─ - ─── + ⎜- ─ + ───⎟⋅(1 - √5)⎟  5⋅⎜─ - ─── + ⎜- ─ + ───⎟⋅(1 \n",
       "⎢     1         ⎝5    5    ⎝  5    5 ⎠         ⎠    ⎝5    5    ⎝  5    5 ⎠    \n",
       "⎢───────────  ──────────────────────────────────  ────────────────────────────\n",
       "⎢  _________       _________________________            ______________________\n",
       "⎢╲╱ 2 + 2⋅ⅈ      ╲╱ -10⋅√5 - 50⋅ⅈ - 20⋅√5⋅ⅈ           ╲╱ 10⋅√5 - 50⋅ⅈ + 20⋅√5⋅\n",
       "⎢                                                                             \n",
       "⎢                 ⎛7   ⎛  2   ⅈ⎞            ⅈ⎞        ⎛7   ⅈ   ⎛  2   ⅈ⎞      \n",
       "⎢               5⋅⎜─ + ⎜- ─ + ─⎟⋅(1 - √5) - ─⎟      5⋅⎜─ - ─ + ⎜- ─ + ─⎟⋅(1 + \n",
       "⎢   -1 - ⅈ        ⎝5   ⎝  5   5⎠            5⎠        ⎝5   5   ⎝  5   5⎠      \n",
       "⎢───────────    ──────────────────────────────      ──────────────────────────\n",
       "⎢  _________       _________________________            ______________________\n",
       "⎢╲╱ 2 + 2⋅ⅈ      ╲╱ -10⋅√5 - 50⋅ⅈ - 20⋅√5⋅ⅈ           ╲╱ 10⋅√5 - 50⋅ⅈ + 20⋅√5⋅\n",
       "⎢                                                                             \n",
       "⎢     1                       5                                   5           \n",
       "⎢───────────     ───────────────────────────          ────────────────────────\n",
       "⎢  _________       _________________________            ______________________\n",
       "⎣╲╱ 2 + 2⋅ⅈ      ╲╱ -10⋅√5 - 50⋅ⅈ - 20⋅√5⋅ⅈ           ╲╱ 10⋅√5 - 50⋅ⅈ + 20⋅√5⋅\n",
       "\n",
       "     ⎞⎤\n",
       "+ √5)⎟⎥\n",
       "     ⎠⎥\n",
       "──────⎥\n",
       "__    ⎥\n",
       "ⅈ     ⎥\n",
       "      ⎥\n",
       "   ⎞  ⎥\n",
       "√5)⎟  ⎥\n",
       "   ⎠  ⎥\n",
       "────  ⎥\n",
       "__    ⎥\n",
       "ⅈ     ⎥\n",
       "      ⎥\n",
       "      ⎥\n",
       "──    ⎥\n",
       "__    ⎥\n",
       "ⅈ     ⎦"
      ]
     },
     "execution_count": 24,
     "metadata": {},
     "output_type": "execute_result"
    }
   ],
   "source": [
    "L_vec=[[V1,V2,V3]]\n",
    "C = Matrix(L_vec)\n",
    "C"
   ]
  },
  {
   "cell_type": "markdown",
   "metadata": {},
   "source": [
    "Para finalmente poder calcular $C^{-1} A C$ y obtener:"
   ]
  },
  {
   "cell_type": "code",
   "execution_count": 25,
   "metadata": {},
   "outputs": [
    {
     "data": {
      "image/png": "[encoded data removed]",
      "text/latex": [
       "$\\displaystyle \\left[\\begin{matrix}4 & 0 & 0\\\\0 & 1 - \\sqrt{5} & 0\\\\0 & 0 & 1 + \\sqrt{5}\\end{matrix}\\right]$"
      ],
      "text/plain": [
       "⎡4    0       0   ⎤\n",
       "⎢                 ⎥\n",
       "⎢0  1 - √5    0   ⎥\n",
       "⎢                 ⎥\n",
       "⎣0    0     1 + √5⎦"
      ]
     },
     "execution_count": 25,
     "metadata": {},
     "output_type": "execute_result"
    }
   ],
   "source": [
    "simplify(C.inv()*A*C)"
   ]
  },
  {
   "cell_type": "markdown",
   "metadata": {},
   "source": [
    "Como ya vimos se puede diagonalizar de manera directa "
   ]
  },
  {
   "cell_type": "code",
   "execution_count": 26,
   "metadata": {},
   "outputs": [],
   "source": [
    "P, D = A.diagonalize()"
   ]
  },
  {
   "cell_type": "code",
   "execution_count": 27,
   "metadata": {},
   "outputs": [
    {
     "data": {
      "image/png": "[encoded data removed]",
      "text/latex": [
       "$\\displaystyle \\left[\\begin{matrix}1 & \\frac{1}{5} - \\frac{8 i}{5} - \\frac{\\left(1 - \\sqrt{5}\\right) \\left(1 - 3 i\\right)}{5} & \\frac{1}{5} - \\frac{8 i}{5} - \\frac{\\left(1 + \\sqrt{5}\\right) \\left(1 - 3 i\\right)}{5}\\\\-1 - i & \\frac{\\left(2 - i\\right) \\left(2 + \\sqrt{5} + i\\right)}{5} & \\frac{\\left(2 - i\\right) \\left(- \\sqrt{5} + 2 + i\\right)}{5}\\\\1 & 1 & 1\\end{matrix}\\right]$"
      ],
      "text/plain": [
       "⎡        1   8⋅ⅈ   (1 - √5)⋅(1 - 3⋅ⅈ)  1   8⋅ⅈ   (1 + √5)⋅(1 - 3⋅ⅈ)⎤\n",
       "⎢  1     ─ - ─── - ──────────────────  ─ - ─── - ──────────────────⎥\n",
       "⎢        5    5            5           5    5            5         ⎥\n",
       "⎢                                                                  ⎥\n",
       "⎢            (2 - ⅈ)⋅(2 + √5 + ⅈ)         (2 - ⅈ)⋅(-√5 + 2 + ⅈ)    ⎥\n",
       "⎢-1 - ⅈ      ────────────────────         ─────────────────────    ⎥\n",
       "⎢                     5                             5              ⎥\n",
       "⎢                                                                  ⎥\n",
       "⎣  1                  1                             1              ⎦"
      ]
     },
     "execution_count": 27,
     "metadata": {},
     "output_type": "execute_result"
    }
   ],
   "source": [
    "P"
   ]
  },
  {
   "cell_type": "code",
   "execution_count": 28,
   "metadata": {},
   "outputs": [
    {
     "data": {
      "image/png": "[encoded data removed]",
      "text/latex": [
       "$\\displaystyle \\left[\\begin{matrix}4 & 0 & 0\\\\0 & 1 - \\sqrt{5} & 0\\\\0 & 0 & 1 + \\sqrt{5}\\end{matrix}\\right]$"
      ],
      "text/plain": [
       "⎡4    0       0   ⎤\n",
       "⎢                 ⎥\n",
       "⎢0  1 - √5    0   ⎥\n",
       "⎢                 ⎥\n",
       "⎣0    0     1 + √5⎦"
      ]
     },
     "execution_count": 28,
     "metadata": {},
     "output_type": "execute_result"
    }
   ],
   "source": [
    "D"
   ]
  }
 ],
 "metadata": {
  "colab": {
   "collapsed_sections": [
    "HS5j074Bpqw9",
    "M6k5DaB7AMNL",
    "IZBsDTb4E7U4",
    "Hn31KOmRS9EA",
    "A3ZNaLdqWeG5",
    "5Vs06j5DdIme",
    "ujW8a0HzkNuV"
   ],
   "provenance": [
    {
     "file_id": "1YrOBd8YdJ9P2aPSTRJEnMxLdlqznqh8y",
     "timestamp": 1694038709310
    }
   ]
  },
  "kernelspec": {
   "display_name": "Python 3 (ipykernel)",
   "language": "python",
   "name": "python3"
  },
  "language_info": {
   "codemirror_mode": {
    "name": "ipython",
    "version": 3
   },
   "file_extension": ".py",
   "mimetype": "text/x-python",
   "name": "python",
   "nbconvert_exporter": "python",
   "pygments_lexer": "ipython3",
   "version": "3.11.7"
  }
 },
 "nbformat": 4,
 "nbformat_minor": 1
}

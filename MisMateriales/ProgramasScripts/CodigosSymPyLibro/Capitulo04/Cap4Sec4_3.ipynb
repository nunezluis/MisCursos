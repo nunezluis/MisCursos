{
 "cells": [
  {
   "cell_type": "markdown",
   "metadata": {
    "id": "aleOVKzP-8kQ"
   },
   "source": [
    "1.  Consideremos  la transformación lineal del ejercicio resuelto con anterioridad:\n",
    "$$\n",
    "\\mathbb{T}: \\mathbf{R}^3 \\rightarrow \\mathbf{R}^4  \\,, \\,\\,\n",
    "\\mathbb{T}\\left[ \\left(x,y,z\\right) \\right]=\\left(x+y,x-2z,x+2y+3z,y-2z\\right)\\,.\n",
    "$$\n"
   ]
  },
  {
   "cell_type": "code",
   "execution_count": 1,
   "metadata": {
    "id": "604d4rBS80_Y"
   },
   "outputs": [],
   "source": [
    "import sympy\n",
    "from sympy import *\n",
    "init_printing()"
   ]
  },
  {
   "cell_type": "markdown",
   "metadata": {
    "id": "oLNHFfRNpqxC"
   },
   "source": [
    "Definamos la matriz"
   ]
  },
  {
   "cell_type": "code",
   "execution_count": 2,
   "metadata": {},
   "outputs": [],
   "source": [
    "# Definimos las variables simbólicas\n",
    "x, y, z = symbols('x y z')\n",
    "C11, C12, C13, C14 = symbols('C11 C12 C13 C14')\n",
    "C21, C22, C23, C24 = symbols('C21 C22 C23 C24')\n",
    "C31, C32, C33, C34 = symbols('C31 C32 C33 C34')\n",
    "# Definir la función T(x, y, z)\n",
    "def T(x, y, z):\n",
    "    return Matrix([x + y, x - 2 * z, x + 2 * y + 3 * z, y - 2 * z])"
   ]
  },
  {
   "cell_type": "markdown",
   "metadata": {},
   "source": [
    "Escribimos ahora los vectores de la base en $\\mathbf{R}^4$:"
   ]
  },
  {
   "cell_type": "code",
   "execution_count": 3,
   "metadata": {},
   "outputs": [],
   "source": [
    "e1 = Matrix([1, 1, 1, 1])\n",
    "e2 = Matrix([0, 1, 1, 1])\n",
    "e3 = Matrix([0, 0, 1, 1])\n",
    "e4 = Matrix([0, 0, 0, 1])"
   ]
  },
  {
   "cell_type": "markdown",
   "metadata": {},
   "source": [
    "Resolver los sistemas de ecuaciones"
   ]
  },
  {
   "cell_type": "code",
   "execution_count": 4,
   "metadata": {},
   "outputs": [],
   "source": [
    "sol1 = linsolve(T(1, 1, 0) - C11 * e1 - C12 * e2 - C13 * e3 - C14 * e4, (C11, C12, C13, C14))\n",
    "sol2 = linsolve(T(1, 0, 1) - C21 * e1 - C22 * e2 - C23 * e3 - C24 * e4, (C21, C22, C23, C24))\n",
    "sol3 = linsolve(T(0, 1, 1) - C31 * e1 - C32 * e2 - C33 * e3 - C34 * e4, (C31, C32, C33, C34))\n",
    "# Asignar las soluciones\n",
    "C11, C12, C13, C14 = sol1.args[0]\n",
    "C21, C22, C23, C24 = sol2.args[0]\n",
    "C31, C32, C33, C34 = sol3.args[0]"
   ]
  },
  {
   "cell_type": "markdown",
   "metadata": {},
   "source": [
    "Calcular las componentes del tensor"
   ]
  },
  {
   "cell_type": "code",
   "execution_count": 5,
   "metadata": {},
   "outputs": [
    {
     "data": {
      "image/png": "[encoded data removed]",
      "text/latex": [
       "$\\displaystyle \\left[\\begin{matrix}7 & 2 & 3\\\\5 & 1 & 2\\\\4 & 2 & 4\\\\1 & -2 & -1\\end{matrix}\\right]$"
      ],
      "text/plain": [
       "⎡7  2   3 ⎤\n",
       "⎢         ⎥\n",
       "⎢5  1   2 ⎥\n",
       "⎢         ⎥\n",
       "⎢4  2   4 ⎥\n",
       "⎢         ⎥\n",
       "⎣1  -2  -1⎦"
      ]
     },
     "execution_count": 5,
     "metadata": {},
     "output_type": "execute_result"
    }
   ],
   "source": [
    "T11 = C11 * (e1.dot(e1)) + C12 * (e1.dot(e2)) + C13 * (e1.dot(e3)) + C14 * (e1.dot(e4))\n",
    "T21 = C21 * (e1.dot(e1)) + C22 * (e1.dot(e2)) + C23 * (e1.dot(e3)) + C24 * (e1.dot(e4))\n",
    "T31 = C31 * (e1.dot(e1)) + C32 * (e1.dot(e2)) + C33 * (e1.dot(e3)) + C34 * (e1.dot(e4))\n",
    "T12 = C11 * (e2.dot(e1)) + C12 * (e2.dot(e2)) + C13 * (e2.dot(e3)) + C14 * (e2.dot(e4))\n",
    "T22 = C21 * (e2.dot(e1)) + C22 * (e2.dot(e2)) + C23 * (e2.dot(e3)) + C24 * (e2.dot(e4))\n",
    "T32 = C31 * (e2.dot(e1)) + C32 * (e2.dot(e2)) + C33 * (e2.dot(e3)) + C34 * (e2.dot(e4))\n",
    "T13 = C11 * (e3.dot(e1)) + C12 * (e3.dot(e2)) + C13 * (e3.dot(e3)) + C14 * (e3.dot(e4))\n",
    "T23 = C21 * (e3.dot(e1)) + C22 * (e3.dot(e2)) + C23 * (e3.dot(e3)) + C24 * (e3.dot(e4))\n",
    "T33 = C31 * (e3.dot(e1)) + C32 * (e3.dot(e2)) + C33 * (e3.dot(e3)) + C34 * (e3.dot(e4))\n",
    "T14 = C11 * (e4.dot(e1)) + C12 * (e4.dot(e2)) + C13 * (e4.dot(e3)) + C14 * (e4.dot(e4))\n",
    "T24 = C21 * (e4.dot(e1)) + C22 * (e4.dot(e2)) + C23 * (e4.dot(e3)) + C24 * (e4.dot(e4))\n",
    "T34 = C31 * (e4.dot(e1)) + C32 * (e4.dot(e2)) + C33 * (e4.dot(e3)) + C34 * (e4.dot(e4))\n",
    "\n",
    "# Construir la matriz\n",
    "T_matrix = Matrix([[T11, T21, T31], [T12, T22, T32], [T13, T23, T33], [T14, T24, T34]])\n",
    "T_matrix"
   ]
  },
  {
   "cell_type": "markdown",
   "metadata": {},
   "source": [
    "Podemos repetir los cálculos pero ahora con la base canónica:"
   ]
  },
  {
   "cell_type": "code",
   "execution_count": 6,
   "metadata": {},
   "outputs": [
    {
     "data": {
      "image/png": "[encoded data removed]",
      "text/latex": [
       "$\\displaystyle \\left[\\begin{matrix}2 & 1 & 1\\\\1 & -1 & -2\\\\3 & 4 & 5\\\\1 & -2 & -1\\end{matrix}\\right]$"
      ],
      "text/plain": [
       "⎡2  1   1 ⎤\n",
       "⎢         ⎥\n",
       "⎢1  -1  -2⎥\n",
       "⎢         ⎥\n",
       "⎢3  4   5 ⎥\n",
       "⎢         ⎥\n",
       "⎣1  -2  -1⎦"
      ]
     },
     "execution_count": 6,
     "metadata": {},
     "output_type": "execute_result"
    }
   ],
   "source": [
    "C11, C12, C13, C14 = symbols('C11 C12 C13 C14')\n",
    "C21, C22, C23, C24 = symbols('C21 C22 C23 C24')\n",
    "C31, C32, C33, C34 = symbols('C31 C32 C33 C34')\n",
    "e1 = Matrix([1, 0, 0, 0])\n",
    "e2 = Matrix([0, 1, 0, 0])\n",
    "e3 = Matrix([0, 0, 1, 0])\n",
    "e4 = Matrix([0, 0, 0, 1])\n",
    "sol1 = linsolve(T(1, 1, 0) - C11 * e1 - C12 * e2 - C13 * e3 - C14 * e4, (C11, C12, C13, C14))\n",
    "sol2 = linsolve(T(1, 0, 1) - C21 * e1 - C22 * e2 - C23 * e3 - C24 * e4, (C21, C22, C23, C24))\n",
    "sol3 = linsolve(T(0, 1, 1) - C31 * e1 - C32 * e2 - C33 * e3 - C34 * e4, (C31, C32, C33, C34))\n",
    "# Asignar las soluciones\n",
    "C11, C12, C13, C14 = sol1.args[0]\n",
    "C21, C22, C23, C24 = sol2.args[0]\n",
    "C31, C32, C33, C34 = sol3.args[0]\n",
    "\n",
    "T11 = C11 * (e1.dot(e1)) + C12 * (e1.dot(e2)) + C13 * (e1.dot(e3)) + C14 * (e1.dot(e4))\n",
    "T21 = C21 * (e1.dot(e1)) + C22 * (e1.dot(e2)) + C23 * (e1.dot(e3)) + C24 * (e1.dot(e4))\n",
    "T31 = C31 * (e1.dot(e1)) + C32 * (e1.dot(e2)) + C33 * (e1.dot(e3)) + C34 * (e1.dot(e4))\n",
    "T12 = C11 * (e2.dot(e1)) + C12 * (e2.dot(e2)) + C13 * (e2.dot(e3)) + C14 * (e2.dot(e4))\n",
    "T22 = C21 * (e2.dot(e1)) + C22 * (e2.dot(e2)) + C23 * (e2.dot(e3)) + C24 * (e2.dot(e4))\n",
    "T32 = C31 * (e2.dot(e1)) + C32 * (e2.dot(e2)) + C33 * (e2.dot(e3)) + C34 * (e2.dot(e4))\n",
    "T13 = C11 * (e3.dot(e1)) + C12 * (e3.dot(e2)) + C13 * (e3.dot(e3)) + C14 * (e3.dot(e4))\n",
    "T23 = C21 * (e3.dot(e1)) + C22 * (e3.dot(e2)) + C23 * (e3.dot(e3)) + C24 * (e3.dot(e4))\n",
    "T33 = C31 * (e3.dot(e1)) + C32 * (e3.dot(e2)) + C33 * (e3.dot(e3)) + C34 * (e3.dot(e4))\n",
    "T14 = C11 * (e4.dot(e1)) + C12 * (e4.dot(e2)) + C13 * (e4.dot(e3)) + C14 * (e4.dot(e4))\n",
    "T24 = C21 * (e4.dot(e1)) + C22 * (e4.dot(e2)) + C23 * (e4.dot(e3)) + C24 * (e4.dot(e4))\n",
    "T34 = C31 * (e4.dot(e1)) + C32 * (e4.dot(e2)) + C33 * (e4.dot(e3)) + C34 * (e4.dot(e4))\n",
    "\n",
    "# Construir la matriz\n",
    "T_matrix = Matrix([[T11, T21, T31], [T12, T22, T32], [T13, T23, T33], [T14, T24, T34]])\n",
    "T_matrix"
   ]
  },
  {
   "cell_type": "markdown",
   "metadata": {},
   "source": [
    "2. Dada una transformación $\\mathbb{T}: \\mathbf{R}^2 \\rightarrow \\mathbf{R}^3$, donde una base para $\\mathbf{R}^3$  es:\n",
    "$$\n",
    "|\\mathrm{e}_{i}\\rangle=\\{(1,2,1), (1,1,0),(0,0,3)\\} \\in \\mathbf{R}^3\\,, \n",
    "$$\n",
    "y las imágenes de esta base respecto a la base canónica en $\\mathbf{R}^2$ son:\n",
    "$$\n",
    "\\mathbb{T}\\left[ |\\mathrm{e}_{1}\\rangle\\right]= (3,3) \\,,\\,\\,\n",
    "\\mathbb{T}\\left[ |\\mathrm{e}_{2}\\rangle\\right]= (6,3) \\,,\\,\\,\n",
    "\\mathbb{T}\\left[ |\\mathrm{e}_{3}\\rangle\\right]= (3,6) \\,.\n",
    "$$\n",
    "\n",
    "¿Qué transformación está asociada a las coordenadas canónicas en $\\mathbf{R}^3$? \n",
    "\n",
    "Escribamos los vectores"
   ]
  },
  {
   "cell_type": "code",
   "execution_count": 7,
   "metadata": {},
   "outputs": [],
   "source": [
    "# Los vectores e1, e2, e3\n",
    "e1 = Matrix([1, 2, 1])\n",
    "e2 = Matrix([1, 1, 0])\n",
    "e3 = Matrix([0, 0, 3])"
   ]
  },
  {
   "cell_type": "markdown",
   "metadata": {},
   "source": [
    "Ahora introducimos las imágenes: "
   ]
  },
  {
   "cell_type": "code",
   "execution_count": 8,
   "metadata": {},
   "outputs": [],
   "source": [
    "# Los vectores Te1, Te2, Te3\n",
    "Te1 = Matrix([3, 3])\n",
    "Te2 = Matrix([6, 3])\n",
    "Te3 = Matrix([3, 6])"
   ]
  },
  {
   "cell_type": "markdown",
   "metadata": {},
   "source": [
    " Respecto a estas coordenadas la transformación tiene la siguiente representación vectorial:"
   ]
  },
  {
   "cell_type": "code",
   "execution_count": 9,
   "metadata": {},
   "outputs": [
    {
     "data": {
      "image/png": "[encoded data removed]",
      "text/latex": [
       "$\\displaystyle \\left[\\begin{matrix}3 & 3\\\\6 & 3\\\\3 & 6\\end{matrix}\\right]$"
      ],
      "text/plain": [
       "⎡3  3⎤\n",
       "⎢    ⎥\n",
       "⎢6  3⎥\n",
       "⎢    ⎥\n",
       "⎣3  6⎦"
      ]
     },
     "execution_count": 9,
     "metadata": {},
     "output_type": "execute_result"
    }
   ],
   "source": [
    "A = Matrix([Te1.T, Te2.T, Te3.T]) \n",
    "A"
   ]
  },
  {
   "cell_type": "markdown",
   "metadata": {},
   "source": [
    "Lo que queremos es buscar la representación matricial de la transformación pero respecto a la base canónica, por lo tanto debemos buscar primero el cambio de base a la base canónica en $\\mathbf{R}^3$"
   ]
  },
  {
   "cell_type": "code",
   "execution_count": 10,
   "metadata": {},
   "outputs": [
    {
     "data": {
      "image/png": "[encoded data removed]",
      "text/latex": [
       "$\\displaystyle \\left[\\begin{matrix}1 & 2 & 1\\\\1 & 1 & 0\\\\0 & 0 & 3\\end{matrix}\\right]$"
      ],
      "text/plain": [
       "⎡1  2  1⎤\n",
       "⎢       ⎥\n",
       "⎢1  1  0⎥\n",
       "⎢       ⎥\n",
       "⎣0  0  3⎦"
      ]
     },
     "execution_count": 10,
     "metadata": {},
     "output_type": "execute_result"
    }
   ],
   "source": [
    "B= Matrix([[e1 , e2, e3]]).T\n",
    "B"
   ]
  },
  {
   "cell_type": "code",
   "execution_count": 11,
   "metadata": {},
   "outputs": [
    {
     "data": {
      "image/png": "[encoded data removed]",
      "text/latex": [
       "$\\displaystyle \\left[\\begin{matrix}-1 & 2 & \\frac{1}{3}\\\\1 & -1 & - \\frac{1}{3}\\\\0 & 0 & \\frac{1}{3}\\end{matrix}\\right]$"
      ],
      "text/plain": [
       "⎡-1  2   1/3 ⎤\n",
       "⎢            ⎥\n",
       "⎢1   -1  -1/3⎥\n",
       "⎢            ⎥\n",
       "⎣0   0   1/3 ⎦"
      ]
     },
     "execution_count": 11,
     "metadata": {},
     "output_type": "execute_result"
    }
   ],
   "source": [
    "E=B.inv()\n",
    "E"
   ]
  },
  {
   "cell_type": "markdown",
   "metadata": {},
   "source": [
    "En la base canónica la transformación tiene la siguiente representación:"
   ]
  },
  {
   "cell_type": "code",
   "execution_count": 12,
   "metadata": {},
   "outputs": [
    {
     "data": {
      "image/png": "[encoded data removed]",
      "text/latex": [
       "$\\displaystyle \\left[\\begin{matrix}10 & -4 & 1\\\\5 & -2 & 2\\end{matrix}\\right]$"
      ],
      "text/plain": [
       "⎡10  -4  1⎤\n",
       "⎢         ⎥\n",
       "⎣5   -2  2⎦"
      ]
     },
     "execution_count": 12,
     "metadata": {},
     "output_type": "execute_result"
    }
   ],
   "source": [
    "# Calcular AE\n",
    "AE = (E @ A).T\n",
    "AE"
   ]
  },
  {
   "cell_type": "markdown",
   "metadata": {},
   "source": [
    "Por lo tanto la transformación es:"
   ]
  },
  {
   "cell_type": "code",
   "execution_count": 13,
   "metadata": {},
   "outputs": [],
   "source": [
    "def T(x, y, z):\n",
    "    return Matrix([10*x -4*y +z, 5*x - 2*y +2*z])"
   ]
  },
  {
   "cell_type": "code",
   "execution_count": 14,
   "metadata": {},
   "outputs": [
    {
     "data": {
      "image/png": "[encoded data removed]",
      "text/latex": [
       "$\\displaystyle \\left[\\begin{matrix}10 x - 4 y + z\\\\5 x - 2 y + 2 z\\end{matrix}\\right]$"
      ],
      "text/plain": [
       "⎡10⋅x - 4⋅y + z ⎤\n",
       "⎢               ⎥\n",
       "⎣5⋅x - 2⋅y + 2⋅z⎦"
      ]
     },
     "execution_count": 14,
     "metadata": {},
     "output_type": "execute_result"
    }
   ],
   "source": [
    "T(x,y,z)"
   ]
  },
  {
   "cell_type": "markdown",
   "metadata": {},
   "source": [
    "Podemos verificar si el resultado es el correcto comparando con $A$"
   ]
  },
  {
   "cell_type": "code",
   "execution_count": 15,
   "metadata": {},
   "outputs": [
    {
     "data": {
      "image/png": "[encoded data removed]",
      "text/latex": [
       "$\\displaystyle \\left\\{\\left( 3, \\  3\\right)\\right\\}$"
      ],
      "text/plain": [
       "{(3, 3)}"
      ]
     },
     "execution_count": 15,
     "metadata": {},
     "output_type": "execute_result"
    }
   ],
   "source": [
    "a, b= symbols('a b')\n",
    "e1 = Matrix([1, 0])\n",
    "e2 = Matrix([0, 1])\n",
    "sol1 = linsolve(T(1, 2, 1) - a * e1 - b * e2 , (a, b))\n",
    "sol1"
   ]
  },
  {
   "cell_type": "code",
   "execution_count": 16,
   "metadata": {},
   "outputs": [
    {
     "data": {
      "image/png": "[encoded data removed]",
      "text/latex": [
       "$\\displaystyle \\left\\{\\left( 6, \\  3\\right)\\right\\}$"
      ],
      "text/plain": [
       "{(6, 3)}"
      ]
     },
     "execution_count": 16,
     "metadata": {},
     "output_type": "execute_result"
    }
   ],
   "source": [
    "sol2 = linsolve(T(1, 1, 0) - a * e1 - b * e2 , (a, b))\n",
    "sol2"
   ]
  },
  {
   "cell_type": "code",
   "execution_count": 17,
   "metadata": {},
   "outputs": [
    {
     "data": {
      "image/png": "[encoded data removed]",
      "text/latex": [
       "$\\displaystyle \\left\\{\\left( 3, \\  6\\right)\\right\\}$"
      ],
      "text/plain": [
       "{(3, 6)}"
      ]
     },
     "execution_count": 17,
     "metadata": {},
     "output_type": "execute_result"
    }
   ],
   "source": [
    "sol3 = linsolve(T(0, 0, 3) - a * e1 - b * e2 , (a, b))\n",
    "sol3"
   ]
  },
  {
   "cell_type": "markdown",
   "metadata": {},
   "source": [
    "3. En este ejercicio vamos a introducir algunos comandos básicos que nos permitirán realizar  operaciones típicas con matrices. \n",
    "\n",
    "Dada la siguiente matriz:"
   ]
  },
  {
   "cell_type": "code",
   "execution_count": 18,
   "metadata": {},
   "outputs": [
    {
     "data": {
      "image/png": "[encoded data removed]",
      "text/latex": [
       "$\\displaystyle \\left[\\begin{matrix}1 & 2 & 3\\\\4 & 8 & 5\\\\9 & 5 & 4\\end{matrix}\\right]$"
      ],
      "text/plain": [
       "⎡1  2  3⎤\n",
       "⎢       ⎥\n",
       "⎢4  8  5⎥\n",
       "⎢       ⎥\n",
       "⎣9  5  4⎦"
      ]
     },
     "execution_count": 18,
     "metadata": {},
     "output_type": "execute_result"
    }
   ],
   "source": [
    "A = Matrix([[1, 2, 3], [4, 8, 5], [9, 5, 4]])\n",
    "A"
   ]
  },
  {
   "cell_type": "markdown",
   "metadata": {},
   "source": [
    "La traspuesta es:"
   ]
  },
  {
   "cell_type": "code",
   "execution_count": 19,
   "metadata": {},
   "outputs": [
    {
     "data": {
      "image/png": "[encoded data removed]",
      "text/latex": [
       "$\\displaystyle \\left[\\begin{matrix}1 & 4 & 9\\\\2 & 8 & 5\\\\3 & 5 & 4\\end{matrix}\\right]$"
      ],
      "text/plain": [
       "⎡1  4  9⎤\n",
       "⎢       ⎥\n",
       "⎢2  8  5⎥\n",
       "⎢       ⎥\n",
       "⎣3  5  4⎦"
      ]
     },
     "execution_count": 19,
     "metadata": {},
     "output_type": "execute_result"
    }
   ],
   "source": [
    "A.T"
   ]
  },
  {
   "cell_type": "markdown",
   "metadata": {},
   "source": [
    " La matriz adjunta es la traspuesta de la matriz de cofactores de $ \\mathbf{A}$."
   ]
  },
  {
   "cell_type": "code",
   "execution_count": 20,
   "metadata": {},
   "outputs": [
    {
     "data": {
      "image/png": "[encoded data removed]",
      "text/latex": [
       "$\\displaystyle \\left[\\begin{matrix}1 & 4 & 9\\\\2 & 8 & 5\\\\3 & 5 & 4\\end{matrix}\\right]$"
      ],
      "text/plain": [
       "⎡1  4  9⎤\n",
       "⎢       ⎥\n",
       "⎢2  8  5⎥\n",
       "⎢       ⎥\n",
       "⎣3  5  4⎦"
      ]
     },
     "execution_count": 20,
     "metadata": {},
     "output_type": "execute_result"
    }
   ],
   "source": [
    "A.adjoint()"
   ]
  },
  {
   "cell_type": "markdown",
   "metadata": {},
   "source": [
    "Para la matriz inversa:"
   ]
  },
  {
   "cell_type": "code",
   "execution_count": 21,
   "metadata": {},
   "outputs": [
    {
     "data": {
      "image/png": "[encoded data removed]",
      "text/latex": [
       "$\\displaystyle \\left[\\begin{matrix}- \\frac{1}{13} & - \\frac{1}{13} & \\frac{2}{13}\\\\- \\frac{29}{91} & \\frac{23}{91} & - \\frac{1}{13}\\\\\\frac{4}{7} & - \\frac{1}{7} & 0\\end{matrix}\\right]$"
      ],
      "text/plain": [
       "⎡-1/13  -1/13  2/13 ⎤\n",
       "⎢                   ⎥\n",
       "⎢-29     23         ⎥\n",
       "⎢────    ──    -1/13⎥\n",
       "⎢ 91     91         ⎥\n",
       "⎢                   ⎥\n",
       "⎣ 4/7   -1/7     0  ⎦"
      ]
     },
     "execution_count": 21,
     "metadata": {},
     "output_type": "execute_result"
    }
   ],
   "source": [
    "A.inv()\n"
   ]
  },
  {
   "cell_type": "markdown",
   "metadata": {},
   "source": [
    "El determinante"
   ]
  },
  {
   "cell_type": "code",
   "execution_count": 22,
   "metadata": {},
   "outputs": [
    {
     "data": {
      "image/png": "[encoded data removed]",
      "text/latex": [
       "$\\displaystyle -91$"
      ],
      "text/plain": [
       "-91"
      ]
     },
     "execution_count": 22,
     "metadata": {},
     "output_type": "execute_result"
    }
   ],
   "source": [
    "A.det()"
   ]
  },
  {
   "cell_type": "markdown",
   "metadata": {},
   "source": [
    "La matriz identidad"
   ]
  },
  {
   "cell_type": "code",
   "execution_count": 23,
   "metadata": {},
   "outputs": [
    {
     "data": {
      "image/png": "[encoded data removed]",
      "text/latex": [
       "$\\displaystyle \\left[\\begin{matrix}1 & 0 & 0\\\\0 & 1 & 0\\\\0 & 0 & 1\\end{matrix}\\right]$"
      ],
      "text/plain": [
       "⎡1  0  0⎤\n",
       "⎢       ⎥\n",
       "⎢0  1  0⎥\n",
       "⎢       ⎥\n",
       "⎣0  0  1⎦"
      ]
     },
     "execution_count": 23,
     "metadata": {},
     "output_type": "execute_result"
    }
   ],
   "source": [
    "I3 = eye(3)\n",
    "I3"
   ]
  },
  {
   "cell_type": "code",
   "execution_count": 24,
   "metadata": {},
   "outputs": [
    {
     "data": {
      "image/png": "[encoded data removed]",
      "text/latex": [
       "$\\displaystyle 1$"
      ],
      "text/plain": [
       "1"
      ]
     },
     "execution_count": 24,
     "metadata": {},
     "output_type": "execute_result"
    }
   ],
   "source": [
    "I3.det()"
   ]
  },
  {
   "cell_type": "markdown",
   "metadata": {},
   "source": [
    "Podemos comprobar que $\\mathbf{A}^{-1}\\mathbf{A}=\\mathbf{I}$"
   ]
  },
  {
   "cell_type": "code",
   "execution_count": 25,
   "metadata": {},
   "outputs": [
    {
     "data": {
      "image/png": "[encoded data removed]",
      "text/latex": [
       "$\\displaystyle \\left[\\begin{matrix}1 & 0 & 0\\\\0 & 1 & 0\\\\0 & 0 & 1\\end{matrix}\\right]$"
      ],
      "text/plain": [
       "⎡1  0  0⎤\n",
       "⎢       ⎥\n",
       "⎢0  1  0⎥\n",
       "⎢       ⎥\n",
       "⎣0  0  1⎦"
      ]
     },
     "execution_count": 25,
     "metadata": {},
     "output_type": "execute_result"
    }
   ],
   "source": [
    "A.inv() @ A"
   ]
  },
  {
   "cell_type": "code",
   "execution_count": 26,
   "metadata": {},
   "outputs": [
    {
     "data": {
      "image/png": "[encoded data removed]",
      "text/latex": [
       "$\\displaystyle \\left[\\begin{matrix}1 & 2 & 3\\\\4 & 8 & 5\\\\9 & 5 & 4\\end{matrix}\\right]$"
      ],
      "text/plain": [
       "⎡1  2  3⎤\n",
       "⎢       ⎥\n",
       "⎢4  8  5⎥\n",
       "⎢       ⎥\n",
       "⎣9  5  4⎦"
      ]
     },
     "execution_count": 26,
     "metadata": {},
     "output_type": "execute_result"
    }
   ],
   "source": [
    "A"
   ]
  },
  {
   "cell_type": "markdown",
   "metadata": {},
   "source": [
    "Para calcular la menor $(i,j)$ de la matriz, es decir, eliminar la  fila $i$ y la columna $j$ de una matriz se debe escribir:"
   ]
  },
  {
   "cell_type": "code",
   "execution_count": 27,
   "metadata": {},
   "outputs": [
    {
     "data": {
      "image/png": "[encoded data removed]",
      "text/latex": [
       "$\\displaystyle \\left[\\begin{matrix}1 & 3\\\\9 & 4\\end{matrix}\\right]$"
      ],
      "text/plain": [
       "⎡1  3⎤\n",
       "⎢    ⎥\n",
       "⎣9  4⎦"
      ]
     },
     "execution_count": 27,
     "metadata": {},
     "output_type": "execute_result"
    }
   ],
   "source": [
    "A.minor_submatrix(1, 1)"
   ]
  },
  {
   "cell_type": "code",
   "execution_count": 28,
   "metadata": {},
   "outputs": [
    {
     "data": {
      "image/png": "[encoded data removed]",
      "text/latex": [
       "$\\displaystyle \\left[\\begin{matrix}8 & 5\\\\5 & 4\\end{matrix}\\right]$"
      ],
      "text/plain": [
       "⎡8  5⎤\n",
       "⎢    ⎥\n",
       "⎣5  4⎦"
      ]
     },
     "execution_count": 28,
     "metadata": {},
     "output_type": "execute_result"
    }
   ],
   "source": [
    "A.minor_submatrix(0, 0)"
   ]
  },
  {
   "cell_type": "code",
   "execution_count": 29,
   "metadata": {},
   "outputs": [
    {
     "data": {
      "image/png": "[encoded data removed]",
      "text/latex": [
       "$\\displaystyle \\left[\\begin{matrix}1 & 2 & 3\\\\0 & 8 & 5\\\\0 & 0 & 4\\end{matrix}\\right]$"
      ],
      "text/plain": [
       "⎡1  2  3⎤\n",
       "⎢       ⎥\n",
       "⎢0  8  5⎥\n",
       "⎢       ⎥\n",
       "⎣0  0  4⎦"
      ]
     },
     "execution_count": 29,
     "metadata": {},
     "output_type": "execute_result"
    }
   ],
   "source": [
    "A.upper_triangular()"
   ]
  },
  {
   "cell_type": "code",
   "execution_count": 30,
   "metadata": {},
   "outputs": [
    {
     "data": {
      "image/png": "[encoded data removed]",
      "text/latex": [
       "$\\displaystyle \\left[\\begin{matrix}1 & 0 & 0\\\\4 & 8 & 0\\\\9 & 5 & 4\\end{matrix}\\right]$"
      ],
      "text/plain": [
       "⎡1  0  0⎤\n",
       "⎢       ⎥\n",
       "⎢4  8  0⎥\n",
       "⎢       ⎥\n",
       "⎣9  5  4⎦"
      ]
     },
     "execution_count": 30,
     "metadata": {},
     "output_type": "execute_result"
    }
   ],
   "source": [
    "A.lower_triangular()"
   ]
  },
  {
   "cell_type": "markdown",
   "metadata": {},
   "source": [
    "La traza"
   ]
  },
  {
   "cell_type": "code",
   "execution_count": 31,
   "metadata": {},
   "outputs": [
    {
     "data": {
      "image/png": "[encoded data removed]",
      "text/latex": [
       "$\\displaystyle 13$"
      ],
      "text/plain": [
       "13"
      ]
     },
     "execution_count": 31,
     "metadata": {},
     "output_type": "execute_result"
    }
   ],
   "source": [
    "A.trace()"
   ]
  },
  {
   "cell_type": "markdown",
   "metadata": {},
   "source": [
    "Consideremos ahora la matriz "
   ]
  },
  {
   "cell_type": "code",
   "execution_count": 32,
   "metadata": {},
   "outputs": [
    {
     "data": {
      "image/png": "[encoded data removed]",
      "text/latex": [
       "$\\displaystyle \\left[\\begin{matrix}1 & 3 & 0 & 0\\\\y & z & 0 & 0\\\\0 & 0 & x & 0\\\\0 & 0 & 0 & 0\\end{matrix}\\right]$"
      ],
      "text/plain": [
       "⎡1  3  0  0⎤\n",
       "⎢          ⎥\n",
       "⎢y  z  0  0⎥\n",
       "⎢          ⎥\n",
       "⎢0  0  x  0⎥\n",
       "⎢          ⎥\n",
       "⎣0  0  0  0⎦"
      ]
     },
     "execution_count": 32,
     "metadata": {},
     "output_type": "execute_result"
    }
   ],
   "source": [
    "a1, a2, a3 = symbols('a1 a2 a3')\n",
    "N = Matrix([[1, 3, 0, 0], [y, z, 0, 0], [0, 0, x, 0], [0, 0, 0, 0]])\n",
    "N"
   ]
  },
  {
   "cell_type": "markdown",
   "metadata": {},
   "source": [
    "POdemos obtener las submatrices cuadradas de la diagonal principal de una matriz cuadrada. Esta opción es muy útil para invertir matrices simbólicas o resolver sistemas de ecuaciones lineales que pueden desacoplarse al tener una estructura diagonal en bloque."
   ]
  },
  {
   "cell_type": "code",
   "execution_count": 33,
   "metadata": {},
   "outputs": [
    {
     "data": {
      "image/png": "[encoded data removed]",
      "text/latex": [
       "$\\displaystyle \\left[\\begin{matrix}1 & 3\\\\y & z\\end{matrix}\\right]$"
      ],
      "text/plain": [
       "⎡1  3⎤\n",
       "⎢    ⎥\n",
       "⎣y  z⎦"
      ]
     },
     "execution_count": 33,
     "metadata": {},
     "output_type": "execute_result"
    }
   ],
   "source": [
    "a1, a2, a3 = N.get_diag_blocks()\n",
    "a1"
   ]
  },
  {
   "cell_type": "code",
   "execution_count": 34,
   "metadata": {},
   "outputs": [
    {
     "data": {
      "image/png": "[encoded data removed]",
      "text/latex": [
       "$\\displaystyle \\left[\\begin{matrix}x\\end{matrix}\\right]$"
      ],
      "text/plain": [
       "[x]"
      ]
     },
     "execution_count": 34,
     "metadata": {},
     "output_type": "execute_result"
    }
   ],
   "source": [
    "a2"
   ]
  },
  {
   "cell_type": "code",
   "execution_count": 35,
   "metadata": {},
   "outputs": [
    {
     "data": {
      "image/png": "[encoded data removed]",
      "text/latex": [
       "$\\displaystyle \\left[\\begin{matrix}0\\end{matrix}\\right]$"
      ],
      "text/plain": [
       "[0]"
      ]
     },
     "execution_count": 35,
     "metadata": {},
     "output_type": "execute_result"
    }
   ],
   "source": [
    "a3"
   ]
  },
  {
   "cell_type": "markdown",
   "metadata": {},
   "source": [
    "Para matrices complejas, la matriz conjugada:"
   ]
  },
  {
   "cell_type": "code",
   "execution_count": 36,
   "metadata": {},
   "outputs": [
    {
     "data": {
      "image/png": "[encoded data removed]",
      "text/latex": [
       "$\\displaystyle \\left[\\begin{matrix}1 & i & 0\\\\-1 & 2 & - i\\\\i & 1 & 2\\end{matrix}\\right]$"
      ],
      "text/plain": [
       "⎡1   ⅈ  0 ⎤\n",
       "⎢         ⎥\n",
       "⎢-1  2  -ⅈ⎥\n",
       "⎢         ⎥\n",
       "⎣ⅈ   1  2 ⎦"
      ]
     },
     "execution_count": 36,
     "metadata": {},
     "output_type": "execute_result"
    }
   ],
   "source": [
    "M = Matrix([[1, I,  0], [-1, 2, -I], [I, 1, 2]])\n",
    "M "
   ]
  },
  {
   "cell_type": "code",
   "execution_count": 37,
   "metadata": {},
   "outputs": [
    {
     "data": {
      "image/png": "[encoded data removed]",
      "text/latex": [
       "$\\displaystyle \\left[\\begin{matrix}1 & - i & 0\\\\-1 & 2 & i\\\\- i & 1 & 2\\end{matrix}\\right]$"
      ],
      "text/plain": [
       "⎡1   -ⅈ  0⎤\n",
       "⎢         ⎥\n",
       "⎢-1  2   ⅈ⎥\n",
       "⎢         ⎥\n",
       "⎣-ⅈ  1   2⎦"
      ]
     },
     "execution_count": 37,
     "metadata": {},
     "output_type": "execute_result"
    }
   ],
   "source": [
    "M.C"
   ]
  },
  {
   "cell_type": "markdown",
   "metadata": {},
   "source": [
    "El rango:"
   ]
  },
  {
   "cell_type": "code",
   "execution_count": 38,
   "metadata": {},
   "outputs": [
    {
     "data": {
      "image/png": "[encoded data removed]",
      "text/latex": [
       "$\\displaystyle 3$"
      ],
      "text/plain": [
       "3"
      ]
     },
     "execution_count": 38,
     "metadata": {},
     "output_type": "execute_result"
    }
   ],
   "source": [
    "M.rank()"
   ]
  },
  {
   "cell_type": "markdown",
   "metadata": {},
   "source": [
    "Disponemos de una función directa para $\\exp(M)$, que se entiende  como la matriz cuyo elemento $i,j$ es igual a $\\exp (M[i,j])$.\n"
   ]
  },
  {
   "cell_type": "code",
   "execution_count": 39,
   "metadata": {},
   "outputs": [
    {
     "data": {
      "image/png": "[encoded data removed]",
      "text/latex": [
       "$\\displaystyle \\left[\\begin{matrix}e & 2 e\\\\0 & e\\end{matrix}\\right]$"
      ],
      "text/plain": [
       "⎡ℯ  2⋅ℯ⎤\n",
       "⎢      ⎥\n",
       "⎣0   ℯ ⎦"
      ]
     },
     "execution_count": 39,
     "metadata": {},
     "output_type": "execute_result"
    }
   ],
   "source": [
    "R = Matrix([[1, 2], [0, 1]])\n",
    "# Para calcular la exponencial de la matriz M\n",
    "exp(R).simplify()"
   ]
  },
  {
   "cell_type": "markdown",
   "metadata": {},
   "source": [
    "Si por ejemplo, queremos calcular $(1-x)^M$ podemos hacer lo siguiente:"
   ]
  },
  {
   "cell_type": "code",
   "execution_count": 40,
   "metadata": {},
   "outputs": [
    {
     "data": {
      "image/png": "[encoded data removed]",
      "text/latex": [
       "$\\displaystyle \\left[\\begin{matrix}1 - x & \\left(1 - x\\right)^{i} & 1\\\\\\frac{1}{1 - x} & \\left(1 - x\\right)^{2} & \\left(1 - x\\right)^{- i}\\\\\\left(1 - x\\right)^{i} & 1 - x & \\left(1 - x\\right)^{2}\\end{matrix}\\right]$"
      ],
      "text/plain": [
       "⎡                 ⅈ           ⎤\n",
       "⎢ 1 - x    (1 - x)       1    ⎥\n",
       "⎢                             ⎥\n",
       "⎢   1             2         -ⅈ⎥\n",
       "⎢ ─────    (1 - x)   (1 - x)  ⎥\n",
       "⎢ 1 - x                       ⎥\n",
       "⎢                             ⎥\n",
       "⎢       ⅈ                   2 ⎥\n",
       "⎣(1 - x)    1 - x    (1 - x)  ⎦"
      ]
     },
     "execution_count": 40,
     "metadata": {},
     "output_type": "execute_result"
    }
   ],
   "source": [
    "Matrix([[(1-x)**M[i, j] for j in range(M.shape[1])] for i in range(M.shape[0])])"
   ]
  }
 ],
 "metadata": {
  "colab": {
   "collapsed_sections": [
    "HS5j074Bpqw9",
    "M6k5DaB7AMNL",
    "IZBsDTb4E7U4",
    "Hn31KOmRS9EA",
    "A3ZNaLdqWeG5",
    "5Vs06j5DdIme",
    "ujW8a0HzkNuV"
   ],
   "provenance": [
    {
     "file_id": "1YrOBd8YdJ9P2aPSTRJEnMxLdlqznqh8y",
     "timestamp": 1694038709310
    }
   ]
  },
  "kernelspec": {
   "display_name": "Python 3 (ipykernel)",
   "language": "python",
   "name": "python3"
  },
  "language_info": {
   "codemirror_mode": {
    "name": "ipython",
    "version": 3
   },
   "file_extension": ".py",
   "mimetype": "text/x-python",
   "name": "python",
   "nbconvert_exporter": "python",
   "pygments_lexer": "ipython3",
   "version": "3.11.7"
  }
 },
 "nbformat": 4,
 "nbformat_minor": 1
}

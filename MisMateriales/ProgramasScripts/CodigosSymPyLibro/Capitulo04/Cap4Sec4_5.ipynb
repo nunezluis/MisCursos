{
 "cells": [
  {
   "cell_type": "markdown",
   "metadata": {
    "id": "aleOVKzP-8kQ"
   },
   "source": [
    "En este ejercicio aprenderemos a resolver el problema de autovalores y autovectores. Primeros lo haremos de manera indirecta, realizando los cálculos por pasos, y luego utilizando las funciones específicas del programa. "
   ]
  },
  {
   "cell_type": "code",
   "execution_count": 1,
   "metadata": {
    "id": "604d4rBS80_Y"
   },
   "outputs": [],
   "source": [
    "import sympy\n",
    "from sympy import *\n",
    "init_printing()"
   ]
  },
  {
   "cell_type": "markdown",
   "metadata": {
    "id": "oLNHFfRNpqxC"
   },
   "source": [
    "1.   Dada la matriz $ \\mathbb{A}$ del primer ejemplo anteriormente resuelto:"
   ]
  },
  {
   "cell_type": "code",
   "execution_count": 2,
   "metadata": {},
   "outputs": [
    {
     "data": {
      "image/png": "[encoded data removed]",
      "text/latex": [
       "$\\displaystyle \\left[\\begin{matrix}2 & 1 & 3\\\\1 & 2 & 3\\\\3 & 3 & 20\\end{matrix}\\right]$"
      ],
      "text/plain": [
       "⎡2  1  3 ⎤\n",
       "⎢        ⎥\n",
       "⎢1  2  3 ⎥\n",
       "⎢        ⎥\n",
       "⎣3  3  20⎦"
      ]
     },
     "execution_count": 2,
     "metadata": {},
     "output_type": "execute_result"
    }
   ],
   "source": [
    "A = Matrix([[2, 1, 3], [1, 2, 3], [3, 3, 20]])\n",
    "A"
   ]
  },
  {
   "cell_type": "markdown",
   "metadata": {},
   "source": [
    "Generamos la matriz identidad $3\\times 3$."
   ]
  },
  {
   "cell_type": "code",
   "execution_count": 3,
   "metadata": {},
   "outputs": [
    {
     "data": {
      "image/png": "[encoded data removed]",
      "text/latex": [
       "$\\displaystyle \\left[\\begin{matrix}1 & 0 & 0\\\\0 & 1 & 0\\\\0 & 0 & 1\\end{matrix}\\right]$"
      ],
      "text/plain": [
       "⎡1  0  0⎤\n",
       "⎢       ⎥\n",
       "⎢0  1  0⎥\n",
       "⎢       ⎥\n",
       "⎣0  0  1⎦"
      ]
     },
     "execution_count": 3,
     "metadata": {},
     "output_type": "execute_result"
    }
   ],
   "source": [
    "I = eye(3)\n",
    "I"
   ]
  },
  {
   "cell_type": "markdown",
   "metadata": {},
   "source": [
    "Escribimos la ecuación de autovalores de manera matricial y la llamaremos $M$."
   ]
  },
  {
   "cell_type": "code",
   "execution_count": 4,
   "metadata": {},
   "outputs": [
    {
     "data": {
      "text/latex": [
       "$\\displaystyle \\left[\\begin{matrix}2 - λ & 1 & 3\\\\1 & 2 - λ & 3\\\\3 & 3 & 20 - λ\\end{matrix}\\right]$"
      ],
      "text/plain": [
       "⎡2 - λ    1      3   ⎤\n",
       "⎢                    ⎥\n",
       "⎢  1    2 - λ    3   ⎥\n",
       "⎢                    ⎥\n",
       "⎣  3      3    20 - λ⎦"
      ]
     },
     "execution_count": 4,
     "metadata": {},
     "output_type": "execute_result"
    }
   ],
   "source": [
    "λ = symbols('λ')\n",
    "M= A-λ*I\n",
    "M"
   ]
  },
  {
   "cell_type": "markdown",
   "metadata": {},
   "source": [
    "El determinante nos dará el polinomio característico, luego resolvemos para $\\lambda$."
   ]
  },
  {
   "cell_type": "code",
   "execution_count": 5,
   "metadata": {},
   "outputs": [
    {
     "data": {
      "image/png": "[encoded data removed]",
      "text/latex": [
       "$\\displaystyle - λ^{3} + 24 λ^{2} - 65 λ + 42$"
      ],
      "text/plain": [
       "   3       2            \n",
       "- λ  + 24⋅λ  - 65⋅λ + 42"
      ]
     },
     "execution_count": 5,
     "metadata": {},
     "output_type": "execute_result"
    }
   ],
   "source": [
    "M.det()"
   ]
  },
  {
   "cell_type": "code",
   "execution_count": 6,
   "metadata": {},
   "outputs": [
    {
     "data": {
      "image/png": "[encoded data removed]",
      "text/latex": [
       "$\\displaystyle \\left[ 1, \\  2, \\  21\\right]$"
      ],
      "text/plain": [
       "[1, 2, 21]"
      ]
     },
     "execution_count": 6,
     "metadata": {},
     "output_type": "execute_result"
    }
   ],
   "source": [
    "solve(_,λ)"
   ]
  },
  {
   "cell_type": "markdown",
   "metadata": {},
   "source": [
    "Los autovalores son: $ \\lambda_1=1$, $ \\lambda_2=2$ y $ \\lambda_3=21$.  \n",
    "\n",
    "Para cada autovalor evaluaremos una matriz correspondiente:"
   ]
  },
  {
   "cell_type": "code",
   "execution_count": 7,
   "metadata": {},
   "outputs": [
    {
     "data": {
      "image/png": "[encoded data removed]",
      "text/latex": [
       "$\\displaystyle \\left( \\left[\\begin{matrix}1 & 1 & 3\\\\1 & 1 & 3\\\\3 & 3 & 19\\end{matrix}\\right], \\  \\left[\\begin{matrix}0 & 1 & 3\\\\1 & 0 & 3\\\\3 & 3 & 18\\end{matrix}\\right], \\  \\left[\\begin{matrix}-19 & 1 & 3\\\\1 & -19 & 3\\\\3 & 3 & -1\\end{matrix}\\right]\\right)$"
      ],
      "text/plain": [
       "⎛⎡1  1  3 ⎤  ⎡0  1  3 ⎤  ⎡-19   1   3 ⎤⎞\n",
       "⎜⎢        ⎥  ⎢        ⎥  ⎢            ⎥⎟\n",
       "⎜⎢1  1  3 ⎥, ⎢1  0  3 ⎥, ⎢ 1   -19  3 ⎥⎟\n",
       "⎜⎢        ⎥  ⎢        ⎥  ⎢            ⎥⎟\n",
       "⎝⎣3  3  19⎦  ⎣3  3  18⎦  ⎣ 3    3   -1⎦⎠"
      ]
     },
     "execution_count": 7,
     "metadata": {},
     "output_type": "execute_result"
    }
   ],
   "source": [
    "M1=M.subs(λ,1)\n",
    "M2=M.subs(λ,2)\n",
    "M3=M.subs(λ,21)\n",
    "M1,M2,M3"
   ]
  },
  {
   "cell_type": "markdown",
   "metadata": {},
   "source": [
    "Necesitamos ahora resolver, para cada autovalor, la ecuación de autovectores: $ \\mathbb{A} \\mathbb{X}=\\lambda_i \\mathbb{X}$. Así que podemos escribir las siguientes matrices:"
   ]
  },
  {
   "cell_type": "code",
   "execution_count": 8,
   "metadata": {},
   "outputs": [
    {
     "data": {
      "image/png": "[encoded data removed]",
      "text/latex": [
       "$\\displaystyle \\left[\\begin{matrix}x + y + 3 z\\\\x + y + 3 z\\\\3 x + 3 y + 19 z\\end{matrix}\\right]$"
      ],
      "text/plain": [
       "⎡  x + y + 3⋅z   ⎤\n",
       "⎢                ⎥\n",
       "⎢  x + y + 3⋅z   ⎥\n",
       "⎢                ⎥\n",
       "⎣3⋅x + 3⋅y + 19⋅z⎦"
      ]
     },
     "execution_count": 8,
     "metadata": {},
     "output_type": "execute_result"
    }
   ],
   "source": [
    "x,y,z = symbols('x y z')\n",
    "M1=M1*Matrix([x, y,z])\n",
    "M1"
   ]
  },
  {
   "cell_type": "code",
   "execution_count": 9,
   "metadata": {},
   "outputs": [
    {
     "data": {
      "image/png": "[encoded data removed]",
      "text/latex": [
       "$\\displaystyle \\left( \\left[\\begin{matrix}y + 3 z\\\\x + 3 z\\\\3 x + 3 y + 18 z\\end{matrix}\\right], \\  \\left[\\begin{matrix}- 19 x + y + 3 z\\\\x - 19 y + 3 z\\\\3 x + 3 y - z\\end{matrix}\\right]\\right)$"
      ],
      "text/plain": [
       "⎛⎡    y + 3⋅z     ⎤  ⎡-19⋅x + y + 3⋅z⎤⎞\n",
       "⎜⎢                ⎥  ⎢               ⎥⎟\n",
       "⎜⎢    x + 3⋅z     ⎥, ⎢x - 19⋅y + 3⋅z ⎥⎟\n",
       "⎜⎢                ⎥  ⎢               ⎥⎟\n",
       "⎝⎣3⋅x + 3⋅y + 18⋅z⎦  ⎣ 3⋅x + 3⋅y - z ⎦⎠"
      ]
     },
     "execution_count": 9,
     "metadata": {},
     "output_type": "execute_result"
    }
   ],
   "source": [
    "M2=M2*Matrix([x, y,z])\n",
    "M3=M3*Matrix([x, y,z])\n",
    "M2,M3"
   ]
  },
  {
   "cell_type": "markdown",
   "metadata": {},
   "source": [
    "Debemos resolver cada uno de los sistemas de ecuaciones. \n",
    "\n",
    "Para $\\lambda_1=1$:"
   ]
  },
  {
   "cell_type": "code",
   "execution_count": 10,
   "metadata": {},
   "outputs": [
    {
     "data": {
      "image/png": "[encoded data removed]",
      "text/latex": [
       "$\\displaystyle \\left( x + y + 3 z = 0, \\  x + y + 3 z = 0, \\  3 x + 3 y + 19 z = 0\\right)$"
      ],
      "text/plain": [
       "(x + y + 3⋅z = 0, x + y + 3⋅z = 0, 3⋅x + 3⋅y + 19⋅z = 0)"
      ]
     },
     "execution_count": 10,
     "metadata": {},
     "output_type": "execute_result"
    }
   ],
   "source": [
    "ec1 =Eq(M1[0,0],0)\n",
    "ec2= Eq(M1[1,0],0)\n",
    "ec3= Eq(M1[2,0],0)\n",
    "ec1,ec2,ec3"
   ]
  },
  {
   "cell_type": "markdown",
   "metadata": {},
   "source": [
    "Resolvemos el sistema de ecuaciones"
   ]
  },
  {
   "cell_type": "code",
   "execution_count": 11,
   "metadata": {},
   "outputs": [
    {
     "data": {
      "image/png": "[encoded data removed]",
      "text/latex": [
       "$\\displaystyle \\left\\{\\left( - y, \\  y, \\  0\\right)\\right\\}$"
      ],
      "text/plain": [
       "{(-y, y, 0)}"
      ]
     },
     "execution_count": 11,
     "metadata": {},
     "output_type": "execute_result"
    }
   ],
   "source": [
    "sol = linsolve([ec1,ec2,ec3], (x, y, z))\n",
    "sol"
   ]
  },
  {
   "cell_type": "markdown",
   "metadata": {},
   "source": [
    "De las infinitas soluciones escogemos alguna de las más simples: $(1,-1,0)$. \n",
    "\n",
    "Repetimos los cálculos para el segundo autovalor, es decir,  $\\lambda_2=2$:"
   ]
  },
  {
   "cell_type": "code",
   "execution_count": 12,
   "metadata": {},
   "outputs": [
    {
     "data": {
      "image/png": "[encoded data removed]",
      "text/latex": [
       "$\\displaystyle \\left( y + 3 z = 0, \\  x + 3 z = 0, \\  3 x + 3 y + 18 z = 0\\right)$"
      ],
      "text/plain": [
       "(y + 3⋅z = 0, x + 3⋅z = 0, 3⋅x + 3⋅y + 18⋅z = 0)"
      ]
     },
     "execution_count": 12,
     "metadata": {},
     "output_type": "execute_result"
    }
   ],
   "source": [
    "ec1 =Eq(M2[0,0],0)\n",
    "ec2= Eq(M2[1,0],0)\n",
    "ec3= Eq(M2[2,0],0)\n",
    "ec1,ec2,ec3"
   ]
  },
  {
   "cell_type": "code",
   "execution_count": 13,
   "metadata": {},
   "outputs": [
    {
     "data": {
      "image/png": "[encoded data removed]",
      "text/latex": [
       "$\\displaystyle \\left\\{\\left( - 3 z, \\  - 3 z, \\  z\\right)\\right\\}$"
      ],
      "text/plain": [
       "{(-3⋅z, -3⋅z, z)}"
      ]
     },
     "execution_count": 13,
     "metadata": {},
     "output_type": "execute_result"
    }
   ],
   "source": [
    "sol = linsolve([ec1,ec2,ec3], (x, y, z))\n",
    "sol"
   ]
  },
  {
   "cell_type": "markdown",
   "metadata": {},
   "source": [
    "Por lo tanto un autovector puede ser: $(1,1,-1/3)$. \n",
    "\n",
    "Finalmente, para $\\lambda_3=21$:"
   ]
  },
  {
   "cell_type": "code",
   "execution_count": 14,
   "metadata": {},
   "outputs": [
    {
     "data": {
      "image/png": "[encoded data removed]",
      "text/latex": [
       "$\\displaystyle \\left( - 19 x + y + 3 z = 0, \\  x - 19 y + 3 z = 0, \\  3 x + 3 y - z = 0\\right)$"
      ],
      "text/plain": [
       "(-19⋅x + y + 3⋅z = 0, x - 19⋅y + 3⋅z = 0, 3⋅x + 3⋅y - z = 0)"
      ]
     },
     "execution_count": 14,
     "metadata": {},
     "output_type": "execute_result"
    }
   ],
   "source": [
    "ec1 =Eq(M3[0,0],0)\n",
    "ec2= Eq(M3[1,0],0)\n",
    "ec3= Eq(M3[2,0],0)\n",
    "ec1,ec2,ec3"
   ]
  },
  {
   "cell_type": "code",
   "execution_count": 15,
   "metadata": {},
   "outputs": [
    {
     "data": {
      "image/png": "[encoded data removed]",
      "text/latex": [
       "$\\displaystyle \\left\\{\\left( \\frac{z}{6}, \\  \\frac{z}{6}, \\  z\\right)\\right\\}$"
      ],
      "text/plain": [
       "⎧⎛z  z   ⎞⎫\n",
       "⎨⎜─, ─, z⎟⎬\n",
       "⎩⎝6  6   ⎠⎭"
      ]
     },
     "execution_count": 15,
     "metadata": {},
     "output_type": "execute_result"
    }
   ],
   "source": [
    "sol = linsolve([ec1,ec2,ec3], (x, y, z))\n",
    "sol"
   ]
  },
  {
   "cell_type": "markdown",
   "metadata": {},
   "source": [
    "Podemos tomar como autovector a: $(1,1,6)$. "
   ]
  },
  {
   "cell_type": "markdown",
   "metadata": {},
   "source": [
    "2. Sympy ofrece la posibilidad de resolver el problema de autovalores a través de un determinado número de funciones propias. Para hallar el polinomio característico podemos escribir:"
   ]
  },
  {
   "cell_type": "code",
   "execution_count": 16,
   "metadata": {},
   "outputs": [
    {
     "data": {
      "image/png": "[encoded data removed]",
      "text/latex": [
       "$\\displaystyle \\operatorname{PurePoly}{\\left( \\lambda^{3} - 24 \\lambda^{2} + 65 \\lambda - 42, \\lambda, domain=\\mathbb{Z} \\right)}$"
      ],
      "text/plain": [
       "PurePoly(lambda**3 - 24*lambda**2 + 65*lambda - 42, lambda, domain='ZZ')"
      ]
     },
     "execution_count": 16,
     "metadata": {},
     "output_type": "execute_result"
    }
   ],
   "source": [
    "poli_car = A.charpoly()\n",
    "poli_car"
   ]
  },
  {
   "cell_type": "code",
   "execution_count": 17,
   "metadata": {},
   "outputs": [
    {
     "data": {
      "image/png": "[encoded data removed]",
      "text/latex": [
       "$\\displaystyle \\lambda^{3} - 24 \\lambda^{2} + 65 \\lambda - 42$"
      ],
      "text/plain": [
       " 3       2            \n",
       "λ  - 24⋅λ  + 65⋅λ - 42"
      ]
     },
     "execution_count": 17,
     "metadata": {},
     "output_type": "execute_result"
    }
   ],
   "source": [
    "A.charpoly().as_expr()"
   ]
  },
  {
   "cell_type": "code",
   "execution_count": 18,
   "metadata": {},
   "outputs": [
    {
     "data": {
      "image/png": "[encoded data removed]",
      "text/latex": [
       "$\\displaystyle \\left(\\lambda - 21\\right) \\left(\\lambda - 2\\right) \\left(\\lambda - 1\\right)$"
      ],
      "text/plain": [
       "(λ - 21)⋅(λ - 2)⋅(λ - 1)"
      ]
     },
     "execution_count": 18,
     "metadata": {},
     "output_type": "execute_result"
    }
   ],
   "source": [
    "factor(_)"
   ]
  },
  {
   "cell_type": "markdown",
   "metadata": {},
   "source": [
    "El programa también permite obtener los autovalores directamente de la matriz problema. \n",
    "\n",
    "Para encontrar los valores propios de una matriz, se utiliza \"eigenvals\", esto  devuelve un diccionario de valores propios: pares algebraicos_multiplicidad (similar a la salida de raíces)."
   ]
  },
  {
   "cell_type": "code",
   "execution_count": 19,
   "metadata": {},
   "outputs": [
    {
     "data": {
      "image/png": "[encoded data removed]",
      "text/latex": [
       "$\\displaystyle \\left\\{ 1 : 1, \\  2 : 1, \\  21 : 1\\right\\}$"
      ],
      "text/plain": [
       "{1: 1, 2: 1, 21: 1}"
      ]
     },
     "execution_count": 19,
     "metadata": {},
     "output_type": "execute_result"
    }
   ],
   "source": [
    "A.eigenvals()"
   ]
  },
  {
   "cell_type": "markdown",
   "metadata": {},
   "source": [
    "Para encontrar los vectores propios de una matriz, se utiliza \"eigenvects\" que devuelve una lista de tuplas de la forma:\n",
    "\n",
    " (autovector, multiplicidad_algebraica, [vectores propios])."
   ]
  },
  {
   "cell_type": "code",
   "execution_count": 20,
   "metadata": {},
   "outputs": [
    {
     "data": {
      "image/png": "[encoded data removed]",
      "text/latex": [
       "$\\displaystyle \\left[ \\left( 1, \\  1, \\  \\left[ \\left[\\begin{matrix}-1\\\\1\\\\0\\end{matrix}\\right]\\right]\\right), \\  \\left( 2, \\  1, \\  \\left[ \\left[\\begin{matrix}-3\\\\-3\\\\1\\end{matrix}\\right]\\right]\\right), \\  \\left( 21, \\  1, \\  \\left[ \\left[\\begin{matrix}\\frac{1}{6}\\\\\\frac{1}{6}\\\\1\\end{matrix}\\right]\\right]\\right)\\right]$"
      ],
      "text/plain": [
       "⎡⎛      ⎡⎡-1⎤⎤⎞  ⎛      ⎡⎡-3⎤⎤⎞  ⎛       ⎡⎡1/6⎤⎤⎞⎤\n",
       "⎢⎜      ⎢⎢  ⎥⎥⎟  ⎜      ⎢⎢  ⎥⎥⎟  ⎜       ⎢⎢   ⎥⎥⎟⎥\n",
       "⎢⎜1, 1, ⎢⎢1 ⎥⎥⎟, ⎜2, 1, ⎢⎢-3⎥⎥⎟, ⎜21, 1, ⎢⎢1/6⎥⎥⎟⎥\n",
       "⎢⎜      ⎢⎢  ⎥⎥⎟  ⎜      ⎢⎢  ⎥⎥⎟  ⎜       ⎢⎢   ⎥⎥⎟⎥\n",
       "⎣⎝      ⎣⎣0 ⎦⎦⎠  ⎝      ⎣⎣1 ⎦⎦⎠  ⎝       ⎣⎣ 1 ⎦⎦⎠⎦"
      ]
     },
     "execution_count": 20,
     "metadata": {},
     "output_type": "execute_result"
    }
   ],
   "source": [
    "A.eigenvects()"
   ]
  },
  {
   "cell_type": "markdown",
   "metadata": {},
   "source": [
    "3. Consideremos otro de los ejemplos tratado anteriormente. Dada la matriz:"
   ]
  },
  {
   "cell_type": "code",
   "execution_count": 21,
   "metadata": {},
   "outputs": [
    {
     "data": {
      "image/png": "[encoded data removed]",
      "text/latex": [
       "$\\displaystyle \\left[\\begin{matrix}4 & -3 & 1\\\\4 & -1 & 0\\\\1 & 7 & -4\\end{matrix}\\right]$"
      ],
      "text/plain": [
       "⎡4  -3  1 ⎤\n",
       "⎢         ⎥\n",
       "⎢4  -1  0 ⎥\n",
       "⎢         ⎥\n",
       "⎣1  7   -4⎦"
      ]
     },
     "execution_count": 21,
     "metadata": {},
     "output_type": "execute_result"
    }
   ],
   "source": [
    "B = Matrix([[4, -3, 1], [4, -1, 0], [1, 7, -4]])\n",
    "B"
   ]
  },
  {
   "cell_type": "code",
   "execution_count": 22,
   "metadata": {},
   "outputs": [
    {
     "data": {
      "image/png": "[encoded data removed]",
      "text/latex": [
       "$\\displaystyle \\left(\\lambda - 1\\right)^{2} \\left(\\lambda + 3\\right)$"
      ],
      "text/plain": [
       "       2        \n",
       "(λ - 1) ⋅(λ + 3)"
      ]
     },
     "execution_count": 22,
     "metadata": {},
     "output_type": "execute_result"
    }
   ],
   "source": [
    "B.charpoly().as_expr().factor()"
   ]
  },
  {
   "cell_type": "code",
   "execution_count": 23,
   "metadata": {},
   "outputs": [
    {
     "data": {
      "image/png": "[encoded data removed]",
      "text/latex": [
       "$\\displaystyle \\left\\{ -3 : 1, \\  1 : 2\\right\\}$"
      ],
      "text/plain": [
       "{-3: 1, 1: 2}"
      ]
     },
     "execution_count": 23,
     "metadata": {},
     "output_type": "execute_result"
    }
   ],
   "source": [
    "B.eigenvals()"
   ]
  },
  {
   "cell_type": "code",
   "execution_count": 24,
   "metadata": {},
   "outputs": [
    {
     "data": {
      "image/png": "[encoded data removed]",
      "text/latex": [
       "$\\displaystyle \\left[ \\left( -3, \\  1, \\  \\left[ \\left[\\begin{matrix}- \\frac{1}{13}\\\\\\frac{2}{13}\\\\1\\end{matrix}\\right]\\right]\\right), \\  \\left( 1, \\  2, \\  \\left[ \\left[\\begin{matrix}\\frac{1}{3}\\\\\\frac{2}{3}\\\\1\\end{matrix}\\right]\\right]\\right)\\right]$"
      ],
      "text/plain": [
       "⎡⎛       ⎡⎡-1/13⎤⎤⎞  ⎛      ⎡⎡1/3⎤⎤⎞⎤\n",
       "⎢⎜       ⎢⎢     ⎥⎥⎟  ⎜      ⎢⎢   ⎥⎥⎟⎥\n",
       "⎢⎜-3, 1, ⎢⎢2/13 ⎥⎥⎟, ⎜1, 2, ⎢⎢2/3⎥⎥⎟⎥\n",
       "⎢⎜       ⎢⎢     ⎥⎥⎟  ⎜      ⎢⎢   ⎥⎥⎟⎥\n",
       "⎣⎝       ⎣⎣  1  ⎦⎦⎠  ⎝      ⎣⎣ 1 ⎦⎦⎠⎦"
      ]
     },
     "execution_count": 24,
     "metadata": {},
     "output_type": "execute_result"
    }
   ],
   "source": [
    "B.eigenvects()"
   ]
  },
  {
   "cell_type": "markdown",
   "metadata": {},
   "source": [
    "Notemos que sólo se obtienen dos autovectores. "
   ]
  },
  {
   "cell_type": "markdown",
   "metadata": {},
   "source": [
    "5. Consideremos la matriz: "
   ]
  },
  {
   "cell_type": "code",
   "execution_count": 25,
   "metadata": {},
   "outputs": [
    {
     "data": {
      "image/png": "[encoded data removed]",
      "text/latex": [
       "$\\displaystyle \\left[\\begin{matrix}1 & 2 & 3\\\\3 & 1 & 2\\\\2 & 3 & 1\\end{matrix}\\right]$"
      ],
      "text/plain": [
       "⎡1  2  3⎤\n",
       "⎢       ⎥\n",
       "⎢3  1  2⎥\n",
       "⎢       ⎥\n",
       "⎣2  3  1⎦"
      ]
     },
     "execution_count": 25,
     "metadata": {},
     "output_type": "execute_result"
    }
   ],
   "source": [
    "D = Matrix([[1, 2, 3], [3, 1, 2], [2, 3, 1]])\n",
    "D"
   ]
  },
  {
   "cell_type": "code",
   "execution_count": 26,
   "metadata": {},
   "outputs": [
    {
     "data": {
      "image/png": "[encoded data removed]",
      "text/latex": [
       "$\\displaystyle \\left(\\lambda - 6\\right) \\left(\\lambda^{2} + 3 \\lambda + 3\\right)$"
      ],
      "text/plain": [
       "        ⎛ 2          ⎞\n",
       "(λ - 6)⋅⎝λ  + 3⋅λ + 3⎠"
      ]
     },
     "execution_count": 26,
     "metadata": {},
     "output_type": "execute_result"
    }
   ],
   "source": [
    "D.charpoly().as_expr().factor()"
   ]
  },
  {
   "cell_type": "code",
   "execution_count": 27,
   "metadata": {},
   "outputs": [
    {
     "data": {
      "image/png": "[encoded data removed]",
      "text/latex": [
       "$\\displaystyle \\left\\{ 6 : 1, \\  - \\frac{3}{2} - \\frac{\\sqrt{3} i}{2} : 1, \\  - \\frac{3}{2} + \\frac{\\sqrt{3} i}{2} : 1\\right\\}$"
      ],
      "text/plain": [
       "⎧        3   √3⋅ⅈ       3   √3⋅ⅈ   ⎫\n",
       "⎨6: 1, - ─ - ────: 1, - ─ + ────: 1⎬\n",
       "⎩        2    2         2    2     ⎭"
      ]
     },
     "execution_count": 27,
     "metadata": {},
     "output_type": "execute_result"
    }
   ],
   "source": [
    "D.eigenvals()"
   ]
  },
  {
   "cell_type": "code",
   "execution_count": 28,
   "metadata": {},
   "outputs": [
    {
     "data": {
      "image/png": "[encoded data removed]",
      "text/latex": [
       "$\\displaystyle \\left[ \\left( 6, \\  1, \\  \\left[ \\left[\\begin{matrix}1\\\\1\\\\1\\end{matrix}\\right]\\right]\\right), \\  \\left( - \\frac{3}{2} - \\frac{\\sqrt{3} i}{2}, \\  1, \\  \\left[ \\left[\\begin{matrix}- \\frac{1}{2} + \\frac{\\sqrt{3} i}{2}\\\\- \\frac{1}{2} - \\frac{\\sqrt{3} i}{2}\\\\1\\end{matrix}\\right]\\right]\\right), \\  \\left( - \\frac{3}{2} + \\frac{\\sqrt{3} i}{2}, \\  1, \\  \\left[ \\left[\\begin{matrix}- \\frac{1}{2} - \\frac{\\sqrt{3} i}{2}\\\\- \\frac{1}{2} + \\frac{\\sqrt{3} i}{2}\\\\1\\end{matrix}\\right]\\right]\\right)\\right]$"
      ],
      "text/plain": [
       "⎡               ⎛               ⎡⎡  1   √3⋅ⅈ⎤⎤⎞  ⎛               ⎡⎡  1   √3⋅ⅈ⎤\n",
       "⎢               ⎜               ⎢⎢- ─ + ────⎥⎥⎟  ⎜               ⎢⎢- ─ - ────⎥\n",
       "⎢⎛      ⎡⎡1⎤⎤⎞  ⎜               ⎢⎢  2    2  ⎥⎥⎟  ⎜               ⎢⎢  2    2  ⎥\n",
       "⎢⎜      ⎢⎢ ⎥⎥⎟  ⎜  3   √3⋅ⅈ     ⎢⎢          ⎥⎥⎟  ⎜  3   √3⋅ⅈ     ⎢⎢          ⎥\n",
       "⎢⎜6, 1, ⎢⎢1⎥⎥⎟, ⎜- ─ - ────, 1, ⎢⎢  1   √3⋅ⅈ⎥⎥⎟, ⎜- ─ + ────, 1, ⎢⎢  1   √3⋅ⅈ⎥\n",
       "⎢⎜      ⎢⎢ ⎥⎥⎟  ⎜  2    2       ⎢⎢- ─ - ────⎥⎥⎟  ⎜  2    2       ⎢⎢- ─ + ────⎥\n",
       "⎢⎝      ⎣⎣1⎦⎦⎠  ⎜               ⎢⎢  2    2  ⎥⎥⎟  ⎜               ⎢⎢  2    2  ⎥\n",
       "⎢               ⎜               ⎢⎢          ⎥⎥⎟  ⎜               ⎢⎢          ⎥\n",
       "⎣               ⎝               ⎣⎣    1     ⎦⎦⎠  ⎝               ⎣⎣    1     ⎦\n",
       "\n",
       "⎤⎞⎤\n",
       "⎥⎟⎥\n",
       "⎥⎟⎥\n",
       "⎥⎟⎥\n",
       "⎥⎟⎥\n",
       "⎥⎟⎥\n",
       "⎥⎟⎥\n",
       "⎥⎟⎥\n",
       "⎦⎠⎦"
      ]
     },
     "execution_count": 28,
     "metadata": {},
     "output_type": "execute_result"
    }
   ],
   "source": [
    "D.eigenvects()"
   ]
  }
 ],
 "metadata": {
  "colab": {
   "collapsed_sections": [
    "HS5j074Bpqw9",
    "M6k5DaB7AMNL",
    "IZBsDTb4E7U4",
    "Hn31KOmRS9EA",
    "A3ZNaLdqWeG5",
    "5Vs06j5DdIme",
    "ujW8a0HzkNuV"
   ],
   "provenance": [
    {
     "file_id": "1YrOBd8YdJ9P2aPSTRJEnMxLdlqznqh8y",
     "timestamp": 1694038709310
    }
   ]
  },
  "kernelspec": {
   "display_name": "Python 3 (ipykernel)",
   "language": "python",
   "name": "python3"
  },
  "language_info": {
   "codemirror_mode": {
    "name": "ipython",
    "version": 3
   },
   "file_extension": ".py",
   "mimetype": "text/x-python",
   "name": "python",
   "nbconvert_exporter": "python",
   "pygments_lexer": "ipython3",
   "version": "3.11.7"
  }
 },
 "nbformat": 4,
 "nbformat_minor": 1
}

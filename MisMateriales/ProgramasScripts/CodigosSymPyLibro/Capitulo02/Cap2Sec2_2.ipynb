{
 "cells": [
  {
   "cell_type": "markdown",
   "metadata": {
    "id": "aleOVKzP-8kQ"
   },
   "source": [
    "## Espacios y subespacios vectoriales  \n",
    "\n",
    "Sea el espacio vectorial $\\textbf{V}=\\textbf{K}^n$, definido en $\\textbf{K}=\\textbf{R}$ y donde $n$ es un entero positivo. Consideremos el caso $n=4$.\n",
    "\n",
    "El producto de un elemento de $\\textbf{K}^4$, digamos $\\left| x \\right>=(x_1, x_2, x_3, x_4)$ por un escalar $\\alpha \\in \\textbf{K}$ resulta en otro elemento de $\\textbf{K}^4$. "
   ]
  },
  {
   "cell_type": "code",
   "execution_count": 1,
   "metadata": {
    "id": "604d4rBS80_Y"
   },
   "outputs": [],
   "source": [
    "import sympy\n",
    "from sympy import *"
   ]
  },
  {
   "cell_type": "markdown",
   "metadata": {
    "id": "oLNHFfRNpqxC"
   },
   "source": [
    "Primero introducimos los elementos como matrices filas"
   ]
  },
  {
   "cell_type": "code",
   "execution_count": 2,
   "metadata": {
    "id": "KBflbZBnpqxC"
   },
   "outputs": [],
   "source": [
    "x1,x2,x3,x4,y1,y2,y3,y4,z1,z2,z3,z4 = symbols('x1 x2 x3 x4 y1 y2 y3 y4 z1 z2 z3 z4')\n",
    "α, β = symbols('α β')\n",
    "X= Matrix([[x1,x2,x3,x4]]) \n",
    "Y= Matrix([[y1,y2,y3,y4]]) \n",
    "Z= Matrix([[z1,z2,z3,z4]])  "
   ]
  },
  {
   "cell_type": "markdown",
   "metadata": {},
   "source": [
    "O directamente usando las llaves"
   ]
  },
  {
   "cell_type": "code",
   "execution_count": 3,
   "metadata": {},
   "outputs": [
    {
     "data": {
      "text/latex": [
       "$\\displaystyle \\left[\\begin{matrix}x_{1} α & x_{2} α & x_{3} α & x_{4} α\\end{matrix}\\right] = \\left[\\begin{matrix}y_{1} & y_{2} & y_{3} & y_{4}\\end{matrix}\\right]$"
      ],
      "text/plain": [
       "Eq(Matrix([[x1*α, x2*α, x3*α, x4*α]]), Matrix([[y1, y2, y3, y4]]))"
      ]
     },
     "execution_count": 3,
     "metadata": {},
     "output_type": "execute_result"
    }
   ],
   "source": [
    "Eq(α*X, Y)"
   ]
  },
  {
   "cell_type": "markdown",
   "metadata": {},
   "source": [
    "El resultado es un elemento del espacio vectorial $\\textbf{K}^4$.\n",
    "\n",
    "La suma de $\\left| x \\right>=(x_1, x_2, x_3, x_4)$ y $\\left| y \\right>=(y_1, y_2, y_3, y_4)$ será:"
   ]
  },
  {
   "cell_type": "code",
   "execution_count": 4,
   "metadata": {
    "id": "gKVSMC2sCM_g"
   },
   "outputs": [
    {
     "data": {
      "text/latex": [
       "$\\displaystyle \\left[\\begin{matrix}x_{1} + y_{1} & x_{2} + y_{2} & x_{3} + y_{3} & x_{4} + y_{4}\\end{matrix}\\right] = \\left[\\begin{matrix}z_{1} & z_{2} & z_{3} & z_{4}\\end{matrix}\\right]$"
      ],
      "text/plain": [
       "Eq(Matrix([[x1 + y1, x2 + y2, x3 + y3, x4 + y4]]), Matrix([[z1, z2, z3, z4]]))"
      ]
     },
     "execution_count": 4,
     "metadata": {},
     "output_type": "execute_result"
    }
   ],
   "source": [
    "Eq(X +Y,Z)"
   ]
  },
  {
   "cell_type": "markdown",
   "metadata": {
    "id": "YmITKKB7FeAC"
   },
   "source": [
    "con $(z_1 ,  z_2 ,  z_3,  z_4) \\in \\textbf{K}^4$. \n",
    "\n",
    "Podemos ver rápidamente que el conjunto  de vectores que tienen la forma  $(x_1,  x_2,  x_3,  0)$ conforman un subespacio de  $\\textbf{K}^4$, ya que:"
   ]
  },
  {
   "cell_type": "code",
   "execution_count": 5,
   "metadata": {
    "id": "2z0arWTa55G8"
   },
   "outputs": [],
   "source": [
    "X[0, 3] = 0\n",
    "Y[0, 3] = 0\n",
    "Z[0, 3] = 0"
   ]
  },
  {
   "cell_type": "code",
   "execution_count": 6,
   "metadata": {},
   "outputs": [
    {
     "name": "stdout",
     "output_type": "stream",
     "text": [
      "X = Matrix([[x1, x2, x3, 0]])\n",
      "Y = Matrix([[y1, y2, y3, 0]])\n",
      "Z = Matrix([[z1, z2, z3, 0]])\n"
     ]
    }
   ],
   "source": [
    "print(\"X =\", X)\n",
    "print(\"Y =\", Y)\n",
    "print(\"Z =\", Z)"
   ]
  },
  {
   "cell_type": "markdown",
   "metadata": {},
   "source": [
    "Operaciones elementales con conjuntos:"
   ]
  },
  {
   "cell_type": "code",
   "execution_count": 7,
   "metadata": {},
   "outputs": [
    {
     "data": {
      "text/latex": [
       "$\\displaystyle \\left[\\begin{matrix}x_{1} α + y_{1} β & x_{2} α + y_{2} β & x_{3} α + y_{3} β & 0\\end{matrix}\\right] = \\left[\\begin{matrix}z_{1} & z_{2} & z_{3} & 0\\end{matrix}\\right]$"
      ],
      "text/plain": [
       "Eq(Matrix([[x1*α + y1*β, x2*α + y2*β, x3*α + y3*β, 0]]), Matrix([[z1, z2, z3, 0]]))"
      ]
     },
     "execution_count": 7,
     "metadata": {},
     "output_type": "execute_result"
    }
   ],
   "source": [
    "Eq(α*X+β*Y,Z)"
   ]
  },
  {
   "cell_type": "markdown",
   "metadata": {},
   "source": [
    "Para recobrar las variables $x_4,y_4,z_4$ escribimos:"
   ]
  },
  {
   "cell_type": "code",
   "execution_count": 8,
   "metadata": {
    "id": "bJH9T86bEKNP"
   },
   "outputs": [],
   "source": [
    "X[0, 3] = x4\n",
    "Y[0, 3] = y4\n",
    "Z[0, 3] = z4"
   ]
  },
  {
   "cell_type": "code",
   "execution_count": 9,
   "metadata": {},
   "outputs": [
    {
     "name": "stdout",
     "output_type": "stream",
     "text": [
      "X = Matrix([[x1, x2, x3, x4]])\n",
      "Y = Matrix([[y1, y2, y3, y4]])\n",
      "Z = Matrix([[z1, z2, z3, z4]])\n"
     ]
    }
   ],
   "source": [
    "print(\"X =\", X)\n",
    "print(\"Y =\", Y)\n",
    "print(\"Z =\", Z)"
   ]
  },
  {
   "cell_type": "markdown",
   "metadata": {},
   "source": [
    "El producto interno entre vectores es"
   ]
  },
  {
   "cell_type": "code",
   "execution_count": 10,
   "metadata": {},
   "outputs": [
    {
     "data": {
      "text/latex": [
       "$\\displaystyle x_{1} y_{1} + x_{2} y_{2} + x_{3} y_{3} + x_{4} y_{4}$"
      ],
      "text/plain": [
       "x1*y1 + x2*y2 + x3*y3 + x4*y4"
      ]
     },
     "execution_count": 10,
     "metadata": {},
     "output_type": "execute_result"
    }
   ],
   "source": [
    "X.dot(Y)"
   ]
  },
  {
   "cell_type": "markdown",
   "metadata": {},
   "source": [
    "Consideremos ahora  $\\textbf{V}=\\textbf{K}^n$, definido en $\\textbf{K}=\\textbf{C}$, con $n=3$. \n",
    "\n",
    "Por lo tanto, los vectores serán ahora de la siguiente forma: $z=(x_1+iy_1, x_2+iy_2, x_3+iy_3)$. "
   ]
  },
  {
   "cell_type": "code",
   "execution_count": 11,
   "metadata": {},
   "outputs": [],
   "source": [
    "u1,u2,u3,v1,v2,v3 = symbols('u1 u2 u3 v1 v2 v3')\n",
    "\n",
    "Z1= Matrix([[x1+I*y1 ,x2+I*y2,x3+I*y3]]) \n",
    "Z2= Matrix([[u1+I*v1 ,u2+I*v2,u3+I*v3]]) "
   ]
  },
  {
   "cell_type": "code",
   "execution_count": 12,
   "metadata": {},
   "outputs": [
    {
     "name": "stdout",
     "output_type": "stream",
     "text": [
      "Z1 = Matrix([[x1 + I*y1, x2 + I*y2, x3 + I*y3]])\n",
      "Z2 = Matrix([[u1 + I*v1, u2 + I*v2, u3 + I*v3]])\n"
     ]
    }
   ],
   "source": [
    "print(\"Z1 =\", Z1)\n",
    "print(\"Z2 =\", Z2)"
   ]
  },
  {
   "cell_type": "markdown",
   "metadata": {},
   "source": [
    "Y los escalares de la forma $\\alpha=a+ib$."
   ]
  },
  {
   "cell_type": "code",
   "execution_count": 13,
   "metadata": {},
   "outputs": [],
   "source": [
    "a,b = symbols('a b')\n",
    "α= a+I*b"
   ]
  },
  {
   "cell_type": "markdown",
   "metadata": {},
   "source": [
    "El producto por el escalar $\\alpha$ es:"
   ]
  },
  {
   "cell_type": "code",
   "execution_count": 14,
   "metadata": {},
   "outputs": [
    {
     "data": {
      "text/latex": [
       "$\\displaystyle \\left[\\begin{matrix}\\left(a + i b\\right) \\left(x_{1} + i y_{1}\\right) & \\left(a + i b\\right) \\left(x_{2} + i y_{2}\\right) & \\left(a + i b\\right) \\left(x_{3} + i y_{3}\\right)\\end{matrix}\\right]$"
      ],
      "text/plain": [
       "Matrix([[(a + I*b)*(x1 + I*y1), (a + I*b)*(x2 + I*y2), (a + I*b)*(x3 + I*y3)]])"
      ]
     },
     "execution_count": 14,
     "metadata": {},
     "output_type": "execute_result"
    }
   ],
   "source": [
    "Z3 = α*Z1\n",
    "Z3"
   ]
  },
  {
   "cell_type": "markdown",
   "metadata": {},
   "source": [
    "El primer elemento de este vecor es:"
   ]
  },
  {
   "cell_type": "code",
   "execution_count": 15,
   "metadata": {},
   "outputs": [
    {
     "data": {
      "text/latex": [
       "$\\displaystyle a x_{1} - b y_{1} + i \\left(a y_{1} + b x_{1}\\right)$"
      ],
      "text/plain": [
       "a*x1 - b*y1 + I*(a*y1 + b*x1)"
      ]
     },
     "execution_count": 15,
     "metadata": {},
     "output_type": "execute_result"
    }
   ],
   "source": [
    "factor(Z3[0,0].expand(),I)"
   ]
  },
  {
   "cell_type": "markdown",
   "metadata": {},
   "source": [
    "Calculemos ahora el producto interno: \n",
    "$$\n",
    "Z_1 \\cdot Z_2=(x_1+iy_1)(u_1+iv_1)+(x_2+iy_2)(u_2+iv_2)+(x_3+iy_3)(u_3+iv_3)\\,.\n",
    "$$"
   ]
  },
  {
   "cell_type": "code",
   "execution_count": 16,
   "metadata": {},
   "outputs": [
    {
     "data": {
      "text/latex": [
       "$\\displaystyle u_{1} x_{1} + u_{2} x_{2} + u_{3} x_{3} - v_{1} y_{1} - v_{2} y_{2} - v_{3} y_{3} + i \\left(u_{1} y_{1} + u_{2} y_{2} + u_{3} y_{3} + v_{1} x_{1} + v_{2} x_{2} + v_{3} x_{3}\\right)$"
      ],
      "text/plain": [
       "u1*x1 + u2*x2 + u3*x3 - v1*y1 - v2*y2 - v3*y3 + I*(u1*y1 + u2*y2 + u3*y3 + v1*x1 + v2*x2 + v3*x3)"
      ]
     },
     "execution_count": 16,
     "metadata": {},
     "output_type": "execute_result"
    }
   ],
   "source": [
    "Z4=Z1.dot(Z2)\n",
    "factor(Z4,I)"
   ]
  },
  {
   "cell_type": "markdown",
   "metadata": {},
   "source": [
    "## Producto de polinomios \n",
    "\n",
    "Consideremos el siguiente producto escalar entre elementos de un espacio vectorial de polinomios:\n",
    "$$\n",
    "\\left<p_i\\right. \\left|p_j\\right> = \\int_{a}^{b}p_i(x)p_j(x)\\mathrm{d}x \\,.\n",
    "$$\n",
    "\n",
    "Vamos a encontrar la distancia y el ángulo entre los vectores $\\left|{x}_1 \\right> = x(x-1)$ y $\\left|{x}_2\\right> =x$ en dos intervalos diferentes: $\\left[ 0,1\\right] $ y $\\left[ -1,1 \\right]$\n",
    "\n",
    "Debemos introducir los objetos a multiplicar:"
   ]
  },
  {
   "cell_type": "code",
   "execution_count": 17,
   "metadata": {},
   "outputs": [],
   "source": [
    "x = symbols('x')\n",
    "P1=x*(x-1)\n",
    "P2=x"
   ]
  },
  {
   "cell_type": "markdown",
   "metadata": {},
   "source": [
    "Ahora calculamos las distancias entre los vectores para ambos intervalos. Haremos gala de algunas posibilidades que ofrece el programa para escribir las expresiones."
   ]
  },
  {
   "cell_type": "code",
   "execution_count": 18,
   "metadata": {},
   "outputs": [
    {
     "data": {
      "text/latex": [
       "$\\displaystyle \\sqrt{\\int\\limits_{-1}^{1} \\left(x \\left(x - 1\\right) - x\\right)^{2}\\, dx} = \\frac{\\sqrt{690}}{15}$"
      ],
      "text/plain": [
       "Eq(sqrt(Integral((x*(x - 1) - x)**2, (x, -1, 1))), sqrt(690)/15)"
      ]
     },
     "execution_count": 18,
     "metadata": {},
     "output_type": "execute_result"
    }
   ],
   "source": [
    "Eq(sqrt(Integral(((P1-P2)**2),(x,-1,1))),sqrt(integrate(((P1-P2)**2),(x,-1,1))))"
   ]
  },
  {
   "cell_type": "code",
   "execution_count": 19,
   "metadata": {},
   "outputs": [
    {
     "data": {
      "text/latex": [
       "$\\displaystyle \\sqrt{\\int\\limits_{0}^{1} \\left(x \\left(x - 1\\right) - x\\right)^{2}\\, dx} = \\frac{2 \\sqrt{30}}{15}$"
      ],
      "text/plain": [
       "Eq(sqrt(Integral((x*(x - 1) - x)**2, (x, 0, 1))), 2*sqrt(30)/15)"
      ]
     },
     "execution_count": 19,
     "metadata": {},
     "output_type": "execute_result"
    }
   ],
   "source": [
    "Eq(sqrt(Integral(((P1-P2)**2),(x,0,1))),sqrt(integrate(((P1-P2)**2),(x,0,1))))"
   ]
  },
  {
   "cell_type": "code",
   "execution_count": 20,
   "metadata": {},
   "outputs": [
    {
     "data": {
      "text/latex": [
       "$\\displaystyle \\frac{\\sqrt{690}}{15}$"
      ],
      "text/plain": [
       "sqrt(690)/15"
      ]
     },
     "execution_count": 20,
     "metadata": {},
     "output_type": "execute_result"
    }
   ],
   "source": [
    "sqrt(46)/sqrt(15)"
   ]
  },
  {
   "cell_type": "code",
   "execution_count": 21,
   "metadata": {},
   "outputs": [
    {
     "data": {
      "text/latex": [
       "$\\displaystyle \\frac{\\int\\limits_{-1}^{1} x^{2} \\left(x - 1\\right)\\, dx}{\\left(\\sqrt{\\int\\limits_{-1}^{1} x^{2}\\, dx}\\right) \\sqrt{\\int\\limits_{-1}^{1} x^{2} \\left(x - 1\\right)^{2}\\, dx}}$"
      ],
      "text/plain": [
       "Integral(x**2*(x - 1), (x, -1, 1))/(sqrt(Integral(x**2, (x, -1, 1)))*sqrt(Integral(x**2*(x - 1)**2, (x, -1, 1))))"
      ]
     },
     "execution_count": 21,
     "metadata": {},
     "output_type": "execute_result"
    }
   ],
   "source": [
    "Integral(((P1*P2)),(x,-1,1))/(sqrt(Integral(((P1*P1)),(x,-1,1))) * sqrt(Integral(((P2*P2)),(x,-1,1)) ) )"
   ]
  },
  {
   "cell_type": "code",
   "execution_count": 22,
   "metadata": {},
   "outputs": [
    {
     "data": {
      "text/latex": [
       "$\\displaystyle - \\frac{\\sqrt{10}}{4}$"
      ],
      "text/plain": [
       "-sqrt(10)/4"
      ]
     },
     "execution_count": 22,
     "metadata": {},
     "output_type": "execute_result"
    }
   ],
   "source": [
    "(_).doit()"
   ]
  },
  {
   "cell_type": "code",
   "execution_count": 23,
   "metadata": {},
   "outputs": [
    {
     "data": {
      "text/latex": [
       "$\\displaystyle 2.48253461776338$"
      ],
      "text/plain": [
       "2.48253461776338"
      ]
     },
     "execution_count": 23,
     "metadata": {},
     "output_type": "execute_result"
    }
   ],
   "source": [
    "(acos(_)).evalf()"
   ]
  },
  {
   "cell_type": "markdown",
   "metadata": {},
   "source": [
    "Y ahora, el ángulo entre los polinomios definidos en el intervalo $\\left[ 0,1 \\right]$:"
   ]
  },
  {
   "cell_type": "code",
   "execution_count": 24,
   "metadata": {},
   "outputs": [],
   "source": [
    "N=Integral(((P1*P2)),(x,0,1))/(sqrt(Integral(((P1*P1)),(x,0,1))) * sqrt(Integral(((P2*P2)),(x,0,1)) ) )"
   ]
  },
  {
   "cell_type": "code",
   "execution_count": 25,
   "metadata": {},
   "outputs": [
    {
     "data": {
      "text/latex": [
       "$\\displaystyle \\frac{\\int\\limits_{0}^{1} x^{2} \\left(x - 1\\right)\\, dx}{\\left(\\sqrt{\\int\\limits_{0}^{1} x^{2}\\, dx}\\right) \\sqrt{\\int\\limits_{0}^{1} x^{2} \\left(x - 1\\right)^{2}\\, dx}} = - \\frac{\\sqrt{10}}{4}$"
      ],
      "text/plain": [
       "Eq(Integral(x**2*(x - 1), (x, 0, 1))/(sqrt(Integral(x**2, (x, 0, 1)))*sqrt(Integral(x**2*(x - 1)**2, (x, 0, 1)))), -sqrt(10)/4)"
      ]
     },
     "execution_count": 25,
     "metadata": {},
     "output_type": "execute_result"
    }
   ],
   "source": [
    "Ecu=Eq(N,N.doit())\n",
    "Ecu"
   ]
  },
  {
   "cell_type": "code",
   "execution_count": 26,
   "metadata": {},
   "outputs": [
    {
     "data": {
      "text/latex": [
       "$\\displaystyle 2.48253461776338$"
      ],
      "text/plain": [
       "2.48253461776338"
      ]
     },
     "execution_count": 26,
     "metadata": {},
     "output_type": "execute_result"
    }
   ],
   "source": [
    "acos(Ecu.rhs).evalf()"
   ]
  }
 ],
 "metadata": {
  "colab": {
   "collapsed_sections": [
    "HS5j074Bpqw9",
    "M6k5DaB7AMNL",
    "IZBsDTb4E7U4",
    "Hn31KOmRS9EA",
    "A3ZNaLdqWeG5",
    "5Vs06j5DdIme",
    "ujW8a0HzkNuV"
   ],
   "provenance": [
    {
     "file_id": "1YrOBd8YdJ9P2aPSTRJEnMxLdlqznqh8y",
     "timestamp": 1694038709310
    }
   ]
  },
  "kernelspec": {
   "display_name": "Python 3 (ipykernel)",
   "language": "python",
   "name": "python3"
  },
  "language_info": {
   "codemirror_mode": {
    "name": "ipython",
    "version": 3
   },
   "file_extension": ".py",
   "mimetype": "text/x-python",
   "name": "python",
   "nbconvert_exporter": "python",
   "pygments_lexer": "ipython3",
   "version": "3.11.7"
  }
 },
 "nbformat": 4,
 "nbformat_minor": 1
}

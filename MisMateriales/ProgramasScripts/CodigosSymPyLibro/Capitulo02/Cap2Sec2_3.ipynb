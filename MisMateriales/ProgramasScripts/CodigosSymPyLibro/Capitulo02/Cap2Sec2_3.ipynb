{
 "cells": [
  {
   "cell_type": "markdown",
   "metadata": {
    "id": "aleOVKzP-8kQ"
   },
   "source": [
    "## Independencia Lineal\n",
    "\n",
    "En \\ref{OrtogonalizacionGram-Schmidt} vimos que si en la ecuación \n",
    "\n",
    "$$\n",
    "\\left|  {0}\\right> =C_{1}\\ \\left|  v_{1}\\right> +C_{2}\\ \\left|  v_{2}\\right> +C_{3}\\ \\left|  v_{3}\\right> \\cdots+C_{n}\\ \\left|  v_{n}\\,, \\right>\n",
    "$$\n",
    "\n",
    "con todos los $C_{i}=0$,  entonces se dirá que el conjunto de vectores son linealmente independientes. \n",
    "\n",
    "\n",
    "Para el segundo ejemplo de esa sección (ejemplo \\ref{EjemploOrtogonalizacion2}) se obtuvo el siguiente sistema de ecuaciones:\n",
    "\n",
    "\\begin{array}{rrrr}\n",
    "C_1 & +2 C_2 & -C_3 & =0 \\\\\n",
    "3 C_1 & & +C_3 & =0 \\\\\n",
    "-C_1 & +C_2 & & =0 \\\\\n",
    "2 C_1 & +3 C_2 & = & 0\n",
    "\\end{array}\n",
    "\n",
    "Sistema que debemos resolver\n"
   ]
  },
  {
   "cell_type": "code",
   "execution_count": 1,
   "metadata": {
    "id": "604d4rBS80_Y"
   },
   "outputs": [],
   "source": [
    "import sympy\n",
    "from sympy import *"
   ]
  },
  {
   "cell_type": "code",
   "execution_count": 2,
   "metadata": {},
   "outputs": [
    {
     "data": {
      "text/latex": [
       "$\\displaystyle \\left\\{\\left( 0, \\  0, \\  0\\right)\\right\\}$"
      ],
      "text/plain": [
       "{(0, 0, 0)}"
      ]
     },
     "execution_count": 2,
     "metadata": {},
     "output_type": "execute_result"
    }
   ],
   "source": [
    "C1,C2,C3 = symbols('C1 C2 C3 ')\n",
    "linsolve([C1+2*C2-C3, 3*C1+C3, -C1+C2, 2*C1+3*C2], (C1, C2, C3))"
   ]
  },
  {
   "cell_type": "markdown",
   "metadata": {},
   "source": [
    "##  Bases para espacios vectoriales\n",
    "\n",
    "En este ejercicio aprenderemos a calcular una base a partir de un conjunto de vectores perteneciente a un determinado espacio vectorial. Por ejemplo, si en  $\\mathbf{R}^5$ tenemos el siguiente conjunto de vectores:\n",
    "$$\n",
    "\\left| v_{1}\\right>=(1,2,3,4,5)\\,, \\,\\, \n",
    "\\left| v_{2}\\right>=(0,-1,1,2,3)\\,,\\,\\,  \n",
    "\\left| v_{3}\\right>=(3,2,1,0,-1)\\,, \\,\\,  \n",
    "\\left| v_{4}\\right>=(-4,-3,-2,-1,0) \\,.\n",
    "$$\n"
   ]
  },
  {
   "cell_type": "code",
   "execution_count": 3,
   "metadata": {},
   "outputs": [],
   "source": [
    "v1= Matrix([[1,2,3,4,5]]) \n",
    "v2= Matrix([[0,-1,1,2,3]]) \n",
    "v3= Matrix([[3,2,1,0,-1]])  \n",
    "v4= Matrix([[-4,-3,-2,-1,0]])  "
   ]
  },
  {
   "cell_type": "markdown",
   "metadata": {
    "id": "oLNHFfRNpqxC"
   },
   "source": [
    "Con los vectores dados construimos la siguiente matriz"
   ]
  },
  {
   "cell_type": "code",
   "execution_count": 4,
   "metadata": {
    "id": "KBflbZBnpqxC"
   },
   "outputs": [
    {
     "data": {
      "text/latex": [
       "$\\displaystyle \\left[\\begin{matrix}1 & 2 & 3 & 4 & 5\\\\0 & -1 & 1 & 2 & 3\\\\3 & 2 & 1 & 0 & -1\\\\-4 & -3 & -2 & -1 & 0\\end{matrix}\\right]$"
      ],
      "text/plain": [
       "Matrix([\n",
       "[ 1,  2,  3,  4,  5],\n",
       "[ 0, -1,  1,  2,  3],\n",
       "[ 3,  2,  1,  0, -1],\n",
       "[-4, -3, -2, -1,  0]])"
      ]
     },
     "execution_count": 4,
     "metadata": {},
     "output_type": "execute_result"
    }
   ],
   "source": [
    "M=Matrix([[v1],[v2],[v3],[v4]]) \n",
    "M"
   ]
  },
  {
   "cell_type": "markdown",
   "metadata": {},
   "source": [
    "Como veremos más adelante, el Rango de una matriz indica el número máximo de vectores fila o columna linealmente independientes. "
   ]
  },
  {
   "cell_type": "code",
   "execution_count": 5,
   "metadata": {},
   "outputs": [
    {
     "data": {
      "text/plain": [
       "3"
      ]
     },
     "execution_count": 5,
     "metadata": {},
     "output_type": "execute_result"
    }
   ],
   "source": [
    "M.rank()"
   ]
  },
  {
   "cell_type": "markdown",
   "metadata": {},
   "source": [
    "Podemos aplicar el método de eliminación gaussiana a la matriz ${\\bf M}$ para obtener una nueva matriz escalonada. El cálculo además se hace normalizando el primer elemento no nulo de cada fila."
   ]
  },
  {
   "cell_type": "code",
   "execution_count": 6,
   "metadata": {},
   "outputs": [
    {
     "data": {
      "text/latex": [
       "$\\displaystyle \\left[\\begin{matrix}1 & 0 & 0 & - \\frac{1}{3} & - \\frac{2}{3}\\\\0 & 1 & 0 & - \\frac{1}{3} & - \\frac{2}{3}\\\\0 & 0 & 1 & \\frac{5}{3} & \\frac{7}{3}\\\\0 & 0 & 0 & 0 & 0\\end{matrix}\\right]$"
      ],
      "text/plain": [
       "Matrix([\n",
       "[1, 0, 0, -1/3, -2/3],\n",
       "[0, 1, 0, -1/3, -2/3],\n",
       "[0, 0, 1,  5/3,  7/3],\n",
       "[0, 0, 0,    0,    0]])"
      ]
     },
     "execution_count": 6,
     "metadata": {},
     "output_type": "execute_result"
    }
   ],
   "source": [
    "rref_M ,pivots= M.rref()\n",
    "rref_M"
   ]
  },
  {
   "cell_type": "code",
   "execution_count": 7,
   "metadata": {},
   "outputs": [
    {
     "data": {
      "text/latex": [
       "$\\displaystyle \\left[\\begin{matrix}1 & 2 & 3 & 4 & 5\\\\0 & -1 & 1 & 2 & 3\\\\0 & 0 & 12 & 20 & 28\\\\0 & 0 & 0 & 0 & 0\\end{matrix}\\right]$"
      ],
      "text/plain": [
       "Matrix([\n",
       "[1,  2,  3,  4,  5],\n",
       "[0, -1,  1,  2,  3],\n",
       "[0,  0, 12, 20, 28],\n",
       "[0,  0,  0,  0,  0]])"
      ]
     },
     "execution_count": 7,
     "metadata": {},
     "output_type": "execute_result"
    }
   ],
   "source": [
    "M.echelon_form()"
   ]
  },
  {
   "cell_type": "markdown",
   "metadata": {},
   "source": [
    "Por lo tanto, cada fila de la matriz anterior conformará un conjunto de vectores linealmente independiente. "
   ]
  },
  {
   "cell_type": "markdown",
   "metadata": {},
   "source": [
    "Para verificar que el conjunto: $\\{\\mathrm{e}1, \\mathrm{e}2, \\mathrm{e}3\\}$ es linealmente independientes podemos hacer lo siguiente:"
   ]
  },
  {
   "cell_type": "code",
   "execution_count": 8,
   "metadata": {},
   "outputs": [
    {
     "name": "stdout",
     "output_type": "stream",
     "text": [
      "Los vectores son linealmente independientes.\n"
     ]
    }
   ],
   "source": [
    "# Definir las variables\n",
    "α, β, γ = symbols('α β γ')\n",
    "#  Aislamos los vectores  de la matriz\n",
    "e1 = rref_M[0, :]\n",
    "e2 = rref_M[1, :]\n",
    "e3 = rref_M[2, :]\n",
    "# Construir el sistema de ecuaciones\n",
    "sistema = [\n",
    "    Eq(α*e1[0] + β*e2[0] + γ*e3[0], 0),\n",
    "    Eq(α*e1[1] + β*e2[1] + γ*e3[1], 0),\n",
    "    Eq(α*e1[2] + β*e2[2] + γ*e3[2], 0)\n",
    "]\n",
    "# Resolver el sistema de ecuaciones\n",
    "solucion = solve(sistema, (α, β, γ))\n",
    "# Verificar si los vectores son linealmente independientes\n",
    "if solucion == {α: 0, β: 0, γ: 0}:\n",
    "    print(\"Los vectores son linealmente independientes.\")\n",
    "else:\n",
    "    print(\"Los vectores no son linealmente independientes.\")"
   ]
  },
  {
   "cell_type": "markdown",
   "metadata": {},
   "source": [
    "Consideremos otros ejemplos, dados los vectores ${\\bf a}=(1,3)$ y ${\\bf b}=(-1,1)$ ¿Serán linealmente independientes?"
   ]
  },
  {
   "cell_type": "markdown",
   "metadata": {},
   "source": [
    "Otra variante se muestra a continuación"
   ]
  },
  {
   "cell_type": "code",
   "execution_count": 9,
   "metadata": {},
   "outputs": [
    {
     "name": "stdout",
     "output_type": "stream",
     "text": [
      "Los vectores son linealmente independientes.\n"
     ]
    }
   ],
   "source": [
    "# Definir las matrices que representan los vectores\n",
    "a= Matrix([[1,3]]) \n",
    "b= Matrix([[-1,1]]) \n",
    "# Construir una matriz con los vectores como filas\n",
    "matriz = Matrix.vstack(a, b)\n",
    "# Calcular el rango de la matriz\n",
    "rango = matriz.rank()\n",
    "# Verificar si los vectores son linealmente independientes\n",
    "if rango == len([a, b]):\n",
    "    print(\"Los vectores son linealmente independientes.\")\n",
    "else:\n",
    "    print(\"Los vectores no son linealmente independientes.\")"
   ]
  },
  {
   "cell_type": "markdown",
   "metadata": {},
   "source": [
    "Los vectores ${\\bf a}=(1,2,3)$ y ${\\bf b}=(4,8,12)$ \n",
    "\n",
    "¿Serán linealmente independientes? \n",
    "\n",
    "Un código alternativo sería "
   ]
  },
  {
   "cell_type": "code",
   "execution_count": 10,
   "metadata": {},
   "outputs": [
    {
     "name": "stdout",
     "output_type": "stream",
     "text": [
      "Los valores de los coeficientes son:\n",
      "α: -4*β\n"
     ]
    }
   ],
   "source": [
    "# Definir los vectores como coeficientes\n",
    "a= Matrix([[1,2,3]]) \n",
    "b= Matrix([[4,8,12]]) \n",
    "# Construir el sistema de ecuaciones\n",
    "sistema = [\n",
    "    Eq(α*a[0] + β*b[0], 0),\n",
    "    Eq(α*a[1] + β*b[1], 0)\n",
    "]\n",
    "# Resolver el sistema de ecuaciones\n",
    "solucion = solve(sistema, (α, β, γ))\n",
    "# Mostrar los valores de los coeficientes\n",
    "print(\"Los valores de los coeficientes son:\")\n",
    "for coeficiente, valor in solucion.items():\n",
    "    print(f\"{coeficiente}: {valor}\")"
   ]
  },
  {
   "cell_type": "markdown",
   "metadata": {},
   "source": [
    "Por lo tanto son linealmente dependientes"
   ]
  },
  {
   "cell_type": "markdown",
   "metadata": {},
   "source": [
    "Sea ahora $\\{{\\bf e}_i\\}=\\{(1,1,1),(1,2,1),(0,0,2)\\}$ una base para $\\mathbf{R}^3$. \n",
    "\n",
    "Vamos a calcular  las componentes del vector ${\\bf a}=(3, 2, 1)$ respecto de esa base.\n",
    "\n",
    "Primero podemos verificar si efectivamente forman una base:"
   ]
  },
  {
   "cell_type": "code",
   "execution_count": 11,
   "metadata": {},
   "outputs": [
    {
     "name": "stdout",
     "output_type": "stream",
     "text": [
      "Los valores de los coeficientes son:\n",
      "α: 0\n",
      "β: 0\n",
      "γ: 0\n"
     ]
    }
   ],
   "source": [
    "# Definir los vectores como coeficientes\n",
    "e1= Matrix([[1,1,1]]) \n",
    "e2= Matrix([[1,2,1]]) \n",
    "e3= Matrix([[0,0,2]])\n",
    "# Construir el sistema de ecuaciones\n",
    "sistema = [\n",
    "    Eq(α*e1[0] + β*e2[0] + γ*e3[0], 0),\n",
    "    Eq(α*e1[1] + β*e2[1] + γ*e3[1], 0),\n",
    "    Eq(α*e1[2] + β*e2[2] + γ*e3[2], 0)\n",
    "]\n",
    "# Resolver el sistema de ecuaciones\n",
    "solucion = solve(sistema, (α, β, γ))\n",
    "# Mostrar los valores de los coeficientes\n",
    "print(\"Los valores de los coeficientes son:\")\n",
    "for coeficiente, valor in solucion.items():\n",
    "    print(f\"{coeficiente}: {valor}\")"
   ]
  },
  {
   "cell_type": "markdown",
   "metadata": {},
   "source": [
    "El código que se muestra a continuación es más efectivo "
   ]
  },
  {
   "cell_type": "code",
   "execution_count": 12,
   "metadata": {},
   "outputs": [
    {
     "name": "stdout",
     "output_type": "stream",
     "text": [
      "Las componentes del vector a respecto de la base son:\n",
      "α = 4\n",
      "β = -1\n",
      "γ = -1\n"
     ]
    }
   ],
   "source": [
    "# Definir los vectores de la base y el vector a\n",
    "e1 = Matrix([1, 1, 1])\n",
    "e2 = Matrix([1, 2, 1])\n",
    "e3 = Matrix([0, 0, 2])\n",
    "a =  Matrix([3, 2, 1])\n",
    "# Formar el sistema de ecuaciones\n",
    "sistema = [\n",
    "    Eq(α*e1[0] + β*e2[0] + γ*e3[0], a[0]),\n",
    "    Eq(α*e1[1] + β*e2[1] + γ*e3[1], a[1]),\n",
    "    Eq(α*e1[2] + β*e2[2] + γ*e3[2], a[2])\n",
    "]\n",
    "# Resolver el sistema de ecuaciones\n",
    "solucion = solve(sistema, (α, β, γ))\n",
    "# Mostrar los coeficientes\n",
    "print(\"Las componentes del vector a respecto de la base son:\")\n",
    "print(\"α =\", solucion[α])\n",
    "print(\"β =\", solucion[β])\n",
    "print(\"γ =\", solucion[γ])"
   ]
  },
  {
   "cell_type": "markdown",
   "metadata": {},
   "source": [
    "Por lo tanto, ${\\bf a}=4{\\bf e}_1-{\\bf e}_2-{\\bf e}_3$. "
   ]
  },
  {
   "cell_type": "markdown",
   "metadata": {},
   "source": [
    "Cómo será el vector ${\\bf a}$  en la base canónica"
   ]
  },
  {
   "cell_type": "code",
   "execution_count": 13,
   "metadata": {},
   "outputs": [
    {
     "name": "stdout",
     "output_type": "stream",
     "text": [
      "Las componentes del vector a respecto de la base son:\n",
      "α = 3\n",
      "β = 2\n",
      "γ = 1\n"
     ]
    }
   ],
   "source": [
    "# Definir los vectores de la base y el vector a\n",
    "e1 = Matrix([1, 0, 0])\n",
    "e2 = Matrix([0, 1, 0])\n",
    "e3 = Matrix([0, 0, 1])\n",
    "a =  Matrix([3, 2, 1])\n",
    "# Formar el sistema de ecuaciones\n",
    "sistema = [\n",
    "    Eq(α*e1[0] + β*e2[0] + γ*e3[0], a[0]),\n",
    "    Eq(α*e1[1] + β*e2[1] + γ*e3[1], a[1]),\n",
    "    Eq(α*e1[2] + β*e2[2] + γ*e3[2], a[2])\n",
    "]\n",
    "# Resolver el sistema de ecuaciones\n",
    "solucion = solve(sistema, (α, β, γ))\n",
    "# Mostrar los coeficientes\n",
    "print(\"Las componentes del vector a respecto de la base son:\")\n",
    "print(\"α =\", solucion[α])\n",
    "print(\"β =\", solucion[β])\n",
    "print(\"γ =\", solucion[γ])"
   ]
  },
  {
   "cell_type": "markdown",
   "metadata": {},
   "source": [
    "Es decir, ${\\bf a}=3\\hat{i}+2\\hat{j}+\\hat{k}$."
   ]
  },
  {
   "cell_type": "markdown",
   "metadata": {},
   "source": [
    "## Ortogonalización con Sympy\n",
    "\n",
    "Anteriormente hicimos los cálculos para hallar una base ortogonal a partir del siguiente conjunto de vectores linealmente independientes:\n",
    "\n",
    "$$\n",
    "\\left|v_1\\right\\rangle=\\left(\\begin{array}{r}\n",
    "1 \\\\\n",
    "3 \\\\\n",
    "-1 \\\\\n",
    "2\n",
    "\\end{array}\\right) ; \\quad\\left|v_2\\right\\rangle=\\left(\\begin{array}{l}\n",
    "2 \\\\\n",
    "0 \\\\\n",
    "1 \\\\\n",
    "3\n",
    "\\end{array}\\right) ; \\quad\\left|v_3\\right\\rangle=\\left(\\begin{array}{r}\n",
    "-1 \\\\\n",
    "1 \\\\\n",
    "0 \\\\\n",
    "0\n",
    "\\end{array}\\right)\n",
    "$$\n",
    "\n",
    "Se puede proceder de la manera siguiente\n",
    "\n"
   ]
  },
  {
   "cell_type": "markdown",
   "metadata": {},
   "source": [
    "Note que el vector $\\left| v_{3}\\right>$ es el que vamos puea poner  en la primera fila de la matriz. Ahora procedemos al cálculo:"
   ]
  },
  {
   "cell_type": "code",
   "execution_count": 14,
   "metadata": {},
   "outputs": [
    {
     "data": {
      "image/png": "[encoded data removed]",
      "text/latex": [
       "$\\displaystyle \\left[ \\left[\\begin{matrix}-1\\\\1\\\\0\\\\0\\end{matrix}\\right], \\  \\left[\\begin{matrix}1\\\\1\\\\1\\\\3\\end{matrix}\\right], \\  \\left[\\begin{matrix}\\frac{5}{4}\\\\\\frac{5}{4}\\\\- \\frac{7}{4}\\\\- \\frac{1}{4}\\end{matrix}\\right]\\right]$"
      ],
      "text/plain": [
       "⎡⎡-1⎤  ⎡1⎤  ⎡5/4 ⎤⎤\n",
       "⎢⎢  ⎥  ⎢ ⎥  ⎢    ⎥⎥\n",
       "⎢⎢1 ⎥  ⎢1⎥  ⎢5/4 ⎥⎥\n",
       "⎢⎢  ⎥, ⎢ ⎥, ⎢    ⎥⎥\n",
       "⎢⎢0 ⎥  ⎢1⎥  ⎢-7/4⎥⎥\n",
       "⎢⎢  ⎥  ⎢ ⎥  ⎢    ⎥⎥\n",
       "⎣⎣0 ⎦  ⎣3⎦  ⎣-1/4⎦⎦"
      ]
     },
     "execution_count": 14,
     "metadata": {},
     "output_type": "execute_result"
    }
   ],
   "source": [
    "init_printing()\n",
    "v1= Matrix([-1,1,0,0])\n",
    "v2= Matrix([2,0,1,3])\n",
    "v3= Matrix([1,3,-1,2])\n",
    "\n",
    "L=(v1,v2,v3)\n",
    "LGS=GramSchmidt(L)\n",
    "LGS"
   ]
  },
  {
   "cell_type": "code",
   "execution_count": 15,
   "metadata": {},
   "outputs": [
    {
     "data": {
      "image/png": "[encoded data removed]",
      "text/latex": [
       "$\\displaystyle \\left[ \\left[\\begin{matrix}-1\\\\1\\\\0\\\\0\\end{matrix}\\right], \\  \\left[\\begin{matrix}1\\\\1\\\\1\\\\3\\end{matrix}\\right], \\  \\left[\\begin{matrix}\\frac{5}{4}\\\\\\frac{5}{4}\\\\- \\frac{7}{4}\\\\- \\frac{1}{4}\\end{matrix}\\right]\\right]$"
      ],
      "text/plain": [
       "⎡⎡-1⎤  ⎡1⎤  ⎡5/4 ⎤⎤\n",
       "⎢⎢  ⎥  ⎢ ⎥  ⎢    ⎥⎥\n",
       "⎢⎢1 ⎥  ⎢1⎥  ⎢5/4 ⎥⎥\n",
       "⎢⎢  ⎥, ⎢ ⎥, ⎢    ⎥⎥\n",
       "⎢⎢0 ⎥  ⎢1⎥  ⎢-7/4⎥⎥\n",
       "⎢⎢  ⎥  ⎢ ⎥  ⎢    ⎥⎥\n",
       "⎣⎣0 ⎦  ⎣3⎦  ⎣-1/4⎦⎦"
      ]
     },
     "execution_count": 15,
     "metadata": {},
     "output_type": "execute_result"
    }
   ],
   "source": [
    "Matrix.orthogonalize(*L)"
   ]
  },
  {
   "cell_type": "code",
   "execution_count": 16,
   "metadata": {},
   "outputs": [],
   "source": [
    "e1=LGS[0]\n",
    "e2=LGS[1]\n",
    "e3=LGS[2]"
   ]
  },
  {
   "cell_type": "markdown",
   "metadata": {},
   "source": [
    "Podemos verificar que son ortogonales:"
   ]
  },
  {
   "cell_type": "code",
   "execution_count": 17,
   "metadata": {},
   "outputs": [
    {
     "data": {
      "image/png": "[encoded data removed]",
      "text/latex": [
       "$\\displaystyle \\left( 0, \\  0, \\  0\\right)$"
      ],
      "text/plain": [
       "(0, 0, 0)"
      ]
     },
     "execution_count": 17,
     "metadata": {},
     "output_type": "execute_result"
    }
   ],
   "source": [
    "e1.dot(e2), e1.dot(e3),e2.dot(e3),"
   ]
  },
  {
   "cell_type": "markdown",
   "metadata": {},
   "source": [
    "Estos vectores normalizados son:"
   ]
  },
  {
   "cell_type": "code",
   "execution_count": 18,
   "metadata": {},
   "outputs": [
    {
     "data": {
      "image/png": "[encoded data removed]",
      "text/latex": [
       "$\\displaystyle \\left( \\left[\\begin{matrix}- \\frac{\\sqrt{2}}{2}\\\\\\frac{\\sqrt{2}}{2}\\\\0\\\\0\\end{matrix}\\right], \\  \\left[\\begin{matrix}\\frac{\\sqrt{3}}{6}\\\\\\frac{\\sqrt{3}}{6}\\\\\\frac{\\sqrt{3}}{6}\\\\\\frac{\\sqrt{3}}{2}\\end{matrix}\\right], \\  \\left[\\begin{matrix}\\frac{1}{2}\\\\\\frac{1}{2}\\\\- \\frac{7}{10}\\\\- \\frac{1}{10}\\end{matrix}\\right]\\right)$"
      ],
      "text/plain": [
       "⎛        ⎡√3⎤         ⎞\n",
       "⎜        ⎢──⎥         ⎟\n",
       "⎜⎡-√2 ⎤  ⎢6 ⎥         ⎟\n",
       "⎜⎢────⎥  ⎢  ⎥         ⎟\n",
       "⎜⎢ 2  ⎥  ⎢√3⎥  ⎡ 1/2 ⎤⎟\n",
       "⎜⎢    ⎥  ⎢──⎥  ⎢     ⎥⎟\n",
       "⎜⎢ √2 ⎥  ⎢6 ⎥  ⎢ 1/2 ⎥⎟\n",
       "⎜⎢ ── ⎥, ⎢  ⎥, ⎢     ⎥⎟\n",
       "⎜⎢ 2  ⎥  ⎢√3⎥  ⎢-7/10⎥⎟\n",
       "⎜⎢    ⎥  ⎢──⎥  ⎢     ⎥⎟\n",
       "⎜⎢ 0  ⎥  ⎢6 ⎥  ⎣-1/10⎦⎟\n",
       "⎜⎢    ⎥  ⎢  ⎥         ⎟\n",
       "⎜⎣ 0  ⎦  ⎢√3⎥         ⎟\n",
       "⎜        ⎢──⎥         ⎟\n",
       "⎝        ⎣2 ⎦         ⎠"
      ]
     },
     "execution_count": 18,
     "metadata": {},
     "output_type": "execute_result"
    }
   ],
   "source": [
    "e1/(sqrt(e1.dot(e1))), e2/(sqrt(e2.dot(e2))), e3/(sqrt(e3.dot(e3)))"
   ]
  },
  {
   "cell_type": "markdown",
   "metadata": {},
   "source": [
    "En SymPy no disponemos d euna función que permita  definir un producto interno diferente al producto interno usado en el ejemplo anterior.\n",
    "\n",
    "Veamos como se hace en un ejemplo donde el conjunto de vectores linealmente independientes esta dado por: $\\left\\{1, t, t^{2}, t^{3}, \\cdots, t^{n}\\right\\}$ y el producto interno es \n",
    "$$\n",
    "<f|g>=\\int_a^b f\\cdot g \\ \\textrm{d}t \n",
    "$$\n"
   ]
  },
  {
   "cell_type": "code",
   "execution_count": 19,
   "metadata": {},
   "outputs": [
    {
     "data": {
      "image/png": "[encoded data removed]",
      "text/latex": [
       "$\\displaystyle \\left\\{\\left[\\begin{matrix}1\\end{matrix}\\right], \\left[\\begin{matrix}t\\end{matrix}\\right], \\left[\\begin{matrix}t^{2} - \\frac{1}{3}\\end{matrix}\\right], \\left[\\begin{matrix}t^{3} - \\frac{3 t}{5}\\end{matrix}\\right], \\left[\\begin{matrix}t^{4} - \\frac{6 t^{2}}{7} + \\frac{3}{35}\\end{matrix}\\right]\\right\\}$"
      ],
      "text/plain": [
       "⎧                                ⎡        2     ⎤⎫\n",
       "⎪          ⎡ 2   1⎤  ⎡ 3   3⋅t⎤  ⎢ 4   6⋅t    3 ⎥⎪\n",
       "⎨[1], [t], ⎢t  - ─⎥, ⎢t  - ───⎥, ⎢t  - ──── + ──⎥⎬\n",
       "⎪          ⎣     3⎦  ⎣      5 ⎦  ⎣      7     35⎦⎪\n",
       "⎩                                                ⎭"
      ]
     },
     "execution_count": 19,
     "metadata": {},
     "output_type": "execute_result"
    }
   ],
   "source": [
    "# Definir la variable y los límites de integración\n",
    "t = symbols('t')\n",
    "a, b = -1, 1\n",
    "\n",
    "# Definir las funciones base como vectores\n",
    "base = [Matrix([1]), Matrix([t]), Matrix([t**2]), Matrix([t**3]), Matrix([t**4])]\n",
    "\n",
    "# Definir el producto interno\n",
    "def producto(f, g):\n",
    "    return integrate(f[0]*g[0], (t, a, b))\n",
    "\n",
    "# Realizar Gram-Schmidt\n",
    "ortogonalizados = []\n",
    "for v in base:\n",
    "    u = v\n",
    "    for o in ortogonalizados:\n",
    "        u -= (producto(v, o) / producto(o, o)) * o\n",
    "    ortogonalizados.append(u)\n",
    "# Mostar el resultado   \n",
    "FiniteSet(*ortogonalizados)"
   ]
  },
  {
   "cell_type": "markdown",
   "metadata": {},
   "source": [
    "Verifiquemos si son ortogonales:"
   ]
  },
  {
   "cell_type": "code",
   "execution_count": 20,
   "metadata": {},
   "outputs": [],
   "source": [
    "e1=ortogonalizados[0]\n",
    "e2=ortogonalizados[1]\n",
    "e3=ortogonalizados[2]\n",
    "e4=ortogonalizados[3]\n",
    "e5=ortogonalizados[4]"
   ]
  },
  {
   "cell_type": "code",
   "execution_count": 21,
   "metadata": {},
   "outputs": [
    {
     "name": "stdout",
     "output_type": "stream",
     "text": [
      "Producto interno de e1 y e2: 0\n",
      "Producto interno de e1 y e3: 0\n",
      "Producto interno de e1 y e4: 0\n",
      "Producto interno de e1 y e5: 0\n",
      "Producto interno de e2 y e3: 0\n",
      "Producto interno de e2 y e4: 0\n",
      "Producto interno de e2 y e5: 0\n",
      "Producto interno de e3 y e4: 0\n",
      "Producto interno de e3 y e5: 0\n",
      "Producto interno de e4 y e5: 0\n",
      "El conjunto de vectores es ortogonal.\n"
     ]
    }
   ],
   "source": [
    "vectores = [e1, e2, e3, e4, e5]\n",
    "ortogonales = True\n",
    "for i, vi in enumerate(vectores):\n",
    "    for j, vj in enumerate(vectores):\n",
    "        if j > i:  # Comparamos solo una vez para j > i\n",
    "            resultado = producto(vi, vj)\n",
    "            print(f\"Producto interno de e{i+1} y e{j+1}: {resultado}\")\n",
    "            if resultado != 0:\n",
    "                ortogonales = False\n",
    "\n",
    "# Mostrar el resultado\n",
    "if ortogonales:\n",
    "    print(\"El conjunto de vectores es ortogonal.\")\n",
    "else:\n",
    "    print(\"El conjunto de vectores NO es ortogonal.\")"
   ]
  }
 ],
 "metadata": {
  "colab": {
   "collapsed_sections": [
    "HS5j074Bpqw9",
    "M6k5DaB7AMNL",
    "IZBsDTb4E7U4",
    "Hn31KOmRS9EA",
    "A3ZNaLdqWeG5",
    "5Vs06j5DdIme",
    "ujW8a0HzkNuV"
   ],
   "provenance": [
    {
     "file_id": "1YrOBd8YdJ9P2aPSTRJEnMxLdlqznqh8y",
     "timestamp": 1694038709310
    }
   ]
  },
  "kernelspec": {
   "display_name": "Python 3 (ipykernel)",
   "language": "python",
   "name": "python3"
  },
  "language_info": {
   "codemirror_mode": {
    "name": "ipython",
    "version": 3
   },
   "file_extension": ".py",
   "mimetype": "text/x-python",
   "name": "python",
   "nbconvert_exporter": "python",
   "pygments_lexer": "ipython3",
   "version": "3.11.7"
  }
 },
 "nbformat": 4,
 "nbformat_minor": 1
}

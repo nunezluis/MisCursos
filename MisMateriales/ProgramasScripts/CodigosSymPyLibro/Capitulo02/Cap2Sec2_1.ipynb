{
 "cells": [
  {
   "cell_type": "markdown",
   "metadata": {
    "id": "aleOVKzP-8kQ"
   },
   "source": [
    "En este módulo utilizaremos algunas de las herramientas disponibles para incorporar el álgebra discreta. \n",
    "Podemos operar con conjuntos pero primero debemos definirlos. Existen varias posibilidades, como mostramos a continuación:"
   ]
  },
  {
   "cell_type": "code",
   "execution_count": 1,
   "metadata": {
    "id": "604d4rBS80_Y"
   },
   "outputs": [],
   "source": [
    "import sympy\n",
    "from sympy import *"
   ]
  },
  {
   "cell_type": "markdown",
   "metadata": {
    "id": "oLNHFfRNpqxC"
   },
   "source": [
    "Se puede construir conjuntos a partir de listas ya definidas"
   ]
  },
  {
   "cell_type": "code",
   "execution_count": 2,
   "metadata": {
    "id": "KBflbZBnpqxC"
   },
   "outputs": [
    {
     "data": {
      "text/latex": [
       "$\\displaystyle \\left\\{1, 2, 3, 5, 8\\right\\}$"
      ],
      "text/plain": [
       "{1, 2, 3, 5, 8}"
      ]
     },
     "execution_count": 2,
     "metadata": {},
     "output_type": "execute_result"
    }
   ],
   "source": [
    "num=[1,3,5,2,8] \n",
    "FiniteSet(*num)"
   ]
  },
  {
   "cell_type": "markdown",
   "metadata": {},
   "source": [
    "O directamente usando las llaves"
   ]
  },
  {
   "cell_type": "code",
   "execution_count": 3,
   "metadata": {},
   "outputs": [
    {
     "data": {
      "text/plain": [
       "{1, 2, 3, 5, 8}"
      ]
     },
     "execution_count": 3,
     "metadata": {},
     "output_type": "execute_result"
    }
   ],
   "source": [
    "set1 = {1,3,5,2,8}\n",
    "set1"
   ]
  },
  {
   "cell_type": "markdown",
   "metadata": {},
   "source": [
    "Consideremos los siguintes conjuntos"
   ]
  },
  {
   "cell_type": "code",
   "execution_count": 4,
   "metadata": {
    "id": "gKVSMC2sCM_g"
   },
   "outputs": [],
   "source": [
    "A = {1,2,3,4,5,6,7,8,9}\n",
    "B = {1,3,5,7,9}\n",
    "C = {2,4,6,8}"
   ]
  },
  {
   "cell_type": "markdown",
   "metadata": {
    "id": "YmITKKB7FeAC"
   },
   "source": [
    "Ahora cómo crear un conjunto a partir de una regla dada"
   ]
  },
  {
   "cell_type": "code",
   "execution_count": 5,
   "metadata": {
    "id": "2z0arWTa55G8"
   },
   "outputs": [
    {
     "data": {
      "text/plain": [
       "{1/3, 2/3, 1, 4/3}"
      ]
     },
     "execution_count": 5,
     "metadata": {},
     "output_type": "execute_result"
    }
   ],
   "source": [
    "i, j = symbols('i,j',real=True)\n",
    "# Lista de listas de numeradores y denominadores\n",
    "frac = [[1, 3], [2, 3], [3, 3], [4, 3]]\n",
    "# Crear el conjunto de fracciones i/j\n",
    "D = {S(i)/j for i, j in frac}\n",
    "D"
   ]
  },
  {
   "cell_type": "markdown",
   "metadata": {
    "id": "qvbCsG8ADXE5"
   },
   "source": [
    "Podemos preguntar si determinado elemento perteneces, o no, a un conjunto."
   ]
  },
  {
   "cell_type": "code",
   "execution_count": 6,
   "metadata": {
    "id": "shhgwnybEE7-"
   },
   "outputs": [
    {
     "data": {
      "text/plain": [
       "True"
      ]
     },
     "execution_count": 6,
     "metadata": {},
     "output_type": "execute_result"
    }
   ],
   "source": [
    "7 in A"
   ]
  },
  {
   "cell_type": "code",
   "execution_count": 7,
   "metadata": {},
   "outputs": [
    {
     "data": {
      "text/plain": [
       "False"
      ]
     },
     "execution_count": 7,
     "metadata": {},
     "output_type": "execute_result"
    }
   ],
   "source": [
    "7 in C"
   ]
  },
  {
   "cell_type": "markdown",
   "metadata": {},
   "source": [
    "Operaciones elementales con conjuntos:"
   ]
  },
  {
   "cell_type": "code",
   "execution_count": 8,
   "metadata": {},
   "outputs": [
    {
     "data": {
      "text/latex": [
       "$\\displaystyle \\left\\{1, 2, 3, 4, 5, 6, 7, 8, 9\\right\\}$"
      ],
      "text/plain": [
       "{1, 2, 3, 4, 5, 6, 7, 8, 9}"
      ]
     },
     "execution_count": 8,
     "metadata": {},
     "output_type": "execute_result"
    }
   ],
   "source": [
    "union_BC = Union(B,C)\n",
    "union_BC"
   ]
  },
  {
   "cell_type": "code",
   "execution_count": 9,
   "metadata": {
    "id": "bJH9T86bEKNP"
   },
   "outputs": [
    {
     "data": {
      "text/plain": [
       "True"
      ]
     },
     "execution_count": 9,
     "metadata": {},
     "output_type": "execute_result"
    }
   ],
   "source": [
    "A == union_BC"
   ]
  },
  {
   "cell_type": "code",
   "execution_count": 10,
   "metadata": {},
   "outputs": [
    {
     "data": {
      "text/latex": [
       "$\\displaystyle \\emptyset$"
      ],
      "text/plain": [
       "EmptySet"
      ]
     },
     "execution_count": 10,
     "metadata": {},
     "output_type": "execute_result"
    }
   ],
   "source": [
    "Intersection(B,C)"
   ]
  },
  {
   "cell_type": "code",
   "execution_count": 11,
   "metadata": {},
   "outputs": [
    {
     "data": {
      "text/plain": [
       "{1, 3, 5, 7, 9}"
      ]
     },
     "execution_count": 11,
     "metadata": {},
     "output_type": "execute_result"
    }
   ],
   "source": [
    "diferencia_AC = A - C\n",
    "diferencia_AC"
   ]
  },
  {
   "cell_type": "code",
   "execution_count": 12,
   "metadata": {},
   "outputs": [
    {
     "data": {
      "text/latex": [
       "$\\displaystyle \\left\\{1, 3, 5, 7, 9\\right\\}$"
      ],
      "text/plain": [
       "{1, 3, 5, 7, 9}"
      ]
     },
     "execution_count": 12,
     "metadata": {},
     "output_type": "execute_result"
    }
   ],
   "source": [
    "Complement(A,C)"
   ]
  },
  {
   "cell_type": "markdown",
   "metadata": {},
   "source": [
    "Esto es, el conjunto con los elementos del conjunto $A$ que no pertenecen al conjunto $C$.\n",
    "\n",
    "Notemos que:"
   ]
  },
  {
   "cell_type": "code",
   "execution_count": 13,
   "metadata": {},
   "outputs": [
    {
     "data": {
      "text/latex": [
       "$\\displaystyle \\emptyset$"
      ],
      "text/plain": [
       "EmptySet"
      ]
     },
     "execution_count": 13,
     "metadata": {},
     "output_type": "execute_result"
    }
   ],
   "source": [
    "Complement(C,A)"
   ]
  },
  {
   "cell_type": "markdown",
   "metadata": {},
   "source": [
    "Si queremos el conjunto de todos los subconjuntos del conjunto $\\{a,b,c \\}$ le podemos pedir al programa que nos lo muestre:"
   ]
  },
  {
   "cell_type": "code",
   "execution_count": 14,
   "metadata": {},
   "outputs": [
    {
     "data": {
      "text/plain": [
       "{(), (a, b), (a,), (b,), (c, a), (c, a, b), (c, b), (c,)}"
      ]
     },
     "execution_count": 14,
     "metadata": {},
     "output_type": "execute_result"
    }
   ],
   "source": [
    "a, b, c= symbols('a b c ')\n",
    "conjunto = {a,b,c}\n",
    "set(subsets(conjunto))"
   ]
  },
  {
   "cell_type": "markdown",
   "metadata": {},
   "source": [
    "El producto cartesiano de los conjuntos $A$ y $B$ es el conjunto conformado por los pares $(a,b)$:\n",
    "$$\n",
    "A \\ \\text{x}\\  B = \\{(a, b) / a \\in A \\,, b \\in B\\}.\n",
    "$$ \n"
   ]
  },
  {
   "cell_type": "code",
   "execution_count": 15,
   "metadata": {},
   "outputs": [
    {
     "data": {
      "text/latex": [
       "$\\displaystyle \\left\\{1, 3, 5, 7, 9\\right\\} \\times \\left\\{2, 4, 6, 8\\right\\}$"
      ],
      "text/plain": [
       "ProductSet({1, 3, 5, 7, 9}, {2, 4, 6, 8})"
      ]
     },
     "execution_count": 15,
     "metadata": {},
     "output_type": "execute_result"
    }
   ],
   "source": [
    "ProductSet(B,C)"
   ]
  },
  {
   "cell_type": "code",
   "execution_count": 16,
   "metadata": {},
   "outputs": [
    {
     "data": {
      "text/latex": [
       "$\\displaystyle \\left\\{\\left( 1, \\  2\\right), \\left( 1, \\  4\\right), \\left( 1, \\  6\\right), \\left( 1, \\  8\\right), \\left( 3, \\  2\\right), \\left( 3, \\  4\\right), \\left( 3, \\  6\\right), \\left( 3, \\  8\\right), \\left( 5, \\  2\\right), \\left( 5, \\  4\\right), \\left( 5, \\  6\\right), \\left( 5, \\  8\\right), \\left( 7, \\  2\\right), \\left( 7, \\  4\\right), \\left( 7, \\  6\\right), \\left( 7, \\  8\\right), \\left( 9, \\  2\\right), \\left( 9, \\  4\\right), \\left( 9, \\  6\\right), \\left( 9, \\  8\\right)\\right\\}$"
      ],
      "text/plain": [
       "{(1, 2), (1, 4), (1, 6), (1, 8), (3, 2), (3, 4), (3, 6), (3, 8), (5, 2), (5, 4), (5, 6), (5, 8), (7, 2), (7, 4), (7, 6), (7, 8), (9, 2), (9, 4), (9, 6), (9, 8)}"
      ]
     },
     "execution_count": 16,
     "metadata": {},
     "output_type": "execute_result"
    }
   ],
   "source": [
    "FiniteSet(*(ProductSet(B,C)))"
   ]
  },
  {
   "cell_type": "markdown",
   "metadata": {},
   "source": [
    "Sympy no realiza el pruducto entre los elementos del conjunto pero es posible ejecutar todos los productos  entre los elementos de este conjunto siguiendo los siguientes pasos:"
   ]
  },
  {
   "cell_type": "code",
   "execution_count": 17,
   "metadata": {},
   "outputs": [
    {
     "name": "stdout",
     "output_type": "stream",
     "text": [
      "Productos  entre los elementos del conjunto:\n",
      "[2, 4, 6, 6, 8, 10, 12, 14, 18, 18, 20, 24, 28, 30, 36, 40, 42, 54, 56, 72]\n"
     ]
    }
   ],
   "source": [
    "# Inicializar una lista para almacenar los productos\n",
    "productos = []\n",
    "# Calcular todos los productos posibles entre los elementos del conjunto\n",
    "for elemento1 in B:\n",
    "    for elemento2 in C:\n",
    "        producto = elemento1 * elemento2\n",
    "        productos.append(producto)\n",
    "productos = sorted(productos)\n",
    "# Mostrar la lista de productos\n",
    "print(\"Productos  entre los elementos del conjunto:\")\n",
    "print(productos)"
   ]
  },
  {
   "cell_type": "markdown",
   "metadata": {},
   "source": [
    "Los conjuntos y a las listas como objetos de distinta naturaleza, lo que permite trabajar con conjuntos cuyos elementos puedan ser también conjuntos o listas, es decir, subconjuntos."
   ]
  },
  {
   "cell_type": "code",
   "execution_count": 18,
   "metadata": {},
   "outputs": [
    {
     "name": "stdout",
     "output_type": "stream",
     "text": [
      "[1, 2, 3, 4, 5, 6, 7, 8, 9, 10, 11, 12, 13, 14, 15, 16, 17, 18, 19, 20, 21, 22, 23, 24, 25]\n"
     ]
    }
   ],
   "source": [
    "ini = 1\n",
    "fin = 25\n",
    "lista =  [i for i in range(ini, fin + 1)]\n",
    "print(lista) "
   ]
  },
  {
   "cell_type": "markdown",
   "metadata": {},
   "source": [
    "La lista anterior la convertiremos en un conjunto, para este fin debemos utilizar los siguientes comandos"
   ]
  },
  {
   "cell_type": "code",
   "execution_count": 19,
   "metadata": {},
   "outputs": [
    {
     "data": {
      "text/latex": [
       "$\\displaystyle \\left\\{1, 2, 3, 4, 5, 6, 7, 8, 9, 10, 11, 12, 13, 14, 15, 16, 17, 18, 19, 20, 21, 22, 23, 24, 25\\right\\}$"
      ],
      "text/plain": [
       "{1, 2, 3, 4, 5, 6, 7, 8, 9, 10, 11, 12, 13, 14, 15, 16, 17, 18, 19, 20, 21, 22, 23, 24, 25}"
      ]
     },
     "execution_count": 19,
     "metadata": {},
     "output_type": "execute_result"
    }
   ],
   "source": [
    "elementos=lista\n",
    "E= FiniteSet(*elementos)\n",
    "E"
   ]
  },
  {
   "cell_type": "code",
   "execution_count": 20,
   "metadata": {},
   "outputs": [
    {
     "name": "stdout",
     "output_type": "stream",
     "text": [
      "Los números primos del conjunto E son: {2, 3, 5, 7, 11, 13, 17, 19, 23}\n"
     ]
    }
   ],
   "source": [
    "numeros_primos = {num for num in E if isprime(num)}\n",
    "\n",
    "print(\"Los números primos del conjunto E son:\", numeros_primos)"
   ]
  },
  {
   "cell_type": "markdown",
   "metadata": {},
   "source": [
    "Con \"len\" podemos saber cuantos elementos contiene un conjunto:"
   ]
  },
  {
   "cell_type": "code",
   "execution_count": 21,
   "metadata": {},
   "outputs": [
    {
     "name": "stdout",
     "output_type": "stream",
     "text": [
      "Número de elementos del conjunto: 9\n"
     ]
    }
   ],
   "source": [
    "num_elementos = len(numeros_primos)\n",
    "print(\"Número de elementos del conjunto:\", num_elementos)"
   ]
  },
  {
   "cell_type": "markdown",
   "metadata": {},
   "source": [
    "Revisemos la función ${\\bf mod}$ que permitía calcular las tablas que utilizamos en la sección \\ref{losgrupos}. Veamos el siguiente ejemplo:"
   ]
  },
  {
   "cell_type": "code",
   "execution_count": 22,
   "metadata": {},
   "outputs": [
    {
     "data": {
      "text/plain": [
       "{1, 3, 5, 7}"
      ]
     },
     "execution_count": 22,
     "metadata": {},
     "output_type": "execute_result"
    }
   ],
   "source": [
    "Gm8={1,3,5,7}\n",
    "Gm8"
   ]
  },
  {
   "cell_type": "code",
   "execution_count": 23,
   "metadata": {},
   "outputs": [
    {
     "data": {
      "text/latex": [
       "$\\displaystyle \\left\\{1, 3, 5, 7\\right\\}^{2}$"
      ],
      "text/plain": [
       "ProductSet({1, 3, 5, 7}, {1, 3, 5, 7})"
      ]
     },
     "execution_count": 23,
     "metadata": {},
     "output_type": "execute_result"
    }
   ],
   "source": [
    "ProductSet(Gm8,Gm8)"
   ]
  },
  {
   "cell_type": "markdown",
   "metadata": {},
   "source": [
    "Con las siguientes lineas de código será posible ejecutar todos los productos posibles entre los elementos de este conjunto:"
   ]
  },
  {
   "cell_type": "code",
   "execution_count": 24,
   "metadata": {},
   "outputs": [
    {
     "name": "stdout",
     "output_type": "stream",
     "text": [
      "Productos posibles entre los elementos del conjunto:\n",
      "[1, 3, 5, 7, 9, 15, 21, 25, 35, 49]\n"
     ]
    }
   ],
   "source": [
    "# Definir el conjunto\n",
    "conjunto = Gm8\n",
    "# Inicializar una lista para almacenar los productos\n",
    "productos = []\n",
    "# Calcular todos los productos posibles entre los elementos del conjunto\n",
    "for elemento1 in conjunto:\n",
    "    for elemento2 in conjunto:\n",
    "        producto = elemento1 * elemento2\n",
    "        if producto not in productos:\n",
    "            productos.append(producto)\n",
    "# Eliminar duplicados y ordenar la lista de productos\n",
    "productos_unicos = sorted(productos)\n",
    "# Mostrar la lista de productos\n",
    "print(\"Productos posibles entre los elementos del conjunto:\")\n",
    "print(productos_unicos)"
   ]
  },
  {
   "cell_type": "markdown",
   "metadata": {},
   "source": [
    "Los modulo $8$ para algunos de los números anteriores son:"
   ]
  },
  {
   "cell_type": "code",
   "execution_count": 25,
   "metadata": {},
   "outputs": [
    {
     "data": {
      "text/plain": [
       "[5, 3, 1]"
      ]
     },
     "execution_count": 25,
     "metadata": {},
     "output_type": "execute_result"
    }
   ],
   "source": [
    "[Mod(21,8), Mod(35,8), Mod(49,8)]"
   ]
  },
  {
   "cell_type": "markdown",
   "metadata": {},
   "source": [
    "Para generar el grupo $\\textbf{G}_{\\mathrm{mod}5}$ podemos hacer lo siguiente:"
   ]
  },
  {
   "cell_type": "code",
   "execution_count": 26,
   "metadata": {},
   "outputs": [
    {
     "name": "stdout",
     "output_type": "stream",
     "text": [
      "{1, 2, 3, 4}\n"
     ]
    }
   ],
   "source": [
    "# Crear una lista con los residuos de la división de los números del 1 al 4 entre 5\n",
    "residuos = [Mod(i, 5) for i in range(1, 5)]\n",
    "# Convertir la lista en un conjunto para eliminar duplicados\n",
    "conjunto_residuos = FiniteSet(*residuos)\n",
    "print(conjunto_residuos)"
   ]
  },
  {
   "cell_type": "markdown",
   "metadata": {},
   "source": [
    "En la sección \\ref{subgrupos}, definimos el orden de un elemento $g \\in \\textbf{G}$. \n",
    "\n",
    "Consideremos el siguiente conjunto de números enteros: \n",
    "$$\n",
    "{Z}_{15}=\\{0,1,2,3,4,5,6,7,8,9,10,11,12,13,14 \\}\\,.\n",
    "$$\n",
    "\n",
    "Se podría demostrar que el orden de $g \\in \\textbf{G}$ es igual al número de elementos de $< g >$ y lo dejaremos como ejercicio. \n",
    "\n",
    "Vamos a calcular el orden de todos los elementos de ${Z}_{15}$, sabiendo que el orden de cada uno de esos elementos divide a $15$, que es el cardinal de ${Z}_{15}$\n",
    "\n",
    "Probemos primero con el número $6 \\in {Z}_{15}$"
   ]
  },
  {
   "cell_type": "code",
   "execution_count": 27,
   "metadata": {},
   "outputs": [
    {
     "name": "stdout",
     "output_type": "stream",
     "text": [
      "{0, 3, 6, 9, 12}\n"
     ]
    }
   ],
   "source": [
    "# Crear una lista con los residuos de la división de los números del 1 al 4 entre 5\n",
    "residuos = [Mod(6*i, 15) for i in range(1, 15)]\n",
    "# Convertir la lista en un conjunto para eliminar duplicados\n",
    "conj_res = FiniteSet(*residuos)\n",
    "print(conj_res)"
   ]
  },
  {
   "cell_type": "markdown",
   "metadata": {},
   "source": [
    "El orden de $6 \\in {Z}_{15}$ es:"
   ]
  },
  {
   "cell_type": "code",
   "execution_count": 28,
   "metadata": {},
   "outputs": [
    {
     "data": {
      "text/plain": [
       "5"
      ]
     },
     "execution_count": 28,
     "metadata": {},
     "output_type": "execute_result"
    }
   ],
   "source": [
    "len(conj_res)"
   ]
  },
  {
   "cell_type": "markdown",
   "metadata": {},
   "source": [
    "En la siguiente instrucción lo haremos para todos los elementos de $Z_{15}$"
   ]
  },
  {
   "cell_type": "code",
   "execution_count": 29,
   "metadata": {},
   "outputs": [
    {
     "name": "stdout",
     "output_type": "stream",
     "text": [
      "{0, 1, 2, 3, 4, 5, 6, 7, 8, 9, 10, 11, 12, 13, 14}\n"
     ]
    }
   ],
   "source": [
    "ini = 0\n",
    "fin = 15\n",
    "Z =  [i for i in range(ini, fin)]\n",
    "Zc= FiniteSet(*Z)\n",
    "print(Zc) "
   ]
  },
  {
   "cell_type": "code",
   "execution_count": 30,
   "metadata": {},
   "outputs": [
    {
     "name": "stdout",
     "output_type": "stream",
     "text": [
      "[[0, 1], [1, 15], [2, 15], [3, 5], [4, 15], [5, 3], [6, 5], [7, 15], [8, 15], [9, 5], [10, 3], [11, 15], [12, 5], [13, 15], [14, 15]]\n"
     ]
    }
   ],
   "source": [
    "Resul = [[j, len(set([Mod(j*i,15) for i in range(15)]))] for j in range(15)]\n",
    "print(Resul)"
   ]
  },
  {
   "cell_type": "markdown",
   "metadata": {},
   "source": [
    "La salida no es más que una lista  donde cada elemento es un par de números $[x,y]$. El primer número de cada par es un valor de j (de 0 a 14) $j \\in {Z}_{15}$, y el segundo número es la cantidad de residuos únicos cuando j se multiplica por cada número del 0 al 14 y se divide por 15.  \n",
    "\n",
    "Por lo tanto, el conjunto de órdenes es: $\\{ 1, 3, 5, 15 \\}$, todos divisores de $15$, como estipula el teorema de Lagrange."
   ]
  }
 ],
 "metadata": {
  "colab": {
   "collapsed_sections": [
    "HS5j074Bpqw9",
    "M6k5DaB7AMNL",
    "IZBsDTb4E7U4",
    "Hn31KOmRS9EA",
    "A3ZNaLdqWeG5",
    "5Vs06j5DdIme",
    "ujW8a0HzkNuV"
   ],
   "provenance": [
    {
     "file_id": "1YrOBd8YdJ9P2aPSTRJEnMxLdlqznqh8y",
     "timestamp": 1694038709310
    }
   ]
  },
  "kernelspec": {
   "display_name": "Python 3 (ipykernel)",
   "language": "python",
   "name": "python3"
  },
  "language_info": {
   "codemirror_mode": {
    "name": "ipython",
    "version": 3
   },
   "file_extension": ".py",
   "mimetype": "text/x-python",
   "name": "python",
   "nbconvert_exporter": "python",
   "pygments_lexer": "ipython3",
   "version": "3.11.7"
  }
 },
 "nbformat": 4,
 "nbformat_minor": 1
}
